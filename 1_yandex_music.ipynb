{
 "cells": [
  {
   "cell_type": "markdown",
   "metadata": {
    "id": "E0vqbgi9ay0H"
   },
   "source": [
    "# Яндекс.Музыка"
   ]
  },
  {
   "cell_type": "markdown",
   "metadata": {
    "id": "VUC88oWjTJw2"
   },
   "source": [
    "Сравнение Москвы и Петербурга окружено мифами. Например:\n",
    " * Москва — мегаполис, подчинённый жёсткому ритму рабочей недели;\n",
    " * Петербург — культурная столица, со своими вкусами.\n",
    "\n",
    "На данных Яндекс.Музыки вы сравните поведение пользователей двух столиц.\n",
    "\n",
    "**Цель исследования** — проверьте три гипотезы:\n",
    "1. Активность пользователей зависит от дня недели. Причём в Москве и Петербурге это проявляется по-разному.\n",
    "2. В понедельник утром в Москве преобладают одни жанры, а в Петербурге — другие. Так же и вечером пятницы преобладают разные жанры — в зависимости от города. \n",
    "3. Москва и Петербург предпочитают разные жанры музыки. В Москве чаще слушают поп-музыку, в Петербурге — русский рэп.\n",
    "\n",
    "**Ход исследования**\n",
    "\n",
    "Данные о поведении пользователей вы получите из файла `yandex_music_project.csv`. О качестве данных ничего не известно. Поэтому перед проверкой гипотез понадобится обзор данных. \n",
    "\n",
    "Вы проверите данные на ошибки и оцените их влияние на исследование. Затем, на этапе предобработки вы поищете возможность исправить самые критичные ошибки данных.\n",
    " \n",
    "Таким образом, исследование пройдёт в три этапа:\n",
    " 1. Обзор данных.\n",
    " 2. Предобработка данных.\n",
    " 3. Проверка гипотез.\n",
    "\n"
   ]
  },
  {
   "cell_type": "markdown",
   "metadata": {
    "id": "Ml1hmfXC_Zcs"
   },
   "source": [
    "## Обзор данных\n",
    "\n",
    "Составьте первое представление о данных Яндекс.Музыки.\n",
    "\n",
    "\n"
   ]
  },
  {
   "cell_type": "markdown",
   "metadata": {
    "id": "57eAOGIz_Zcs"
   },
   "source": [
    "Основной инструмент аналитика — `pandas`. Импортируйте эту библиотеку."
   ]
  },
  {
   "cell_type": "code",
   "execution_count": 67,
   "metadata": {
    "id": "AXN7PHPN_Zcs"
   },
   "outputs": [],
   "source": [
    "# импорт библиотеки pandas\n",
    "import pandas as pd"
   ]
  },
  {
   "cell_type": "markdown",
   "metadata": {
    "id": "SG23P8tt_Zcs"
   },
   "source": [
    "Прочитайте файл `yandex_music_project.csv` из папки `/datasets` и сохраните его в переменной `df`:"
   ]
  },
  {
   "cell_type": "code",
   "execution_count": 68,
   "metadata": {
    "id": "fFVu7vqh_Zct"
   },
   "outputs": [],
   "source": [
    "# чтение файла с данными и сохранение в df\n",
    "df = pd.read_csv(\"/datasets/yandex_music_project.csv\")"
   ]
  },
  {
   "cell_type": "markdown",
   "metadata": {
    "id": "rDoOMd3uTqnZ"
   },
   "source": [
    "Выведите на экран первые десять строк таблицы:"
   ]
  },
  {
   "cell_type": "code",
   "execution_count": 69,
   "metadata": {
    "id": "oWTVX3gW_Zct"
   },
   "outputs": [
    {
     "data": {
      "text/html": [
       "<div>\n",
       "<style scoped>\n",
       "    .dataframe tbody tr th:only-of-type {\n",
       "        vertical-align: middle;\n",
       "    }\n",
       "\n",
       "    .dataframe tbody tr th {\n",
       "        vertical-align: top;\n",
       "    }\n",
       "\n",
       "    .dataframe thead th {\n",
       "        text-align: right;\n",
       "    }\n",
       "</style>\n",
       "<table border=\"1\" class=\"dataframe\">\n",
       "  <thead>\n",
       "    <tr style=\"text-align: right;\">\n",
       "      <th></th>\n",
       "      <th>userID</th>\n",
       "      <th>Track</th>\n",
       "      <th>artist</th>\n",
       "      <th>genre</th>\n",
       "      <th>City</th>\n",
       "      <th>time</th>\n",
       "      <th>Day</th>\n",
       "    </tr>\n",
       "  </thead>\n",
       "  <tbody>\n",
       "    <tr>\n",
       "      <td>0</td>\n",
       "      <td>FFB692EC</td>\n",
       "      <td>Kamigata To Boots</td>\n",
       "      <td>The Mass Missile</td>\n",
       "      <td>rock</td>\n",
       "      <td>Saint-Petersburg</td>\n",
       "      <td>20:28:33</td>\n",
       "      <td>Wednesday</td>\n",
       "    </tr>\n",
       "    <tr>\n",
       "      <td>1</td>\n",
       "      <td>55204538</td>\n",
       "      <td>Delayed Because of Accident</td>\n",
       "      <td>Andreas Rönnberg</td>\n",
       "      <td>rock</td>\n",
       "      <td>Moscow</td>\n",
       "      <td>14:07:09</td>\n",
       "      <td>Friday</td>\n",
       "    </tr>\n",
       "    <tr>\n",
       "      <td>2</td>\n",
       "      <td>20EC38</td>\n",
       "      <td>Funiculì funiculà</td>\n",
       "      <td>Mario Lanza</td>\n",
       "      <td>pop</td>\n",
       "      <td>Saint-Petersburg</td>\n",
       "      <td>20:58:07</td>\n",
       "      <td>Wednesday</td>\n",
       "    </tr>\n",
       "    <tr>\n",
       "      <td>3</td>\n",
       "      <td>A3DD03C9</td>\n",
       "      <td>Dragons in the Sunset</td>\n",
       "      <td>Fire + Ice</td>\n",
       "      <td>folk</td>\n",
       "      <td>Saint-Petersburg</td>\n",
       "      <td>08:37:09</td>\n",
       "      <td>Monday</td>\n",
       "    </tr>\n",
       "    <tr>\n",
       "      <td>4</td>\n",
       "      <td>E2DC1FAE</td>\n",
       "      <td>Soul People</td>\n",
       "      <td>Space Echo</td>\n",
       "      <td>dance</td>\n",
       "      <td>Moscow</td>\n",
       "      <td>08:34:34</td>\n",
       "      <td>Monday</td>\n",
       "    </tr>\n",
       "    <tr>\n",
       "      <td>5</td>\n",
       "      <td>842029A1</td>\n",
       "      <td>Преданная</td>\n",
       "      <td>IMPERVTOR</td>\n",
       "      <td>rusrap</td>\n",
       "      <td>Saint-Petersburg</td>\n",
       "      <td>13:09:41</td>\n",
       "      <td>Friday</td>\n",
       "    </tr>\n",
       "    <tr>\n",
       "      <td>6</td>\n",
       "      <td>4CB90AA5</td>\n",
       "      <td>True</td>\n",
       "      <td>Roman Messer</td>\n",
       "      <td>dance</td>\n",
       "      <td>Moscow</td>\n",
       "      <td>13:00:07</td>\n",
       "      <td>Wednesday</td>\n",
       "    </tr>\n",
       "    <tr>\n",
       "      <td>7</td>\n",
       "      <td>F03E1C1F</td>\n",
       "      <td>Feeling This Way</td>\n",
       "      <td>Polina Griffith</td>\n",
       "      <td>dance</td>\n",
       "      <td>Moscow</td>\n",
       "      <td>20:47:49</td>\n",
       "      <td>Wednesday</td>\n",
       "    </tr>\n",
       "    <tr>\n",
       "      <td>8</td>\n",
       "      <td>8FA1D3BE</td>\n",
       "      <td>И вновь продолжается бой</td>\n",
       "      <td>NaN</td>\n",
       "      <td>ruspop</td>\n",
       "      <td>Moscow</td>\n",
       "      <td>09:17:40</td>\n",
       "      <td>Friday</td>\n",
       "    </tr>\n",
       "    <tr>\n",
       "      <td>9</td>\n",
       "      <td>E772D5C0</td>\n",
       "      <td>Pessimist</td>\n",
       "      <td>NaN</td>\n",
       "      <td>dance</td>\n",
       "      <td>Saint-Petersburg</td>\n",
       "      <td>21:20:49</td>\n",
       "      <td>Wednesday</td>\n",
       "    </tr>\n",
       "  </tbody>\n",
       "</table>\n",
       "</div>"
      ],
      "text/plain": [
       "     userID                        Track            artist   genre  \\\n",
       "0  FFB692EC            Kamigata To Boots  The Mass Missile    rock   \n",
       "1  55204538  Delayed Because of Accident  Andreas Rönnberg    rock   \n",
       "2    20EC38            Funiculì funiculà       Mario Lanza     pop   \n",
       "3  A3DD03C9        Dragons in the Sunset        Fire + Ice    folk   \n",
       "4  E2DC1FAE                  Soul People        Space Echo   dance   \n",
       "5  842029A1                    Преданная         IMPERVTOR  rusrap   \n",
       "6  4CB90AA5                         True      Roman Messer   dance   \n",
       "7  F03E1C1F             Feeling This Way   Polina Griffith   dance   \n",
       "8  8FA1D3BE     И вновь продолжается бой               NaN  ruspop   \n",
       "9  E772D5C0                    Pessimist               NaN   dance   \n",
       "\n",
       "             City        time        Day  \n",
       "0  Saint-Petersburg  20:28:33  Wednesday  \n",
       "1            Moscow  14:07:09     Friday  \n",
       "2  Saint-Petersburg  20:58:07  Wednesday  \n",
       "3  Saint-Petersburg  08:37:09     Monday  \n",
       "4            Moscow  08:34:34     Monday  \n",
       "5  Saint-Petersburg  13:09:41     Friday  \n",
       "6            Moscow  13:00:07  Wednesday  \n",
       "7            Moscow  20:47:49  Wednesday  \n",
       "8            Moscow  09:17:40     Friday  \n",
       "9  Saint-Petersburg  21:20:49  Wednesday  "
      ]
     },
     "execution_count": 69,
     "metadata": {},
     "output_type": "execute_result"
    }
   ],
   "source": [
    "# получение первых 10 строк таблицы df\n",
    "df.head(10)"
   ]
  },
  {
   "cell_type": "markdown",
   "metadata": {
    "id": "EO73Kwic_Zct"
   },
   "source": [
    "Одной командой получить общую информацию о таблице:"
   ]
  },
  {
   "cell_type": "code",
   "execution_count": 70,
   "metadata": {
    "id": "DSf2kIb-_Zct"
   },
   "outputs": [
    {
     "name": "stdout",
     "output_type": "stream",
     "text": [
      "<class 'pandas.core.frame.DataFrame'>\n",
      "RangeIndex: 65079 entries, 0 to 65078\n",
      "Data columns (total 7 columns):\n",
      "  userID    65079 non-null object\n",
      "Track       63848 non-null object\n",
      "artist      57876 non-null object\n",
      "genre       63881 non-null object\n",
      "  City      65079 non-null object\n",
      "time        65079 non-null object\n",
      "Day         65079 non-null object\n",
      "dtypes: object(7)\n",
      "memory usage: 3.5+ MB\n"
     ]
    }
   ],
   "source": [
    "# получение общей информации о данных в таблице df\n",
    "df.info()"
   ]
  },
  {
   "cell_type": "markdown",
   "metadata": {
    "id": "TaQ2Iwbr_Zct"
   },
   "source": [
    "Итак, в таблице семь столбцов. Тип данных во всех столбцах — `object`.\n",
    "\n",
    "Согласно документации к данным:\n",
    "* `userID` — идентификатор пользователя;\n",
    "* `Track` — название трека;  \n",
    "* `artist` — имя исполнителя;\n",
    "* `genre` — название жанра;\n",
    "* `City` — город пользователя;\n",
    "* `time` — время начала прослушивания;\n",
    "* `Day` — день недели.\n",
    "\n",
    "В названиях колонок видны три нарушения стиля:\n",
    "1. Строчные буквы сочетаются с прописными.\n",
    "2. Встречаются пробелы.\n",
    "3. Не соблюден «змеиный_регистр».(Найдите ещё одну проблему в названии колонок и опишите её в этом пункте.)\n",
    "\n",
    "\n",
    "\n",
    "Количество значений в столбцах различается. Значит, в данных есть пропущенные значения.\n"
   ]
  },
  {
   "cell_type": "markdown",
   "metadata": {
    "id": "MCB6-dXG_Zct"
   },
   "source": [
    "**Выводы**\n",
    "\n",
    "В каждой строке таблицы — данные о прослушанном треке. Часть колонок описывает саму композицию: название, исполнителя и жанр. Остальные данные рассказывают о пользователе: из какого он города, когда он слушал музыку. \n",
    "\n",
    "Предварительно можно утверждать, что, данных достаточно для проверки гипотез. Но встречаются пропуски в данных, а в названиях колонок — расхождения с хорошим стилем.\n",
    "\n",
    "Чтобы двигаться дальше, нужно устранить проблемы в данных."
   ]
  },
  {
   "cell_type": "markdown",
   "metadata": {
    "id": "SjYF6Ub9_Zct"
   },
   "source": [
    "## Предобработка данных\n",
    "Исправьте стиль в заголовках столбцов, исключите пропуски. Затем проверьте данные на дубликаты."
   ]
  },
  {
   "cell_type": "markdown",
   "metadata": {
    "id": "dIaKXr29_Zct"
   },
   "source": [
    "### Стиль заголовков\n",
    "Выведите на экран названия столбцов:"
   ]
  },
  {
   "cell_type": "code",
   "execution_count": 71,
   "metadata": {
    "id": "oKOTdF_Q_Zct"
   },
   "outputs": [
    {
     "data": {
      "text/plain": [
       "Index(['  userID', 'Track', 'artist', 'genre', '  City  ', 'time', 'Day'], dtype='object')"
      ]
     },
     "execution_count": 71,
     "metadata": {},
     "output_type": "execute_result"
    }
   ],
   "source": [
    "# перечень названий столбцов таблицы df\n",
    "df.columns"
   ]
  },
  {
   "cell_type": "markdown",
   "metadata": {
    "id": "zj5534cv_Zct"
   },
   "source": [
    "Приведите названия в соответствие с хорошим стилем:\n",
    "* несколько слов в названии запишите в «змеином_регистре»,\n",
    "* все символы сделайте строчными,\n",
    "* устраните пробелы.\n",
    "\n",
    "Для этого переименуйте колонки так:\n",
    "* `'  userID'` → `'user_id'`;\n",
    "* `'Track'` → `'track'`;\n",
    "* `'  City  '` → `'city'`;\n",
    "* `'Day'` → `'day'`."
   ]
  },
  {
   "cell_type": "code",
   "execution_count": 72,
   "metadata": {
    "id": "ISlFqs5y_Zct"
   },
   "outputs": [],
   "source": [
    "# переименование столбцов\n",
    "df = df.rename(columns={'  userID':'user_id', 'Track':'track', '  City  ':'city', 'Day':'day'})"
   ]
  },
  {
   "cell_type": "markdown",
   "metadata": {
    "id": "1dqbh00J_Zct"
   },
   "source": [
    "Проверьте результат. Для этого ещё раз выведите на экран названия столбцов:"
   ]
  },
  {
   "cell_type": "code",
   "execution_count": 73,
   "metadata": {
    "id": "d4NOAmTW_Zct"
   },
   "outputs": [
    {
     "data": {
      "text/plain": [
       "Index(['user_id', 'track', 'artist', 'genre', 'city', 'time', 'day'], dtype='object')"
      ]
     },
     "execution_count": 73,
     "metadata": {},
     "output_type": "execute_result"
    }
   ],
   "source": [
    "# проверка результатов - перечень названий столбцов\n",
    "df.columns"
   ]
  },
  {
   "cell_type": "markdown",
   "metadata": {
    "id": "5ISfbcfY_Zct"
   },
   "source": [
    "### Пропуски значений\n",
    "Сначала посчитайте, сколько в таблице пропущенных значений. Для этого достаточно двух методов `pandas`:"
   ]
  },
  {
   "cell_type": "code",
   "execution_count": 74,
   "metadata": {
    "id": "RskX29qr_Zct"
   },
   "outputs": [
    {
     "data": {
      "text/plain": [
       "user_id       0\n",
       "track      1231\n",
       "artist     7203\n",
       "genre      1198\n",
       "city          0\n",
       "time          0\n",
       "day           0\n",
       "dtype: int64"
      ]
     },
     "execution_count": 74,
     "metadata": {},
     "output_type": "execute_result"
    }
   ],
   "source": [
    "# подсчёт пропусков\n",
    "df.isna().sum()"
   ]
  },
  {
   "cell_type": "markdown",
   "metadata": {
    "id": "qubhgnlO_Zct"
   },
   "source": [
    "Не все пропущенные значения влияют на исследование. Так в `track` и `artist` пропуски не важны для вашей работы. Достаточно заменить их явными обозначениями.\n",
    "\n",
    "Но пропуски в `genre` могут помешать сравнению музыкальных вкусов в Москве и Санкт-Петербурге. На практике было бы правильно установить причину пропусков и восстановить данные. Такой возможности нет в учебном проекте. Придётся:\n",
    "* заполнить и эти пропуски явными обозначениями,\n",
    "* оценить, насколько они повредят расчётам. "
   ]
  },
  {
   "cell_type": "markdown",
   "metadata": {
    "id": "fSv2laPA_Zct"
   },
   "source": [
    "Замените пропущенные значения в столбцах `track`, `artist` и `genre` на строку `'unknown'`. Для этого создайте список `columns_to_replace`, переберите его элементы циклом `for` и для каждого столбца выполните замену пропущенных значений:"
   ]
  },
  {
   "cell_type": "code",
   "execution_count": 75,
   "metadata": {
    "id": "KplB5qWs_Zct"
   },
   "outputs": [],
   "source": [
    "# перебор названий столбцов в цикле и замена пропущенных значений на 'unknown'\n",
    "columns_to_replace = ['track', 'artist', 'genre']\n",
    "for column in columns_to_replace:\n",
    "    df[column] = df[column].fillna('unknown')"
   ]
  },
  {
   "cell_type": "markdown",
   "metadata": {
    "id": "Ilsm-MZo_Zct"
   },
   "source": [
    "Убедитесь, что в таблице не осталось пропусков. Для этого ещё раз посчитайте пропущенные значения."
   ]
  },
  {
   "cell_type": "code",
   "execution_count": 76,
   "metadata": {
    "id": "Tq4nYRX4_Zct"
   },
   "outputs": [
    {
     "data": {
      "text/plain": [
       "user_id    0\n",
       "track      0\n",
       "artist     0\n",
       "genre      0\n",
       "city       0\n",
       "time       0\n",
       "day        0\n",
       "dtype: int64"
      ]
     },
     "execution_count": 76,
     "metadata": {},
     "output_type": "execute_result"
    }
   ],
   "source": [
    "# подсчёт пропусков\n",
    "df.isna().sum()"
   ]
  },
  {
   "cell_type": "markdown",
   "metadata": {
    "id": "BWKRtBJ3_Zct"
   },
   "source": [
    "### Дубликаты\n",
    "Посчитайте явные дубликаты в таблице одной командой:"
   ]
  },
  {
   "cell_type": "code",
   "execution_count": 77,
   "metadata": {
    "id": "36eES_S0_Zct"
   },
   "outputs": [
    {
     "data": {
      "text/plain": [
       "3826"
      ]
     },
     "execution_count": 77,
     "metadata": {},
     "output_type": "execute_result"
    }
   ],
   "source": [
    "# подсчёт явных дубликатов\n",
    "df.duplicated().sum()"
   ]
  },
  {
   "cell_type": "markdown",
   "metadata": {
    "id": "Ot25h6XR_Zct"
   },
   "source": [
    "Вызовите специальный метод `pandas`, чтобы удалить явные дубликаты:"
   ]
  },
  {
   "cell_type": "code",
   "execution_count": 78,
   "metadata": {
    "id": "exFHq6tt_Zct"
   },
   "outputs": [],
   "source": [
    "# удаление явных дубликатов (с удалением старых индексов и формированием новых)\n",
    "df = df.drop_duplicates().reset_index(drop = True)"
   ]
  },
  {
   "cell_type": "markdown",
   "metadata": {
    "id": "Im2YwBEG_Zct"
   },
   "source": [
    "Ещё раз посчитайте явные дубликаты в таблице — убедитесь, что полностью от них избавились:"
   ]
  },
  {
   "cell_type": "code",
   "execution_count": 79,
   "metadata": {
    "id": "-8PuNWQ0_Zct"
   },
   "outputs": [
    {
     "data": {
      "text/plain": [
       "0"
      ]
     },
     "execution_count": 79,
     "metadata": {},
     "output_type": "execute_result"
    }
   ],
   "source": [
    "# проверка на отсутствие дубликатов\n",
    "df.duplicated().sum()"
   ]
  },
  {
   "cell_type": "markdown",
   "metadata": {
    "id": "QlFBsxAr_Zct"
   },
   "source": [
    "Теперь избавьтесь от неявных дубликатов в колонке `genre`. Например, название одного и того же жанра может быть записано немного по-разному. Такие ошибки тоже повлияют на результат исследования."
   ]
  },
  {
   "cell_type": "markdown",
   "metadata": {
    "id": "eSjWwsOh_Zct"
   },
   "source": [
    "Выведите на экран список уникальных названий жанров, отсортированный в алфавитном порядке. Для этого:\n",
    "* извлеките нужный столбец датафрейма, \n",
    "* примените к нему метод сортировки,\n",
    "* для отсортированного столбца вызовите метод, который вернёт уникальные значения из столбца."
   ]
  },
  {
   "cell_type": "code",
   "execution_count": 80,
   "metadata": {
    "id": "JIUcqzZN_Zct"
   },
   "outputs": [
    {
     "data": {
      "text/plain": [
       "['acid',\n",
       " 'acoustic',\n",
       " 'action',\n",
       " 'adult',\n",
       " 'africa',\n",
       " 'afrikaans',\n",
       " 'alternative',\n",
       " 'alternativepunk',\n",
       " 'ambient',\n",
       " 'americana',\n",
       " 'animated',\n",
       " 'anime',\n",
       " 'arabesk',\n",
       " 'arabic',\n",
       " 'arena',\n",
       " 'argentinetango',\n",
       " 'art',\n",
       " 'audiobook',\n",
       " 'author',\n",
       " 'avantgarde',\n",
       " 'axé',\n",
       " 'baile',\n",
       " 'balkan',\n",
       " 'beats',\n",
       " 'bigroom',\n",
       " 'black',\n",
       " 'bluegrass',\n",
       " 'blues',\n",
       " 'bollywood',\n",
       " 'bossa',\n",
       " 'brazilian',\n",
       " 'breakbeat',\n",
       " 'breaks',\n",
       " 'broadway',\n",
       " 'cantautori',\n",
       " 'cantopop',\n",
       " 'canzone',\n",
       " 'caribbean',\n",
       " 'caucasian',\n",
       " 'celtic',\n",
       " 'chamber',\n",
       " 'chanson',\n",
       " 'children',\n",
       " 'chill',\n",
       " 'chinese',\n",
       " 'choral',\n",
       " 'christian',\n",
       " 'christmas',\n",
       " 'classical',\n",
       " 'classicmetal',\n",
       " 'club',\n",
       " 'colombian',\n",
       " 'comedy',\n",
       " 'conjazz',\n",
       " 'contemporary',\n",
       " 'country',\n",
       " 'cuban',\n",
       " 'dance',\n",
       " 'dancehall',\n",
       " 'dancepop',\n",
       " 'dark',\n",
       " 'death',\n",
       " 'deep',\n",
       " 'deutschrock',\n",
       " 'deutschspr',\n",
       " 'dirty',\n",
       " 'disco',\n",
       " 'dnb',\n",
       " 'documentary',\n",
       " 'downbeat',\n",
       " 'downtempo',\n",
       " 'drum',\n",
       " 'dub',\n",
       " 'dubstep',\n",
       " 'eastern',\n",
       " 'easy',\n",
       " 'electronic',\n",
       " 'electropop',\n",
       " 'emo',\n",
       " 'entehno',\n",
       " 'epicmetal',\n",
       " 'estrada',\n",
       " 'ethnic',\n",
       " 'eurofolk',\n",
       " 'european',\n",
       " 'experimental',\n",
       " 'extrememetal',\n",
       " 'fado',\n",
       " 'fairytail',\n",
       " 'film',\n",
       " 'fitness',\n",
       " 'flamenco',\n",
       " 'folk',\n",
       " 'folklore',\n",
       " 'folkmetal',\n",
       " 'folkrock',\n",
       " 'folktronica',\n",
       " 'forró',\n",
       " 'frankreich',\n",
       " 'französisch',\n",
       " 'french',\n",
       " 'funk',\n",
       " 'future',\n",
       " 'gangsta',\n",
       " 'garage',\n",
       " 'german',\n",
       " 'ghazal',\n",
       " 'gitarre',\n",
       " 'glitch',\n",
       " 'gospel',\n",
       " 'gothic',\n",
       " 'grime',\n",
       " 'grunge',\n",
       " 'gypsy',\n",
       " 'handsup',\n",
       " \"hard'n'heavy\",\n",
       " 'hardcore',\n",
       " 'hardstyle',\n",
       " 'hardtechno',\n",
       " 'hip',\n",
       " 'hip-hop',\n",
       " 'hiphop',\n",
       " 'historisch',\n",
       " 'holiday',\n",
       " 'hop',\n",
       " 'horror',\n",
       " 'house',\n",
       " 'hymn',\n",
       " 'idm',\n",
       " 'independent',\n",
       " 'indian',\n",
       " 'indie',\n",
       " 'indipop',\n",
       " 'industrial',\n",
       " 'inspirational',\n",
       " 'instrumental',\n",
       " 'international',\n",
       " 'irish',\n",
       " 'jam',\n",
       " 'japanese',\n",
       " 'jazz',\n",
       " 'jewish',\n",
       " 'jpop',\n",
       " 'jungle',\n",
       " 'k-pop',\n",
       " 'karadeniz',\n",
       " 'karaoke',\n",
       " 'kayokyoku',\n",
       " 'korean',\n",
       " 'laiko',\n",
       " 'latin',\n",
       " 'latino',\n",
       " 'leftfield',\n",
       " 'local',\n",
       " 'lounge',\n",
       " 'loungeelectronic',\n",
       " 'lovers',\n",
       " 'malaysian',\n",
       " 'mandopop',\n",
       " 'marschmusik',\n",
       " 'meditative',\n",
       " 'mediterranean',\n",
       " 'melodic',\n",
       " 'metal',\n",
       " 'metalcore',\n",
       " 'mexican',\n",
       " 'middle',\n",
       " 'minimal',\n",
       " 'miscellaneous',\n",
       " 'modern',\n",
       " 'mood',\n",
       " 'mpb',\n",
       " 'muslim',\n",
       " 'native',\n",
       " 'neoklassik',\n",
       " 'neue',\n",
       " 'new',\n",
       " 'newage',\n",
       " 'newwave',\n",
       " 'nu',\n",
       " 'nujazz',\n",
       " 'numetal',\n",
       " 'oceania',\n",
       " 'old',\n",
       " 'opera',\n",
       " 'orchestral',\n",
       " 'other',\n",
       " 'piano',\n",
       " 'podcasts',\n",
       " 'pop',\n",
       " 'popdance',\n",
       " 'popelectronic',\n",
       " 'popeurodance',\n",
       " 'poprussian',\n",
       " 'post',\n",
       " 'posthardcore',\n",
       " 'postrock',\n",
       " 'power',\n",
       " 'progmetal',\n",
       " 'progressive',\n",
       " 'psychedelic',\n",
       " 'punjabi',\n",
       " 'punk',\n",
       " 'quebecois',\n",
       " 'ragga',\n",
       " 'ram',\n",
       " 'rancheras',\n",
       " 'rap',\n",
       " 'rave',\n",
       " 'reggae',\n",
       " 'reggaeton',\n",
       " 'regional',\n",
       " 'relax',\n",
       " 'religious',\n",
       " 'retro',\n",
       " 'rhythm',\n",
       " 'rnb',\n",
       " 'rnr',\n",
       " 'rock',\n",
       " 'rockabilly',\n",
       " 'rockalternative',\n",
       " 'rockindie',\n",
       " 'rockother',\n",
       " 'romance',\n",
       " 'roots',\n",
       " 'ruspop',\n",
       " 'rusrap',\n",
       " 'rusrock',\n",
       " 'russian',\n",
       " 'salsa',\n",
       " 'samba',\n",
       " 'scenic',\n",
       " 'schlager',\n",
       " 'self',\n",
       " 'sertanejo',\n",
       " 'shanson',\n",
       " 'shoegazing',\n",
       " 'showtunes',\n",
       " 'singer',\n",
       " 'ska',\n",
       " 'skarock',\n",
       " 'slow',\n",
       " 'smooth',\n",
       " 'soft',\n",
       " 'soul',\n",
       " 'soulful',\n",
       " 'sound',\n",
       " 'soundtrack',\n",
       " 'southern',\n",
       " 'specialty',\n",
       " 'speech',\n",
       " 'spiritual',\n",
       " 'sport',\n",
       " 'stonerrock',\n",
       " 'surf',\n",
       " 'swing',\n",
       " 'synthpop',\n",
       " 'synthrock',\n",
       " 'sängerportrait',\n",
       " 'tango',\n",
       " 'tanzorchester',\n",
       " 'taraftar',\n",
       " 'tatar',\n",
       " 'tech',\n",
       " 'techno',\n",
       " 'teen',\n",
       " 'thrash',\n",
       " 'top',\n",
       " 'traditional',\n",
       " 'tradjazz',\n",
       " 'trance',\n",
       " 'tribal',\n",
       " 'trip',\n",
       " 'triphop',\n",
       " 'tropical',\n",
       " 'türk',\n",
       " 'türkçe',\n",
       " 'ukrrock',\n",
       " 'unknown',\n",
       " 'urban',\n",
       " 'uzbek',\n",
       " 'variété',\n",
       " 'vi',\n",
       " 'videogame',\n",
       " 'vocal',\n",
       " 'western',\n",
       " 'world',\n",
       " 'worldbeat',\n",
       " 'ïîï',\n",
       " 'электроника']"
      ]
     },
     "execution_count": 80,
     "metadata": {},
     "output_type": "execute_result"
    }
   ],
   "source": [
    "# Просмотр уникальных названий жанров\n",
    "sorted(df['genre'].unique())"
   ]
  },
  {
   "cell_type": "code",
   "execution_count": 81,
   "metadata": {
    "id": "ErNDkmns_Zct"
   },
   "outputs": [],
   "source": [
    "# Функция для замены неявных дубликатов\n",
    "def replace_wrong_genres(wrong_genres, correct_genre):\n",
    "    for wrong_genre in wrong_genres:\n",
    "        df['genre']=df['genre'].replace(wrong_genre, correct_genre)"
   ]
  },
  {
   "cell_type": "code",
   "execution_count": 82,
   "metadata": {
    "id": "YN5i2hpmSo09"
   },
   "outputs": [],
   "source": [
    "# Устранение неявных дубликатов\n",
    "replace_wrong_genres(wrong_genres = ['hip','hop','hip-hop'],correct_genre = 'hiphop')"
   ]
  },
  {
   "cell_type": "markdown",
   "metadata": {
    "id": "zQKF16_RG15m"
   },
   "source": [
    "Проверьте, что заменили неправильные названия:\n",
    "\n",
    "*   hip\n",
    "*   hop\n",
    "*   hip-hop\n",
    "\n",
    "Выведите отсортированный список уникальных значений столбца `genre`:"
   ]
  },
  {
   "cell_type": "code",
   "execution_count": 83,
   "metadata": {
    "id": "wvixALnFG15m"
   },
   "outputs": [
    {
     "data": {
      "text/plain": [
       "['acid',\n",
       " 'acoustic',\n",
       " 'action',\n",
       " 'adult',\n",
       " 'africa',\n",
       " 'afrikaans',\n",
       " 'alternative',\n",
       " 'alternativepunk',\n",
       " 'ambient',\n",
       " 'americana',\n",
       " 'animated',\n",
       " 'anime',\n",
       " 'arabesk',\n",
       " 'arabic',\n",
       " 'arena',\n",
       " 'argentinetango',\n",
       " 'art',\n",
       " 'audiobook',\n",
       " 'author',\n",
       " 'avantgarde',\n",
       " 'axé',\n",
       " 'baile',\n",
       " 'balkan',\n",
       " 'beats',\n",
       " 'bigroom',\n",
       " 'black',\n",
       " 'bluegrass',\n",
       " 'blues',\n",
       " 'bollywood',\n",
       " 'bossa',\n",
       " 'brazilian',\n",
       " 'breakbeat',\n",
       " 'breaks',\n",
       " 'broadway',\n",
       " 'cantautori',\n",
       " 'cantopop',\n",
       " 'canzone',\n",
       " 'caribbean',\n",
       " 'caucasian',\n",
       " 'celtic',\n",
       " 'chamber',\n",
       " 'chanson',\n",
       " 'children',\n",
       " 'chill',\n",
       " 'chinese',\n",
       " 'choral',\n",
       " 'christian',\n",
       " 'christmas',\n",
       " 'classical',\n",
       " 'classicmetal',\n",
       " 'club',\n",
       " 'colombian',\n",
       " 'comedy',\n",
       " 'conjazz',\n",
       " 'contemporary',\n",
       " 'country',\n",
       " 'cuban',\n",
       " 'dance',\n",
       " 'dancehall',\n",
       " 'dancepop',\n",
       " 'dark',\n",
       " 'death',\n",
       " 'deep',\n",
       " 'deutschrock',\n",
       " 'deutschspr',\n",
       " 'dirty',\n",
       " 'disco',\n",
       " 'dnb',\n",
       " 'documentary',\n",
       " 'downbeat',\n",
       " 'downtempo',\n",
       " 'drum',\n",
       " 'dub',\n",
       " 'dubstep',\n",
       " 'eastern',\n",
       " 'easy',\n",
       " 'electronic',\n",
       " 'electropop',\n",
       " 'emo',\n",
       " 'entehno',\n",
       " 'epicmetal',\n",
       " 'estrada',\n",
       " 'ethnic',\n",
       " 'eurofolk',\n",
       " 'european',\n",
       " 'experimental',\n",
       " 'extrememetal',\n",
       " 'fado',\n",
       " 'fairytail',\n",
       " 'film',\n",
       " 'fitness',\n",
       " 'flamenco',\n",
       " 'folk',\n",
       " 'folklore',\n",
       " 'folkmetal',\n",
       " 'folkrock',\n",
       " 'folktronica',\n",
       " 'forró',\n",
       " 'frankreich',\n",
       " 'französisch',\n",
       " 'french',\n",
       " 'funk',\n",
       " 'future',\n",
       " 'gangsta',\n",
       " 'garage',\n",
       " 'german',\n",
       " 'ghazal',\n",
       " 'gitarre',\n",
       " 'glitch',\n",
       " 'gospel',\n",
       " 'gothic',\n",
       " 'grime',\n",
       " 'grunge',\n",
       " 'gypsy',\n",
       " 'handsup',\n",
       " \"hard'n'heavy\",\n",
       " 'hardcore',\n",
       " 'hardstyle',\n",
       " 'hardtechno',\n",
       " 'hiphop',\n",
       " 'historisch',\n",
       " 'holiday',\n",
       " 'horror',\n",
       " 'house',\n",
       " 'hymn',\n",
       " 'idm',\n",
       " 'independent',\n",
       " 'indian',\n",
       " 'indie',\n",
       " 'indipop',\n",
       " 'industrial',\n",
       " 'inspirational',\n",
       " 'instrumental',\n",
       " 'international',\n",
       " 'irish',\n",
       " 'jam',\n",
       " 'japanese',\n",
       " 'jazz',\n",
       " 'jewish',\n",
       " 'jpop',\n",
       " 'jungle',\n",
       " 'k-pop',\n",
       " 'karadeniz',\n",
       " 'karaoke',\n",
       " 'kayokyoku',\n",
       " 'korean',\n",
       " 'laiko',\n",
       " 'latin',\n",
       " 'latino',\n",
       " 'leftfield',\n",
       " 'local',\n",
       " 'lounge',\n",
       " 'loungeelectronic',\n",
       " 'lovers',\n",
       " 'malaysian',\n",
       " 'mandopop',\n",
       " 'marschmusik',\n",
       " 'meditative',\n",
       " 'mediterranean',\n",
       " 'melodic',\n",
       " 'metal',\n",
       " 'metalcore',\n",
       " 'mexican',\n",
       " 'middle',\n",
       " 'minimal',\n",
       " 'miscellaneous',\n",
       " 'modern',\n",
       " 'mood',\n",
       " 'mpb',\n",
       " 'muslim',\n",
       " 'native',\n",
       " 'neoklassik',\n",
       " 'neue',\n",
       " 'new',\n",
       " 'newage',\n",
       " 'newwave',\n",
       " 'nu',\n",
       " 'nujazz',\n",
       " 'numetal',\n",
       " 'oceania',\n",
       " 'old',\n",
       " 'opera',\n",
       " 'orchestral',\n",
       " 'other',\n",
       " 'piano',\n",
       " 'podcasts',\n",
       " 'pop',\n",
       " 'popdance',\n",
       " 'popelectronic',\n",
       " 'popeurodance',\n",
       " 'poprussian',\n",
       " 'post',\n",
       " 'posthardcore',\n",
       " 'postrock',\n",
       " 'power',\n",
       " 'progmetal',\n",
       " 'progressive',\n",
       " 'psychedelic',\n",
       " 'punjabi',\n",
       " 'punk',\n",
       " 'quebecois',\n",
       " 'ragga',\n",
       " 'ram',\n",
       " 'rancheras',\n",
       " 'rap',\n",
       " 'rave',\n",
       " 'reggae',\n",
       " 'reggaeton',\n",
       " 'regional',\n",
       " 'relax',\n",
       " 'religious',\n",
       " 'retro',\n",
       " 'rhythm',\n",
       " 'rnb',\n",
       " 'rnr',\n",
       " 'rock',\n",
       " 'rockabilly',\n",
       " 'rockalternative',\n",
       " 'rockindie',\n",
       " 'rockother',\n",
       " 'romance',\n",
       " 'roots',\n",
       " 'ruspop',\n",
       " 'rusrap',\n",
       " 'rusrock',\n",
       " 'russian',\n",
       " 'salsa',\n",
       " 'samba',\n",
       " 'scenic',\n",
       " 'schlager',\n",
       " 'self',\n",
       " 'sertanejo',\n",
       " 'shanson',\n",
       " 'shoegazing',\n",
       " 'showtunes',\n",
       " 'singer',\n",
       " 'ska',\n",
       " 'skarock',\n",
       " 'slow',\n",
       " 'smooth',\n",
       " 'soft',\n",
       " 'soul',\n",
       " 'soulful',\n",
       " 'sound',\n",
       " 'soundtrack',\n",
       " 'southern',\n",
       " 'specialty',\n",
       " 'speech',\n",
       " 'spiritual',\n",
       " 'sport',\n",
       " 'stonerrock',\n",
       " 'surf',\n",
       " 'swing',\n",
       " 'synthpop',\n",
       " 'synthrock',\n",
       " 'sängerportrait',\n",
       " 'tango',\n",
       " 'tanzorchester',\n",
       " 'taraftar',\n",
       " 'tatar',\n",
       " 'tech',\n",
       " 'techno',\n",
       " 'teen',\n",
       " 'thrash',\n",
       " 'top',\n",
       " 'traditional',\n",
       " 'tradjazz',\n",
       " 'trance',\n",
       " 'tribal',\n",
       " 'trip',\n",
       " 'triphop',\n",
       " 'tropical',\n",
       " 'türk',\n",
       " 'türkçe',\n",
       " 'ukrrock',\n",
       " 'unknown',\n",
       " 'urban',\n",
       " 'uzbek',\n",
       " 'variété',\n",
       " 'vi',\n",
       " 'videogame',\n",
       " 'vocal',\n",
       " 'western',\n",
       " 'world',\n",
       " 'worldbeat',\n",
       " 'ïîï',\n",
       " 'электроника']"
      ]
     },
     "execution_count": 83,
     "metadata": {},
     "output_type": "execute_result"
    }
   ],
   "source": [
    "# Проверка на неявные дубликаты\n",
    "sorted(df['genre'].unique())"
   ]
  },
  {
   "cell_type": "markdown",
   "metadata": {
    "id": "jz6a9-7HQUDd"
   },
   "source": [
    "**Выводы**\n",
    "\n",
    "Предобработка обнаружила три проблемы в данных:\n",
    "\n",
    "- нарушения в стиле заголовков,\n",
    "- пропущенные значения,\n",
    "- дубликаты — явные и неявные.\n",
    "\n",
    "Вы исправили заголовки, чтобы упростить работу с таблицей. Без дубликатов исследование станет более точным.\n",
    "\n",
    "Пропущенные значения вы заменили на `'unknown'`. Ещё предстоит увидеть, не повредят ли исследованию пропуски в колонке `genre`.\n",
    "\n",
    "Теперь можно перейти к проверке гипотез. "
   ]
  },
  {
   "cell_type": "markdown",
   "metadata": {
    "id": "WttZHXH0SqKk"
   },
   "source": [
    "## Проверка гипотез"
   ]
  },
  {
   "cell_type": "markdown",
   "metadata": {
    "id": "Im936VVi_Zcu"
   },
   "source": [
    "### Сравнение поведения пользователей двух столиц"
   ]
  },
  {
   "cell_type": "markdown",
   "metadata": {
    "id": "nwt_MuaL_Zcu"
   },
   "source": [
    "Первая гипотеза утверждает, что пользователи по-разному слушают музыку в Москве и Санкт-Петербурге. Проверьте это предположение по данным о трёх днях недели — понедельнике, среде и пятнице. Для этого:\n",
    "\n",
    "* Разделите пользователей Москвы и Санкт-Петербурга\n",
    "* Сравните, сколько треков послушала каждая группа пользователей в понедельник, среду и пятницу.\n"
   ]
  },
  {
   "cell_type": "markdown",
   "metadata": {
    "id": "8Dw_YMmT_Zcu"
   },
   "source": [
    "Для тренировки сначала выполните каждый из расчётов по отдельности. \n",
    "\n",
    "Оцените активность пользователей в каждом городе. Сгруппируйте данные по городу и посчитайте прослушивания в каждой группе.\n",
    "\n"
   ]
  },
  {
   "cell_type": "code",
   "execution_count": 84,
   "metadata": {
    "id": "0_Qs96oh_Zcu"
   },
   "outputs": [
    {
     "data": {
      "text/plain": [
       "city\n",
       "Moscow              42741\n",
       "Saint-Petersburg    18512\n",
       "Name: genre, dtype: int64"
      ]
     },
     "execution_count": 84,
     "metadata": {},
     "output_type": "execute_result"
    }
   ],
   "source": [
    "# Подсчёт прослушиваний в каждом городе\n",
    "df.groupby('city')['genre'].count()"
   ]
  },
  {
   "cell_type": "markdown",
   "metadata": {
    "id": "dzli3w8o_Zcu"
   },
   "source": [
    "В Москве прослушиваний больше, чем в Петербурге. Из этого не следует, что московские пользователи чаще слушают музыку. Просто самих пользователей в Москве больше.\n",
    "\n",
    "Теперь сгруппируйте данные по дню недели и подсчитайте прослушивания в понедельник, среду и пятницу. Учтите, что в данных есть информация только о прослушиваниях только за эти дни.\n"
   ]
  },
  {
   "cell_type": "code",
   "execution_count": 85,
   "metadata": {
    "id": "uZMKjiJz_Zcu"
   },
   "outputs": [
    {
     "data": {
      "text/plain": [
       "day\n",
       "Friday       21840\n",
       "Monday       21354\n",
       "Wednesday    18059\n",
       "Name: genre, dtype: int64"
      ]
     },
     "execution_count": 85,
     "metadata": {},
     "output_type": "execute_result"
    }
   ],
   "source": [
    "# Подсчёт прослушиваний в каждый из трёх дней\n",
    "df.groupby('day')['genre'].count()"
   ]
  },
  {
   "cell_type": "markdown",
   "metadata": {
    "id": "cC2tNrlL_Zcu"
   },
   "source": [
    "В среднем пользователи из двух городов менее активны по средам. Но картина может измениться, если рассмотреть каждый город в отдельности."
   ]
  },
  {
   "cell_type": "code",
   "execution_count": 86,
   "metadata": {
    "id": "Nz3GdQB1_Zcu"
   },
   "outputs": [],
   "source": [
    "def number_tracks(day, city):\n",
    "    track_list = df[df['day'] == day]\n",
    "    track_list = track_list[track_list['city'] == city]\n",
    "    track_list_count = track_list['user_id'].count()\n",
    "    return track_list_count\n"
   ]
  },
  {
   "cell_type": "markdown",
   "metadata": {
    "id": "ytf7xFrFJQ2r"
   },
   "source": [
    "Вызовите `number_tracks()` шесть раз, меняя значение параметров — так, чтобы получить данные для каждого города в каждый из трёх дней."
   ]
  },
  {
   "cell_type": "code",
   "execution_count": 87,
   "metadata": {
    "id": "rJcRATNQ_Zcu"
   },
   "outputs": [
    {
     "data": {
      "text/plain": [
       "15740"
      ]
     },
     "execution_count": 87,
     "metadata": {},
     "output_type": "execute_result"
    }
   ],
   "source": [
    "# количество прослушиваний в Москве по понедельникам\n",
    "msc_mon = number_tracks('Monday', 'Moscow')\n",
    "msc_mon"
   ]
  },
  {
   "cell_type": "code",
   "execution_count": 88,
   "metadata": {
    "id": "hq_ncZ5T_Zcu"
   },
   "outputs": [
    {
     "data": {
      "text/plain": [
       "5614"
      ]
     },
     "execution_count": 88,
     "metadata": {},
     "output_type": "execute_result"
    }
   ],
   "source": [
    "# количество прослушиваний в Санкт-Петербурге по понедельникам\n",
    "spb_mon = number_tracks('Monday', 'Saint-Petersburg')\n",
    "spb_mon"
   ]
  },
  {
   "cell_type": "code",
   "execution_count": 89,
   "metadata": {
    "id": "_NTy2VPU_Zcu"
   },
   "outputs": [
    {
     "data": {
      "text/plain": [
       "11056"
      ]
     },
     "execution_count": 89,
     "metadata": {},
     "output_type": "execute_result"
    }
   ],
   "source": [
    "# количество прослушиваний в Москве по средам\n",
    "msc_wed = number_tracks('Wednesday', 'Moscow')\n",
    "msc_wed"
   ]
  },
  {
   "cell_type": "code",
   "execution_count": 90,
   "metadata": {
    "id": "j2y3TAwo_Zcu"
   },
   "outputs": [
    {
     "data": {
      "text/plain": [
       "7003"
      ]
     },
     "execution_count": 90,
     "metadata": {},
     "output_type": "execute_result"
    }
   ],
   "source": [
    "# количество прослушиваний в Санкт-Петербурге по средам\n",
    "spb_wed = number_tracks('Wednesday', 'Saint-Petersburg')\n",
    "spb_wed"
   ]
  },
  {
   "cell_type": "code",
   "execution_count": 91,
   "metadata": {
    "id": "vYDw5u_K_Zcu"
   },
   "outputs": [
    {
     "data": {
      "text/plain": [
       "15945"
      ]
     },
     "execution_count": 91,
     "metadata": {},
     "output_type": "execute_result"
    }
   ],
   "source": [
    "# количество прослушиваний в Москве по пятницам\n",
    "msc_fr = number_tracks('Friday', 'Moscow')\n",
    "msc_fr"
   ]
  },
  {
   "cell_type": "code",
   "execution_count": 92,
   "metadata": {
    "id": "8_yzFtW3_Zcu"
   },
   "outputs": [
    {
     "data": {
      "text/plain": [
       "5895"
      ]
     },
     "execution_count": 92,
     "metadata": {},
     "output_type": "execute_result"
    }
   ],
   "source": [
    "# количество прослушиваний в Санкт-Петербурге по пятницам\n",
    "spb_fr = number_tracks('Friday', 'Saint-Petersburg')\n",
    "spb_fr"
   ]
  },
  {
   "cell_type": "markdown",
   "metadata": {
    "id": "7QXffbO-_Zcu"
   },
   "source": [
    "Создайте c помощью конструктора `pd.DataFrame` таблицу, где\n",
    "* названия колонок — `['city', 'monday', 'wednesday', 'friday']`;\n",
    "* данные — результаты, которые вы получили с помощью `number_tracks`."
   ]
  },
  {
   "cell_type": "code",
   "execution_count": 93,
   "metadata": {
    "id": "APAcLpOr_Zcu"
   },
   "outputs": [
    {
     "data": {
      "text/html": [
       "<div>\n",
       "<style scoped>\n",
       "    .dataframe tbody tr th:only-of-type {\n",
       "        vertical-align: middle;\n",
       "    }\n",
       "\n",
       "    .dataframe tbody tr th {\n",
       "        vertical-align: top;\n",
       "    }\n",
       "\n",
       "    .dataframe thead th {\n",
       "        text-align: right;\n",
       "    }\n",
       "</style>\n",
       "<table border=\"1\" class=\"dataframe\">\n",
       "  <thead>\n",
       "    <tr style=\"text-align: right;\">\n",
       "      <th></th>\n",
       "      <th>city</th>\n",
       "      <th>monday</th>\n",
       "      <th>wednesday</th>\n",
       "      <th>friday</th>\n",
       "    </tr>\n",
       "  </thead>\n",
       "  <tbody>\n",
       "    <tr>\n",
       "      <td>0</td>\n",
       "      <td>Moscow</td>\n",
       "      <td>15740</td>\n",
       "      <td>11056</td>\n",
       "      <td>15945</td>\n",
       "    </tr>\n",
       "    <tr>\n",
       "      <td>1</td>\n",
       "      <td>Saint-Petersburg</td>\n",
       "      <td>5614</td>\n",
       "      <td>7003</td>\n",
       "      <td>5895</td>\n",
       "    </tr>\n",
       "  </tbody>\n",
       "</table>\n",
       "</div>"
      ],
      "text/plain": [
       "               city  monday  wednesday  friday\n",
       "0            Moscow   15740      11056   15945\n",
       "1  Saint-Petersburg    5614       7003    5895"
      ]
     },
     "execution_count": 93,
     "metadata": {},
     "output_type": "execute_result"
    }
   ],
   "source": [
    "# Таблица с результатами\n",
    "columns = ['city', 'monday', 'wednesday', 'friday']\n",
    "data = [['Moscow', msc_mon, msc_wed, msc_fr],\n",
    "      ['Saint-Petersburg', spb_mon, spb_wed, spb_fr]]\n",
    "\n",
    "pd.DataFrame(columns=columns, data=data)\n"
   ]
  },
  {
   "cell_type": "markdown",
   "metadata": {
    "id": "-EgPIHYu_Zcu"
   },
   "source": [
    "**Выводы**\n",
    "\n",
    "Данные показывают разницу поведения пользователей:\n",
    "\n",
    "- В Москве пик прослушиваний приходится на понедельник и пятницу, а в среду заметен спад.\n",
    "- В Петербурге, наоборот, больше слушают музыку по средам. Активность в понедельник и пятницу здесь почти в равной мере уступает среде.\n",
    "\n",
    "Значит, данные говорят в пользу первой гипотезы."
   ]
  },
  {
   "cell_type": "markdown",
   "metadata": {
    "id": "atZAxtq4_Zcu"
   },
   "source": [
    "### Музыка в начале и в конце недели"
   ]
  },
  {
   "cell_type": "markdown",
   "metadata": {
    "id": "eXrQqXFH_Zcu"
   },
   "source": [
    "Согласно второй гипотезе, утром в понедельник в Москве преобладают одни жанры, а в Петербурге — другие. Так же и вечером пятницы преобладают разные жанры — в зависимости от города."
   ]
  },
  {
   "cell_type": "markdown",
   "metadata": {
    "id": "S8UcW6Hw_Zcu"
   },
   "source": [
    "Сохраните таблицы с данными в две переменные:\n",
    "* по Москве — в `moscow_general`;\n",
    "* по Санкт-Петербургу — в `spb_general`."
   ]
  },
  {
   "cell_type": "code",
   "execution_count": 94,
   "metadata": {
    "id": "qeaFfM_P_Zcu"
   },
   "outputs": [],
   "source": [
    "# получение таблицы moscow_general из тех строк таблицы df, \n",
    "# для которых значение в столбце 'city' равно 'Moscow'\n",
    "moscow_general = df[df['city'] == 'Moscow']\n"
   ]
  },
  {
   "cell_type": "code",
   "execution_count": 95,
   "metadata": {
    "id": "ORaVRKto_Zcu"
   },
   "outputs": [],
   "source": [
    "# получение таблицы spb_general из тех строк таблицы df,\n",
    "# для которых значение в столбце 'city' равно 'Saint-Petersburg'\n",
    "spb_general = df[df['city'] == 'Saint-Petersburg']"
   ]
  },
  {
   "cell_type": "markdown",
   "metadata": {
    "id": "MEJV-CX2_Zcu"
   },
   "source": [
    "Создайте функцию `genre_weekday()` с четырьмя параметрами:\n",
    "* таблица (датафрейм) с данными,\n",
    "* день недели,\n",
    "* начальная временная метка в формате 'hh:mm', \n",
    "* последняя временная метка в формате 'hh:mm'.\n",
    "\n",
    "Функция должна вернуть информацию о топ-10 жанров тех треков, которые прослушивали в указанный день, в промежутке между двумя отметками времени."
   ]
  },
  {
   "cell_type": "code",
   "execution_count": 96,
   "metadata": {
    "id": "laJT9BYl_Zcu"
   },
   "outputs": [],
   "source": [
    "def genre_weekday(table, day, time1, time2) :\n",
    "    genre_df = table[table['day'] == day]\n",
    "    genre_df = genre_df[genre_df['time'] > time1]\n",
    "    genre_df = genre_df[genre_df['time'] < time2]\n",
    "    genre_df_count = genre_df.groupby('genre')['genre'].count()\n",
    "    genre_df_sorted = genre_df_count.sort_values(ascending=False)\n",
    "    return genre_df_sorted.head(10)"
   ]
  },
  {
   "cell_type": "markdown",
   "metadata": {},
   "source": [
    "<div class=\"alert alert-success\">\n",
    "<b>✔️ Комментарий ревьюера:</b> Функция верна</div>"
   ]
  },
  {
   "cell_type": "markdown",
   "metadata": {
    "id": "la2s2_PF_Zcu"
   },
   "source": [
    "Cравните результаты функции `genre_weekday()` для Москвы и Санкт-Петербурга в понедельник утром (с 7:00 до 11:00) и в пятницу вечером (с 17:00 до 23:00):"
   ]
  },
  {
   "cell_type": "code",
   "execution_count": 97,
   "metadata": {
    "id": "yz7itPUQ_Zcu"
   },
   "outputs": [
    {
     "data": {
      "text/plain": [
       "genre\n",
       "pop            781\n",
       "dance          549\n",
       "electronic     480\n",
       "rock           474\n",
       "hiphop         286\n",
       "ruspop         186\n",
       "world          181\n",
       "rusrap         175\n",
       "alternative    164\n",
       "unknown        161\n",
       "Name: genre, dtype: int64"
      ]
     },
     "execution_count": 97,
     "metadata": {},
     "output_type": "execute_result"
    }
   ],
   "source": [
    "genre_weekday(moscow_general, 'Monday', '07:00', '11:00')\n"
   ]
  },
  {
   "cell_type": "code",
   "execution_count": 98,
   "metadata": {
    "id": "kwUcHPdy_Zcu"
   },
   "outputs": [
    {
     "data": {
      "text/plain": [
       "genre\n",
       "pop            218\n",
       "dance          182\n",
       "rock           162\n",
       "electronic     147\n",
       "hiphop          80\n",
       "ruspop          64\n",
       "alternative     58\n",
       "rusrap          55\n",
       "jazz            44\n",
       "classical       40\n",
       "Name: genre, dtype: int64"
      ]
     },
     "execution_count": 98,
     "metadata": {},
     "output_type": "execute_result"
    }
   ],
   "source": [
    "# вызов функции для утра понедельника в Петербурге (вместо df — таблица spb_general)\n",
    "genre_weekday(spb_general, 'Monday', '07:00', '11:00')"
   ]
  },
  {
   "cell_type": "code",
   "execution_count": 99,
   "metadata": {
    "id": "EzXVRE1o_Zcu"
   },
   "outputs": [
    {
     "data": {
      "text/plain": [
       "genre\n",
       "pop            713\n",
       "rock           517\n",
       "dance          495\n",
       "electronic     482\n",
       "hiphop         273\n",
       "world          208\n",
       "ruspop         170\n",
       "alternative    163\n",
       "classical      163\n",
       "rusrap         142\n",
       "Name: genre, dtype: int64"
      ]
     },
     "execution_count": 99,
     "metadata": {},
     "output_type": "execute_result"
    }
   ],
   "source": [
    "# вызов функции для вечера пятницы в Москве\n",
    "genre_weekday(moscow_general, 'Friday', '19:00', '23:00')"
   ]
  },
  {
   "cell_type": "code",
   "execution_count": 100,
   "metadata": {
    "id": "JZaEKu5v_Zcu"
   },
   "outputs": [
    {
     "data": {
      "text/plain": [
       "genre\n",
       "pop            256\n",
       "rock           216\n",
       "electronic     216\n",
       "dance          210\n",
       "hiphop          97\n",
       "alternative     63\n",
       "jazz            61\n",
       "classical       60\n",
       "rusrap          59\n",
       "world           54\n",
       "Name: genre, dtype: int64"
      ]
     },
     "execution_count": 100,
     "metadata": {},
     "output_type": "execute_result"
    }
   ],
   "source": [
    "# вызов функции для вечера пятницы в Петербурге\n",
    "genre_weekday(spb_general, 'Friday', '19:00', '23:00')"
   ]
  },
  {
   "cell_type": "markdown",
   "metadata": {
    "id": "wrCe4MNX_Zcu"
   },
   "source": [
    "**Выводы**\n",
    "\n",
    "Если сравнить топ-10 жанров в понедельник утром, можно сделать такие выводы:\n",
    "\n",
    "1. В Москве и Петербурге слушают похожую музыку. Единственное отличие — в московский рейтинг вошёл жанр “world”, а в петербургский — джаз и классика.\n",
    "\n",
    "2. В Москве пропущенных значений оказалось так много, что значение `'unknown'` заняло десятое место среди самых популярных жанров. Значит, пропущенные значения занимают существенную долю в данных и угрожают достоверности исследования.\n",
    "\n",
    "Вечер пятницы не меняет эту картину. Некоторые жанры поднимаются немного выше, другие спускаются, но в целом топ-10 остаётся тем же самым.\n",
    "\n",
    "Таким образом, вторая гипотеза подтвердилась лишь частично:\n",
    "* Пользователи слушают похожую музыку в начале недели и в конце.\n",
    "* Разница между Москвой и Петербургом не слишком выражена. В Москве чаще слушают русскую популярную музыку, в Петербурге — джаз.\n",
    "\n",
    "Однако пропуски в данных ставят под сомнение этот результат. В Москве их так много, что рейтинг топ-10 мог бы выглядеть иначе, если бы не утерянные  данные о жанрах."
   ]
  },
  {
   "cell_type": "markdown",
   "metadata": {
    "id": "JolODAqr_Zcu"
   },
   "source": [
    "### Жанровые предпочтения в Москве и Петербурге\n",
    "\n",
    "Гипотеза: Петербург — столица рэпа, музыку этого жанра там слушают чаще, чем в Москве.  А Москва — город контрастов, в котором, тем не менее, преобладает поп-музыка."
   ]
  },
  {
   "cell_type": "markdown",
   "metadata": {
    "id": "DlegSvaT_Zcu"
   },
   "source": [
    "Сгруппируйте таблицу `moscow_general` по жанру и посчитайте прослушивания треков каждого жанра методом `count()`. Затем отсортируйте результат в порядке убывания и сохраните его в таблице `moscow_general`."
   ]
  },
  {
   "cell_type": "code",
   "execution_count": 101,
   "metadata": {
    "id": "r19lIPke_Zcu"
   },
   "outputs": [],
   "source": [
    "# одной строкой: группировка таблицы moscow_general по столбцу 'genre', \n",
    "# подсчёт числа значений 'genre' в этой группировке методом count(), \n",
    "# сортировка получившегося Series в порядке убывания и сохранение в moscow_genres\n",
    "\n",
    "moscow_genres = moscow_general.groupby('genre')['genre'].count()\n",
    "moscow_genres = moscow_genres.sort_values(ascending=False)\n"
   ]
  },
  {
   "cell_type": "markdown",
   "metadata": {
    "id": "6kMuomxTiIr8"
   },
   "source": [
    "Выведите на экран первые десять строк `moscow_genres`:"
   ]
  },
  {
   "cell_type": "code",
   "execution_count": 102,
   "metadata": {
    "id": "WhCSooF8_Zcv"
   },
   "outputs": [
    {
     "data": {
      "text/plain": [
       "genre\n",
       "pop            5892\n",
       "dance          4435\n",
       "rock           3965\n",
       "electronic     3786\n",
       "hiphop         2096\n",
       "classical      1616\n",
       "world          1432\n",
       "alternative    1379\n",
       "ruspop         1372\n",
       "rusrap         1161\n",
       "Name: genre, dtype: int64"
      ]
     },
     "execution_count": 102,
     "metadata": {},
     "output_type": "execute_result"
    }
   ],
   "source": [
    "# просмотр первых 10 строк moscow_genres\n",
    "moscow_genres.head(10)"
   ]
  },
  {
   "cell_type": "markdown",
   "metadata": {
    "id": "cnPG2vnN_Zcv"
   },
   "source": [
    "Теперь повторите то же и для Петербурга.\n",
    "\n",
    "Сгруппируйте таблицу `spb_general` по жанру. Посчитайте прослушивания треков каждого жанра. Результат отсортируйте в порядке убывания и сохраните в таблице `spb_genres`:\n"
   ]
  },
  {
   "cell_type": "code",
   "execution_count": 103,
   "metadata": {
    "id": "gluLIpE7_Zcv"
   },
   "outputs": [],
   "source": [
    "# одной строкой: группировка таблицы spb_general по столбцу 'genre', \n",
    "# подсчёт числа значений 'genre' в этой группировке методом count(), \n",
    "# сортировка получившегося Series в порядке убывания и сохранение в spb_genres\n",
    "spb_genres = spb_general.groupby('genre')['genre'].count()\n",
    "spb_genres = spb_genres.sort_values(ascending=False)"
   ]
  },
  {
   "cell_type": "code",
   "execution_count": 104,
   "metadata": {
    "id": "uaGJHjVU_Zcv"
   },
   "outputs": [
    {
     "data": {
      "text/plain": [
       "genre\n",
       "pop            2431\n",
       "dance          1932\n",
       "rock           1879\n",
       "electronic     1736\n",
       "hiphop          960\n",
       "alternative     649\n",
       "classical       646\n",
       "rusrap          564\n",
       "ruspop          538\n",
       "world           515\n",
       "Name: genre, dtype: int64"
      ]
     },
     "execution_count": 104,
     "metadata": {},
     "output_type": "execute_result"
    }
   ],
   "source": [
    "# просмотр первых 10 строк spb_genres\n",
    "spb_genres.head(10)"
   ]
  },
  {
   "cell_type": "markdown",
   "metadata": {
    "id": "RY51YJYu_Zcv"
   },
   "source": [
    "**Выводы**"
   ]
  },
  {
   "cell_type": "markdown",
   "metadata": {
    "id": "nVhnJEm__Zcv"
   },
   "source": [
    "Гипотеза частично подтвердилась:\n",
    "* Поп-музыка — самый популярный жанр в Москве, как и предполагала гипотеза. Более того, в топ-10 жанров встречается близкий жанр — русская популярная музыка.\n",
    "* Вопреки ожиданиям, рэп одинаково популярен в Москве и Петербурге. \n"
   ]
  },
  {
   "cell_type": "markdown",
   "metadata": {
    "id": "ykKQ0N65_Zcv"
   },
   "source": [
    "## Итоги исследования"
   ]
  },
  {
   "cell_type": "markdown",
   "metadata": {
    "id": "tjUwbHb3_Zcv"
   },
   "source": [
    "Вы проверили три гипотезы и установили:\n",
    "\n",
    "1. День недели по-разному влияет на активность пользователей в Москве и Петербурге. \n",
    "\n",
    "Первая гипотеза полностью подтвердилась.\n",
    "\n",
    "2. Музыкальные предпочтения не сильно меняются в течение недели — будь то Москва или Петербург. Небольшие различия заметны в начале недели, по понедельникам:\n",
    "* в Москве слушают музыку жанра “world”,\n",
    "* в Петербурге — джаз и классику.\n",
    "\n",
    "Таким образом, вторая гипотеза подтвердилась лишь отчасти. Этот результат мог оказаться иным, если бы не пропуски в данных.\n",
    "\n",
    "3. Во вкусах пользователей Москвы и Петербурга больше общего чем различий. Вопреки ожиданиям, предпочтения жанров в Петербурге напоминают московские.\n",
    "\n",
    "Третья гипотеза не подтвердилась. Если различия в предпочтениях и существуют, на основной массе пользователей они незаметны.\n",
    "\n",
    "**На практике исследования содержат проверки статистических гипотез.**\n",
    "Из данных одного сервиса не всегда можно сделать вывод о всех жителях города.\n",
    "Проверки статистических гипотез покажут, насколько они достоверны, исходя из имеющихся данных. \n",
    "С методами проверок гипотез вы ещё познакомитесь в следующих темах."
   ]
  }
 ],
 "metadata": {
  "ExecuteTimeLog": [
   {
    "duration": 754,
    "start_time": "2021-12-07T00:16:05.614Z"
   },
   {
    "duration": 192,
    "start_time": "2021-12-07T00:17:51.362Z"
   },
   {
    "duration": 197,
    "start_time": "2021-12-07T00:17:56.427Z"
   },
   {
    "duration": 205,
    "start_time": "2021-12-07T00:18:00.924Z"
   },
   {
    "duration": 25,
    "start_time": "2021-12-07T00:18:23.864Z"
   },
   {
    "duration": 15,
    "start_time": "2021-12-07T00:18:58.159Z"
   },
   {
    "duration": 15,
    "start_time": "2021-12-07T00:19:12.269Z"
   },
   {
    "duration": 32,
    "start_time": "2021-12-07T00:19:33.009Z"
   },
   {
    "duration": 5,
    "start_time": "2021-12-07T00:28:54.353Z"
   },
   {
    "duration": 27,
    "start_time": "2021-12-07T00:31:50.657Z"
   },
   {
    "duration": 6,
    "start_time": "2021-12-07T00:32:02.057Z"
   },
   {
    "duration": 36,
    "start_time": "2021-12-07T00:33:23.647Z"
   },
   {
    "duration": 24,
    "start_time": "2021-12-07T00:38:59.216Z"
   },
   {
    "duration": 32,
    "start_time": "2021-12-07T00:39:17.831Z"
   },
   {
    "duration": 86,
    "start_time": "2021-12-07T00:40:26.445Z"
   },
   {
    "duration": 79,
    "start_time": "2021-12-07T00:40:41.800Z"
   },
   {
    "duration": 126,
    "start_time": "2021-12-07T00:41:06.334Z"
   },
   {
    "duration": 126,
    "start_time": "2021-12-07T00:41:49.388Z"
   },
   {
    "duration": 149,
    "start_time": "2021-12-07T00:44:20.767Z"
   },
   {
    "duration": 129,
    "start_time": "2021-12-07T00:44:45.592Z"
   },
   {
    "duration": 160,
    "start_time": "2021-12-07T00:44:57.168Z"
   },
   {
    "duration": 101,
    "start_time": "2021-12-07T00:45:14.691Z"
   },
   {
    "duration": 10,
    "start_time": "2021-12-07T00:46:28.839Z"
   },
   {
    "duration": 14,
    "start_time": "2021-12-07T00:47:21.051Z"
   },
   {
    "duration": 5,
    "start_time": "2021-12-07T00:50:57.423Z"
   },
   {
    "duration": 762,
    "start_time": "2021-12-07T00:52:45.171Z"
   },
   {
    "duration": 414,
    "start_time": "2021-12-07T00:53:40.617Z"
   },
   {
    "duration": 4,
    "start_time": "2021-12-07T00:57:34.480Z"
   },
   {
    "duration": 305,
    "start_time": "2021-12-07T00:57:38.923Z"
   },
   {
    "duration": 5,
    "start_time": "2021-12-07T00:58:10.596Z"
   },
   {
    "duration": 324,
    "start_time": "2021-12-07T00:58:15.851Z"
   },
   {
    "duration": 4,
    "start_time": "2021-12-07T00:58:38.938Z"
   },
   {
    "duration": 345,
    "start_time": "2021-12-07T00:58:41.590Z"
   },
   {
    "duration": 26,
    "start_time": "2021-12-07T00:58:51.736Z"
   },
   {
    "duration": 4,
    "start_time": "2021-12-07T00:59:18.607Z"
   },
   {
    "duration": 21,
    "start_time": "2021-12-07T00:59:23.463Z"
   },
   {
    "duration": 4,
    "start_time": "2021-12-07T00:59:31.316Z"
   },
   {
    "duration": 18,
    "start_time": "2021-12-07T00:59:33.577Z"
   },
   {
    "duration": 10,
    "start_time": "2021-12-07T01:00:22.881Z"
   },
   {
    "duration": 13,
    "start_time": "2021-12-07T01:00:40.367Z"
   },
   {
    "duration": 4,
    "start_time": "2021-12-07T01:01:52.559Z"
   },
   {
    "duration": 8,
    "start_time": "2021-12-07T01:01:55.690Z"
   },
   {
    "duration": 14,
    "start_time": "2021-12-07T01:01:59.283Z"
   },
   {
    "duration": 761,
    "start_time": "2021-12-07T01:02:24.914Z"
   },
   {
    "duration": 9,
    "start_time": "2021-12-07T01:02:40.501Z"
   },
   {
    "duration": 4,
    "start_time": "2021-12-07T01:02:58.489Z"
   },
   {
    "duration": 9,
    "start_time": "2021-12-07T01:03:01.716Z"
   },
   {
    "duration": 14,
    "start_time": "2021-12-07T01:03:05.550Z"
   },
   {
    "duration": 14,
    "start_time": "2021-12-07T01:07:14.958Z"
   },
   {
    "duration": 50,
    "start_time": "2021-12-07T01:10:45.513Z"
   },
   {
    "duration": 46,
    "start_time": "2021-12-07T01:11:08.747Z"
   },
   {
    "duration": 44,
    "start_time": "2021-12-07T01:11:17.794Z"
   },
   {
    "duration": 7757,
    "start_time": "2021-12-07T01:11:57.668Z"
   },
   {
    "duration": 5,
    "start_time": "2021-12-07T01:14:14.514Z"
   },
   {
    "duration": 44,
    "start_time": "2021-12-07T01:14:42.213Z"
   },
   {
    "duration": 388,
    "start_time": "2021-12-07T18:37:00.634Z"
   },
   {
    "duration": 469,
    "start_time": "2021-12-07T18:37:47.185Z"
   },
   {
    "duration": 486,
    "start_time": "2021-12-07T18:38:32.721Z"
   },
   {
    "duration": 668,
    "start_time": "2021-12-07T18:38:54.623Z"
   },
   {
    "duration": 120,
    "start_time": "2021-12-07T18:38:56.090Z"
   },
   {
    "duration": 16,
    "start_time": "2021-12-07T18:39:00.950Z"
   },
   {
    "duration": 3,
    "start_time": "2021-12-07T18:39:22.291Z"
   },
   {
    "duration": 142,
    "start_time": "2021-12-07T18:39:22.296Z"
   },
   {
    "duration": 10,
    "start_time": "2021-12-07T18:39:22.441Z"
   },
   {
    "duration": 35,
    "start_time": "2021-12-07T18:39:22.453Z"
   },
   {
    "duration": 4,
    "start_time": "2021-12-07T18:39:22.490Z"
   },
   {
    "duration": 24,
    "start_time": "2021-12-07T18:39:22.496Z"
   },
   {
    "duration": 4,
    "start_time": "2021-12-07T18:39:22.522Z"
   },
   {
    "duration": 21,
    "start_time": "2021-12-07T18:39:22.528Z"
   },
   {
    "duration": 44,
    "start_time": "2021-12-07T18:39:22.552Z"
   },
   {
    "duration": 20,
    "start_time": "2021-12-07T18:39:22.598Z"
   },
   {
    "duration": 51,
    "start_time": "2021-12-07T18:39:22.619Z"
   },
   {
    "duration": 71,
    "start_time": "2021-12-07T18:39:22.672Z"
   },
   {
    "duration": 68,
    "start_time": "2021-12-07T18:39:22.745Z"
   },
   {
    "duration": 12,
    "start_time": "2021-12-07T18:39:22.815Z"
   },
   {
    "duration": 2,
    "start_time": "2021-12-07T18:39:22.829Z"
   },
   {
    "duration": 8,
    "start_time": "2021-12-07T18:39:22.833Z"
   },
   {
    "duration": 9,
    "start_time": "2021-12-07T18:39:22.843Z"
   },
   {
    "duration": 65,
    "start_time": "2021-12-07T18:39:22.854Z"
   },
   {
    "duration": 41,
    "start_time": "2021-12-07T18:39:22.921Z"
   },
   {
    "duration": 2,
    "start_time": "2021-12-07T18:39:22.963Z"
   },
   {
    "duration": 8,
    "start_time": "2021-12-07T18:39:22.967Z"
   },
   {
    "duration": 2,
    "start_time": "2021-12-07T18:39:22.988Z"
   },
   {
    "duration": 6,
    "start_time": "2021-12-07T18:39:22.991Z"
   },
   {
    "duration": 5,
    "start_time": "2021-12-07T18:39:22.999Z"
   },
   {
    "duration": 5,
    "start_time": "2021-12-07T18:39:23.006Z"
   },
   {
    "duration": 9,
    "start_time": "2021-12-07T18:39:23.012Z"
   },
   {
    "duration": 3,
    "start_time": "2021-12-07T18:39:23.024Z"
   },
   {
    "duration": 4,
    "start_time": "2021-12-07T18:39:23.029Z"
   },
   {
    "duration": 4,
    "start_time": "2021-12-07T18:39:23.035Z"
   },
   {
    "duration": 5,
    "start_time": "2021-12-07T18:39:23.041Z"
   },
   {
    "duration": 8,
    "start_time": "2021-12-07T18:39:23.047Z"
   },
   {
    "duration": 8,
    "start_time": "2021-12-07T18:39:23.056Z"
   },
   {
    "duration": 7,
    "start_time": "2021-12-07T18:39:23.065Z"
   },
   {
    "duration": 13,
    "start_time": "2021-12-07T18:39:23.074Z"
   },
   {
    "duration": 6,
    "start_time": "2021-12-07T18:39:23.089Z"
   },
   {
    "duration": 4,
    "start_time": "2021-12-07T18:39:23.096Z"
   },
   {
    "duration": 6,
    "start_time": "2021-12-07T18:39:23.102Z"
   },
   {
    "duration": 8,
    "start_time": "2021-12-07T18:39:23.109Z"
   },
   {
    "duration": 28,
    "start_time": "2021-12-07T18:39:38.375Z"
   },
   {
    "duration": 4,
    "start_time": "2021-12-07T19:07:51.339Z"
   },
   {
    "duration": 11,
    "start_time": "2021-12-07T19:09:21.113Z"
   },
   {
    "duration": 19,
    "start_time": "2021-12-07T19:10:17.403Z"
   },
   {
    "duration": 20,
    "start_time": "2021-12-07T19:11:46.195Z"
   },
   {
    "duration": 19,
    "start_time": "2021-12-07T19:12:47.961Z"
   },
   {
    "duration": 20,
    "start_time": "2021-12-07T19:13:08.303Z"
   },
   {
    "duration": 4,
    "start_time": "2021-12-07T19:25:25.217Z"
   },
   {
    "duration": 6704,
    "start_time": "2021-12-07T19:25:32.192Z"
   },
   {
    "duration": 3,
    "start_time": "2021-12-07T19:28:51.217Z"
   },
   {
    "duration": 6499,
    "start_time": "2021-12-07T19:28:58.134Z"
   },
   {
    "duration": 6290,
    "start_time": "2021-12-07T19:35:16.832Z"
   },
   {
    "duration": 3,
    "start_time": "2021-12-07T19:37:15.747Z"
   },
   {
    "duration": 14,
    "start_time": "2021-12-07T19:37:21.235Z"
   },
   {
    "duration": 14,
    "start_time": "2021-12-07T19:40:06.059Z"
   },
   {
    "duration": 2,
    "start_time": "2021-12-07T19:40:19.006Z"
   },
   {
    "duration": 16,
    "start_time": "2021-12-07T19:42:57.486Z"
   },
   {
    "duration": 13,
    "start_time": "2021-12-07T19:43:00.676Z"
   },
   {
    "duration": 13,
    "start_time": "2021-12-07T19:43:02.957Z"
   },
   {
    "duration": 12,
    "start_time": "2021-12-07T19:43:05.052Z"
   },
   {
    "duration": 15,
    "start_time": "2021-12-07T19:43:09.792Z"
   },
   {
    "duration": 13,
    "start_time": "2021-12-07T19:43:12.085Z"
   },
   {
    "duration": 13,
    "start_time": "2021-12-07T19:51:04.506Z"
   },
   {
    "duration": 14,
    "start_time": "2021-12-07T19:51:35.378Z"
   },
   {
    "duration": 14,
    "start_time": "2021-12-07T19:51:54.188Z"
   },
   {
    "duration": 17,
    "start_time": "2021-12-07T19:52:17.714Z"
   },
   {
    "duration": 13,
    "start_time": "2021-12-07T19:52:40.677Z"
   },
   {
    "duration": 15,
    "start_time": "2021-12-07T19:53:43.963Z"
   },
   {
    "duration": 21,
    "start_time": "2021-12-07T19:54:21.439Z"
   },
   {
    "duration": 76,
    "start_time": "2021-12-07T19:57:10.020Z"
   },
   {
    "duration": 8,
    "start_time": "2021-12-07T19:57:28.253Z"
   },
   {
    "duration": 8,
    "start_time": "2021-12-07T19:57:46.948Z"
   },
   {
    "duration": 8,
    "start_time": "2021-12-07T19:57:55.823Z"
   },
   {
    "duration": 10,
    "start_time": "2021-12-07T20:01:50.361Z"
   },
   {
    "duration": 8,
    "start_time": "2021-12-07T20:01:59.126Z"
   },
   {
    "duration": 8,
    "start_time": "2021-12-07T20:02:14.253Z"
   },
   {
    "duration": 447,
    "start_time": "2021-12-08T00:10:51.253Z"
   },
   {
    "duration": 771,
    "start_time": "2021-12-08T00:11:35.879Z"
   },
   {
    "duration": 183,
    "start_time": "2021-12-08T00:11:36.653Z"
   },
   {
    "duration": 33,
    "start_time": "2021-12-08T00:11:36.839Z"
   },
   {
    "duration": 38,
    "start_time": "2021-12-08T00:11:36.876Z"
   },
   {
    "duration": 5,
    "start_time": "2021-12-08T00:11:36.917Z"
   },
   {
    "duration": 54,
    "start_time": "2021-12-08T00:11:36.924Z"
   },
   {
    "duration": 5,
    "start_time": "2021-12-08T00:11:36.981Z"
   },
   {
    "duration": 30,
    "start_time": "2021-12-08T00:11:36.990Z"
   },
   {
    "duration": 50,
    "start_time": "2021-12-08T00:11:37.023Z"
   },
   {
    "duration": 29,
    "start_time": "2021-12-08T00:11:37.076Z"
   },
   {
    "duration": 108,
    "start_time": "2021-12-08T00:11:37.107Z"
   },
   {
    "duration": 104,
    "start_time": "2021-12-08T00:11:37.218Z"
   },
   {
    "duration": 82,
    "start_time": "2021-12-08T00:11:37.325Z"
   },
   {
    "duration": 14,
    "start_time": "2021-12-08T00:11:37.409Z"
   },
   {
    "duration": 4,
    "start_time": "2021-12-08T00:11:37.425Z"
   },
   {
    "duration": 34,
    "start_time": "2021-12-08T00:11:37.431Z"
   },
   {
    "duration": 17,
    "start_time": "2021-12-08T00:11:37.468Z"
   },
   {
    "duration": 46,
    "start_time": "2021-12-08T00:11:37.488Z"
   },
   {
    "duration": 65,
    "start_time": "2021-12-08T00:11:37.536Z"
   },
   {
    "duration": 5,
    "start_time": "2021-12-08T00:11:37.604Z"
   },
   {
    "duration": 52,
    "start_time": "2021-12-08T00:11:37.612Z"
   },
   {
    "duration": 20,
    "start_time": "2021-12-08T00:11:37.667Z"
   },
   {
    "duration": 19,
    "start_time": "2021-12-08T00:11:37.692Z"
   },
   {
    "duration": 47,
    "start_time": "2021-12-08T00:11:37.713Z"
   },
   {
    "duration": 21,
    "start_time": "2021-12-08T00:11:37.762Z"
   },
   {
    "duration": 18,
    "start_time": "2021-12-08T00:11:37.785Z"
   },
   {
    "duration": 11,
    "start_time": "2021-12-08T00:11:37.805Z"
   },
   {
    "duration": 41,
    "start_time": "2021-12-08T00:11:37.818Z"
   },
   {
    "duration": 3,
    "start_time": "2021-12-08T00:11:37.861Z"
   },
   {
    "duration": 5,
    "start_time": "2021-12-08T00:11:37.866Z"
   },
   {
    "duration": 12,
    "start_time": "2021-12-08T00:11:37.873Z"
   },
   {
    "duration": 6,
    "start_time": "2021-12-08T00:11:37.888Z"
   },
   {
    "duration": 8,
    "start_time": "2021-12-08T00:11:37.896Z"
   },
   {
    "duration": 6,
    "start_time": "2021-12-08T00:11:37.907Z"
   },
   {
    "duration": 6,
    "start_time": "2021-12-08T00:11:37.916Z"
   },
   {
    "duration": 7,
    "start_time": "2021-12-08T00:11:37.924Z"
   },
   {
    "duration": 3,
    "start_time": "2021-12-08T00:11:37.960Z"
   },
   {
    "duration": 7,
    "start_time": "2021-12-08T00:11:37.965Z"
   },
   {
    "duration": 15,
    "start_time": "2021-12-08T00:14:17.914Z"
   },
   {
    "duration": 32,
    "start_time": "2021-12-08T00:14:43.105Z"
   },
   {
    "duration": 17,
    "start_time": "2021-12-08T00:14:59.552Z"
   },
   {
    "duration": 12,
    "start_time": "2021-12-08T00:15:38.770Z"
   },
   {
    "duration": 5,
    "start_time": "2021-12-08T00:24:09.027Z"
   },
   {
    "duration": 24,
    "start_time": "2021-12-08T00:25:18.055Z"
   },
   {
    "duration": 24,
    "start_time": "2021-12-08T00:25:32.497Z"
   },
   {
    "duration": 24,
    "start_time": "2021-12-08T00:25:40.065Z"
   },
   {
    "duration": 23,
    "start_time": "2021-12-08T00:26:23.266Z"
   },
   {
    "duration": 5,
    "start_time": "2021-12-08T00:26:30.586Z"
   },
   {
    "duration": 26,
    "start_time": "2021-12-08T00:26:33.361Z"
   },
   {
    "duration": 6,
    "start_time": "2021-12-08T00:30:39.053Z"
   },
   {
    "duration": 30,
    "start_time": "2021-12-08T00:30:49.291Z"
   },
   {
    "duration": 31,
    "start_time": "2021-12-08T00:31:25.960Z"
   },
   {
    "duration": 31,
    "start_time": "2021-12-08T00:35:00.962Z"
   },
   {
    "duration": 26,
    "start_time": "2021-12-08T00:35:04.606Z"
   },
   {
    "duration": 25,
    "start_time": "2021-12-08T00:35:07.142Z"
   },
   {
    "duration": 6,
    "start_time": "2021-12-08T00:36:48.984Z"
   },
   {
    "duration": 29,
    "start_time": "2021-12-08T00:36:55.573Z"
   },
   {
    "duration": 5,
    "start_time": "2021-12-08T00:37:43.285Z"
   },
   {
    "duration": 41,
    "start_time": "2021-12-08T00:37:47.333Z"
   },
   {
    "duration": 31,
    "start_time": "2021-12-08T00:39:40.010Z"
   },
   {
    "duration": 6,
    "start_time": "2021-12-08T00:40:25.738Z"
   },
   {
    "duration": 32,
    "start_time": "2021-12-08T00:40:38.259Z"
   },
   {
    "duration": 23,
    "start_time": "2021-12-08T00:40:52.127Z"
   },
   {
    "duration": 7,
    "start_time": "2021-12-08T00:42:35.311Z"
   },
   {
    "duration": 775,
    "start_time": "2021-12-08T00:42:38.705Z"
   },
   {
    "duration": 6,
    "start_time": "2021-12-08T00:42:54.964Z"
   },
   {
    "duration": 749,
    "start_time": "2021-12-08T00:42:57.769Z"
   },
   {
    "duration": 6,
    "start_time": "2021-12-08T00:43:36.132Z"
   },
   {
    "duration": 28,
    "start_time": "2021-12-08T00:43:39.986Z"
   },
   {
    "duration": 17,
    "start_time": "2021-12-08T00:44:03.409Z"
   },
   {
    "duration": 23,
    "start_time": "2021-12-08T00:44:12.673Z"
   },
   {
    "duration": 18,
    "start_time": "2021-12-08T00:44:17.662Z"
   },
   {
    "duration": 8,
    "start_time": "2021-12-08T00:45:29.441Z"
   },
   {
    "duration": 25,
    "start_time": "2021-12-08T00:45:33.337Z"
   },
   {
    "duration": 16,
    "start_time": "2021-12-08T00:45:36.996Z"
   },
   {
    "duration": 22,
    "start_time": "2021-12-08T00:45:39.676Z"
   },
   {
    "duration": 16,
    "start_time": "2021-12-08T00:45:41.860Z"
   },
   {
    "duration": 6,
    "start_time": "2021-12-08T00:47:00.114Z"
   },
   {
    "duration": 13,
    "start_time": "2021-12-08T00:47:15.782Z"
   },
   {
    "duration": 4,
    "start_time": "2021-12-08T00:48:11.525Z"
   },
   {
    "duration": 228,
    "start_time": "2021-12-08T00:48:11.532Z"
   },
   {
    "duration": 16,
    "start_time": "2021-12-08T00:48:11.763Z"
   },
   {
    "duration": 44,
    "start_time": "2021-12-08T00:48:11.782Z"
   },
   {
    "duration": 5,
    "start_time": "2021-12-08T00:48:11.828Z"
   },
   {
    "duration": 50,
    "start_time": "2021-12-08T00:48:11.835Z"
   },
   {
    "duration": 5,
    "start_time": "2021-12-08T00:48:11.888Z"
   },
   {
    "duration": 64,
    "start_time": "2021-12-08T00:48:11.895Z"
   },
   {
    "duration": 23,
    "start_time": "2021-12-08T00:48:11.963Z"
   },
   {
    "duration": 33,
    "start_time": "2021-12-08T00:48:11.989Z"
   },
   {
    "duration": 108,
    "start_time": "2021-12-08T00:48:12.024Z"
   },
   {
    "duration": 102,
    "start_time": "2021-12-08T00:48:12.135Z"
   },
   {
    "duration": 83,
    "start_time": "2021-12-08T00:48:12.240Z"
   },
   {
    "duration": 13,
    "start_time": "2021-12-08T00:48:12.326Z"
   },
   {
    "duration": 18,
    "start_time": "2021-12-08T00:48:12.341Z"
   },
   {
    "duration": 9,
    "start_time": "2021-12-08T00:48:12.361Z"
   },
   {
    "duration": 19,
    "start_time": "2021-12-08T00:48:12.372Z"
   },
   {
    "duration": 67,
    "start_time": "2021-12-08T00:48:12.393Z"
   },
   {
    "duration": 42,
    "start_time": "2021-12-08T00:48:12.463Z"
   },
   {
    "duration": 4,
    "start_time": "2021-12-08T00:48:12.508Z"
   },
   {
    "duration": 47,
    "start_time": "2021-12-08T00:48:12.514Z"
   },
   {
    "duration": 18,
    "start_time": "2021-12-08T00:48:12.564Z"
   },
   {
    "duration": 19,
    "start_time": "2021-12-08T00:48:12.585Z"
   },
   {
    "duration": 18,
    "start_time": "2021-12-08T00:48:12.606Z"
   },
   {
    "duration": 20,
    "start_time": "2021-12-08T00:48:12.658Z"
   },
   {
    "duration": 18,
    "start_time": "2021-12-08T00:48:12.681Z"
   },
   {
    "duration": 11,
    "start_time": "2021-12-08T00:48:12.704Z"
   },
   {
    "duration": 64,
    "start_time": "2021-12-08T00:48:12.717Z"
   },
   {
    "duration": 12,
    "start_time": "2021-12-08T00:48:12.784Z"
   },
   {
    "duration": 5,
    "start_time": "2021-12-08T00:48:12.799Z"
   },
   {
    "duration": 28,
    "start_time": "2021-12-08T00:48:12.806Z"
   },
   {
    "duration": 16,
    "start_time": "2021-12-08T00:48:12.860Z"
   },
   {
    "duration": 22,
    "start_time": "2021-12-08T00:48:12.878Z"
   },
   {
    "duration": 15,
    "start_time": "2021-12-08T00:48:12.902Z"
   },
   {
    "duration": 3,
    "start_time": "2021-12-08T00:48:12.919Z"
   },
   {
    "duration": 3,
    "start_time": "2021-12-08T00:48:12.959Z"
   },
   {
    "duration": 10,
    "start_time": "2021-12-08T00:48:12.964Z"
   },
   {
    "duration": 15,
    "start_time": "2021-12-08T00:48:12.976Z"
   },
   {
    "duration": 16,
    "start_time": "2021-12-08T00:48:56.427Z"
   },
   {
    "duration": 16,
    "start_time": "2021-12-08T00:49:09.026Z"
   },
   {
    "duration": 424,
    "start_time": "2021-12-08T00:57:51.065Z"
   },
   {
    "duration": 388,
    "start_time": "2021-12-08T00:58:28.411Z"
   },
   {
    "duration": 370,
    "start_time": "2021-12-08T00:58:50.284Z"
   },
   {
    "duration": 25,
    "start_time": "2021-12-08T01:00:25.633Z"
   },
   {
    "duration": 14,
    "start_time": "2021-12-08T01:00:43.048Z"
   },
   {
    "duration": 1075,
    "start_time": "2021-12-08T01:01:05.761Z"
   },
   {
    "duration": 532,
    "start_time": "2021-12-08T01:02:27.641Z"
   },
   {
    "duration": 376,
    "start_time": "2021-12-08T01:03:11.841Z"
   },
   {
    "duration": 386,
    "start_time": "2021-12-08T01:03:34.155Z"
   },
   {
    "duration": 394,
    "start_time": "2021-12-08T01:04:02.143Z"
   },
   {
    "duration": 387,
    "start_time": "2021-12-08T01:04:40.540Z"
   },
   {
    "duration": 387,
    "start_time": "2021-12-08T01:05:20.772Z"
   },
   {
    "duration": 822,
    "start_time": "2021-12-08T01:05:59.582Z"
   },
   {
    "duration": 412,
    "start_time": "2021-12-08T01:06:42.426Z"
   },
   {
    "duration": 30,
    "start_time": "2021-12-08T01:07:50.686Z"
   },
   {
    "duration": 15,
    "start_time": "2021-12-08T01:07:55.722Z"
   },
   {
    "duration": 14,
    "start_time": "2021-12-08T01:07:58.115Z"
   },
   {
    "duration": 33,
    "start_time": "2021-12-08T01:08:06.312Z"
   },
   {
    "duration": 15,
    "start_time": "2021-12-08T01:08:15.647Z"
   },
   {
    "duration": 3,
    "start_time": "2021-12-08T01:08:28.915Z"
   },
   {
    "duration": 198,
    "start_time": "2021-12-08T01:08:28.920Z"
   },
   {
    "duration": 16,
    "start_time": "2021-12-08T01:08:29.121Z"
   },
   {
    "duration": 47,
    "start_time": "2021-12-08T01:08:29.140Z"
   },
   {
    "duration": 5,
    "start_time": "2021-12-08T01:08:29.190Z"
   },
   {
    "duration": 25,
    "start_time": "2021-12-08T01:08:29.197Z"
   },
   {
    "duration": 38,
    "start_time": "2021-12-08T01:08:29.224Z"
   },
   {
    "duration": 30,
    "start_time": "2021-12-08T01:08:29.264Z"
   },
   {
    "duration": 22,
    "start_time": "2021-12-08T01:08:29.298Z"
   },
   {
    "duration": 59,
    "start_time": "2021-12-08T01:08:29.322Z"
   },
   {
    "duration": 96,
    "start_time": "2021-12-08T01:08:29.384Z"
   },
   {
    "duration": 99,
    "start_time": "2021-12-08T01:08:29.482Z"
   },
   {
    "duration": 78,
    "start_time": "2021-12-08T01:08:29.583Z"
   },
   {
    "duration": 14,
    "start_time": "2021-12-08T01:08:29.663Z"
   },
   {
    "duration": 3,
    "start_time": "2021-12-08T01:08:29.680Z"
   },
   {
    "duration": 11,
    "start_time": "2021-12-08T01:08:29.685Z"
   },
   {
    "duration": 19,
    "start_time": "2021-12-08T01:08:29.698Z"
   },
   {
    "duration": 78,
    "start_time": "2021-12-08T01:08:29.719Z"
   },
   {
    "duration": 60,
    "start_time": "2021-12-08T01:08:29.799Z"
   },
   {
    "duration": 5,
    "start_time": "2021-12-08T01:08:29.861Z"
   },
   {
    "duration": 27,
    "start_time": "2021-12-08T01:08:29.868Z"
   },
   {
    "duration": 18,
    "start_time": "2021-12-08T01:08:29.897Z"
   },
   {
    "duration": 51,
    "start_time": "2021-12-08T01:08:29.918Z"
   },
   {
    "duration": 17,
    "start_time": "2021-12-08T01:08:29.971Z"
   },
   {
    "duration": 21,
    "start_time": "2021-12-08T01:08:29.990Z"
   },
   {
    "duration": 54,
    "start_time": "2021-12-08T01:08:30.014Z"
   },
   {
    "duration": 18,
    "start_time": "2021-12-08T01:08:30.075Z"
   },
   {
    "duration": 26,
    "start_time": "2021-12-08T01:08:30.097Z"
   },
   {
    "duration": 41,
    "start_time": "2021-12-08T01:08:30.126Z"
   },
   {
    "duration": 7,
    "start_time": "2021-12-08T01:08:30.170Z"
   },
   {
    "duration": 33,
    "start_time": "2021-12-08T01:08:30.179Z"
   },
   {
    "duration": 18,
    "start_time": "2021-12-08T01:08:30.214Z"
   },
   {
    "duration": 23,
    "start_time": "2021-12-08T01:08:30.258Z"
   },
   {
    "duration": 16,
    "start_time": "2021-12-08T01:08:30.284Z"
   },
   {
    "duration": 12,
    "start_time": "2021-12-08T01:08:30.303Z"
   },
   {
    "duration": 44,
    "start_time": "2021-12-08T01:08:30.317Z"
   },
   {
    "duration": 5,
    "start_time": "2021-12-08T01:08:30.364Z"
   },
   {
    "duration": 5,
    "start_time": "2021-12-08T01:08:30.371Z"
   },
   {
    "duration": 14,
    "start_time": "2021-12-08T01:08:51.086Z"
   },
   {
    "duration": 381,
    "start_time": "2021-12-08T01:09:07.254Z"
   },
   {
    "duration": 15,
    "start_time": "2021-12-08T01:09:26.896Z"
   },
   {
    "duration": 15,
    "start_time": "2021-12-08T01:09:34.697Z"
   },
   {
    "duration": 14,
    "start_time": "2021-12-08T01:09:49.834Z"
   },
   {
    "duration": 15,
    "start_time": "2021-12-08T01:10:07.956Z"
   },
   {
    "duration": 15,
    "start_time": "2021-12-08T01:10:36.817Z"
   },
   {
    "duration": 14,
    "start_time": "2021-12-08T01:10:39.477Z"
   },
   {
    "duration": 6,
    "start_time": "2021-12-08T01:10:55.426Z"
   },
   {
    "duration": 12,
    "start_time": "2021-12-08T01:11:17.477Z"
   },
   {
    "duration": 6,
    "start_time": "2021-12-08T01:11:22.740Z"
   },
   {
    "duration": 21,
    "start_time": "2021-12-08T01:11:40.108Z"
   },
   {
    "duration": 7,
    "start_time": "2021-12-08T01:11:43.545Z"
   },
   {
    "duration": 16,
    "start_time": "2021-12-08T01:12:01.085Z"
   },
   {
    "duration": 11,
    "start_time": "2021-12-08T01:12:04.739Z"
   },
   {
    "duration": 6,
    "start_time": "2021-12-08T01:12:07.497Z"
   },
   {
    "duration": 9,
    "start_time": "2021-12-08T01:13:37.601Z"
   },
   {
    "duration": 7,
    "start_time": "2021-12-08T01:13:57.824Z"
   },
   {
    "duration": 3,
    "start_time": "2021-12-08T01:19:11.277Z"
   },
   {
    "duration": 194,
    "start_time": "2021-12-08T01:19:11.283Z"
   },
   {
    "duration": 16,
    "start_time": "2021-12-08T01:19:11.480Z"
   },
   {
    "duration": 30,
    "start_time": "2021-12-08T01:19:11.499Z"
   },
   {
    "duration": 30,
    "start_time": "2021-12-08T01:19:11.531Z"
   },
   {
    "duration": 25,
    "start_time": "2021-12-08T01:19:11.564Z"
   },
   {
    "duration": 5,
    "start_time": "2021-12-08T01:19:11.592Z"
   },
   {
    "duration": 66,
    "start_time": "2021-12-08T01:19:11.599Z"
   },
   {
    "duration": 22,
    "start_time": "2021-12-08T01:19:11.669Z"
   },
   {
    "duration": 30,
    "start_time": "2021-12-08T01:19:11.695Z"
   },
   {
    "duration": 105,
    "start_time": "2021-12-08T01:19:11.728Z"
   },
   {
    "duration": 101,
    "start_time": "2021-12-08T01:19:11.835Z"
   },
   {
    "duration": 83,
    "start_time": "2021-12-08T01:19:11.939Z"
   },
   {
    "duration": 13,
    "start_time": "2021-12-08T01:19:12.024Z"
   },
   {
    "duration": 19,
    "start_time": "2021-12-08T01:19:12.040Z"
   },
   {
    "duration": 10,
    "start_time": "2021-12-08T01:19:12.062Z"
   },
   {
    "duration": 16,
    "start_time": "2021-12-08T01:19:12.074Z"
   },
   {
    "duration": 71,
    "start_time": "2021-12-08T01:19:12.092Z"
   },
   {
    "duration": 44,
    "start_time": "2021-12-08T01:19:12.165Z"
   },
   {
    "duration": 5,
    "start_time": "2021-12-08T01:19:12.211Z"
   },
   {
    "duration": 49,
    "start_time": "2021-12-08T01:19:12.218Z"
   },
   {
    "duration": 19,
    "start_time": "2021-12-08T01:19:12.270Z"
   },
   {
    "duration": 19,
    "start_time": "2021-12-08T01:19:12.291Z"
   },
   {
    "duration": 49,
    "start_time": "2021-12-08T01:19:12.312Z"
   },
   {
    "duration": 21,
    "start_time": "2021-12-08T01:19:12.363Z"
   },
   {
    "duration": 18,
    "start_time": "2021-12-08T01:19:12.387Z"
   },
   {
    "duration": 12,
    "start_time": "2021-12-08T01:19:12.410Z"
   },
   {
    "duration": 48,
    "start_time": "2021-12-08T01:19:12.424Z"
   },
   {
    "duration": 13,
    "start_time": "2021-12-08T01:19:12.474Z"
   },
   {
    "duration": 6,
    "start_time": "2021-12-08T01:19:12.490Z"
   },
   {
    "duration": 32,
    "start_time": "2021-12-08T01:19:12.498Z"
   },
   {
    "duration": 41,
    "start_time": "2021-12-08T01:19:12.532Z"
   },
   {
    "duration": 21,
    "start_time": "2021-12-08T01:19:12.576Z"
   },
   {
    "duration": 15,
    "start_time": "2021-12-08T01:19:12.599Z"
   },
   {
    "duration": 43,
    "start_time": "2021-12-08T01:19:12.616Z"
   },
   {
    "duration": 6,
    "start_time": "2021-12-08T01:19:12.662Z"
   },
   {
    "duration": 13,
    "start_time": "2021-12-08T01:19:12.670Z"
   },
   {
    "duration": 7,
    "start_time": "2021-12-08T01:19:12.685Z"
   },
   {
    "duration": 15,
    "start_time": "2021-12-08T01:25:41.369Z"
   },
   {
    "duration": 14,
    "start_time": "2021-12-08T01:26:34.111Z"
   },
   {
    "duration": 4,
    "start_time": "2021-12-08T01:26:48.673Z"
   },
   {
    "duration": 196,
    "start_time": "2021-12-08T01:26:48.679Z"
   },
   {
    "duration": 15,
    "start_time": "2021-12-08T01:26:48.878Z"
   },
   {
    "duration": 32,
    "start_time": "2021-12-08T01:26:48.895Z"
   },
   {
    "duration": 29,
    "start_time": "2021-12-08T01:26:48.930Z"
   },
   {
    "duration": 24,
    "start_time": "2021-12-08T01:26:48.962Z"
   },
   {
    "duration": 5,
    "start_time": "2021-12-08T01:26:48.991Z"
   },
   {
    "duration": 66,
    "start_time": "2021-12-08T01:26:49.000Z"
   },
   {
    "duration": 23,
    "start_time": "2021-12-08T01:26:49.068Z"
   },
   {
    "duration": 30,
    "start_time": "2021-12-08T01:26:49.094Z"
   },
   {
    "duration": 110,
    "start_time": "2021-12-08T01:26:49.127Z"
   },
   {
    "duration": 103,
    "start_time": "2021-12-08T01:26:49.239Z"
   },
   {
    "duration": 82,
    "start_time": "2021-12-08T01:26:49.345Z"
   },
   {
    "duration": 30,
    "start_time": "2021-12-08T01:26:49.429Z"
   },
   {
    "duration": 4,
    "start_time": "2021-12-08T01:26:49.462Z"
   },
   {
    "duration": 10,
    "start_time": "2021-12-08T01:26:49.468Z"
   },
   {
    "duration": 21,
    "start_time": "2021-12-08T01:26:49.480Z"
   },
   {
    "duration": 15,
    "start_time": "2021-12-08T01:26:49.503Z"
   },
   {
    "duration": 46,
    "start_time": "2021-12-08T01:26:49.522Z"
   },
   {
    "duration": 4,
    "start_time": "2021-12-08T01:26:49.571Z"
   },
   {
    "duration": 25,
    "start_time": "2021-12-08T01:26:49.578Z"
   },
   {
    "duration": 19,
    "start_time": "2021-12-08T01:26:49.605Z"
   },
   {
    "duration": 21,
    "start_time": "2021-12-08T01:26:49.658Z"
   },
   {
    "duration": 18,
    "start_time": "2021-12-08T01:26:49.681Z"
   },
   {
    "duration": 20,
    "start_time": "2021-12-08T01:26:49.702Z"
   },
   {
    "duration": 48,
    "start_time": "2021-12-08T01:26:49.725Z"
   },
   {
    "duration": 13,
    "start_time": "2021-12-08T01:26:49.775Z"
   },
   {
    "duration": 18,
    "start_time": "2021-12-08T01:26:49.790Z"
   },
   {
    "duration": 48,
    "start_time": "2021-12-08T01:26:49.811Z"
   },
   {
    "duration": 6,
    "start_time": "2021-12-08T01:26:49.862Z"
   },
   {
    "duration": 34,
    "start_time": "2021-12-08T01:26:49.870Z"
   },
   {
    "duration": 18,
    "start_time": "2021-12-08T01:26:49.906Z"
   },
   {
    "duration": 50,
    "start_time": "2021-12-08T01:26:49.927Z"
   },
   {
    "duration": 18,
    "start_time": "2021-12-08T01:26:49.980Z"
   },
   {
    "duration": 13,
    "start_time": "2021-12-08T01:26:50.001Z"
   },
   {
    "duration": 47,
    "start_time": "2021-12-08T01:26:50.016Z"
   },
   {
    "duration": 10,
    "start_time": "2021-12-08T01:26:50.066Z"
   },
   {
    "duration": 7,
    "start_time": "2021-12-08T01:26:50.079Z"
   },
   {
    "duration": 15,
    "start_time": "2021-12-08T01:28:14.535Z"
   },
   {
    "duration": 13,
    "start_time": "2021-12-08T01:28:21.266Z"
   },
   {
    "duration": 7,
    "start_time": "2021-12-08T01:29:23.754Z"
   },
   {
    "duration": 7,
    "start_time": "2021-12-08T01:29:54.846Z"
   },
   {
    "duration": 16,
    "start_time": "2021-12-08T01:30:15.860Z"
   },
   {
    "duration": 16,
    "start_time": "2021-12-08T01:30:22.681Z"
   },
   {
    "duration": 21,
    "start_time": "2021-12-08T01:33:07.117Z"
   },
   {
    "duration": 4,
    "start_time": "2021-12-08T01:36:43.373Z"
   },
   {
    "duration": 190,
    "start_time": "2021-12-08T01:36:43.384Z"
   },
   {
    "duration": 15,
    "start_time": "2021-12-08T01:36:43.577Z"
   },
   {
    "duration": 32,
    "start_time": "2021-12-08T01:36:43.596Z"
   },
   {
    "duration": 4,
    "start_time": "2021-12-08T01:36:43.631Z"
   },
   {
    "duration": 38,
    "start_time": "2021-12-08T01:36:43.638Z"
   },
   {
    "duration": 5,
    "start_time": "2021-12-08T01:36:43.679Z"
   },
   {
    "duration": 36,
    "start_time": "2021-12-08T01:36:43.687Z"
   },
   {
    "duration": 24,
    "start_time": "2021-12-08T01:36:43.726Z"
   },
   {
    "duration": 33,
    "start_time": "2021-12-08T01:36:43.761Z"
   },
   {
    "duration": 91,
    "start_time": "2021-12-08T01:36:43.798Z"
   },
   {
    "duration": 111,
    "start_time": "2021-12-08T01:36:43.891Z"
   },
   {
    "duration": 76,
    "start_time": "2021-12-08T01:36:44.004Z"
   },
   {
    "duration": 14,
    "start_time": "2021-12-08T01:36:44.083Z"
   },
   {
    "duration": 4,
    "start_time": "2021-12-08T01:36:44.099Z"
   },
   {
    "duration": 15,
    "start_time": "2021-12-08T01:36:44.106Z"
   },
   {
    "duration": 21,
    "start_time": "2021-12-08T01:36:44.123Z"
   },
   {
    "duration": 15,
    "start_time": "2021-12-08T01:36:44.146Z"
   },
   {
    "duration": 14,
    "start_time": "2021-12-08T01:36:44.163Z"
   },
   {
    "duration": 5,
    "start_time": "2021-12-08T01:36:44.179Z"
   },
   {
    "duration": 25,
    "start_time": "2021-12-08T01:36:44.187Z"
   },
   {
    "duration": 18,
    "start_time": "2021-12-08T01:36:44.215Z"
   },
   {
    "duration": 26,
    "start_time": "2021-12-08T01:36:45.095Z"
   },
   {
    "duration": 37,
    "start_time": "2021-12-08T01:36:45.123Z"
   },
   {
    "duration": 21,
    "start_time": "2021-12-08T01:36:45.163Z"
   },
   {
    "duration": 18,
    "start_time": "2021-12-08T01:36:45.187Z"
   },
   {
    "duration": 61,
    "start_time": "2021-12-08T01:36:45.207Z"
   },
   {
    "duration": 17,
    "start_time": "2021-12-08T01:36:45.270Z"
   },
   {
    "duration": 14,
    "start_time": "2021-12-08T01:36:45.289Z"
   },
   {
    "duration": 6,
    "start_time": "2021-12-08T01:36:45.361Z"
   },
   {
    "duration": 30,
    "start_time": "2021-12-08T01:36:45.369Z"
   },
   {
    "duration": 66,
    "start_time": "2021-12-08T01:36:45.401Z"
   },
   {
    "duration": 22,
    "start_time": "2021-12-08T01:36:45.469Z"
   },
   {
    "duration": 65,
    "start_time": "2021-12-08T01:36:45.493Z"
   },
   {
    "duration": 11,
    "start_time": "2021-12-08T01:36:45.560Z"
   },
   {
    "duration": 7,
    "start_time": "2021-12-08T01:36:45.573Z"
   },
   {
    "duration": 8,
    "start_time": "2021-12-08T01:36:45.583Z"
   },
   {
    "duration": 6,
    "start_time": "2021-12-08T01:36:45.594Z"
   },
   {
    "duration": 3,
    "start_time": "2021-12-08T01:40:16.808Z"
   },
   {
    "duration": 189,
    "start_time": "2021-12-08T01:40:16.814Z"
   },
   {
    "duration": 16,
    "start_time": "2021-12-08T01:40:17.006Z"
   },
   {
    "duration": 51,
    "start_time": "2021-12-08T01:40:17.025Z"
   },
   {
    "duration": 6,
    "start_time": "2021-12-08T01:40:17.078Z"
   },
   {
    "duration": 25,
    "start_time": "2021-12-08T01:40:17.086Z"
   },
   {
    "duration": 5,
    "start_time": "2021-12-08T01:40:17.114Z"
   },
   {
    "duration": 65,
    "start_time": "2021-12-08T01:40:17.122Z"
   },
   {
    "duration": 21,
    "start_time": "2021-12-08T01:40:17.191Z"
   },
   {
    "duration": 50,
    "start_time": "2021-12-08T01:40:17.215Z"
   },
   {
    "duration": 94,
    "start_time": "2021-12-08T01:40:17.267Z"
   },
   {
    "duration": 111,
    "start_time": "2021-12-08T01:40:17.364Z"
   },
   {
    "duration": 71,
    "start_time": "2021-12-08T01:40:17.477Z"
   },
   {
    "duration": 13,
    "start_time": "2021-12-08T01:40:17.559Z"
   },
   {
    "duration": 4,
    "start_time": "2021-12-08T01:40:17.575Z"
   },
   {
    "duration": 11,
    "start_time": "2021-12-08T01:40:17.581Z"
   },
   {
    "duration": 17,
    "start_time": "2021-12-08T01:40:17.594Z"
   },
   {
    "duration": 51,
    "start_time": "2021-12-08T01:40:17.613Z"
   },
   {
    "duration": 13,
    "start_time": "2021-12-08T01:40:17.666Z"
   },
   {
    "duration": 4,
    "start_time": "2021-12-08T01:40:17.682Z"
   },
   {
    "duration": 24,
    "start_time": "2021-12-08T01:40:17.688Z"
   },
   {
    "duration": 55,
    "start_time": "2021-12-08T01:40:17.715Z"
   },
   {
    "duration": 19,
    "start_time": "2021-12-08T01:40:17.772Z"
   },
   {
    "duration": 18,
    "start_time": "2021-12-08T01:40:17.793Z"
   },
   {
    "duration": 54,
    "start_time": "2021-12-08T01:40:17.813Z"
   },
   {
    "duration": 19,
    "start_time": "2021-12-08T01:40:17.869Z"
   },
   {
    "duration": 13,
    "start_time": "2021-12-08T01:40:17.893Z"
   },
   {
    "duration": 50,
    "start_time": "2021-12-08T01:40:17.909Z"
   },
   {
    "duration": 14,
    "start_time": "2021-12-08T01:40:17.962Z"
   },
   {
    "duration": 6,
    "start_time": "2021-12-08T01:40:17.978Z"
   },
   {
    "duration": 31,
    "start_time": "2021-12-08T01:40:17.986Z"
   },
   {
    "duration": 41,
    "start_time": "2021-12-08T01:40:18.019Z"
   },
   {
    "duration": 22,
    "start_time": "2021-12-08T01:40:18.063Z"
   },
   {
    "duration": 16,
    "start_time": "2021-12-08T01:40:18.088Z"
   },
   {
    "duration": 10,
    "start_time": "2021-12-08T01:40:18.106Z"
   },
   {
    "duration": 40,
    "start_time": "2021-12-08T01:40:18.119Z"
   },
   {
    "duration": 8,
    "start_time": "2021-12-08T01:40:18.161Z"
   },
   {
    "duration": 5,
    "start_time": "2021-12-08T01:40:18.172Z"
   },
   {
    "duration": 5,
    "start_time": "2021-12-08T20:22:26.438Z"
   },
   {
    "duration": 673,
    "start_time": "2021-12-08T20:22:34.618Z"
   },
   {
    "duration": 792,
    "start_time": "2021-12-08T20:22:49.405Z"
   },
   {
    "duration": 189,
    "start_time": "2021-12-08T20:22:50.200Z"
   },
   {
    "duration": 25,
    "start_time": "2021-12-08T20:22:50.392Z"
   },
   {
    "duration": 38,
    "start_time": "2021-12-08T20:22:50.420Z"
   },
   {
    "duration": 10,
    "start_time": "2021-12-08T20:22:50.461Z"
   },
   {
    "duration": 29,
    "start_time": "2021-12-08T20:22:50.473Z"
   },
   {
    "duration": 10,
    "start_time": "2021-12-08T20:22:50.505Z"
   },
   {
    "duration": 34,
    "start_time": "2021-12-08T20:22:50.518Z"
   },
   {
    "duration": 23,
    "start_time": "2021-12-08T20:22:50.556Z"
   },
   {
    "duration": 32,
    "start_time": "2021-12-08T20:22:50.582Z"
   },
   {
    "duration": 93,
    "start_time": "2021-12-08T20:22:50.616Z"
   },
   {
    "duration": 112,
    "start_time": "2021-12-08T20:22:50.711Z"
   },
   {
    "duration": 82,
    "start_time": "2021-12-08T20:22:50.825Z"
   },
   {
    "duration": 14,
    "start_time": "2021-12-08T20:22:50.909Z"
   },
   {
    "duration": 4,
    "start_time": "2021-12-08T20:22:50.925Z"
   },
   {
    "duration": 24,
    "start_time": "2021-12-08T20:22:50.931Z"
   },
   {
    "duration": 22,
    "start_time": "2021-12-08T20:22:50.957Z"
   },
   {
    "duration": 15,
    "start_time": "2021-12-08T20:22:50.981Z"
   },
   {
    "duration": 14,
    "start_time": "2021-12-08T20:22:50.998Z"
   },
   {
    "duration": 4,
    "start_time": "2021-12-08T20:22:51.015Z"
   },
   {
    "duration": 35,
    "start_time": "2021-12-08T20:22:51.022Z"
   },
   {
    "duration": 21,
    "start_time": "2021-12-08T20:22:51.059Z"
   },
   {
    "duration": 41,
    "start_time": "2021-12-08T20:22:51.083Z"
   },
   {
    "duration": 22,
    "start_time": "2021-12-08T20:22:51.127Z"
   },
   {
    "duration": 22,
    "start_time": "2021-12-08T20:22:51.151Z"
   },
   {
    "duration": 21,
    "start_time": "2021-12-08T20:22:51.175Z"
   },
   {
    "duration": 13,
    "start_time": "2021-12-08T20:22:51.200Z"
   },
   {
    "duration": 17,
    "start_time": "2021-12-08T20:22:51.215Z"
   },
   {
    "duration": 12,
    "start_time": "2021-12-08T20:22:51.235Z"
   },
   {
    "duration": 24,
    "start_time": "2021-12-08T20:22:51.250Z"
   },
   {
    "duration": 53,
    "start_time": "2021-12-08T20:22:51.276Z"
   },
   {
    "duration": 17,
    "start_time": "2021-12-08T20:22:51.332Z"
   },
   {
    "duration": 27,
    "start_time": "2021-12-08T20:22:51.352Z"
   },
   {
    "duration": 17,
    "start_time": "2021-12-08T20:22:51.381Z"
   },
   {
    "duration": 10,
    "start_time": "2021-12-08T20:22:51.400Z"
   },
   {
    "duration": 13,
    "start_time": "2021-12-08T20:22:51.413Z"
   },
   {
    "duration": 10,
    "start_time": "2021-12-08T20:22:51.429Z"
   },
   {
    "duration": 7,
    "start_time": "2021-12-08T20:22:51.442Z"
   },
   {
    "duration": 4,
    "start_time": "2021-12-08T20:23:11.828Z"
   },
   {
    "duration": 9,
    "start_time": "2021-12-08T20:23:16.726Z"
   },
   {
    "duration": 4,
    "start_time": "2021-12-08T20:25:16.255Z"
   },
   {
    "duration": 11,
    "start_time": "2021-12-08T20:25:19.510Z"
   },
   {
    "duration": 14,
    "start_time": "2021-12-08T20:25:22.578Z"
   },
   {
    "duration": 4,
    "start_time": "2021-12-08T20:26:16.084Z"
   },
   {
    "duration": 12,
    "start_time": "2021-12-08T20:26:24.139Z"
   },
   {
    "duration": 15,
    "start_time": "2021-12-08T20:26:34.208Z"
   },
   {
    "duration": 6,
    "start_time": "2021-12-08T20:28:42.975Z"
   },
   {
    "duration": 625,
    "start_time": "2021-12-08T20:28:47.901Z"
   },
   {
    "duration": 4,
    "start_time": "2021-12-08T20:29:39.534Z"
   },
   {
    "duration": 494,
    "start_time": "2021-12-08T20:29:51.667Z"
   },
   {
    "duration": 4,
    "start_time": "2021-12-08T20:29:57.904Z"
   },
   {
    "duration": 28,
    "start_time": "2021-12-08T20:30:01.194Z"
   },
   {
    "duration": 5,
    "start_time": "2021-12-08T20:30:44.871Z"
   },
   {
    "duration": 538,
    "start_time": "2021-12-08T20:30:55.036Z"
   },
   {
    "duration": 4,
    "start_time": "2021-12-08T20:32:12.011Z"
   },
   {
    "duration": 696,
    "start_time": "2021-12-08T20:32:16.915Z"
   },
   {
    "duration": 4,
    "start_time": "2021-12-08T20:35:04.959Z"
   },
   {
    "duration": 14,
    "start_time": "2021-12-08T20:35:10.429Z"
   },
   {
    "duration": 14,
    "start_time": "2021-12-08T20:35:13.935Z"
   },
   {
    "duration": 4,
    "start_time": "2021-12-08T20:37:52.643Z"
   },
   {
    "duration": 14,
    "start_time": "2021-12-08T20:37:58.282Z"
   },
   {
    "duration": 16,
    "start_time": "2021-12-08T20:38:00.880Z"
   },
   {
    "duration": 4,
    "start_time": "2021-12-08T20:57:59.529Z"
   },
   {
    "duration": 3,
    "start_time": "2021-12-08T20:58:10.830Z"
   },
   {
    "duration": 226,
    "start_time": "2021-12-08T20:58:10.836Z"
   },
   {
    "duration": 15,
    "start_time": "2021-12-08T20:58:11.068Z"
   },
   {
    "duration": 33,
    "start_time": "2021-12-08T20:58:11.086Z"
   },
   {
    "duration": 11,
    "start_time": "2021-12-08T20:58:11.122Z"
   },
   {
    "duration": 52,
    "start_time": "2021-12-08T20:58:11.135Z"
   },
   {
    "duration": 8,
    "start_time": "2021-12-08T20:58:11.189Z"
   },
   {
    "duration": 55,
    "start_time": "2021-12-08T20:58:11.200Z"
   },
   {
    "duration": 24,
    "start_time": "2021-12-08T20:58:11.259Z"
   },
   {
    "duration": 31,
    "start_time": "2021-12-08T20:58:11.286Z"
   },
   {
    "duration": 117,
    "start_time": "2021-12-08T20:58:11.320Z"
   },
   {
    "duration": 112,
    "start_time": "2021-12-08T20:58:11.439Z"
   },
   {
    "duration": 89,
    "start_time": "2021-12-08T20:58:11.554Z"
   },
   {
    "duration": 29,
    "start_time": "2021-12-08T20:58:11.646Z"
   },
   {
    "duration": 9,
    "start_time": "2021-12-08T20:58:11.678Z"
   },
   {
    "duration": 25,
    "start_time": "2021-12-08T20:58:11.690Z"
   },
   {
    "duration": 20,
    "start_time": "2021-12-08T20:58:11.718Z"
   },
   {
    "duration": 37,
    "start_time": "2021-12-08T20:58:11.741Z"
   },
   {
    "duration": 16,
    "start_time": "2021-12-08T20:58:11.781Z"
   },
   {
    "duration": 4,
    "start_time": "2021-12-08T20:58:11.800Z"
   },
   {
    "duration": 61,
    "start_time": "2021-12-08T20:58:11.807Z"
   },
   {
    "duration": 20,
    "start_time": "2021-12-08T20:58:11.871Z"
   },
   {
    "duration": 21,
    "start_time": "2021-12-08T20:58:11.896Z"
   },
   {
    "duration": 52,
    "start_time": "2021-12-08T20:58:11.920Z"
   },
   {
    "duration": 22,
    "start_time": "2021-12-08T20:58:11.975Z"
   },
   {
    "duration": 21,
    "start_time": "2021-12-08T20:58:11.999Z"
   },
   {
    "duration": 12,
    "start_time": "2021-12-08T20:58:12.022Z"
   },
   {
    "duration": 17,
    "start_time": "2021-12-08T20:58:12.067Z"
   },
   {
    "duration": 13,
    "start_time": "2021-12-08T20:58:12.086Z"
   },
   {
    "duration": 6,
    "start_time": "2021-12-08T20:58:12.101Z"
   },
   {
    "duration": 64,
    "start_time": "2021-12-08T20:58:12.110Z"
   },
   {
    "duration": 17,
    "start_time": "2021-12-08T20:58:12.176Z"
   },
   {
    "duration": 31,
    "start_time": "2021-12-08T20:58:12.195Z"
   },
   {
    "duration": 40,
    "start_time": "2021-12-08T20:58:12.228Z"
   },
   {
    "duration": 11,
    "start_time": "2021-12-08T20:58:12.271Z"
   },
   {
    "duration": 21,
    "start_time": "2021-12-08T20:58:12.284Z"
   },
   {
    "duration": 27,
    "start_time": "2021-12-08T20:58:12.307Z"
   },
   {
    "duration": 13,
    "start_time": "2021-12-08T20:58:12.336Z"
   }
  ],
  "colab": {
   "collapsed_sections": [
    "E0vqbgi9ay0H",
    "VUC88oWjTJw2"
   ],
   "name": "yandex_music_project_2021.2.ipynb",
   "provenance": []
  },
  "kernelspec": {
   "display_name": "Python 3 (ipykernel)",
   "language": "python",
   "name": "python3"
  },
  "language_info": {
   "codemirror_mode": {
    "name": "ipython",
    "version": 3
   },
   "file_extension": ".py",
   "mimetype": "text/x-python",
   "name": "python",
   "nbconvert_exporter": "python",
   "pygments_lexer": "ipython3",
   "version": "3.9.7"
  },
  "toc": {
   "base_numbering": 1,
   "nav_menu": {},
   "number_sections": true,
   "sideBar": true,
   "skip_h1_title": true,
   "title_cell": "Table of Contents",
   "title_sidebar": "Contents",
   "toc_cell": false,
   "toc_position": {
    "height": "calc(100% - 180px)",
    "left": "10px",
    "top": "150px",
    "width": "165px"
   },
   "toc_section_display": true,
   "toc_window_display": true
  }
 },
 "nbformat": 4,
 "nbformat_minor": 1
}
