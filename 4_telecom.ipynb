{
 "cells": [
  {
   "cell_type": "markdown",
   "id": "7f193c64",
   "metadata": {},
   "source": [
    "# Исследование тарифных планов.\n",
    "\n",
    "**Заказчик** — федеральный оператор сотовой связи «Мегалайн».\n",
    "\n",
    "**Входные данные** - информация о 500 пользователях «Мегалайна»: кто они, откуда, каким тарифом пользуются, сколько звонков и сообщений каждый отправил за 2018 год. \n",
    "\n",
    " \n",
    "**Цель исследования**:  сделать предварительный анализ тарифов оператора связи и сделать вывод — какой тариф приносит больше прибыли. Клиентам предлагают два тарифных плана: «Смарт» и «Ультра». Чтобы скорректировать рекламный бюджет, коммерческий департамент хочет понять, какой тариф приносит больше денег.\n",
    "\n",
    "Описание тарифов:\n",
    "\n",
    "- Тариф «Смарт»\n",
    "\n",
    "    Ежемесячная плата: 550 рублей\n",
    "\n",
    "    Включено 500 минут разговора, 50 сообщений и 15 Гб интернет-трафика\n",
    "\n",
    "    Стоимость услуг сверх тарифного пакета: \n",
    "    1. минута разговора: 3 рубля («Мегалайн» всегда округляет вверх значения минут и мегабайтов. Если пользователь проговорил всего 1 секунду, в тарифе засчитывается целая минута); \n",
    "    2. сообщение: 3 рубля; \n",
    "    3. 1 Гб интернет-трафика: 200 рублей.\n",
    "    \n",
    "\n",
    "- Тариф «Ультра»\n",
    "\n",
    "    Ежемесячная плата: 1950 рублей\n",
    "    \n",
    "    Включено 3000 минут разговора, 1000 сообщений и 30 Гб интернет-трафика\n",
    "    \n",
    "    Стоимость услуг сверх тарифного пакета: \n",
    "    1. минута разговора: 1 рубль; \n",
    "    2. сообщение: 1 рубль;\n",
    "    3. 1 Гб интернет-трафика: 150 рублей.\n",
    "    \n",
    "\n",
    "**Ход исследования**\n",
    "\n",
    " 1. Обзор данных.\n",
    " 2. Предобработка данных.\n",
    " 3. Анализ и описание данных\n",
    " 4. Проверка гипотез и пояснения\n",
    " 5. Общий вывод"
   ]
  },
  {
   "cell_type": "markdown",
   "id": "7b091036",
   "metadata": {},
   "source": [
    "## 1. Обзор и предобработка данных\n",
    "\n",
    "Заказчик предоставил данные в следующих таблицах:\n",
    "\n",
    "Таблица **users** (информация о пользователях):\n",
    "\n",
    "- user_id — уникальный идентификатор пользователя\n",
    "\n",
    "- first_name — имя пользователя\n",
    "\n",
    "- last_name — фамилия пользователя\n",
    "\n",
    "- age — возраст пользователя (годы)\n",
    "\n",
    "- reg_date — дата подключения тарифа (день, месяц, год)\n",
    "\n",
    "- churn_date — дата прекращения пользования тарифом (если значение пропущено, то тариф ещё действовал на момент выгрузки данных)\n",
    "\n",
    "- city — город проживания пользователя\n",
    "\n",
    "- tarif — название тарифного плана\n",
    "\n",
    "Таблица **calls** (информация о звонках):\n",
    "\n",
    "- id — уникальный номер звонка\n",
    "\n",
    "- call_date — дата звонка\n",
    "\n",
    "- duration — длительность звонка в минутах\n",
    "\n",
    "- user_id — идентификатор пользователя, сделавшего звонок\n",
    "\n",
    "Таблица **messages** (информация о сообщениях):\n",
    "\n",
    "- id — уникальный номер звонка\n",
    "\n",
    "- message_date — дата сообщения\n",
    "\n",
    "- user_id — идентификатор пользователя, отправившего сообщение\n",
    "\n",
    "Таблица **internet** (информация об интернет-сессиях):\n",
    "\n",
    "- id — уникальный номер сессии\n",
    "\n",
    "- mb_used — объём потраченного за сессию интернет-трафика (в мегабайтах)\n",
    "\n",
    "- session_date — дата интернет-сессии\n",
    "\n",
    "- user_id — идентификатор пользователя\n",
    "\n",
    "Таблица **tariffs** (информация о тарифах):\n",
    "\n",
    "- tariff_name — название тарифа\n",
    "\n",
    "- rub_monthly_fee — ежемесячная абонентская плата в рублях\n",
    "\n",
    "- minutes_included — количество минут разговора в месяц, включённых в абонентскую плату\n",
    "\n",
    "- messages_included — количество сообщений в месяц, включённых в абонентскую плату\n",
    "\n",
    "- mb_per_month_included — объём интернет-трафика, включённого в абонентскую плату (в мегабайтах)\n",
    "\n",
    "- rub_per_minute — стоимость минуты разговора сверх тарифного пакета (например, если в тарифе 100 минут разговора в месяц, то со 101 минуты будет взиматься плата)\n",
    "\n",
    "- rub_per_message — стоимость отправки сообщения сверх тарифного пакета\n",
    "\n",
    "- rub_per_gb — стоимость дополнительного гигабайта интернет-трафика сверх тарифного пакета (1 гигабайт = 1024 мегабайта)"
   ]
  },
  {
   "cell_type": "code",
   "execution_count": 1,
   "id": "7c2ae16b",
   "metadata": {},
   "outputs": [],
   "source": [
    "# импорт библиотеки pandas\n",
    "import pandas as pd\n",
    "# импорт библиотеки matplotlib для работы с графиками \n",
    "import matplotlib.pyplot as plt\n",
    "# импорт math для выполнения математических операций\n",
    "import math\n",
    "# импорт stats и numpy для проверки гипотез \n",
    "from scipy import stats as st \n",
    "import numpy as np"
   ]
  },
  {
   "cell_type": "code",
   "execution_count": 2,
   "id": "916b2aeb",
   "metadata": {},
   "outputs": [],
   "source": [
    "# чтение файла с данными и сохранение в переменную data\n",
    "#tariffs = pd.read_csv('/Users/larinav/Downloads/tariffs.csv')\n",
    "#users = pd.read_csv('/Users/larinav/Downloads/users.csv')\n",
    "#internet = pd.read_csv('/Users/larinav/Downloads/internet.csv')\n",
    "#messages = pd.read_csv('/Users/larinav/Downloads/messages.csv')\n",
    "#calls = pd.read_csv('/Users/larinav/Downloads/calls.csv')\n",
    "\n",
    "tariffs = pd.read_csv('/datasets/tariffs.csv')\n",
    "users = pd.read_csv('/datasets/users.csv')\n",
    "internet = pd.read_csv('/datasets/internet.csv',index_col=0)\n",
    "messages = pd.read_csv('/datasets/messages.csv')\n",
    "calls = pd.read_csv('/datasets/calls.csv')\n",
    "\n"
   ]
  },
  {
   "cell_type": "markdown",
   "id": "6565d443",
   "metadata": {},
   "source": [
    "### 1.1 Таблица tariffs"
   ]
  },
  {
   "cell_type": "code",
   "execution_count": 3,
   "id": "387d686c",
   "metadata": {},
   "outputs": [
    {
     "data": {
      "text/html": [
       "<div>\n",
       "<style scoped>\n",
       "    .dataframe tbody tr th:only-of-type {\n",
       "        vertical-align: middle;\n",
       "    }\n",
       "\n",
       "    .dataframe tbody tr th {\n",
       "        vertical-align: top;\n",
       "    }\n",
       "\n",
       "    .dataframe thead th {\n",
       "        text-align: right;\n",
       "    }\n",
       "</style>\n",
       "<table border=\"1\" class=\"dataframe\">\n",
       "  <thead>\n",
       "    <tr style=\"text-align: right;\">\n",
       "      <th></th>\n",
       "      <th>messages_included</th>\n",
       "      <th>mb_per_month_included</th>\n",
       "      <th>minutes_included</th>\n",
       "      <th>rub_monthly_fee</th>\n",
       "      <th>rub_per_gb</th>\n",
       "      <th>rub_per_message</th>\n",
       "      <th>rub_per_minute</th>\n",
       "      <th>tariff_name</th>\n",
       "    </tr>\n",
       "  </thead>\n",
       "  <tbody>\n",
       "    <tr>\n",
       "      <td>0</td>\n",
       "      <td>50</td>\n",
       "      <td>15360</td>\n",
       "      <td>500</td>\n",
       "      <td>550</td>\n",
       "      <td>200</td>\n",
       "      <td>3</td>\n",
       "      <td>3</td>\n",
       "      <td>smart</td>\n",
       "    </tr>\n",
       "    <tr>\n",
       "      <td>1</td>\n",
       "      <td>1000</td>\n",
       "      <td>30720</td>\n",
       "      <td>3000</td>\n",
       "      <td>1950</td>\n",
       "      <td>150</td>\n",
       "      <td>1</td>\n",
       "      <td>1</td>\n",
       "      <td>ultra</td>\n",
       "    </tr>\n",
       "  </tbody>\n",
       "</table>\n",
       "</div>"
      ],
      "text/plain": [
       "   messages_included  mb_per_month_included  minutes_included  \\\n",
       "0                 50                  15360               500   \n",
       "1               1000                  30720              3000   \n",
       "\n",
       "   rub_monthly_fee  rub_per_gb  rub_per_message  rub_per_minute tariff_name  \n",
       "0              550         200                3               3       smart  \n",
       "1             1950         150                1               1       ultra  "
      ]
     },
     "execution_count": 3,
     "metadata": {},
     "output_type": "execute_result"
    }
   ],
   "source": [
    "# обзор таблицы tariffs\n",
    "tariffs"
   ]
  },
  {
   "cell_type": "markdown",
   "id": "9b0fe045",
   "metadata": {},
   "source": [
    "### 1.2 Таблица users"
   ]
  },
  {
   "cell_type": "code",
   "execution_count": 4,
   "id": "14130ced",
   "metadata": {},
   "outputs": [
    {
     "data": {
      "text/html": [
       "<div>\n",
       "<style scoped>\n",
       "    .dataframe tbody tr th:only-of-type {\n",
       "        vertical-align: middle;\n",
       "    }\n",
       "\n",
       "    .dataframe tbody tr th {\n",
       "        vertical-align: top;\n",
       "    }\n",
       "\n",
       "    .dataframe thead th {\n",
       "        text-align: right;\n",
       "    }\n",
       "</style>\n",
       "<table border=\"1\" class=\"dataframe\">\n",
       "  <thead>\n",
       "    <tr style=\"text-align: right;\">\n",
       "      <th></th>\n",
       "      <th>user_id</th>\n",
       "      <th>age</th>\n",
       "      <th>churn_date</th>\n",
       "      <th>city</th>\n",
       "      <th>first_name</th>\n",
       "      <th>last_name</th>\n",
       "      <th>reg_date</th>\n",
       "      <th>tariff</th>\n",
       "    </tr>\n",
       "  </thead>\n",
       "  <tbody>\n",
       "    <tr>\n",
       "      <td>0</td>\n",
       "      <td>1000</td>\n",
       "      <td>52</td>\n",
       "      <td>NaN</td>\n",
       "      <td>Краснодар</td>\n",
       "      <td>Рафаил</td>\n",
       "      <td>Верещагин</td>\n",
       "      <td>2018-05-25</td>\n",
       "      <td>ultra</td>\n",
       "    </tr>\n",
       "    <tr>\n",
       "      <td>1</td>\n",
       "      <td>1001</td>\n",
       "      <td>41</td>\n",
       "      <td>NaN</td>\n",
       "      <td>Москва</td>\n",
       "      <td>Иван</td>\n",
       "      <td>Ежов</td>\n",
       "      <td>2018-11-01</td>\n",
       "      <td>smart</td>\n",
       "    </tr>\n",
       "    <tr>\n",
       "      <td>2</td>\n",
       "      <td>1002</td>\n",
       "      <td>59</td>\n",
       "      <td>NaN</td>\n",
       "      <td>Стерлитамак</td>\n",
       "      <td>Евгений</td>\n",
       "      <td>Абрамович</td>\n",
       "      <td>2018-06-17</td>\n",
       "      <td>smart</td>\n",
       "    </tr>\n",
       "    <tr>\n",
       "      <td>3</td>\n",
       "      <td>1003</td>\n",
       "      <td>23</td>\n",
       "      <td>NaN</td>\n",
       "      <td>Москва</td>\n",
       "      <td>Белла</td>\n",
       "      <td>Белякова</td>\n",
       "      <td>2018-08-17</td>\n",
       "      <td>ultra</td>\n",
       "    </tr>\n",
       "    <tr>\n",
       "      <td>4</td>\n",
       "      <td>1004</td>\n",
       "      <td>68</td>\n",
       "      <td>NaN</td>\n",
       "      <td>Новокузнецк</td>\n",
       "      <td>Татьяна</td>\n",
       "      <td>Авдеенко</td>\n",
       "      <td>2018-05-14</td>\n",
       "      <td>ultra</td>\n",
       "    </tr>\n",
       "    <tr>\n",
       "      <td>5</td>\n",
       "      <td>1005</td>\n",
       "      <td>67</td>\n",
       "      <td>NaN</td>\n",
       "      <td>Набережные Челны</td>\n",
       "      <td>Афанасий</td>\n",
       "      <td>Горлов</td>\n",
       "      <td>2018-01-25</td>\n",
       "      <td>smart</td>\n",
       "    </tr>\n",
       "    <tr>\n",
       "      <td>6</td>\n",
       "      <td>1006</td>\n",
       "      <td>21</td>\n",
       "      <td>NaN</td>\n",
       "      <td>Ульяновск</td>\n",
       "      <td>Леонид</td>\n",
       "      <td>Ермолаев</td>\n",
       "      <td>2018-02-26</td>\n",
       "      <td>smart</td>\n",
       "    </tr>\n",
       "    <tr>\n",
       "      <td>7</td>\n",
       "      <td>1007</td>\n",
       "      <td>65</td>\n",
       "      <td>NaN</td>\n",
       "      <td>Москва</td>\n",
       "      <td>Юна</td>\n",
       "      <td>Березина</td>\n",
       "      <td>2018-04-19</td>\n",
       "      <td>smart</td>\n",
       "    </tr>\n",
       "    <tr>\n",
       "      <td>8</td>\n",
       "      <td>1008</td>\n",
       "      <td>63</td>\n",
       "      <td>NaN</td>\n",
       "      <td>Челябинск</td>\n",
       "      <td>Рустэм</td>\n",
       "      <td>Пономарёв</td>\n",
       "      <td>2018-12-19</td>\n",
       "      <td>smart</td>\n",
       "    </tr>\n",
       "    <tr>\n",
       "      <td>9</td>\n",
       "      <td>1009</td>\n",
       "      <td>24</td>\n",
       "      <td>NaN</td>\n",
       "      <td>Пермь</td>\n",
       "      <td>Василиса</td>\n",
       "      <td>Блинова</td>\n",
       "      <td>2018-03-22</td>\n",
       "      <td>smart</td>\n",
       "    </tr>\n",
       "  </tbody>\n",
       "</table>\n",
       "</div>"
      ],
      "text/plain": [
       "   user_id  age churn_date              city first_name  last_name  \\\n",
       "0     1000   52        NaN         Краснодар     Рафаил  Верещагин   \n",
       "1     1001   41        NaN            Москва       Иван       Ежов   \n",
       "2     1002   59        NaN       Стерлитамак    Евгений  Абрамович   \n",
       "3     1003   23        NaN            Москва      Белла   Белякова   \n",
       "4     1004   68        NaN       Новокузнецк    Татьяна   Авдеенко   \n",
       "5     1005   67        NaN  Набережные Челны   Афанасий     Горлов   \n",
       "6     1006   21        NaN         Ульяновск     Леонид   Ермолаев   \n",
       "7     1007   65        NaN            Москва        Юна   Березина   \n",
       "8     1008   63        NaN         Челябинск     Рустэм  Пономарёв   \n",
       "9     1009   24        NaN             Пермь   Василиса    Блинова   \n",
       "\n",
       "     reg_date tariff  \n",
       "0  2018-05-25  ultra  \n",
       "1  2018-11-01  smart  \n",
       "2  2018-06-17  smart  \n",
       "3  2018-08-17  ultra  \n",
       "4  2018-05-14  ultra  \n",
       "5  2018-01-25  smart  \n",
       "6  2018-02-26  smart  \n",
       "7  2018-04-19  smart  \n",
       "8  2018-12-19  smart  \n",
       "9  2018-03-22  smart  "
      ]
     },
     "execution_count": 4,
     "metadata": {},
     "output_type": "execute_result"
    }
   ],
   "source": [
    "# обзор таблицы users\n",
    "users.head(10)"
   ]
  },
  {
   "cell_type": "code",
   "execution_count": 5,
   "id": "a6b185bc",
   "metadata": {},
   "outputs": [
    {
     "name": "stdout",
     "output_type": "stream",
     "text": [
      "<class 'pandas.core.frame.DataFrame'>\n",
      "RangeIndex: 500 entries, 0 to 499\n",
      "Data columns (total 8 columns):\n",
      "user_id       500 non-null int64\n",
      "age           500 non-null int64\n",
      "churn_date    38 non-null object\n",
      "city          500 non-null object\n",
      "first_name    500 non-null object\n",
      "last_name     500 non-null object\n",
      "reg_date      500 non-null object\n",
      "tariff        500 non-null object\n",
      "dtypes: int64(2), object(6)\n",
      "memory usage: 31.4+ KB\n"
     ]
    }
   ],
   "source": [
    "# получение общей информации о данных \n",
    "users.info()"
   ]
  },
  {
   "cell_type": "markdown",
   "id": "dc9d1f08",
   "metadata": {},
   "source": [
    "Заменим тип данных в столбце с датой на корректный и проверим за какой срок были представлены данные."
   ]
  },
  {
   "cell_type": "code",
   "execution_count": 6,
   "id": "aea9d26d",
   "metadata": {
    "scrolled": true
   },
   "outputs": [
    {
     "name": "stdout",
     "output_type": "stream",
     "text": [
      "2018-01-01 00:00:00 2018-12-31 00:00:00\n"
     ]
    }
   ],
   "source": [
    "# изменение типа данных в call_date и обзор данных\n",
    "users['reg_date'] = pd.to_datetime(users['reg_date'],format = \"%Y-%m-%d\")\n",
    "print(users['reg_date'].min(),users['reg_date'].max())"
   ]
  },
  {
   "cell_type": "markdown",
   "id": "752be5d4",
   "metadata": {},
   "source": [
    "В столбце churn_date с информацией о дате прекращения пользования тарифом выявлены пропуски. Для данного столбца , нет подходящего значения на замену, поэтому оставим эти значения пустыми."
   ]
  },
  {
   "cell_type": "code",
   "execution_count": 7,
   "id": "088ed3e6",
   "metadata": {},
   "outputs": [],
   "source": [
    "# замена на пустую строку\n",
    "users.churn_date = users.churn_date.fillna(\" \")"
   ]
  },
  {
   "cell_type": "code",
   "execution_count": 8,
   "id": "811e68df",
   "metadata": {},
   "outputs": [
    {
     "name": "stdout",
     "output_type": "stream",
     "text": [
      "<class 'pandas.core.frame.DataFrame'>\n",
      "RangeIndex: 500 entries, 0 to 499\n",
      "Data columns (total 8 columns):\n",
      "user_id       500 non-null int64\n",
      "age           500 non-null int64\n",
      "churn_date    500 non-null object\n",
      "city          500 non-null object\n",
      "first_name    500 non-null object\n",
      "last_name     500 non-null object\n",
      "reg_date      500 non-null datetime64[ns]\n",
      "tariff        500 non-null object\n",
      "dtypes: datetime64[ns](1), int64(2), object(5)\n",
      "memory usage: 31.4+ KB\n"
     ]
    }
   ],
   "source": [
    "users.info()"
   ]
  },
  {
   "cell_type": "markdown",
   "id": "e7133836",
   "metadata": {},
   "source": [
    "### 1.3 Таблица internet"
   ]
  },
  {
   "cell_type": "code",
   "execution_count": 9,
   "id": "03306bea",
   "metadata": {},
   "outputs": [
    {
     "data": {
      "text/html": [
       "<div>\n",
       "<style scoped>\n",
       "    .dataframe tbody tr th:only-of-type {\n",
       "        vertical-align: middle;\n",
       "    }\n",
       "\n",
       "    .dataframe tbody tr th {\n",
       "        vertical-align: top;\n",
       "    }\n",
       "\n",
       "    .dataframe thead th {\n",
       "        text-align: right;\n",
       "    }\n",
       "</style>\n",
       "<table border=\"1\" class=\"dataframe\">\n",
       "  <thead>\n",
       "    <tr style=\"text-align: right;\">\n",
       "      <th></th>\n",
       "      <th>id</th>\n",
       "      <th>mb_used</th>\n",
       "      <th>session_date</th>\n",
       "      <th>user_id</th>\n",
       "    </tr>\n",
       "  </thead>\n",
       "  <tbody>\n",
       "    <tr>\n",
       "      <td>0</td>\n",
       "      <td>1000_0</td>\n",
       "      <td>112.95</td>\n",
       "      <td>2018-11-25</td>\n",
       "      <td>1000</td>\n",
       "    </tr>\n",
       "    <tr>\n",
       "      <td>1</td>\n",
       "      <td>1000_1</td>\n",
       "      <td>1052.81</td>\n",
       "      <td>2018-09-07</td>\n",
       "      <td>1000</td>\n",
       "    </tr>\n",
       "    <tr>\n",
       "      <td>2</td>\n",
       "      <td>1000_2</td>\n",
       "      <td>1197.26</td>\n",
       "      <td>2018-06-25</td>\n",
       "      <td>1000</td>\n",
       "    </tr>\n",
       "    <tr>\n",
       "      <td>3</td>\n",
       "      <td>1000_3</td>\n",
       "      <td>550.27</td>\n",
       "      <td>2018-08-22</td>\n",
       "      <td>1000</td>\n",
       "    </tr>\n",
       "    <tr>\n",
       "      <td>4</td>\n",
       "      <td>1000_4</td>\n",
       "      <td>302.56</td>\n",
       "      <td>2018-09-24</td>\n",
       "      <td>1000</td>\n",
       "    </tr>\n",
       "  </tbody>\n",
       "</table>\n",
       "</div>"
      ],
      "text/plain": [
       "       id  mb_used session_date  user_id\n",
       "0  1000_0   112.95   2018-11-25     1000\n",
       "1  1000_1  1052.81   2018-09-07     1000\n",
       "2  1000_2  1197.26   2018-06-25     1000\n",
       "3  1000_3   550.27   2018-08-22     1000\n",
       "4  1000_4   302.56   2018-09-24     1000"
      ]
     },
     "execution_count": 9,
     "metadata": {},
     "output_type": "execute_result"
    }
   ],
   "source": [
    "# обзор таблицы internet\n",
    "internet.head()"
   ]
  },
  {
   "cell_type": "code",
   "execution_count": 10,
   "id": "334c539b",
   "metadata": {},
   "outputs": [
    {
     "name": "stdout",
     "output_type": "stream",
     "text": [
      "<class 'pandas.core.frame.DataFrame'>\n",
      "Int64Index: 149396 entries, 0 to 149395\n",
      "Data columns (total 4 columns):\n",
      "id              149396 non-null object\n",
      "mb_used         149396 non-null float64\n",
      "session_date    149396 non-null object\n",
      "user_id         149396 non-null int64\n",
      "dtypes: float64(1), int64(1), object(2)\n",
      "memory usage: 5.7+ MB\n"
     ]
    }
   ],
   "source": [
    "# получение общей информации о данных\n",
    "internet.info()"
   ]
  },
  {
   "cell_type": "markdown",
   "id": "588065e8",
   "metadata": {},
   "source": [
    "Необходимо также заменить тип данных в столбце с датой."
   ]
  },
  {
   "cell_type": "code",
   "execution_count": 11,
   "id": "4e413011",
   "metadata": {},
   "outputs": [],
   "source": [
    "# изменение типа данных в session_date \n",
    "internet['session_date'] = pd.to_datetime(internet['session_date'],format = \"%Y-%m-%d\")"
   ]
  },
  {
   "cell_type": "markdown",
   "id": "0e20ef5f",
   "metadata": {},
   "source": [
    "Добавим столбец month и сразу сгруппируем таблицу по id клиента и месяцу."
   ]
  },
  {
   "cell_type": "code",
   "execution_count": 12,
   "id": "2a976399",
   "metadata": {},
   "outputs": [],
   "source": [
    "# добавление столбца с данными о месяце\n",
    "internet['month']=pd.DatetimeIndex(internet.session_date).month"
   ]
  },
  {
   "cell_type": "code",
   "execution_count": 13,
   "id": "7d277f8d",
   "metadata": {},
   "outputs": [],
   "source": [
    "# проведем группировку таблицы по месяцу и id клиента\n",
    "internet = internet.groupby(['user_id', 'month']).agg({'mb_used': 'sum'}).reset_index()"
   ]
  },
  {
   "cell_type": "markdown",
   "id": "ab17c712",
   "metadata": {},
   "source": [
    "### 1.4 Таблица messages"
   ]
  },
  {
   "cell_type": "code",
   "execution_count": 14,
   "id": "127b78c0",
   "metadata": {},
   "outputs": [
    {
     "data": {
      "text/html": [
       "<div>\n",
       "<style scoped>\n",
       "    .dataframe tbody tr th:only-of-type {\n",
       "        vertical-align: middle;\n",
       "    }\n",
       "\n",
       "    .dataframe tbody tr th {\n",
       "        vertical-align: top;\n",
       "    }\n",
       "\n",
       "    .dataframe thead th {\n",
       "        text-align: right;\n",
       "    }\n",
       "</style>\n",
       "<table border=\"1\" class=\"dataframe\">\n",
       "  <thead>\n",
       "    <tr style=\"text-align: right;\">\n",
       "      <th></th>\n",
       "      <th>id</th>\n",
       "      <th>message_date</th>\n",
       "      <th>user_id</th>\n",
       "    </tr>\n",
       "  </thead>\n",
       "  <tbody>\n",
       "    <tr>\n",
       "      <td>0</td>\n",
       "      <td>1000_0</td>\n",
       "      <td>2018-06-27</td>\n",
       "      <td>1000</td>\n",
       "    </tr>\n",
       "    <tr>\n",
       "      <td>1</td>\n",
       "      <td>1000_1</td>\n",
       "      <td>2018-10-08</td>\n",
       "      <td>1000</td>\n",
       "    </tr>\n",
       "    <tr>\n",
       "      <td>2</td>\n",
       "      <td>1000_2</td>\n",
       "      <td>2018-08-04</td>\n",
       "      <td>1000</td>\n",
       "    </tr>\n",
       "    <tr>\n",
       "      <td>3</td>\n",
       "      <td>1000_3</td>\n",
       "      <td>2018-06-16</td>\n",
       "      <td>1000</td>\n",
       "    </tr>\n",
       "    <tr>\n",
       "      <td>4</td>\n",
       "      <td>1000_4</td>\n",
       "      <td>2018-12-05</td>\n",
       "      <td>1000</td>\n",
       "    </tr>\n",
       "  </tbody>\n",
       "</table>\n",
       "</div>"
      ],
      "text/plain": [
       "       id message_date  user_id\n",
       "0  1000_0   2018-06-27     1000\n",
       "1  1000_1   2018-10-08     1000\n",
       "2  1000_2   2018-08-04     1000\n",
       "3  1000_3   2018-06-16     1000\n",
       "4  1000_4   2018-12-05     1000"
      ]
     },
     "execution_count": 14,
     "metadata": {},
     "output_type": "execute_result"
    }
   ],
   "source": [
    "# обзор таблицы messages\n",
    "messages.head()\n"
   ]
  },
  {
   "cell_type": "code",
   "execution_count": 15,
   "id": "d664ae39",
   "metadata": {},
   "outputs": [
    {
     "name": "stdout",
     "output_type": "stream",
     "text": [
      "<class 'pandas.core.frame.DataFrame'>\n",
      "RangeIndex: 123036 entries, 0 to 123035\n",
      "Data columns (total 3 columns):\n",
      "id              123036 non-null object\n",
      "message_date    123036 non-null object\n",
      "user_id         123036 non-null int64\n",
      "dtypes: int64(1), object(2)\n",
      "memory usage: 2.8+ MB\n"
     ]
    }
   ],
   "source": [
    "# получение общей информации о данных\n",
    "messages.info()"
   ]
  },
  {
   "cell_type": "markdown",
   "id": "508700f9",
   "metadata": {},
   "source": [
    "Необходимо произвести замену типа данных в столбце message_date."
   ]
  },
  {
   "cell_type": "code",
   "execution_count": 16,
   "id": "0e9a759a",
   "metadata": {},
   "outputs": [
    {
     "name": "stdout",
     "output_type": "stream",
     "text": [
      "2018-01-02 00:00:00 2018-12-31 00:00:00\n"
     ]
    }
   ],
   "source": [
    "# изменение типа данных в call_date и обзор данных\n",
    "messages['message_date'] = pd.to_datetime(messages['message_date'],format = \"%Y-%m-%d\")\n",
    "print(messages['message_date'].min(),messages['message_date'].max())"
   ]
  },
  {
   "cell_type": "markdown",
   "id": "6e80495b",
   "metadata": {},
   "source": [
    "Также добавим столбец month и сразу сгруппируем таблицу по id клиентов и месяцам."
   ]
  },
  {
   "cell_type": "code",
   "execution_count": 17,
   "id": "1d238e80",
   "metadata": {},
   "outputs": [],
   "source": [
    "# добавление столбца с данными о месяце\n",
    "messages['month']=pd.DatetimeIndex(messages.message_date).month"
   ]
  },
  {
   "cell_type": "code",
   "execution_count": 18,
   "id": "efd37e84",
   "metadata": {},
   "outputs": [],
   "source": [
    "# проведем группировку таблицы по месяцу и id клиента\n",
    "messages = messages.groupby(['user_id', 'month']).agg({'id': 'count'}).rename(columns = {'id': 'messages'}).reset_index()"
   ]
  },
  {
   "cell_type": "markdown",
   "id": "0289d35e",
   "metadata": {},
   "source": [
    "### 1.5 Таблица calls"
   ]
  },
  {
   "cell_type": "code",
   "execution_count": 19,
   "id": "506cd5b3",
   "metadata": {},
   "outputs": [
    {
     "data": {
      "text/html": [
       "<div>\n",
       "<style scoped>\n",
       "    .dataframe tbody tr th:only-of-type {\n",
       "        vertical-align: middle;\n",
       "    }\n",
       "\n",
       "    .dataframe tbody tr th {\n",
       "        vertical-align: top;\n",
       "    }\n",
       "\n",
       "    .dataframe thead th {\n",
       "        text-align: right;\n",
       "    }\n",
       "</style>\n",
       "<table border=\"1\" class=\"dataframe\">\n",
       "  <thead>\n",
       "    <tr style=\"text-align: right;\">\n",
       "      <th></th>\n",
       "      <th>id</th>\n",
       "      <th>call_date</th>\n",
       "      <th>duration</th>\n",
       "      <th>user_id</th>\n",
       "    </tr>\n",
       "  </thead>\n",
       "  <tbody>\n",
       "    <tr>\n",
       "      <td>0</td>\n",
       "      <td>1000_0</td>\n",
       "      <td>2018-07-25</td>\n",
       "      <td>0.00</td>\n",
       "      <td>1000</td>\n",
       "    </tr>\n",
       "    <tr>\n",
       "      <td>1</td>\n",
       "      <td>1000_1</td>\n",
       "      <td>2018-08-17</td>\n",
       "      <td>0.00</td>\n",
       "      <td>1000</td>\n",
       "    </tr>\n",
       "    <tr>\n",
       "      <td>2</td>\n",
       "      <td>1000_2</td>\n",
       "      <td>2018-06-11</td>\n",
       "      <td>2.85</td>\n",
       "      <td>1000</td>\n",
       "    </tr>\n",
       "    <tr>\n",
       "      <td>3</td>\n",
       "      <td>1000_3</td>\n",
       "      <td>2018-09-21</td>\n",
       "      <td>13.80</td>\n",
       "      <td>1000</td>\n",
       "    </tr>\n",
       "    <tr>\n",
       "      <td>4</td>\n",
       "      <td>1000_4</td>\n",
       "      <td>2018-12-15</td>\n",
       "      <td>5.18</td>\n",
       "      <td>1000</td>\n",
       "    </tr>\n",
       "  </tbody>\n",
       "</table>\n",
       "</div>"
      ],
      "text/plain": [
       "       id   call_date  duration  user_id\n",
       "0  1000_0  2018-07-25      0.00     1000\n",
       "1  1000_1  2018-08-17      0.00     1000\n",
       "2  1000_2  2018-06-11      2.85     1000\n",
       "3  1000_3  2018-09-21     13.80     1000\n",
       "4  1000_4  2018-12-15      5.18     1000"
      ]
     },
     "execution_count": 19,
     "metadata": {},
     "output_type": "execute_result"
    }
   ],
   "source": [
    "# обзор таблицы calls\n",
    "calls.head()"
   ]
  },
  {
   "cell_type": "code",
   "execution_count": 20,
   "id": "3bd3ae8f",
   "metadata": {},
   "outputs": [
    {
     "name": "stdout",
     "output_type": "stream",
     "text": [
      "<class 'pandas.core.frame.DataFrame'>\n",
      "RangeIndex: 202607 entries, 0 to 202606\n",
      "Data columns (total 4 columns):\n",
      "id           202607 non-null object\n",
      "call_date    202607 non-null object\n",
      "duration     202607 non-null float64\n",
      "user_id      202607 non-null int64\n",
      "dtypes: float64(1), int64(1), object(2)\n",
      "memory usage: 6.2+ MB\n"
     ]
    }
   ],
   "source": [
    "# получение общей информации о данных\n",
    "calls.info()"
   ]
  },
  {
   "cell_type": "markdown",
   "id": "e1f73685",
   "metadata": {},
   "source": [
    "Проведем аналогичные действия с данной таблицей."
   ]
  },
  {
   "cell_type": "code",
   "execution_count": 21,
   "id": "418e0d41",
   "metadata": {},
   "outputs": [
    {
     "name": "stdout",
     "output_type": "stream",
     "text": [
      "2018-01-01 00:00:00 2018-12-31 00:00:00\n"
     ]
    }
   ],
   "source": [
    "# изменение типа данных в call_date и обзор данных\n",
    "calls['call_date'] = pd.to_datetime(calls['call_date'],format = \"%Y-%m-%d\")\n",
    "print(calls['call_date'].min(),calls['call_date'].max())"
   ]
  },
  {
   "cell_type": "code",
   "execution_count": 22,
   "id": "9a33830a",
   "metadata": {},
   "outputs": [],
   "source": [
    "# добавление столбца с данными о месяце\n",
    "calls['month']=pd.DatetimeIndex(calls.call_date).month"
   ]
  },
  {
   "cell_type": "code",
   "execution_count": 23,
   "id": "55b9a29d",
   "metadata": {},
   "outputs": [],
   "source": [
    "# проведем группировку таблицы по месяцу и id клиента\n",
    "calls = calls.groupby(['user_id','month']).agg({'duration': 'sum'}).reset_index()"
   ]
  },
  {
   "cell_type": "markdown",
   "id": "bfaef98e",
   "metadata": {},
   "source": [
    "### 1.6 Обьединение таблиц\n",
    "\n",
    "Для облегчения дальнейшего анализа данных, объединим все вышепредставленные таблицы в одну - data."
   ]
  },
  {
   "cell_type": "code",
   "execution_count": 24,
   "id": "ceac0d82",
   "metadata": {},
   "outputs": [],
   "source": [
    "# обьединим  таблицы calls, internet, messages  в одну с помощью метода  merge по месяцу и id клиента \n",
    "data = calls.merge(internet, on = ['user_id', 'month'], how = 'outer')\\\n",
    "              .merge(messages, on = ['user_id', 'month'], how = 'outer').fillna(0)\n",
    "\n",
    "# обьединим  таблицу data с users и tariffs\n",
    "data = data.merge(users, on = ['user_id'], how = 'left').merge(tariffs, left_on = 'tariff', \n",
    "                                                                 right_on = 'tariff_name', how = 'left')"
   ]
  },
  {
   "cell_type": "code",
   "execution_count": 25,
   "id": "4cf35bf9",
   "metadata": {
    "scrolled": true
   },
   "outputs": [
    {
     "data": {
      "text/html": [
       "<div>\n",
       "<style scoped>\n",
       "    .dataframe tbody tr th:only-of-type {\n",
       "        vertical-align: middle;\n",
       "    }\n",
       "\n",
       "    .dataframe tbody tr th {\n",
       "        vertical-align: top;\n",
       "    }\n",
       "\n",
       "    .dataframe thead th {\n",
       "        text-align: right;\n",
       "    }\n",
       "</style>\n",
       "<table border=\"1\" class=\"dataframe\">\n",
       "  <thead>\n",
       "    <tr style=\"text-align: right;\">\n",
       "      <th></th>\n",
       "      <th>user_id</th>\n",
       "      <th>month</th>\n",
       "      <th>duration</th>\n",
       "      <th>mb_used</th>\n",
       "      <th>messages</th>\n",
       "      <th>age</th>\n",
       "      <th>churn_date</th>\n",
       "      <th>city</th>\n",
       "      <th>first_name</th>\n",
       "      <th>last_name</th>\n",
       "      <th>reg_date</th>\n",
       "      <th>tariff</th>\n",
       "      <th>messages_included</th>\n",
       "      <th>mb_per_month_included</th>\n",
       "      <th>minutes_included</th>\n",
       "      <th>rub_monthly_fee</th>\n",
       "      <th>rub_per_gb</th>\n",
       "      <th>rub_per_message</th>\n",
       "      <th>rub_per_minute</th>\n",
       "      <th>tariff_name</th>\n",
       "    </tr>\n",
       "  </thead>\n",
       "  <tbody>\n",
       "    <tr>\n",
       "      <td>0</td>\n",
       "      <td>1000</td>\n",
       "      <td>5</td>\n",
       "      <td>150.06</td>\n",
       "      <td>2253.49</td>\n",
       "      <td>22.0</td>\n",
       "      <td>52</td>\n",
       "      <td></td>\n",
       "      <td>Краснодар</td>\n",
       "      <td>Рафаил</td>\n",
       "      <td>Верещагин</td>\n",
       "      <td>2018-05-25</td>\n",
       "      <td>ultra</td>\n",
       "      <td>1000</td>\n",
       "      <td>30720</td>\n",
       "      <td>3000</td>\n",
       "      <td>1950</td>\n",
       "      <td>150</td>\n",
       "      <td>1</td>\n",
       "      <td>1</td>\n",
       "      <td>ultra</td>\n",
       "    </tr>\n",
       "    <tr>\n",
       "      <td>1</td>\n",
       "      <td>1000</td>\n",
       "      <td>6</td>\n",
       "      <td>158.90</td>\n",
       "      <td>23233.77</td>\n",
       "      <td>60.0</td>\n",
       "      <td>52</td>\n",
       "      <td></td>\n",
       "      <td>Краснодар</td>\n",
       "      <td>Рафаил</td>\n",
       "      <td>Верещагин</td>\n",
       "      <td>2018-05-25</td>\n",
       "      <td>ultra</td>\n",
       "      <td>1000</td>\n",
       "      <td>30720</td>\n",
       "      <td>3000</td>\n",
       "      <td>1950</td>\n",
       "      <td>150</td>\n",
       "      <td>1</td>\n",
       "      <td>1</td>\n",
       "      <td>ultra</td>\n",
       "    </tr>\n",
       "    <tr>\n",
       "      <td>2</td>\n",
       "      <td>1000</td>\n",
       "      <td>7</td>\n",
       "      <td>318.80</td>\n",
       "      <td>14003.64</td>\n",
       "      <td>75.0</td>\n",
       "      <td>52</td>\n",
       "      <td></td>\n",
       "      <td>Краснодар</td>\n",
       "      <td>Рафаил</td>\n",
       "      <td>Верещагин</td>\n",
       "      <td>2018-05-25</td>\n",
       "      <td>ultra</td>\n",
       "      <td>1000</td>\n",
       "      <td>30720</td>\n",
       "      <td>3000</td>\n",
       "      <td>1950</td>\n",
       "      <td>150</td>\n",
       "      <td>1</td>\n",
       "      <td>1</td>\n",
       "      <td>ultra</td>\n",
       "    </tr>\n",
       "    <tr>\n",
       "      <td>3</td>\n",
       "      <td>1000</td>\n",
       "      <td>8</td>\n",
       "      <td>389.87</td>\n",
       "      <td>14055.93</td>\n",
       "      <td>81.0</td>\n",
       "      <td>52</td>\n",
       "      <td></td>\n",
       "      <td>Краснодар</td>\n",
       "      <td>Рафаил</td>\n",
       "      <td>Верещагин</td>\n",
       "      <td>2018-05-25</td>\n",
       "      <td>ultra</td>\n",
       "      <td>1000</td>\n",
       "      <td>30720</td>\n",
       "      <td>3000</td>\n",
       "      <td>1950</td>\n",
       "      <td>150</td>\n",
       "      <td>1</td>\n",
       "      <td>1</td>\n",
       "      <td>ultra</td>\n",
       "    </tr>\n",
       "    <tr>\n",
       "      <td>4</td>\n",
       "      <td>1000</td>\n",
       "      <td>9</td>\n",
       "      <td>440.14</td>\n",
       "      <td>14568.91</td>\n",
       "      <td>57.0</td>\n",
       "      <td>52</td>\n",
       "      <td></td>\n",
       "      <td>Краснодар</td>\n",
       "      <td>Рафаил</td>\n",
       "      <td>Верещагин</td>\n",
       "      <td>2018-05-25</td>\n",
       "      <td>ultra</td>\n",
       "      <td>1000</td>\n",
       "      <td>30720</td>\n",
       "      <td>3000</td>\n",
       "      <td>1950</td>\n",
       "      <td>150</td>\n",
       "      <td>1</td>\n",
       "      <td>1</td>\n",
       "      <td>ultra</td>\n",
       "    </tr>\n",
       "  </tbody>\n",
       "</table>\n",
       "</div>"
      ],
      "text/plain": [
       "   user_id  month  duration   mb_used  messages  age churn_date       city  \\\n",
       "0     1000      5    150.06   2253.49      22.0   52             Краснодар   \n",
       "1     1000      6    158.90  23233.77      60.0   52             Краснодар   \n",
       "2     1000      7    318.80  14003.64      75.0   52             Краснодар   \n",
       "3     1000      8    389.87  14055.93      81.0   52             Краснодар   \n",
       "4     1000      9    440.14  14568.91      57.0   52             Краснодар   \n",
       "\n",
       "  first_name  last_name   reg_date tariff  messages_included  \\\n",
       "0     Рафаил  Верещагин 2018-05-25  ultra               1000   \n",
       "1     Рафаил  Верещагин 2018-05-25  ultra               1000   \n",
       "2     Рафаил  Верещагин 2018-05-25  ultra               1000   \n",
       "3     Рафаил  Верещагин 2018-05-25  ultra               1000   \n",
       "4     Рафаил  Верещагин 2018-05-25  ultra               1000   \n",
       "\n",
       "   mb_per_month_included  minutes_included  rub_monthly_fee  rub_per_gb  \\\n",
       "0                  30720              3000             1950         150   \n",
       "1                  30720              3000             1950         150   \n",
       "2                  30720              3000             1950         150   \n",
       "3                  30720              3000             1950         150   \n",
       "4                  30720              3000             1950         150   \n",
       "\n",
       "   rub_per_message  rub_per_minute tariff_name  \n",
       "0                1               1       ultra  \n",
       "1                1               1       ultra  \n",
       "2                1               1       ultra  \n",
       "3                1               1       ultra  \n",
       "4                1               1       ultra  "
      ]
     },
     "execution_count": 25,
     "metadata": {},
     "output_type": "execute_result"
    }
   ],
   "source": [
    "# обзор получившейся общей таблицы\n",
    "data.head()"
   ]
  },
  {
   "cell_type": "code",
   "execution_count": 26,
   "id": "dc9d1ff9",
   "metadata": {},
   "outputs": [
    {
     "name": "stdout",
     "output_type": "stream",
     "text": [
      "<class 'pandas.core.frame.DataFrame'>\n",
      "Int64Index: 3214 entries, 0 to 3213\n",
      "Data columns (total 20 columns):\n",
      "user_id                  3214 non-null int64\n",
      "month                    3214 non-null int64\n",
      "duration                 3214 non-null float64\n",
      "mb_used                  3214 non-null float64\n",
      "messages                 3214 non-null float64\n",
      "age                      3214 non-null int64\n",
      "churn_date               3214 non-null object\n",
      "city                     3214 non-null object\n",
      "first_name               3214 non-null object\n",
      "last_name                3214 non-null object\n",
      "reg_date                 3214 non-null datetime64[ns]\n",
      "tariff                   3214 non-null object\n",
      "messages_included        3214 non-null int64\n",
      "mb_per_month_included    3214 non-null int64\n",
      "minutes_included         3214 non-null int64\n",
      "rub_monthly_fee          3214 non-null int64\n",
      "rub_per_gb               3214 non-null int64\n",
      "rub_per_message          3214 non-null int64\n",
      "rub_per_minute           3214 non-null int64\n",
      "tariff_name              3214 non-null object\n",
      "dtypes: datetime64[ns](1), float64(3), int64(10), object(6)\n",
      "memory usage: 527.3+ KB\n"
     ]
    }
   ],
   "source": [
    "# получение общей информации о данных в таблице data\n",
    "data.info()"
   ]
  },
  {
   "cell_type": "markdown",
   "id": "0dd8d44b",
   "metadata": {},
   "source": [
    "В таблице data округлим секунды до минут в столбце duration, а мегабайты — до гигабайт в столбце  mb_used и mb_per_month_included."
   ]
  },
  {
   "cell_type": "code",
   "execution_count": 27,
   "id": "d9c4371a",
   "metadata": {},
   "outputs": [],
   "source": [
    "# округление длительности звонка в большую сторону\n",
    "data['duration'] = data['duration'].apply(math.ceil) "
   ]
  },
  {
   "cell_type": "code",
   "execution_count": 28,
   "id": "996e519a",
   "metadata": {},
   "outputs": [],
   "source": [
    "# переводим из mb в gb значения в столбце gb_used и округляем в большую сторону\n",
    "data['gb_used'] = (data['mb_used']/1024).apply(math.ceil)"
   ]
  },
  {
   "cell_type": "code",
   "execution_count": 29,
   "id": "5eb6728e",
   "metadata": {},
   "outputs": [],
   "source": [
    "# переводим из mb в gb значения в столбце mb_per_month_included\n",
    "data['mb_per_month_included'] = data['mb_per_month_included']/1024\n",
    "data=data.rename(columns = {'mb_per_month_included': 'gb_per_month_included'})"
   ]
  },
  {
   "cell_type": "code",
   "execution_count": 30,
   "id": "9010c4a8",
   "metadata": {},
   "outputs": [],
   "source": [
    "# меняем тип данных в столбце messages\n",
    "data['messages'] = data['messages'].astype('int')"
   ]
  },
  {
   "cell_type": "markdown",
   "id": "1dc9acb8",
   "metadata": {},
   "source": [
    "Далее добавим столбец с помесячной выручкой для каждого пользователя. Для этого пропишем функцию revenue."
   ]
  },
  {
   "cell_type": "code",
   "execution_count": 31,
   "id": "6fea3afd",
   "metadata": {},
   "outputs": [],
   "source": [
    "# функция для определения помесячной выручки с каждого пользователя \n",
    "def revenue(row):\n",
    "    montly_fee = row.rub_monthly_fee\n",
    "    \n",
    "    if (row.duration-row.minutes_included)>0:\n",
    "        calls_fee= (row.duration-row.minutes_included) * row.rub_per_minute\n",
    "    else:\n",
    "        calls_fee = 0\n",
    "    if (row.gb_used-row.gb_per_month_included)>0:\n",
    "        internet_fee= (row.gb_used-row.gb_per_month_included) * row.rub_per_gb\n",
    "    else:\n",
    "        internet_fee = 0   \n",
    "        \n",
    "    if (row.messages-row.messages_included)>0:\n",
    "        messages_fee= (row.messages-row.messages_included) * row.rub_per_message   \n",
    "    else:\n",
    "        messages_fee = 0  \n",
    "        \n",
    "    revenue_per_user =   montly_fee +  calls_fee + messages_fee + internet_fee\n",
    "    return revenue_per_user"
   ]
  },
  {
   "cell_type": "code",
   "execution_count": 32,
   "id": "79222e36",
   "metadata": {},
   "outputs": [],
   "source": [
    "# применяем фунцию revenue и сохраняем результат в новом столбце revenue\n",
    "data['revenue']= data.apply(revenue,axis=1)"
   ]
  },
  {
   "cell_type": "code",
   "execution_count": 33,
   "id": "93a9659e",
   "metadata": {},
   "outputs": [
    {
     "data": {
      "text/html": [
       "<div>\n",
       "<style scoped>\n",
       "    .dataframe tbody tr th:only-of-type {\n",
       "        vertical-align: middle;\n",
       "    }\n",
       "\n",
       "    .dataframe tbody tr th {\n",
       "        vertical-align: top;\n",
       "    }\n",
       "\n",
       "    .dataframe thead th {\n",
       "        text-align: right;\n",
       "    }\n",
       "</style>\n",
       "<table border=\"1\" class=\"dataframe\">\n",
       "  <thead>\n",
       "    <tr style=\"text-align: right;\">\n",
       "      <th></th>\n",
       "      <th>user_id</th>\n",
       "      <th>month</th>\n",
       "      <th>duration</th>\n",
       "      <th>mb_used</th>\n",
       "      <th>messages</th>\n",
       "      <th>age</th>\n",
       "      <th>churn_date</th>\n",
       "      <th>city</th>\n",
       "      <th>first_name</th>\n",
       "      <th>last_name</th>\n",
       "      <th>...</th>\n",
       "      <th>messages_included</th>\n",
       "      <th>gb_per_month_included</th>\n",
       "      <th>minutes_included</th>\n",
       "      <th>rub_monthly_fee</th>\n",
       "      <th>rub_per_gb</th>\n",
       "      <th>rub_per_message</th>\n",
       "      <th>rub_per_minute</th>\n",
       "      <th>tariff_name</th>\n",
       "      <th>gb_used</th>\n",
       "      <th>revenue</th>\n",
       "    </tr>\n",
       "  </thead>\n",
       "  <tbody>\n",
       "    <tr>\n",
       "      <td>0</td>\n",
       "      <td>1000</td>\n",
       "      <td>5</td>\n",
       "      <td>151</td>\n",
       "      <td>2253.49</td>\n",
       "      <td>22</td>\n",
       "      <td>52</td>\n",
       "      <td></td>\n",
       "      <td>Краснодар</td>\n",
       "      <td>Рафаил</td>\n",
       "      <td>Верещагин</td>\n",
       "      <td>...</td>\n",
       "      <td>1000</td>\n",
       "      <td>30.0</td>\n",
       "      <td>3000</td>\n",
       "      <td>1950</td>\n",
       "      <td>150</td>\n",
       "      <td>1</td>\n",
       "      <td>1</td>\n",
       "      <td>ultra</td>\n",
       "      <td>3</td>\n",
       "      <td>1950.0</td>\n",
       "    </tr>\n",
       "    <tr>\n",
       "      <td>1</td>\n",
       "      <td>1000</td>\n",
       "      <td>6</td>\n",
       "      <td>159</td>\n",
       "      <td>23233.77</td>\n",
       "      <td>60</td>\n",
       "      <td>52</td>\n",
       "      <td></td>\n",
       "      <td>Краснодар</td>\n",
       "      <td>Рафаил</td>\n",
       "      <td>Верещагин</td>\n",
       "      <td>...</td>\n",
       "      <td>1000</td>\n",
       "      <td>30.0</td>\n",
       "      <td>3000</td>\n",
       "      <td>1950</td>\n",
       "      <td>150</td>\n",
       "      <td>1</td>\n",
       "      <td>1</td>\n",
       "      <td>ultra</td>\n",
       "      <td>23</td>\n",
       "      <td>1950.0</td>\n",
       "    </tr>\n",
       "    <tr>\n",
       "      <td>2</td>\n",
       "      <td>1000</td>\n",
       "      <td>7</td>\n",
       "      <td>319</td>\n",
       "      <td>14003.64</td>\n",
       "      <td>75</td>\n",
       "      <td>52</td>\n",
       "      <td></td>\n",
       "      <td>Краснодар</td>\n",
       "      <td>Рафаил</td>\n",
       "      <td>Верещагин</td>\n",
       "      <td>...</td>\n",
       "      <td>1000</td>\n",
       "      <td>30.0</td>\n",
       "      <td>3000</td>\n",
       "      <td>1950</td>\n",
       "      <td>150</td>\n",
       "      <td>1</td>\n",
       "      <td>1</td>\n",
       "      <td>ultra</td>\n",
       "      <td>14</td>\n",
       "      <td>1950.0</td>\n",
       "    </tr>\n",
       "    <tr>\n",
       "      <td>3</td>\n",
       "      <td>1000</td>\n",
       "      <td>8</td>\n",
       "      <td>390</td>\n",
       "      <td>14055.93</td>\n",
       "      <td>81</td>\n",
       "      <td>52</td>\n",
       "      <td></td>\n",
       "      <td>Краснодар</td>\n",
       "      <td>Рафаил</td>\n",
       "      <td>Верещагин</td>\n",
       "      <td>...</td>\n",
       "      <td>1000</td>\n",
       "      <td>30.0</td>\n",
       "      <td>3000</td>\n",
       "      <td>1950</td>\n",
       "      <td>150</td>\n",
       "      <td>1</td>\n",
       "      <td>1</td>\n",
       "      <td>ultra</td>\n",
       "      <td>14</td>\n",
       "      <td>1950.0</td>\n",
       "    </tr>\n",
       "    <tr>\n",
       "      <td>4</td>\n",
       "      <td>1000</td>\n",
       "      <td>9</td>\n",
       "      <td>441</td>\n",
       "      <td>14568.91</td>\n",
       "      <td>57</td>\n",
       "      <td>52</td>\n",
       "      <td></td>\n",
       "      <td>Краснодар</td>\n",
       "      <td>Рафаил</td>\n",
       "      <td>Верещагин</td>\n",
       "      <td>...</td>\n",
       "      <td>1000</td>\n",
       "      <td>30.0</td>\n",
       "      <td>3000</td>\n",
       "      <td>1950</td>\n",
       "      <td>150</td>\n",
       "      <td>1</td>\n",
       "      <td>1</td>\n",
       "      <td>ultra</td>\n",
       "      <td>15</td>\n",
       "      <td>1950.0</td>\n",
       "    </tr>\n",
       "    <tr>\n",
       "      <td>5</td>\n",
       "      <td>1000</td>\n",
       "      <td>10</td>\n",
       "      <td>329</td>\n",
       "      <td>14702.49</td>\n",
       "      <td>73</td>\n",
       "      <td>52</td>\n",
       "      <td></td>\n",
       "      <td>Краснодар</td>\n",
       "      <td>Рафаил</td>\n",
       "      <td>Верещагин</td>\n",
       "      <td>...</td>\n",
       "      <td>1000</td>\n",
       "      <td>30.0</td>\n",
       "      <td>3000</td>\n",
       "      <td>1950</td>\n",
       "      <td>150</td>\n",
       "      <td>1</td>\n",
       "      <td>1</td>\n",
       "      <td>ultra</td>\n",
       "      <td>15</td>\n",
       "      <td>1950.0</td>\n",
       "    </tr>\n",
       "    <tr>\n",
       "      <td>6</td>\n",
       "      <td>1000</td>\n",
       "      <td>11</td>\n",
       "      <td>320</td>\n",
       "      <td>14756.47</td>\n",
       "      <td>58</td>\n",
       "      <td>52</td>\n",
       "      <td></td>\n",
       "      <td>Краснодар</td>\n",
       "      <td>Рафаил</td>\n",
       "      <td>Верещагин</td>\n",
       "      <td>...</td>\n",
       "      <td>1000</td>\n",
       "      <td>30.0</td>\n",
       "      <td>3000</td>\n",
       "      <td>1950</td>\n",
       "      <td>150</td>\n",
       "      <td>1</td>\n",
       "      <td>1</td>\n",
       "      <td>ultra</td>\n",
       "      <td>15</td>\n",
       "      <td>1950.0</td>\n",
       "    </tr>\n",
       "    <tr>\n",
       "      <td>7</td>\n",
       "      <td>1000</td>\n",
       "      <td>12</td>\n",
       "      <td>313</td>\n",
       "      <td>9817.61</td>\n",
       "      <td>70</td>\n",
       "      <td>52</td>\n",
       "      <td></td>\n",
       "      <td>Краснодар</td>\n",
       "      <td>Рафаил</td>\n",
       "      <td>Верещагин</td>\n",
       "      <td>...</td>\n",
       "      <td>1000</td>\n",
       "      <td>30.0</td>\n",
       "      <td>3000</td>\n",
       "      <td>1950</td>\n",
       "      <td>150</td>\n",
       "      <td>1</td>\n",
       "      <td>1</td>\n",
       "      <td>ultra</td>\n",
       "      <td>10</td>\n",
       "      <td>1950.0</td>\n",
       "    </tr>\n",
       "    <tr>\n",
       "      <td>8</td>\n",
       "      <td>1001</td>\n",
       "      <td>11</td>\n",
       "      <td>409</td>\n",
       "      <td>18429.34</td>\n",
       "      <td>0</td>\n",
       "      <td>41</td>\n",
       "      <td></td>\n",
       "      <td>Москва</td>\n",
       "      <td>Иван</td>\n",
       "      <td>Ежов</td>\n",
       "      <td>...</td>\n",
       "      <td>50</td>\n",
       "      <td>15.0</td>\n",
       "      <td>500</td>\n",
       "      <td>550</td>\n",
       "      <td>200</td>\n",
       "      <td>3</td>\n",
       "      <td>3</td>\n",
       "      <td>smart</td>\n",
       "      <td>18</td>\n",
       "      <td>1150.0</td>\n",
       "    </tr>\n",
       "    <tr>\n",
       "      <td>9</td>\n",
       "      <td>1001</td>\n",
       "      <td>12</td>\n",
       "      <td>392</td>\n",
       "      <td>14036.66</td>\n",
       "      <td>0</td>\n",
       "      <td>41</td>\n",
       "      <td></td>\n",
       "      <td>Москва</td>\n",
       "      <td>Иван</td>\n",
       "      <td>Ежов</td>\n",
       "      <td>...</td>\n",
       "      <td>50</td>\n",
       "      <td>15.0</td>\n",
       "      <td>500</td>\n",
       "      <td>550</td>\n",
       "      <td>200</td>\n",
       "      <td>3</td>\n",
       "      <td>3</td>\n",
       "      <td>smart</td>\n",
       "      <td>14</td>\n",
       "      <td>550.0</td>\n",
       "    </tr>\n",
       "  </tbody>\n",
       "</table>\n",
       "<p>10 rows × 22 columns</p>\n",
       "</div>"
      ],
      "text/plain": [
       "   user_id  month  duration   mb_used  messages  age churn_date       city  \\\n",
       "0     1000      5       151   2253.49        22   52             Краснодар   \n",
       "1     1000      6       159  23233.77        60   52             Краснодар   \n",
       "2     1000      7       319  14003.64        75   52             Краснодар   \n",
       "3     1000      8       390  14055.93        81   52             Краснодар   \n",
       "4     1000      9       441  14568.91        57   52             Краснодар   \n",
       "5     1000     10       329  14702.49        73   52             Краснодар   \n",
       "6     1000     11       320  14756.47        58   52             Краснодар   \n",
       "7     1000     12       313   9817.61        70   52             Краснодар   \n",
       "8     1001     11       409  18429.34         0   41                Москва   \n",
       "9     1001     12       392  14036.66         0   41                Москва   \n",
       "\n",
       "  first_name  last_name  ... messages_included gb_per_month_included  \\\n",
       "0     Рафаил  Верещагин  ...              1000                  30.0   \n",
       "1     Рафаил  Верещагин  ...              1000                  30.0   \n",
       "2     Рафаил  Верещагин  ...              1000                  30.0   \n",
       "3     Рафаил  Верещагин  ...              1000                  30.0   \n",
       "4     Рафаил  Верещагин  ...              1000                  30.0   \n",
       "5     Рафаил  Верещагин  ...              1000                  30.0   \n",
       "6     Рафаил  Верещагин  ...              1000                  30.0   \n",
       "7     Рафаил  Верещагин  ...              1000                  30.0   \n",
       "8       Иван       Ежов  ...                50                  15.0   \n",
       "9       Иван       Ежов  ...                50                  15.0   \n",
       "\n",
       "   minutes_included  rub_monthly_fee  rub_per_gb  rub_per_message  \\\n",
       "0              3000             1950         150                1   \n",
       "1              3000             1950         150                1   \n",
       "2              3000             1950         150                1   \n",
       "3              3000             1950         150                1   \n",
       "4              3000             1950         150                1   \n",
       "5              3000             1950         150                1   \n",
       "6              3000             1950         150                1   \n",
       "7              3000             1950         150                1   \n",
       "8               500              550         200                3   \n",
       "9               500              550         200                3   \n",
       "\n",
       "   rub_per_minute  tariff_name  gb_used revenue  \n",
       "0               1        ultra        3  1950.0  \n",
       "1               1        ultra       23  1950.0  \n",
       "2               1        ultra       14  1950.0  \n",
       "3               1        ultra       14  1950.0  \n",
       "4               1        ultra       15  1950.0  \n",
       "5               1        ultra       15  1950.0  \n",
       "6               1        ultra       15  1950.0  \n",
       "7               1        ultra       10  1950.0  \n",
       "8               3        smart       18  1150.0  \n",
       "9               3        smart       14   550.0  \n",
       "\n",
       "[10 rows x 22 columns]"
      ]
     },
     "execution_count": 33,
     "metadata": {},
     "output_type": "execute_result"
    }
   ],
   "source": [
    "# обзор итоговой таблицы data\n",
    "data.head(10)"
   ]
  },
  {
   "cell_type": "code",
   "execution_count": 34,
   "id": "e1cf0425",
   "metadata": {},
   "outputs": [
    {
     "data": {
      "text/plain": [
       "0"
      ]
     },
     "execution_count": 34,
     "metadata": {},
     "output_type": "execute_result"
    }
   ],
   "source": [
    "# смотрим нет ли дубликатов \n",
    "data.duplicated().sum()"
   ]
  },
  {
   "cell_type": "markdown",
   "id": "d5fd8a75",
   "metadata": {},
   "source": [
    "Вывод:\n",
    "\n",
    "В ходе предобработки данных из 5 изначально предоставленных заказчиком таблиц calls, users, messages, internet и tarrifs данные были объеденнены в общую таблицу data, в которую вошли 3214 значений.\n",
    "\n",
    "Также с столбцах с длительностью звонков и израходованным интернетом были произведены округления, в соответствии с политикой заказчика :\n",
    "\"«Мегалайн» всегда округляет секунды до минут, а мегабайты — до гигабайт.\"\n",
    "\n",
    "Для каждого пользователя было посчитано:\n",
    "\n",
    "   - количество сделанных звонков и израсходованных минут разговора по месяцам (столбец duration)\n",
    "    \n",
    "   - количество отправленных сообщений по месяцам (столбец messages)\n",
    "\n",
    "   - объем израсходованного интернет-трафика по месяцам в гб (столбец gb_used) \n",
    "\n",
    "   - помесячная выручка с каждого пользователя (столбец revenue)   \n",
    "    \n",
    " В названиях колонок нарушений стиля не наблюдается. Дубликатов и пропусков в итогой таблице не выявлено. "
   ]
  },
  {
   "cell_type": "markdown",
   "id": "ad27e6a4",
   "metadata": {},
   "source": [
    "## 2. Анализ и описание данных"
   ]
  },
  {
   "cell_type": "markdown",
   "id": "2115ccd8",
   "metadata": {},
   "source": [
    "Опишем поведение клиентов оператора, исходя из выборки. Определим сколько минут разговора, сколько сообщений и какой объём интернет-трафика требуется пользователям каждого тарифа в месяц. \n"
   ]
  },
  {
   "cell_type": "markdown",
   "id": "e0b820ef",
   "metadata": {},
   "source": [
    "### 2.1 Пользователи тарифа ULTRA"
   ]
  },
  {
   "cell_type": "code",
   "execution_count": 35,
   "id": "96128ebd",
   "metadata": {},
   "outputs": [],
   "source": [
    "# выделение данных о пользователях с тарифом ultra в отдельную таблицу data_ultra\n",
    "data_ultra= data.query('tariff==\"ultra\"')"
   ]
  },
  {
   "cell_type": "code",
   "execution_count": 36,
   "id": "4981e9c3",
   "metadata": {
    "scrolled": true
   },
   "outputs": [
    {
     "data": {
      "text/html": [
       "<div>\n",
       "<style scoped>\n",
       "    .dataframe tbody tr th:only-of-type {\n",
       "        vertical-align: middle;\n",
       "    }\n",
       "\n",
       "    .dataframe tbody tr th {\n",
       "        vertical-align: top;\n",
       "    }\n",
       "\n",
       "    .dataframe thead th {\n",
       "        text-align: right;\n",
       "    }\n",
       "</style>\n",
       "<table border=\"1\" class=\"dataframe\">\n",
       "  <thead>\n",
       "    <tr style=\"text-align: right;\">\n",
       "      <th></th>\n",
       "      <th>user_id</th>\n",
       "      <th>month</th>\n",
       "      <th>duration</th>\n",
       "      <th>mb_used</th>\n",
       "      <th>messages</th>\n",
       "      <th>age</th>\n",
       "      <th>churn_date</th>\n",
       "      <th>city</th>\n",
       "      <th>first_name</th>\n",
       "      <th>last_name</th>\n",
       "      <th>...</th>\n",
       "      <th>messages_included</th>\n",
       "      <th>gb_per_month_included</th>\n",
       "      <th>minutes_included</th>\n",
       "      <th>rub_monthly_fee</th>\n",
       "      <th>rub_per_gb</th>\n",
       "      <th>rub_per_message</th>\n",
       "      <th>rub_per_minute</th>\n",
       "      <th>tariff_name</th>\n",
       "      <th>gb_used</th>\n",
       "      <th>revenue</th>\n",
       "    </tr>\n",
       "  </thead>\n",
       "  <tbody>\n",
       "    <tr>\n",
       "      <td>0</td>\n",
       "      <td>1000</td>\n",
       "      <td>5</td>\n",
       "      <td>151</td>\n",
       "      <td>2253.49</td>\n",
       "      <td>22</td>\n",
       "      <td>52</td>\n",
       "      <td></td>\n",
       "      <td>Краснодар</td>\n",
       "      <td>Рафаил</td>\n",
       "      <td>Верещагин</td>\n",
       "      <td>...</td>\n",
       "      <td>1000</td>\n",
       "      <td>30.0</td>\n",
       "      <td>3000</td>\n",
       "      <td>1950</td>\n",
       "      <td>150</td>\n",
       "      <td>1</td>\n",
       "      <td>1</td>\n",
       "      <td>ultra</td>\n",
       "      <td>3</td>\n",
       "      <td>1950.0</td>\n",
       "    </tr>\n",
       "    <tr>\n",
       "      <td>1</td>\n",
       "      <td>1000</td>\n",
       "      <td>6</td>\n",
       "      <td>159</td>\n",
       "      <td>23233.77</td>\n",
       "      <td>60</td>\n",
       "      <td>52</td>\n",
       "      <td></td>\n",
       "      <td>Краснодар</td>\n",
       "      <td>Рафаил</td>\n",
       "      <td>Верещагин</td>\n",
       "      <td>...</td>\n",
       "      <td>1000</td>\n",
       "      <td>30.0</td>\n",
       "      <td>3000</td>\n",
       "      <td>1950</td>\n",
       "      <td>150</td>\n",
       "      <td>1</td>\n",
       "      <td>1</td>\n",
       "      <td>ultra</td>\n",
       "      <td>23</td>\n",
       "      <td>1950.0</td>\n",
       "    </tr>\n",
       "    <tr>\n",
       "      <td>2</td>\n",
       "      <td>1000</td>\n",
       "      <td>7</td>\n",
       "      <td>319</td>\n",
       "      <td>14003.64</td>\n",
       "      <td>75</td>\n",
       "      <td>52</td>\n",
       "      <td></td>\n",
       "      <td>Краснодар</td>\n",
       "      <td>Рафаил</td>\n",
       "      <td>Верещагин</td>\n",
       "      <td>...</td>\n",
       "      <td>1000</td>\n",
       "      <td>30.0</td>\n",
       "      <td>3000</td>\n",
       "      <td>1950</td>\n",
       "      <td>150</td>\n",
       "      <td>1</td>\n",
       "      <td>1</td>\n",
       "      <td>ultra</td>\n",
       "      <td>14</td>\n",
       "      <td>1950.0</td>\n",
       "    </tr>\n",
       "    <tr>\n",
       "      <td>3</td>\n",
       "      <td>1000</td>\n",
       "      <td>8</td>\n",
       "      <td>390</td>\n",
       "      <td>14055.93</td>\n",
       "      <td>81</td>\n",
       "      <td>52</td>\n",
       "      <td></td>\n",
       "      <td>Краснодар</td>\n",
       "      <td>Рафаил</td>\n",
       "      <td>Верещагин</td>\n",
       "      <td>...</td>\n",
       "      <td>1000</td>\n",
       "      <td>30.0</td>\n",
       "      <td>3000</td>\n",
       "      <td>1950</td>\n",
       "      <td>150</td>\n",
       "      <td>1</td>\n",
       "      <td>1</td>\n",
       "      <td>ultra</td>\n",
       "      <td>14</td>\n",
       "      <td>1950.0</td>\n",
       "    </tr>\n",
       "    <tr>\n",
       "      <td>4</td>\n",
       "      <td>1000</td>\n",
       "      <td>9</td>\n",
       "      <td>441</td>\n",
       "      <td>14568.91</td>\n",
       "      <td>57</td>\n",
       "      <td>52</td>\n",
       "      <td></td>\n",
       "      <td>Краснодар</td>\n",
       "      <td>Рафаил</td>\n",
       "      <td>Верещагин</td>\n",
       "      <td>...</td>\n",
       "      <td>1000</td>\n",
       "      <td>30.0</td>\n",
       "      <td>3000</td>\n",
       "      <td>1950</td>\n",
       "      <td>150</td>\n",
       "      <td>1</td>\n",
       "      <td>1</td>\n",
       "      <td>ultra</td>\n",
       "      <td>15</td>\n",
       "      <td>1950.0</td>\n",
       "    </tr>\n",
       "    <tr>\n",
       "      <td>...</td>\n",
       "      <td>...</td>\n",
       "      <td>...</td>\n",
       "      <td>...</td>\n",
       "      <td>...</td>\n",
       "      <td>...</td>\n",
       "      <td>...</td>\n",
       "      <td>...</td>\n",
       "      <td>...</td>\n",
       "      <td>...</td>\n",
       "      <td>...</td>\n",
       "      <td>...</td>\n",
       "      <td>...</td>\n",
       "      <td>...</td>\n",
       "      <td>...</td>\n",
       "      <td>...</td>\n",
       "      <td>...</td>\n",
       "      <td>...</td>\n",
       "      <td>...</td>\n",
       "      <td>...</td>\n",
       "      <td>...</td>\n",
       "      <td>...</td>\n",
       "    </tr>\n",
       "    <tr>\n",
       "      <td>3204</td>\n",
       "      <td>1473</td>\n",
       "      <td>9</td>\n",
       "      <td>0</td>\n",
       "      <td>17289.85</td>\n",
       "      <td>19</td>\n",
       "      <td>18</td>\n",
       "      <td></td>\n",
       "      <td>Красноярск</td>\n",
       "      <td>Николай</td>\n",
       "      <td>Лебедев</td>\n",
       "      <td>...</td>\n",
       "      <td>1000</td>\n",
       "      <td>30.0</td>\n",
       "      <td>3000</td>\n",
       "      <td>1950</td>\n",
       "      <td>150</td>\n",
       "      <td>1</td>\n",
       "      <td>1</td>\n",
       "      <td>ultra</td>\n",
       "      <td>17</td>\n",
       "      <td>1950.0</td>\n",
       "    </tr>\n",
       "    <tr>\n",
       "      <td>3205</td>\n",
       "      <td>1473</td>\n",
       "      <td>10</td>\n",
       "      <td>0</td>\n",
       "      <td>13688.65</td>\n",
       "      <td>20</td>\n",
       "      <td>18</td>\n",
       "      <td></td>\n",
       "      <td>Красноярск</td>\n",
       "      <td>Николай</td>\n",
       "      <td>Лебедев</td>\n",
       "      <td>...</td>\n",
       "      <td>1000</td>\n",
       "      <td>30.0</td>\n",
       "      <td>3000</td>\n",
       "      <td>1950</td>\n",
       "      <td>150</td>\n",
       "      <td>1</td>\n",
       "      <td>1</td>\n",
       "      <td>ultra</td>\n",
       "      <td>14</td>\n",
       "      <td>1950.0</td>\n",
       "    </tr>\n",
       "    <tr>\n",
       "      <td>3206</td>\n",
       "      <td>1473</td>\n",
       "      <td>11</td>\n",
       "      <td>0</td>\n",
       "      <td>21673.80</td>\n",
       "      <td>14</td>\n",
       "      <td>18</td>\n",
       "      <td></td>\n",
       "      <td>Красноярск</td>\n",
       "      <td>Николай</td>\n",
       "      <td>Лебедев</td>\n",
       "      <td>...</td>\n",
       "      <td>1000</td>\n",
       "      <td>30.0</td>\n",
       "      <td>3000</td>\n",
       "      <td>1950</td>\n",
       "      <td>150</td>\n",
       "      <td>1</td>\n",
       "      <td>1</td>\n",
       "      <td>ultra</td>\n",
       "      <td>22</td>\n",
       "      <td>1950.0</td>\n",
       "    </tr>\n",
       "    <tr>\n",
       "      <td>3207</td>\n",
       "      <td>1473</td>\n",
       "      <td>12</td>\n",
       "      <td>0</td>\n",
       "      <td>18418.26</td>\n",
       "      <td>20</td>\n",
       "      <td>18</td>\n",
       "      <td></td>\n",
       "      <td>Красноярск</td>\n",
       "      <td>Николай</td>\n",
       "      <td>Лебедев</td>\n",
       "      <td>...</td>\n",
       "      <td>1000</td>\n",
       "      <td>30.0</td>\n",
       "      <td>3000</td>\n",
       "      <td>1950</td>\n",
       "      <td>150</td>\n",
       "      <td>1</td>\n",
       "      <td>1</td>\n",
       "      <td>ultra</td>\n",
       "      <td>18</td>\n",
       "      <td>1950.0</td>\n",
       "    </tr>\n",
       "    <tr>\n",
       "      <td>3208</td>\n",
       "      <td>1476</td>\n",
       "      <td>4</td>\n",
       "      <td>0</td>\n",
       "      <td>530.78</td>\n",
       "      <td>0</td>\n",
       "      <td>50</td>\n",
       "      <td></td>\n",
       "      <td>Москва</td>\n",
       "      <td>Валентина</td>\n",
       "      <td>Семенова</td>\n",
       "      <td>...</td>\n",
       "      <td>1000</td>\n",
       "      <td>30.0</td>\n",
       "      <td>3000</td>\n",
       "      <td>1950</td>\n",
       "      <td>150</td>\n",
       "      <td>1</td>\n",
       "      <td>1</td>\n",
       "      <td>ultra</td>\n",
       "      <td>1</td>\n",
       "      <td>1950.0</td>\n",
       "    </tr>\n",
       "  </tbody>\n",
       "</table>\n",
       "<p>985 rows × 22 columns</p>\n",
       "</div>"
      ],
      "text/plain": [
       "      user_id  month  duration   mb_used  messages  age churn_date  \\\n",
       "0        1000      5       151   2253.49        22   52              \n",
       "1        1000      6       159  23233.77        60   52              \n",
       "2        1000      7       319  14003.64        75   52              \n",
       "3        1000      8       390  14055.93        81   52              \n",
       "4        1000      9       441  14568.91        57   52              \n",
       "...       ...    ...       ...       ...       ...  ...        ...   \n",
       "3204     1473      9         0  17289.85        19   18              \n",
       "3205     1473     10         0  13688.65        20   18              \n",
       "3206     1473     11         0  21673.80        14   18              \n",
       "3207     1473     12         0  18418.26        20   18              \n",
       "3208     1476      4         0    530.78         0   50              \n",
       "\n",
       "            city first_name  last_name  ... messages_included  \\\n",
       "0      Краснодар     Рафаил  Верещагин  ...              1000   \n",
       "1      Краснодар     Рафаил  Верещагин  ...              1000   \n",
       "2      Краснодар     Рафаил  Верещагин  ...              1000   \n",
       "3      Краснодар     Рафаил  Верещагин  ...              1000   \n",
       "4      Краснодар     Рафаил  Верещагин  ...              1000   \n",
       "...          ...        ...        ...  ...               ...   \n",
       "3204  Красноярск    Николай    Лебедев  ...              1000   \n",
       "3205  Красноярск    Николай    Лебедев  ...              1000   \n",
       "3206  Красноярск    Николай    Лебедев  ...              1000   \n",
       "3207  Красноярск    Николай    Лебедев  ...              1000   \n",
       "3208      Москва  Валентина   Семенова  ...              1000   \n",
       "\n",
       "     gb_per_month_included  minutes_included  rub_monthly_fee  rub_per_gb  \\\n",
       "0                     30.0              3000             1950         150   \n",
       "1                     30.0              3000             1950         150   \n",
       "2                     30.0              3000             1950         150   \n",
       "3                     30.0              3000             1950         150   \n",
       "4                     30.0              3000             1950         150   \n",
       "...                    ...               ...              ...         ...   \n",
       "3204                  30.0              3000             1950         150   \n",
       "3205                  30.0              3000             1950         150   \n",
       "3206                  30.0              3000             1950         150   \n",
       "3207                  30.0              3000             1950         150   \n",
       "3208                  30.0              3000             1950         150   \n",
       "\n",
       "      rub_per_message  rub_per_minute  tariff_name  gb_used revenue  \n",
       "0                   1               1        ultra        3  1950.0  \n",
       "1                   1               1        ultra       23  1950.0  \n",
       "2                   1               1        ultra       14  1950.0  \n",
       "3                   1               1        ultra       14  1950.0  \n",
       "4                   1               1        ultra       15  1950.0  \n",
       "...               ...             ...          ...      ...     ...  \n",
       "3204                1               1        ultra       17  1950.0  \n",
       "3205                1               1        ultra       14  1950.0  \n",
       "3206                1               1        ultra       22  1950.0  \n",
       "3207                1               1        ultra       18  1950.0  \n",
       "3208                1               1        ultra        1  1950.0  \n",
       "\n",
       "[985 rows x 22 columns]"
      ]
     },
     "execution_count": 36,
     "metadata": {},
     "output_type": "execute_result"
    }
   ],
   "source": [
    "# обзор таблицы data_ultra\n",
    "data_ultra"
   ]
  },
  {
   "cell_type": "code",
   "execution_count": 37,
   "id": "b649c4c8",
   "metadata": {},
   "outputs": [
    {
     "data": {
      "text/html": [
       "<div>\n",
       "<style scoped>\n",
       "    .dataframe tbody tr th:only-of-type {\n",
       "        vertical-align: middle;\n",
       "    }\n",
       "\n",
       "    .dataframe tbody tr th {\n",
       "        vertical-align: top;\n",
       "    }\n",
       "\n",
       "    .dataframe thead th {\n",
       "        text-align: right;\n",
       "    }\n",
       "</style>\n",
       "<table border=\"1\" class=\"dataframe\">\n",
       "  <thead>\n",
       "    <tr style=\"text-align: right;\">\n",
       "      <th></th>\n",
       "      <th>duration</th>\n",
       "      <th>messages</th>\n",
       "      <th>gb_used</th>\n",
       "    </tr>\n",
       "  </thead>\n",
       "  <tbody>\n",
       "    <tr>\n",
       "      <td>count</td>\n",
       "      <td>985.000000</td>\n",
       "      <td>985.000000</td>\n",
       "      <td>985.000000</td>\n",
       "    </tr>\n",
       "    <tr>\n",
       "      <td>mean</td>\n",
       "      <td>497.547208</td>\n",
       "      <td>49.363452</td>\n",
       "      <td>19.494416</td>\n",
       "    </tr>\n",
       "    <tr>\n",
       "      <td>std</td>\n",
       "      <td>299.929524</td>\n",
       "      <td>47.804457</td>\n",
       "      <td>9.853511</td>\n",
       "    </tr>\n",
       "    <tr>\n",
       "      <td>min</td>\n",
       "      <td>0.000000</td>\n",
       "      <td>0.000000</td>\n",
       "      <td>0.000000</td>\n",
       "    </tr>\n",
       "    <tr>\n",
       "      <td>25%</td>\n",
       "      <td>268.000000</td>\n",
       "      <td>6.000000</td>\n",
       "      <td>12.000000</td>\n",
       "    </tr>\n",
       "    <tr>\n",
       "      <td>50%</td>\n",
       "      <td>489.000000</td>\n",
       "      <td>38.000000</td>\n",
       "      <td>19.000000</td>\n",
       "    </tr>\n",
       "    <tr>\n",
       "      <td>75%</td>\n",
       "      <td>712.000000</td>\n",
       "      <td>79.000000</td>\n",
       "      <td>27.000000</td>\n",
       "    </tr>\n",
       "    <tr>\n",
       "      <td>max</td>\n",
       "      <td>1579.000000</td>\n",
       "      <td>224.000000</td>\n",
       "      <td>49.000000</td>\n",
       "    </tr>\n",
       "  </tbody>\n",
       "</table>\n",
       "</div>"
      ],
      "text/plain": [
       "          duration    messages     gb_used\n",
       "count   985.000000  985.000000  985.000000\n",
       "mean    497.547208   49.363452   19.494416\n",
       "std     299.929524   47.804457    9.853511\n",
       "min       0.000000    0.000000    0.000000\n",
       "25%     268.000000    6.000000   12.000000\n",
       "50%     489.000000   38.000000   19.000000\n",
       "75%     712.000000   79.000000   27.000000\n",
       "max    1579.000000  224.000000   49.000000"
      ]
     },
     "execution_count": 37,
     "metadata": {},
     "output_type": "execute_result"
    }
   ],
   "source": [
    "# обзор числовых значений в столбцах duration, messages, gb_used тарифа ULTRA\n",
    "data_ultra[['duration','messages','gb_used']].describe()"
   ]
  },
  {
   "cell_type": "code",
   "execution_count": 38,
   "id": "19ce40a3",
   "metadata": {},
   "outputs": [
    {
     "data": {
      "text/plain": [
       "duration    490084\n",
       "messages     48623\n",
       "gb_used      19202\n",
       "dtype: int64"
      ]
     },
     "execution_count": 38,
     "metadata": {},
     "output_type": "execute_result"
    }
   ],
   "source": [
    "# подсчет общего количества сообщений, потраченных минут и gb\n",
    "data_ultra[['duration','messages','gb_used']].sum()"
   ]
  },
  {
   "cell_type": "markdown",
   "id": "21c012cc",
   "metadata": {},
   "source": [
    "**Вывод:**\n",
    "\n",
    "Итак, согласно вышепредставленным таблицам, из 3214 клиентов тарифом ULTRA пользуется 985 - что составляет около 30% от общей выборки. \n",
    "\n",
    "В целом, пользователями было израсходовано 490 080 минут (8168 часов), было отправлено 48 623 сообщений и использовано 19 202 GB интернета.\n",
    "\n",
    "- Среднее количество минут разговора составило 498, при стандартном отклонении 300.\n",
    "- Среднее количество отправленных сообщений составило 49, при стандартном отклонении 47.8.\n",
    "- Среднее количество потраченных GB составило 19.5, при стандартном отклонении 9.8 ."
   ]
  },
  {
   "cell_type": "markdown",
   "id": "1b5b0cca",
   "metadata": {},
   "source": [
    "### 2.2 Пользователи тарифа SMART"
   ]
  },
  {
   "cell_type": "code",
   "execution_count": 39,
   "id": "2c7ec6b3",
   "metadata": {},
   "outputs": [],
   "source": [
    "# выделение данных о пользователях с тарифом smart в отдельную таблицу data_smart\n",
    "data_smart = data.query('tariff==\"smart\"')"
   ]
  },
  {
   "cell_type": "code",
   "execution_count": 40,
   "id": "1e9dab5c",
   "metadata": {},
   "outputs": [
    {
     "data": {
      "text/html": [
       "<div>\n",
       "<style scoped>\n",
       "    .dataframe tbody tr th:only-of-type {\n",
       "        vertical-align: middle;\n",
       "    }\n",
       "\n",
       "    .dataframe tbody tr th {\n",
       "        vertical-align: top;\n",
       "    }\n",
       "\n",
       "    .dataframe thead th {\n",
       "        text-align: right;\n",
       "    }\n",
       "</style>\n",
       "<table border=\"1\" class=\"dataframe\">\n",
       "  <thead>\n",
       "    <tr style=\"text-align: right;\">\n",
       "      <th></th>\n",
       "      <th>user_id</th>\n",
       "      <th>month</th>\n",
       "      <th>duration</th>\n",
       "      <th>mb_used</th>\n",
       "      <th>messages</th>\n",
       "      <th>age</th>\n",
       "      <th>churn_date</th>\n",
       "      <th>city</th>\n",
       "      <th>first_name</th>\n",
       "      <th>last_name</th>\n",
       "      <th>...</th>\n",
       "      <th>messages_included</th>\n",
       "      <th>gb_per_month_included</th>\n",
       "      <th>minutes_included</th>\n",
       "      <th>rub_monthly_fee</th>\n",
       "      <th>rub_per_gb</th>\n",
       "      <th>rub_per_message</th>\n",
       "      <th>rub_per_minute</th>\n",
       "      <th>tariff_name</th>\n",
       "      <th>gb_used</th>\n",
       "      <th>revenue</th>\n",
       "    </tr>\n",
       "  </thead>\n",
       "  <tbody>\n",
       "    <tr>\n",
       "      <td>8</td>\n",
       "      <td>1001</td>\n",
       "      <td>11</td>\n",
       "      <td>409</td>\n",
       "      <td>18429.34</td>\n",
       "      <td>0</td>\n",
       "      <td>41</td>\n",
       "      <td></td>\n",
       "      <td>Москва</td>\n",
       "      <td>Иван</td>\n",
       "      <td>Ежов</td>\n",
       "      <td>...</td>\n",
       "      <td>50</td>\n",
       "      <td>15.0</td>\n",
       "      <td>500</td>\n",
       "      <td>550</td>\n",
       "      <td>200</td>\n",
       "      <td>3</td>\n",
       "      <td>3</td>\n",
       "      <td>smart</td>\n",
       "      <td>18</td>\n",
       "      <td>1150.0</td>\n",
       "    </tr>\n",
       "    <tr>\n",
       "      <td>9</td>\n",
       "      <td>1001</td>\n",
       "      <td>12</td>\n",
       "      <td>392</td>\n",
       "      <td>14036.66</td>\n",
       "      <td>0</td>\n",
       "      <td>41</td>\n",
       "      <td></td>\n",
       "      <td>Москва</td>\n",
       "      <td>Иван</td>\n",
       "      <td>Ежов</td>\n",
       "      <td>...</td>\n",
       "      <td>50</td>\n",
       "      <td>15.0</td>\n",
       "      <td>500</td>\n",
       "      <td>550</td>\n",
       "      <td>200</td>\n",
       "      <td>3</td>\n",
       "      <td>3</td>\n",
       "      <td>smart</td>\n",
       "      <td>14</td>\n",
       "      <td>550.0</td>\n",
       "    </tr>\n",
       "    <tr>\n",
       "      <td>10</td>\n",
       "      <td>1002</td>\n",
       "      <td>6</td>\n",
       "      <td>111</td>\n",
       "      <td>10856.82</td>\n",
       "      <td>4</td>\n",
       "      <td>59</td>\n",
       "      <td></td>\n",
       "      <td>Стерлитамак</td>\n",
       "      <td>Евгений</td>\n",
       "      <td>Абрамович</td>\n",
       "      <td>...</td>\n",
       "      <td>50</td>\n",
       "      <td>15.0</td>\n",
       "      <td>500</td>\n",
       "      <td>550</td>\n",
       "      <td>200</td>\n",
       "      <td>3</td>\n",
       "      <td>3</td>\n",
       "      <td>smart</td>\n",
       "      <td>11</td>\n",
       "      <td>550.0</td>\n",
       "    </tr>\n",
       "    <tr>\n",
       "      <td>11</td>\n",
       "      <td>1002</td>\n",
       "      <td>7</td>\n",
       "      <td>205</td>\n",
       "      <td>17580.10</td>\n",
       "      <td>11</td>\n",
       "      <td>59</td>\n",
       "      <td></td>\n",
       "      <td>Стерлитамак</td>\n",
       "      <td>Евгений</td>\n",
       "      <td>Абрамович</td>\n",
       "      <td>...</td>\n",
       "      <td>50</td>\n",
       "      <td>15.0</td>\n",
       "      <td>500</td>\n",
       "      <td>550</td>\n",
       "      <td>200</td>\n",
       "      <td>3</td>\n",
       "      <td>3</td>\n",
       "      <td>smart</td>\n",
       "      <td>18</td>\n",
       "      <td>1150.0</td>\n",
       "    </tr>\n",
       "    <tr>\n",
       "      <td>12</td>\n",
       "      <td>1002</td>\n",
       "      <td>8</td>\n",
       "      <td>270</td>\n",
       "      <td>20319.26</td>\n",
       "      <td>13</td>\n",
       "      <td>59</td>\n",
       "      <td></td>\n",
       "      <td>Стерлитамак</td>\n",
       "      <td>Евгений</td>\n",
       "      <td>Абрамович</td>\n",
       "      <td>...</td>\n",
       "      <td>50</td>\n",
       "      <td>15.0</td>\n",
       "      <td>500</td>\n",
       "      <td>550</td>\n",
       "      <td>200</td>\n",
       "      <td>3</td>\n",
       "      <td>3</td>\n",
       "      <td>smart</td>\n",
       "      <td>20</td>\n",
       "      <td>1550.0</td>\n",
       "    </tr>\n",
       "    <tr>\n",
       "      <td>...</td>\n",
       "      <td>...</td>\n",
       "      <td>...</td>\n",
       "      <td>...</td>\n",
       "      <td>...</td>\n",
       "      <td>...</td>\n",
       "      <td>...</td>\n",
       "      <td>...</td>\n",
       "      <td>...</td>\n",
       "      <td>...</td>\n",
       "      <td>...</td>\n",
       "      <td>...</td>\n",
       "      <td>...</td>\n",
       "      <td>...</td>\n",
       "      <td>...</td>\n",
       "      <td>...</td>\n",
       "      <td>...</td>\n",
       "      <td>...</td>\n",
       "      <td>...</td>\n",
       "      <td>...</td>\n",
       "      <td>...</td>\n",
       "      <td>...</td>\n",
       "    </tr>\n",
       "    <tr>\n",
       "      <td>3209</td>\n",
       "      <td>1489</td>\n",
       "      <td>8</td>\n",
       "      <td>0</td>\n",
       "      <td>11050.56</td>\n",
       "      <td>17</td>\n",
       "      <td>35</td>\n",
       "      <td></td>\n",
       "      <td>Санкт-Петербург</td>\n",
       "      <td>Павел</td>\n",
       "      <td>Гончаров</td>\n",
       "      <td>...</td>\n",
       "      <td>50</td>\n",
       "      <td>15.0</td>\n",
       "      <td>500</td>\n",
       "      <td>550</td>\n",
       "      <td>200</td>\n",
       "      <td>3</td>\n",
       "      <td>3</td>\n",
       "      <td>smart</td>\n",
       "      <td>11</td>\n",
       "      <td>550.0</td>\n",
       "    </tr>\n",
       "    <tr>\n",
       "      <td>3210</td>\n",
       "      <td>1489</td>\n",
       "      <td>9</td>\n",
       "      <td>0</td>\n",
       "      <td>17206.30</td>\n",
       "      <td>32</td>\n",
       "      <td>35</td>\n",
       "      <td></td>\n",
       "      <td>Санкт-Петербург</td>\n",
       "      <td>Павел</td>\n",
       "      <td>Гончаров</td>\n",
       "      <td>...</td>\n",
       "      <td>50</td>\n",
       "      <td>15.0</td>\n",
       "      <td>500</td>\n",
       "      <td>550</td>\n",
       "      <td>200</td>\n",
       "      <td>3</td>\n",
       "      <td>3</td>\n",
       "      <td>smart</td>\n",
       "      <td>17</td>\n",
       "      <td>950.0</td>\n",
       "    </tr>\n",
       "    <tr>\n",
       "      <td>3211</td>\n",
       "      <td>1489</td>\n",
       "      <td>10</td>\n",
       "      <td>0</td>\n",
       "      <td>19559.44</td>\n",
       "      <td>21</td>\n",
       "      <td>35</td>\n",
       "      <td></td>\n",
       "      <td>Санкт-Петербург</td>\n",
       "      <td>Павел</td>\n",
       "      <td>Гончаров</td>\n",
       "      <td>...</td>\n",
       "      <td>50</td>\n",
       "      <td>15.0</td>\n",
       "      <td>500</td>\n",
       "      <td>550</td>\n",
       "      <td>200</td>\n",
       "      <td>3</td>\n",
       "      <td>3</td>\n",
       "      <td>smart</td>\n",
       "      <td>20</td>\n",
       "      <td>1550.0</td>\n",
       "    </tr>\n",
       "    <tr>\n",
       "      <td>3212</td>\n",
       "      <td>1489</td>\n",
       "      <td>11</td>\n",
       "      <td>0</td>\n",
       "      <td>17491.56</td>\n",
       "      <td>20</td>\n",
       "      <td>35</td>\n",
       "      <td></td>\n",
       "      <td>Санкт-Петербург</td>\n",
       "      <td>Павел</td>\n",
       "      <td>Гончаров</td>\n",
       "      <td>...</td>\n",
       "      <td>50</td>\n",
       "      <td>15.0</td>\n",
       "      <td>500</td>\n",
       "      <td>550</td>\n",
       "      <td>200</td>\n",
       "      <td>3</td>\n",
       "      <td>3</td>\n",
       "      <td>smart</td>\n",
       "      <td>18</td>\n",
       "      <td>1150.0</td>\n",
       "    </tr>\n",
       "    <tr>\n",
       "      <td>3213</td>\n",
       "      <td>1489</td>\n",
       "      <td>12</td>\n",
       "      <td>0</td>\n",
       "      <td>17322.51</td>\n",
       "      <td>35</td>\n",
       "      <td>35</td>\n",
       "      <td></td>\n",
       "      <td>Санкт-Петербург</td>\n",
       "      <td>Павел</td>\n",
       "      <td>Гончаров</td>\n",
       "      <td>...</td>\n",
       "      <td>50</td>\n",
       "      <td>15.0</td>\n",
       "      <td>500</td>\n",
       "      <td>550</td>\n",
       "      <td>200</td>\n",
       "      <td>3</td>\n",
       "      <td>3</td>\n",
       "      <td>smart</td>\n",
       "      <td>17</td>\n",
       "      <td>950.0</td>\n",
       "    </tr>\n",
       "  </tbody>\n",
       "</table>\n",
       "<p>2229 rows × 22 columns</p>\n",
       "</div>"
      ],
      "text/plain": [
       "      user_id  month  duration   mb_used  messages  age churn_date  \\\n",
       "8        1001     11       409  18429.34         0   41              \n",
       "9        1001     12       392  14036.66         0   41              \n",
       "10       1002      6       111  10856.82         4   59              \n",
       "11       1002      7       205  17580.10        11   59              \n",
       "12       1002      8       270  20319.26        13   59              \n",
       "...       ...    ...       ...       ...       ...  ...        ...   \n",
       "3209     1489      8         0  11050.56        17   35              \n",
       "3210     1489      9         0  17206.30        32   35              \n",
       "3211     1489     10         0  19559.44        21   35              \n",
       "3212     1489     11         0  17491.56        20   35              \n",
       "3213     1489     12         0  17322.51        35   35              \n",
       "\n",
       "                 city first_name  last_name  ... messages_included  \\\n",
       "8              Москва       Иван       Ежов  ...                50   \n",
       "9              Москва       Иван       Ежов  ...                50   \n",
       "10        Стерлитамак    Евгений  Абрамович  ...                50   \n",
       "11        Стерлитамак    Евгений  Абрамович  ...                50   \n",
       "12        Стерлитамак    Евгений  Абрамович  ...                50   \n",
       "...               ...        ...        ...  ...               ...   \n",
       "3209  Санкт-Петербург      Павел   Гончаров  ...                50   \n",
       "3210  Санкт-Петербург      Павел   Гончаров  ...                50   \n",
       "3211  Санкт-Петербург      Павел   Гончаров  ...                50   \n",
       "3212  Санкт-Петербург      Павел   Гончаров  ...                50   \n",
       "3213  Санкт-Петербург      Павел   Гончаров  ...                50   \n",
       "\n",
       "     gb_per_month_included  minutes_included  rub_monthly_fee  rub_per_gb  \\\n",
       "8                     15.0               500              550         200   \n",
       "9                     15.0               500              550         200   \n",
       "10                    15.0               500              550         200   \n",
       "11                    15.0               500              550         200   \n",
       "12                    15.0               500              550         200   \n",
       "...                    ...               ...              ...         ...   \n",
       "3209                  15.0               500              550         200   \n",
       "3210                  15.0               500              550         200   \n",
       "3211                  15.0               500              550         200   \n",
       "3212                  15.0               500              550         200   \n",
       "3213                  15.0               500              550         200   \n",
       "\n",
       "      rub_per_message  rub_per_minute  tariff_name  gb_used revenue  \n",
       "8                   3               3        smart       18  1150.0  \n",
       "9                   3               3        smart       14   550.0  \n",
       "10                  3               3        smart       11   550.0  \n",
       "11                  3               3        smart       18  1150.0  \n",
       "12                  3               3        smart       20  1550.0  \n",
       "...               ...             ...          ...      ...     ...  \n",
       "3209                3               3        smart       11   550.0  \n",
       "3210                3               3        smart       17   950.0  \n",
       "3211                3               3        smart       20  1550.0  \n",
       "3212                3               3        smart       18  1150.0  \n",
       "3213                3               3        smart       17   950.0  \n",
       "\n",
       "[2229 rows x 22 columns]"
      ]
     },
     "execution_count": 40,
     "metadata": {},
     "output_type": "execute_result"
    }
   ],
   "source": [
    "# обзор таблицы data_smart\n",
    "data_smart"
   ]
  },
  {
   "cell_type": "code",
   "execution_count": 41,
   "id": "4a6dc4b6",
   "metadata": {
    "scrolled": false
   },
   "outputs": [
    {
     "data": {
      "text/html": [
       "<div>\n",
       "<style scoped>\n",
       "    .dataframe tbody tr th:only-of-type {\n",
       "        vertical-align: middle;\n",
       "    }\n",
       "\n",
       "    .dataframe tbody tr th {\n",
       "        vertical-align: top;\n",
       "    }\n",
       "\n",
       "    .dataframe thead th {\n",
       "        text-align: right;\n",
       "    }\n",
       "</style>\n",
       "<table border=\"1\" class=\"dataframe\">\n",
       "  <thead>\n",
       "    <tr style=\"text-align: right;\">\n",
       "      <th></th>\n",
       "      <th>duration</th>\n",
       "      <th>messages</th>\n",
       "      <th>gb_used</th>\n",
       "    </tr>\n",
       "  </thead>\n",
       "  <tbody>\n",
       "    <tr>\n",
       "      <td>count</td>\n",
       "      <td>2229.000000</td>\n",
       "      <td>2229.000000</td>\n",
       "      <td>2229.000000</td>\n",
       "    </tr>\n",
       "    <tr>\n",
       "      <td>mean</td>\n",
       "      <td>394.922387</td>\n",
       "      <td>33.384029</td>\n",
       "      <td>16.328847</td>\n",
       "    </tr>\n",
       "    <tr>\n",
       "      <td>std</td>\n",
       "      <td>179.980292</td>\n",
       "      <td>28.227876</td>\n",
       "      <td>5.747061</td>\n",
       "    </tr>\n",
       "    <tr>\n",
       "      <td>min</td>\n",
       "      <td>0.000000</td>\n",
       "      <td>0.000000</td>\n",
       "      <td>0.000000</td>\n",
       "    </tr>\n",
       "    <tr>\n",
       "      <td>25%</td>\n",
       "      <td>268.000000</td>\n",
       "      <td>10.000000</td>\n",
       "      <td>13.000000</td>\n",
       "    </tr>\n",
       "    <tr>\n",
       "      <td>50%</td>\n",
       "      <td>398.000000</td>\n",
       "      <td>28.000000</td>\n",
       "      <td>17.000000</td>\n",
       "    </tr>\n",
       "    <tr>\n",
       "      <td>75%</td>\n",
       "      <td>516.000000</td>\n",
       "      <td>51.000000</td>\n",
       "      <td>20.000000</td>\n",
       "    </tr>\n",
       "    <tr>\n",
       "      <td>max</td>\n",
       "      <td>1355.000000</td>\n",
       "      <td>143.000000</td>\n",
       "      <td>38.000000</td>\n",
       "    </tr>\n",
       "  </tbody>\n",
       "</table>\n",
       "</div>"
      ],
      "text/plain": [
       "          duration     messages      gb_used\n",
       "count  2229.000000  2229.000000  2229.000000\n",
       "mean    394.922387    33.384029    16.328847\n",
       "std     179.980292    28.227876     5.747061\n",
       "min       0.000000     0.000000     0.000000\n",
       "25%     268.000000    10.000000    13.000000\n",
       "50%     398.000000    28.000000    17.000000\n",
       "75%     516.000000    51.000000    20.000000\n",
       "max    1355.000000   143.000000    38.000000"
      ]
     },
     "execution_count": 41,
     "metadata": {},
     "output_type": "execute_result"
    }
   ],
   "source": [
    "# обзор числовых значений в столбцах duration, messages, gb_used тарифа SMART\n",
    "data_smart[['duration','messages','gb_used']].describe()"
   ]
  },
  {
   "cell_type": "code",
   "execution_count": 42,
   "id": "ef64ae81",
   "metadata": {},
   "outputs": [
    {
     "data": {
      "text/plain": [
       "duration    880282\n",
       "messages     74413\n",
       "gb_used      36397\n",
       "dtype: int64"
      ]
     },
     "execution_count": 42,
     "metadata": {},
     "output_type": "execute_result"
    }
   ],
   "source": [
    "# подсчет общего количества сообщений, потраченных минут и gb\n",
    "data_smart[['duration','messages','gb_used']].sum()"
   ]
  },
  {
   "cell_type": "markdown",
   "id": "f948c555",
   "metadata": {},
   "source": [
    "**Вывод:**\n",
    "\n",
    "Итак, согласно вышепредставленным таблицам, из 3214 клиентов тарифом  SMART пользуется 2229 - что составляет около 70 % от общей выборки. \n",
    "\n",
    "В целом, пользователями было израсходовано 880 275 минут (около 14 671 часов), было отправлено 74 413 сообщений и использовано 36 397 GB интернета.\n",
    "\n",
    "- Среднее количество минут разговора составило 395, при стандартном отклонении 180.\n",
    "- Среднее количество отправленных сообщений составило 33, при стандартном отклонении 28.2.\n",
    "- Среднее количество потраченных GB составило 16.3, при стандартном отклонении 5.7. "
   ]
  },
  {
   "cell_type": "markdown",
   "id": "b4eb1508",
   "metadata": {},
   "source": [
    "### 2.3 Сравнение данных  тарифа SMART и ULTRA"
   ]
  },
  {
   "cell_type": "markdown",
   "id": "f394f8dd",
   "metadata": {},
   "source": [
    "Построим гистограммы распределения значений по обоим тарифам. "
   ]
  },
  {
   "cell_type": "code",
   "execution_count": 43,
   "id": "baa9061f",
   "metadata": {},
   "outputs": [
    {
     "data": {
      "image/png": "[encoded data removed]",
      "text/plain": [
       "<Figure size 720x288 with 1 Axes>"
      ]
     },
     "metadata": {
      "needs_background": "light"
     },
     "output_type": "display_data"
    }
   ],
   "source": [
    "# построение гистограмм по столбцу duration\n",
    "ax= (data_smart['duration']\n",
    "     .plot(kind='hist',bins=100,color='green',figsize = (10, 4),label='Smart',grid=True))\n",
    "\n",
    "(data_ultra['duration']\n",
    " .plot(kind='hist',bins=100,ax=ax, color = 'orange',figsize=(10,4),label='Ultra',grid=True,alpha=0.9))\n",
    "\n",
    "plt.legend()\n",
    "\n",
    "plt.title('Распределение потраченных минут')\n",
    "plt.show()"
   ]
  },
  {
   "cell_type": "markdown",
   "id": "119fd4f9",
   "metadata": {},
   "source": [
    "Гистограмма распределения потраченных минут по тарифу Ultra больше скошена вправо, что свидетельствует о том, что клиенты с данным тарифом склонны тратить больше времени на разговор."
   ]
  },
  {
   "cell_type": "code",
   "execution_count": 44,
   "id": "37faf0ef",
   "metadata": {
    "scrolled": true
   },
   "outputs": [
    {
     "data": {
      "image/png": "[encoded data removed]",
      "text/plain": [
       "<Figure size 720x288 with 1 Axes>"
      ]
     },
     "metadata": {
      "needs_background": "light"
     },
     "output_type": "display_data"
    }
   ],
   "source": [
    "# построение гистограмм по столбцу messages\n",
    "ax= (data_smart['messages']\n",
    "     .plot(kind='hist',bins=50,color='green',figsize = (10, 4),label='Smart',grid=True))\n",
    "\n",
    "(data_ultra['messages']\n",
    " .plot(kind='hist',bins=50,ax=ax, color = 'orange',figsize=(10,4),label='Ultra',grid=True,alpha=0.9))\n",
    "\n",
    "plt.legend()\n",
    "\n",
    "plt.title('Распределение отправленных сообщений')\n",
    "plt.show()"
   ]
  },
  {
   "cell_type": "markdown",
   "id": "529de3e6",
   "metadata": {},
   "source": [
    "Явный выброс в околонулевых значениях свидетельствует о том, что большинство пользователей в обоих тарифах перестали отправлять сообщения вовсе в обоих тарифах."
   ]
  },
  {
   "cell_type": "markdown",
   "id": "7d848113",
   "metadata": {},
   "source": [
    "<div class=\"alert alert-success\">\n",
    "<b>✔️ Комментарий ревьюера:</b> Отлично!"
   ]
  },
  {
   "cell_type": "code",
   "execution_count": 45,
   "id": "e50c6ffa",
   "metadata": {
    "scrolled": true
   },
   "outputs": [
    {
     "data": {
      "image/png": "[encoded data removed]",
      "text/plain": [
       "<Figure size 720x288 with 1 Axes>"
      ]
     },
     "metadata": {
      "needs_background": "light"
     },
     "output_type": "display_data"
    }
   ],
   "source": [
    "# построение гистограмм по столбцу gb_used\n",
    "ax= (data_smart['gb_used']\n",
    "     .plot(kind='hist',bins=20,color='green',figsize = (10, 4),label='Smart',grid=True))\n",
    "\n",
    "(data_ultra['gb_used']\n",
    " .plot(kind='hist',bins=20,ax=ax, color = 'orange',figsize=(10,4),label='Ultra',grid=True,alpha=0.9))\n",
    "\n",
    "plt.legend()\n",
    "\n",
    "plt.title('Распределение использованных GB')\n",
    "plt.show()"
   ]
  },
  {
   "cell_type": "markdown",
   "id": "2c24c82d",
   "metadata": {},
   "source": [
    "По гистограмме потраченных gb можно заметить, что пользователи тарифа Ultra склонны  использовать больше интернета."
   ]
  },
  {
   "cell_type": "markdown",
   "id": "fe9cface",
   "metadata": {},
   "source": [
    "Посмотрим как происходит распределение по средним значениям на обоих тарифах."
   ]
  },
  {
   "cell_type": "code",
   "execution_count": 46,
   "id": "d1147426",
   "metadata": {
    "scrolled": true
   },
   "outputs": [
    {
     "data": {
      "image/png": "[encoded data removed]",
      "text/plain": [
       "<Figure size 720x288 with 1 Axes>"
      ]
     },
     "metadata": {
      "needs_background": "light"
     },
     "output_type": "display_data"
    }
   ],
   "source": [
    "# построение графика по средним значениям столбца duration\n",
    "(data\n",
    " .pivot_table(index = 'month', columns = 'tariff_name', values = 'duration', aggfunc = 'mean')\n",
    " .plot(figsize = (10, 4),grid=True,linewidth=4))\n",
    "plt.title('Распределение средних значений потраченных минут')\n",
    "plt.show()"
   ]
  },
  {
   "cell_type": "code",
   "execution_count": 47,
   "id": "0c4f6b79",
   "metadata": {},
   "outputs": [
    {
     "data": {
      "image/png": "[encoded data removed]",
      "text/plain": [
       "<Figure size 720x288 with 1 Axes>"
      ]
     },
     "metadata": {
      "needs_background": "light"
     },
     "output_type": "display_data"
    }
   ],
   "source": [
    "# построение графика по средним значениям столбца messages\n",
    "(data\n",
    " .pivot_table(index = 'month', columns = 'tariff_name', values = 'messages', aggfunc = 'mean')\n",
    " .plot(figsize = (10, 4),grid=True,linewidth=4))\n",
    "plt.title('Распределение средних значений отправленных СМС')\n",
    "plt.show()"
   ]
  },
  {
   "cell_type": "code",
   "execution_count": 48,
   "id": "90b05f23",
   "metadata": {
    "scrolled": true
   },
   "outputs": [
    {
     "data": {
      "image/png": "[encoded data removed]",
      "text/plain": [
       "<Figure size 720x288 with 1 Axes>"
      ]
     },
     "metadata": {
      "needs_background": "light"
     },
     "output_type": "display_data"
    }
   ],
   "source": [
    "# построение графика по средним значениям столбца gb_used\n",
    "(data\n",
    " .pivot_table(index = 'month', columns = 'tariff_name', values = 'gb_used', aggfunc = 'mean')\n",
    " .plot(figsize = (10, 4),grid=True,linewidth=4))\n",
    "plt.title('Распределение средних значений использованных GB')\n",
    "plt.show()"
   ]
  },
  {
   "cell_type": "markdown",
   "id": "8259def5",
   "metadata": {},
   "source": [
    "**Вывод:**\n",
    "\n",
    "Согласно предоставленной выборке данных, пользователи чаще используют тариф Smart (около 70%) . Тарифом Ultra же пользуются только 30% клиентов. \n",
    "\n",
    "По графикам распределения средних значений явно видно, что в среднем пользователи тарифа Ultra тратят больше времени на разговор, отправляют больше сообщений и интернетом пользуются чаще. \n",
    "\n",
    "Также средние значения по тарифу Ultra значительно превышают значения по тарифу Smart:\n",
    "- потраченные минуты: Smart - 395, Ultra - 498\n",
    "- отправленные СМС: Smart - 33, Ultra - 49\n",
    "- интернет в gb : Smart - 16, Ultra - 19.5\n",
    "\n",
    "Далее проверим, свидетельствует ли данные выводы тому, что тариф Ultra приносит больше прибыли."
   ]
  },
  {
   "cell_type": "markdown",
   "id": "ceeb5470",
   "metadata": {},
   "source": [
    "## 3. Формулировка и проверка гипотез \n",
    "\n",
    " В ходе данного пункта необходимо проверить две заданные гипотезы:\n",
    "\n",
    "- средняя выручка пользователей тарифов «Ультра» и «Смарт» различаются;\n",
    "- средняя выручка пользователи из Москвы отличается от выручки пользователей из других регионов."
   ]
  },
  {
   "cell_type": "markdown",
   "id": "3a18a459",
   "metadata": {},
   "source": [
    "### 3.1 Проверка первой гипотезы\n",
    "\n",
    "Примем за нулевую гипотезу условие Н0 : средняя выручка пользователей тарифов «Ультра» и «Смарт» равна;\n",
    "\n",
    "за альтернативную Н1: средняя выручка пользователей тарифов «Ультра» не равняется средней выручке тарифа «Смарт» (гипотеза является двусторонней, потому что есть возможное отклонение и в большую, и в меньшую стороны)\n",
    "\n",
    "\n",
    "За alpha - критический уровень статистической значимости примем значение 0.05.\n",
    "\n"
   ]
  },
  {
   "cell_type": "code",
   "execution_count": 49,
   "id": "3af61d9e",
   "metadata": {},
   "outputs": [
    {
     "data": {
      "text/plain": [
       "count    2229.000000\n",
       "mean     1257.588605\n",
       "std       800.915599\n",
       "min       550.000000\n",
       "25%       550.000000\n",
       "50%       962.000000\n",
       "75%      1733.000000\n",
       "max      6614.000000\n",
       "Name: revenue, dtype: float64"
      ]
     },
     "execution_count": 49,
     "metadata": {},
     "output_type": "execute_result"
    }
   ],
   "source": [
    "data_smart.revenue.describe()"
   ]
  },
  {
   "cell_type": "code",
   "execution_count": 50,
   "id": "344f6979",
   "metadata": {},
   "outputs": [
    {
     "data": {
      "text/plain": [
       "count     985.000000\n",
       "mean     2070.152284\n",
       "std       376.187114\n",
       "min      1950.000000\n",
       "25%      1950.000000\n",
       "50%      1950.000000\n",
       "75%      1950.000000\n",
       "max      4800.000000\n",
       "Name: revenue, dtype: float64"
      ]
     },
     "execution_count": 50,
     "metadata": {},
     "output_type": "execute_result"
    }
   ],
   "source": [
    "data_ultra.revenue.describe()"
   ]
  },
  {
   "cell_type": "code",
   "execution_count": 51,
   "id": "5f276ce9",
   "metadata": {
    "scrolled": true
   },
   "outputs": [
    {
     "data": {
      "image/png": "[encoded data removed]",
      "text/plain": [
       "<Figure size 720x288 with 1 Axes>"
      ]
     },
     "metadata": {
      "needs_background": "light"
     },
     "output_type": "display_data"
    }
   ],
   "source": [
    "# построение диграммы по средним значениям столбца revenue для тарифов Смарт и Ультра\n",
    "(data\n",
    " .pivot_table(index = 'month', columns = 'tariff_name', values = 'revenue', aggfunc = 'mean')\n",
    " .plot(figsize = (10, 4),grid=True,linewidth=4))\n",
    "plt.title('Распределение прибыли тарифов Smart и Ultra')\n",
    "plt.show()"
   ]
  },
  {
   "cell_type": "markdown",
   "id": "4e16732c",
   "metadata": {},
   "source": [
    "Несмотря на то, что по выборке пользователей тарифом Смарт больше, средние показатели по выручке явно выше среди пользователей тарифом Ультра. \n",
    "Возможны следующие ситуации:\n",
    "- нам предоставили по Смарту выгрузку большего размера\n",
    "- Ультра запускался ограниченно (например в экспериментальном режиме).\n",
    "\n",
    "С помощью двустороннего теста проверим можно ли в этой ситуции ориентироваться на средние показатели и не является ли наблюдаемая разница шумом или случайностью."
   ]
  },
  {
   "cell_type": "code",
   "execution_count": 52,
   "id": "c44969dc",
   "metadata": {},
   "outputs": [
    {
     "name": "stdout",
     "output_type": "stream",
     "text": [
      "p-значение: 6.179723168444486e-274\n",
      "Отвергаем нулевую гипотезу\n"
     ]
    }
   ],
   "source": [
    "# проведение двустороннего теста\n",
    "\n",
    "alpha = .05 # критический уровень статистической значимости\n",
    "# если p-value окажется меньше него - отвегнем гипотезу\n",
    "\n",
    "results = st.ttest_ind(\n",
    "    data_ultra.revenue, \n",
    "    data_smart.revenue,\n",
    "    equal_var = False) #Значение False, так как выборки разного размера\n",
    "\n",
    "print('p-значение:', results.pvalue)\n",
    "\n",
    "if results.pvalue < alpha:\n",
    "    print(\"Отвергаем нулевую гипотезу\")\n",
    "else:\n",
    "    print(\"Не получилось отвергнуть нулевую гипотезу\") "
   ]
  },
  {
   "cell_type": "markdown",
   "id": "289c3a02",
   "metadata": {},
   "source": [
    "Низкий p-value (ниже уровня значимости) означает, что между тарифами действительно есть разница в средней выручке. То есть, экспериментальные данные очень маловероятны при условии, что нулевая гипотеза верна. Поэтому нулевую гипотезу мы отвергаем, а верным признаем утверждение,сформулированное в альтернативной гипотезе."
   ]
  },
  {
   "cell_type": "markdown",
   "id": "b5bc463f",
   "metadata": {},
   "source": [
    "### 3.2 Проверка второй гипотезы\n",
    "\n",
    "Примем за нулевую гипотезу условие Н0 : средняя выручка от пользователей из Москвы равна выручке от пользователей из других регионов;\n",
    "за альтернативную Н1 : средняя выручка от пользователей из Москвы не равна выручке от пользователей из других регионов;(гипотеза  также является двусторонней, потому что есть возможное отклонение и в большую, и в меньшую стороны).\n",
    "\n"
   ]
  },
  {
   "cell_type": "code",
   "execution_count": 53,
   "id": "e29c088c",
   "metadata": {},
   "outputs": [],
   "source": [
    "# создаем две таблицы для Москвы и остальных регионов\n",
    "data_moscow = data.query('city == \"Москва\"') \n",
    "data_not_moscow = data.query('city != \"Москва\"')"
   ]
  },
  {
   "cell_type": "code",
   "execution_count": 54,
   "id": "ed9a600a",
   "metadata": {
    "scrolled": true
   },
   "outputs": [
    {
     "data": {
      "text/plain": [
       "count     611.000000\n",
       "mean     1526.837971\n",
       "std       750.221433\n",
       "min       550.000000\n",
       "25%       750.000000\n",
       "50%      1750.000000\n",
       "75%      1950.000000\n",
       "max      5186.000000\n",
       "Name: revenue, dtype: float64"
      ]
     },
     "execution_count": 54,
     "metadata": {},
     "output_type": "execute_result"
    }
   ],
   "source": [
    "# описание значений столбца revenue для жителей москвы\n",
    "data_moscow.revenue.describe()"
   ]
  },
  {
   "cell_type": "code",
   "execution_count": 55,
   "id": "01d27964",
   "metadata": {},
   "outputs": [
    {
     "data": {
      "text/plain": [
       "count    2603.000000\n",
       "mean     1501.869766\n",
       "std       802.533059\n",
       "min       550.000000\n",
       "25%       716.500000\n",
       "50%      1550.000000\n",
       "75%      1950.000000\n",
       "max      6614.000000\n",
       "Name: revenue, dtype: float64"
      ]
     },
     "execution_count": 55,
     "metadata": {},
     "output_type": "execute_result"
    }
   ],
   "source": [
    "# описание значений столбца revenue для жителей других регионов\n",
    "data_not_moscow.revenue.describe()"
   ]
  },
  {
   "cell_type": "code",
   "execution_count": 56,
   "id": "7d7fa87b",
   "metadata": {
    "scrolled": true
   },
   "outputs": [
    {
     "data": {
      "image/png": "[encoded data removed]",
      "text/plain": [
       "<Figure size 720x288 with 1 Axes>"
      ]
     },
     "metadata": {
      "needs_background": "light"
     },
     "output_type": "display_data"
    }
   ],
   "source": [
    "# построение диграммы по средним значениям столбца revenue для жителей Москвы и остальных регионов\n",
    "ax= (data_moscow\n",
    "     .pivot_table(index = 'month',columns='city',values = 'revenue', aggfunc = 'mean')\n",
    "     .plot(color='green',figsize = (10, 4),grid=True,linewidth=4))\n",
    "\n",
    "(data_not_moscow\n",
    " .pivot_table(index = 'month',values = 'revenue', aggfunc = 'mean')\n",
    " .plot(ax=ax, color = 'orange',figsize = (10,4),grid = True,alpha = 0.8,linewidth = 4))\n",
    "\n",
    "plt.legend()\n",
    "\n",
    "plt.title('Распределение прибыли в Москве и регионах')\n",
    "plt.show()\n"
   ]
  },
  {
   "cell_type": "markdown",
   "id": "62e6e655",
   "metadata": {},
   "source": [
    "Судя по вышепредсталенным данным, средние показатели по прибыли в Москве значительно не отличаются от аналогичных показателей в других регионах.\n",
    "\n",
    "С помощью двустороннего теста проверим можно ли в этой ситуции ориентироваться на средние показатели и принять нулевую гипотезу.\n",
    "\n",
    "За alpha - критический уровень статистической значимости примем значение 0.05."
   ]
  },
  {
   "cell_type": "code",
   "execution_count": 57,
   "id": "d3d152f2",
   "metadata": {},
   "outputs": [
    {
     "name": "stdout",
     "output_type": "stream",
     "text": [
      "p-значение: 0.46532858228722906\n",
      "Не получилось отвергнуть нулевую гипотезу\n"
     ]
    }
   ],
   "source": [
    "# проведение двустороннего теста\n",
    "\n",
    "alpha = .05 # критический уровень статистической значимости\n",
    "# если p-value окажется меньше него - отвегнем гипотезу\n",
    "\n",
    "results = st.ttest_ind(\n",
    "    data_moscow.revenue, \n",
    "    data_not_moscow.revenue,\n",
    "    equal_var = False) #Значение False, так как выборки разного размера\n",
    "\n",
    "print('p-значение:', results.pvalue)\n",
    "\n",
    "if results.pvalue < alpha:\n",
    "    print(\"Отвергаем нулевую гипотезу\")\n",
    "else:\n",
    "    print(\"Не получилось отвергнуть нулевую гипотезу\")"
   ]
  },
  {
   "cell_type": "markdown",
   "id": "8ae3ef67",
   "metadata": {},
   "source": [
    "Значение p-value оказалось выше уровня значимости, что означает, что среднюю выручку от пользователей из Москвы можно считать равной выручке от пользователей из других регионов.  Поэтому нулевую гипотезу мы отвергнуть не можем."
   ]
  },
  {
   "cell_type": "markdown",
   "id": "7670b777",
   "metadata": {},
   "source": [
    "## 4. Общий вывод\n",
    "\n",
    "Целью исследования, поставленной оператором сотовой связи «Мегалайн», было провести анализ двух тарифных планов( «Смарт» и «Ультра»)  и сделать вывод — какой тариф приносит больше прибыли.\n",
    " \n",
    " В ходе анализа дынных было выявлено, что, несмотря на то, что по выборке пользователей тарифом Смарт больше, средние показатели по выручке явно выше среди пользователей тарифом Ультра. Также, двусторонний тест показал, то наблюдаемая разница действительно существует ( нулевая гипотеза была отвергнута) . Поэтому, опираясь на средние показатели делаем вывод, что **тариф Ультра приносит больше прибыли, чем тариф Смарт.**\n",
    " \n",
    " Второй задачей было выяснить отличается ли средняя выручка пользователей из Москвы от выручки пользователей из других регионов. В ходе статистического анализа, нулевую гипотезу отвергнуть неполучилось, поэтому **среднюю выручку от пользователей из Москвы признаем равной выручке от пользователей из других регионов.** "
   ]
  }
 ],
 "metadata": {
  "ExecuteTimeLog": [
   {
    "duration": 1086,
    "start_time": "2022-02-16T18:09:34.757Z"
   },
   {
    "duration": 1058,
    "start_time": "2022-02-16T18:09:35.846Z"
   },
   {
    "duration": 53,
    "start_time": "2022-02-16T18:09:36.854Z"
   },
   {
    "duration": 52,
    "start_time": "2022-02-16T18:09:36.857Z"
   },
   {
    "duration": 52,
    "start_time": "2022-02-16T18:09:36.858Z"
   },
   {
    "duration": 50,
    "start_time": "2022-02-16T18:09:36.861Z"
   },
   {
    "duration": 48,
    "start_time": "2022-02-16T18:09:36.864Z"
   },
   {
    "duration": 46,
    "start_time": "2022-02-16T18:09:36.867Z"
   },
   {
    "duration": 30,
    "start_time": "2022-02-16T18:09:36.884Z"
   },
   {
    "duration": 28,
    "start_time": "2022-02-16T18:09:36.887Z"
   },
   {
    "duration": 27,
    "start_time": "2022-02-16T18:09:36.889Z"
   },
   {
    "duration": 25,
    "start_time": "2022-02-16T18:09:36.892Z"
   },
   {
    "duration": 24,
    "start_time": "2022-02-16T18:09:36.895Z"
   },
   {
    "duration": 20,
    "start_time": "2022-02-16T18:09:36.900Z"
   },
   {
    "duration": 10,
    "start_time": "2022-02-16T18:09:36.910Z"
   },
   {
    "duration": 8,
    "start_time": "2022-02-16T18:09:36.914Z"
   },
   {
    "duration": 7,
    "start_time": "2022-02-16T18:09:36.916Z"
   },
   {
    "duration": 5,
    "start_time": "2022-02-16T18:09:36.919Z"
   },
   {
    "duration": 4,
    "start_time": "2022-02-16T18:09:36.921Z"
   },
   {
    "duration": 2,
    "start_time": "2022-02-16T18:09:36.924Z"
   },
   {
    "duration": 1,
    "start_time": "2022-02-16T18:09:36.926Z"
   },
   {
    "duration": 0,
    "start_time": "2022-02-16T18:09:36.928Z"
   },
   {
    "duration": -3,
    "start_time": "2022-02-16T18:09:36.931Z"
   },
   {
    "duration": -4,
    "start_time": "2022-02-16T18:09:36.933Z"
   },
   {
    "duration": -6,
    "start_time": "2022-02-16T18:09:36.936Z"
   },
   {
    "duration": -7,
    "start_time": "2022-02-16T18:09:36.938Z"
   },
   {
    "duration": -9,
    "start_time": "2022-02-16T18:09:36.941Z"
   },
   {
    "duration": -10,
    "start_time": "2022-02-16T18:09:36.943Z"
   },
   {
    "duration": -11,
    "start_time": "2022-02-16T18:09:36.945Z"
   },
   {
    "duration": -13,
    "start_time": "2022-02-16T18:09:36.948Z"
   },
   {
    "duration": -14,
    "start_time": "2022-02-16T18:09:36.950Z"
   },
   {
    "duration": -16,
    "start_time": "2022-02-16T18:09:36.953Z"
   },
   {
    "duration": -17,
    "start_time": "2022-02-16T18:09:36.955Z"
   },
   {
    "duration": -17,
    "start_time": "2022-02-16T18:09:36.957Z"
   },
   {
    "duration": -19,
    "start_time": "2022-02-16T18:09:36.959Z"
   },
   {
    "duration": -20,
    "start_time": "2022-02-16T18:09:36.961Z"
   },
   {
    "duration": -21,
    "start_time": "2022-02-16T18:09:36.963Z"
   },
   {
    "duration": -22,
    "start_time": "2022-02-16T18:09:36.965Z"
   },
   {
    "duration": -23,
    "start_time": "2022-02-16T18:09:36.967Z"
   },
   {
    "duration": -24,
    "start_time": "2022-02-16T18:09:36.969Z"
   },
   {
    "duration": -26,
    "start_time": "2022-02-16T18:09:36.972Z"
   },
   {
    "duration": -17,
    "start_time": "2022-02-16T18:09:36.975Z"
   },
   {
    "duration": -18,
    "start_time": "2022-02-16T18:09:36.977Z"
   },
   {
    "duration": -19,
    "start_time": "2022-02-16T18:09:36.979Z"
   },
   {
    "duration": -20,
    "start_time": "2022-02-16T18:09:36.981Z"
   },
   {
    "duration": -22,
    "start_time": "2022-02-16T18:09:36.984Z"
   },
   {
    "duration": -22,
    "start_time": "2022-02-16T18:09:36.985Z"
   },
   {
    "duration": -24,
    "start_time": "2022-02-16T18:09:36.988Z"
   },
   {
    "duration": -25,
    "start_time": "2022-02-16T18:09:36.990Z"
   },
   {
    "duration": -26,
    "start_time": "2022-02-16T18:09:36.992Z"
   },
   {
    "duration": -27,
    "start_time": "2022-02-16T18:09:36.994Z"
   },
   {
    "duration": -28,
    "start_time": "2022-02-16T18:09:36.996Z"
   },
   {
    "duration": -30,
    "start_time": "2022-02-16T18:09:36.998Z"
   },
   {
    "duration": -58,
    "start_time": "2022-02-16T18:09:37.027Z"
   },
   {
    "duration": -59,
    "start_time": "2022-02-16T18:09:37.029Z"
   },
   {
    "duration": -60,
    "start_time": "2022-02-16T18:09:37.031Z"
   },
   {
    "duration": -61,
    "start_time": "2022-02-16T18:09:37.033Z"
   },
   {
    "duration": 419,
    "start_time": "2022-02-16T18:20:10.813Z"
   },
   {
    "duration": 1025,
    "start_time": "2022-02-16T18:20:18.125Z"
   },
   {
    "duration": 407,
    "start_time": "2022-02-16T18:20:19.152Z"
   },
   {
    "duration": 11,
    "start_time": "2022-02-16T18:20:19.562Z"
   },
   {
    "duration": 13,
    "start_time": "2022-02-16T18:20:19.575Z"
   },
   {
    "duration": 9,
    "start_time": "2022-02-16T18:20:19.590Z"
   },
   {
    "duration": 6,
    "start_time": "2022-02-16T18:20:19.601Z"
   },
   {
    "duration": 4,
    "start_time": "2022-02-16T18:20:19.609Z"
   },
   {
    "duration": 47,
    "start_time": "2022-02-16T18:20:19.616Z"
   },
   {
    "duration": 8,
    "start_time": "2022-02-16T18:20:19.665Z"
   },
   {
    "duration": 19,
    "start_time": "2022-02-16T18:20:19.675Z"
   },
   {
    "duration": 20,
    "start_time": "2022-02-16T18:20:19.696Z"
   },
   {
    "duration": 45,
    "start_time": "2022-02-16T18:20:19.718Z"
   },
   {
    "duration": 20,
    "start_time": "2022-02-16T18:20:19.765Z"
   },
   {
    "duration": 7,
    "start_time": "2022-02-16T18:20:19.787Z"
   },
   {
    "duration": 16,
    "start_time": "2022-02-16T18:20:19.795Z"
   },
   {
    "duration": 49,
    "start_time": "2022-02-16T18:20:19.813Z"
   },
   {
    "duration": 16,
    "start_time": "2022-02-16T18:20:19.863Z"
   },
   {
    "duration": 20,
    "start_time": "2022-02-16T18:20:19.880Z"
   },
   {
    "duration": 9,
    "start_time": "2022-02-16T18:20:19.901Z"
   },
   {
    "duration": 60,
    "start_time": "2022-02-16T18:20:19.912Z"
   },
   {
    "duration": 30,
    "start_time": "2022-02-16T18:20:19.973Z"
   },
   {
    "duration": 23,
    "start_time": "2022-02-16T18:20:20.005Z"
   },
   {
    "duration": 43,
    "start_time": "2022-02-16T18:20:20.031Z"
   },
   {
    "duration": 20,
    "start_time": "2022-02-16T18:20:20.077Z"
   },
   {
    "duration": 16,
    "start_time": "2022-02-16T18:20:20.099Z"
   },
   {
    "duration": 41,
    "start_time": "2022-02-16T18:20:20.117Z"
   },
   {
    "duration": 4,
    "start_time": "2022-02-16T18:20:20.161Z"
   },
   {
    "duration": 10,
    "start_time": "2022-02-16T18:20:20.167Z"
   },
   {
    "duration": 6,
    "start_time": "2022-02-16T18:20:20.179Z"
   },
   {
    "duration": 4,
    "start_time": "2022-02-16T18:20:20.186Z"
   },
   {
    "duration": 11,
    "start_time": "2022-02-16T18:20:20.192Z"
   },
   {
    "duration": 323,
    "start_time": "2022-02-16T18:20:20.204Z"
   },
   {
    "duration": 31,
    "start_time": "2022-02-16T18:20:20.529Z"
   },
   {
    "duration": 12,
    "start_time": "2022-02-16T18:20:20.562Z"
   },
   {
    "duration": 6,
    "start_time": "2022-02-16T18:20:20.576Z"
   },
   {
    "duration": 37,
    "start_time": "2022-02-16T18:20:20.584Z"
   },
   {
    "duration": 48,
    "start_time": "2022-02-16T18:20:20.623Z"
   },
   {
    "duration": 6,
    "start_time": "2022-02-16T18:20:20.673Z"
   },
   {
    "duration": 8,
    "start_time": "2022-02-16T18:20:20.680Z"
   },
   {
    "duration": 34,
    "start_time": "2022-02-16T18:20:20.690Z"
   },
   {
    "duration": 48,
    "start_time": "2022-02-16T18:20:20.726Z"
   },
   {
    "duration": 7,
    "start_time": "2022-02-16T18:20:20.776Z"
   },
   {
    "duration": 691,
    "start_time": "2022-02-16T18:20:20.784Z"
   },
   {
    "duration": 448,
    "start_time": "2022-02-16T18:20:21.476Z"
   },
   {
    "duration": 310,
    "start_time": "2022-02-16T18:20:21.925Z"
   },
   {
    "duration": 264,
    "start_time": "2022-02-16T18:20:22.237Z"
   },
   {
    "duration": 228,
    "start_time": "2022-02-16T18:20:22.503Z"
   },
   {
    "duration": 321,
    "start_time": "2022-02-16T18:20:22.733Z"
   },
   {
    "duration": 9,
    "start_time": "2022-02-16T18:20:23.056Z"
   },
   {
    "duration": 11,
    "start_time": "2022-02-16T18:20:23.067Z"
   },
   {
    "duration": 270,
    "start_time": "2022-02-16T18:20:23.080Z"
   },
   {
    "duration": 7,
    "start_time": "2022-02-16T18:20:23.360Z"
   },
   {
    "duration": 27,
    "start_time": "2022-02-16T18:20:23.369Z"
   },
   {
    "duration": 10,
    "start_time": "2022-02-16T18:20:23.397Z"
   },
   {
    "duration": 16,
    "start_time": "2022-02-16T18:20:23.410Z"
   },
   {
    "duration": 247,
    "start_time": "2022-02-16T18:20:23.427Z"
   },
   {
    "duration": 5,
    "start_time": "2022-02-16T18:20:23.676Z"
   },
   {
    "duration": 399,
    "start_time": "2022-02-16T18:21:57.589Z"
   },
   {
    "duration": 1025,
    "start_time": "2022-02-16T18:22:03.899Z"
   },
   {
    "duration": 395,
    "start_time": "2022-02-16T18:22:04.927Z"
   },
   {
    "duration": 11,
    "start_time": "2022-02-16T18:22:05.326Z"
   },
   {
    "duration": 25,
    "start_time": "2022-02-16T18:22:05.340Z"
   },
   {
    "duration": 9,
    "start_time": "2022-02-16T18:22:05.368Z"
   },
   {
    "duration": 10,
    "start_time": "2022-02-16T18:22:05.379Z"
   },
   {
    "duration": 9,
    "start_time": "2022-02-16T18:22:05.391Z"
   },
   {
    "duration": 11,
    "start_time": "2022-02-16T18:22:05.403Z"
   },
   {
    "duration": 47,
    "start_time": "2022-02-16T18:22:05.416Z"
   },
   {
    "duration": 20,
    "start_time": "2022-02-16T18:22:05.465Z"
   },
   {
    "duration": 21,
    "start_time": "2022-02-16T18:22:05.487Z"
   },
   {
    "duration": 17,
    "start_time": "2022-02-16T18:22:05.510Z"
   },
   {
    "duration": 50,
    "start_time": "2022-02-16T18:22:05.528Z"
   },
   {
    "duration": 7,
    "start_time": "2022-02-16T18:22:05.580Z"
   },
   {
    "duration": 19,
    "start_time": "2022-02-16T18:22:05.588Z"
   },
   {
    "duration": 49,
    "start_time": "2022-02-16T18:22:05.610Z"
   },
   {
    "duration": 15,
    "start_time": "2022-02-16T18:22:05.661Z"
   },
   {
    "duration": 23,
    "start_time": "2022-02-16T18:22:05.678Z"
   },
   {
    "duration": 9,
    "start_time": "2022-02-16T18:22:05.702Z"
   },
   {
    "duration": 54,
    "start_time": "2022-02-16T18:22:05.712Z"
   },
   {
    "duration": 32,
    "start_time": "2022-02-16T18:22:05.768Z"
   },
   {
    "duration": 23,
    "start_time": "2022-02-16T18:22:05.802Z"
   },
   {
    "duration": 47,
    "start_time": "2022-02-16T18:22:05.827Z"
   },
   {
    "duration": 21,
    "start_time": "2022-02-16T18:22:05.876Z"
   },
   {
    "duration": 15,
    "start_time": "2022-02-16T18:22:05.899Z"
   },
   {
    "duration": 42,
    "start_time": "2022-02-16T18:22:05.918Z"
   },
   {
    "duration": 5,
    "start_time": "2022-02-16T18:22:05.963Z"
   },
   {
    "duration": 16,
    "start_time": "2022-02-16T18:22:05.969Z"
   },
   {
    "duration": 6,
    "start_time": "2022-02-16T18:22:05.986Z"
   },
   {
    "duration": 6,
    "start_time": "2022-02-16T18:22:05.994Z"
   },
   {
    "duration": 9,
    "start_time": "2022-02-16T18:22:06.002Z"
   },
   {
    "duration": 299,
    "start_time": "2022-02-16T18:22:06.013Z"
   },
   {
    "duration": 23,
    "start_time": "2022-02-16T18:22:06.313Z"
   },
   {
    "duration": 23,
    "start_time": "2022-02-16T18:22:06.338Z"
   },
   {
    "duration": 12,
    "start_time": "2022-02-16T18:22:06.363Z"
   },
   {
    "duration": 40,
    "start_time": "2022-02-16T18:22:06.377Z"
   },
   {
    "duration": 18,
    "start_time": "2022-02-16T18:22:06.418Z"
   },
   {
    "duration": 25,
    "start_time": "2022-02-16T18:22:06.438Z"
   },
   {
    "duration": 8,
    "start_time": "2022-02-16T18:22:06.465Z"
   },
   {
    "duration": 36,
    "start_time": "2022-02-16T18:22:06.475Z"
   },
   {
    "duration": 49,
    "start_time": "2022-02-16T18:22:06.514Z"
   },
   {
    "duration": 8,
    "start_time": "2022-02-16T18:22:06.566Z"
   },
   {
    "duration": 700,
    "start_time": "2022-02-16T18:22:06.576Z"
   },
   {
    "duration": 448,
    "start_time": "2022-02-16T18:22:07.278Z"
   },
   {
    "duration": 330,
    "start_time": "2022-02-16T18:22:07.728Z"
   },
   {
    "duration": 244,
    "start_time": "2022-02-16T18:22:08.060Z"
   },
   {
    "duration": 242,
    "start_time": "2022-02-16T18:22:08.306Z"
   },
   {
    "duration": 344,
    "start_time": "2022-02-16T18:22:08.551Z"
   },
   {
    "duration": 9,
    "start_time": "2022-02-16T18:22:08.897Z"
   },
   {
    "duration": 12,
    "start_time": "2022-02-16T18:22:08.908Z"
   },
   {
    "duration": 273,
    "start_time": "2022-02-16T18:22:08.922Z"
   },
   {
    "duration": 6,
    "start_time": "2022-02-16T18:22:09.197Z"
   },
   {
    "duration": 18,
    "start_time": "2022-02-16T18:22:09.205Z"
   },
   {
    "duration": 16,
    "start_time": "2022-02-16T18:22:09.225Z"
   },
   {
    "duration": 24,
    "start_time": "2022-02-16T18:22:09.244Z"
   },
   {
    "duration": 244,
    "start_time": "2022-02-16T18:22:09.270Z"
   },
   {
    "duration": 5,
    "start_time": "2022-02-16T18:22:09.516Z"
   }
  ],
  "kernelspec": {
   "display_name": "Python 3 (ipykernel)",
   "language": "python",
   "name": "python3"
  },
  "language_info": {
   "codemirror_mode": {
    "name": "ipython",
    "version": 3
   },
   "file_extension": ".py",
   "mimetype": "text/x-python",
   "name": "python",
   "nbconvert_exporter": "python",
   "pygments_lexer": "ipython3",
   "version": "3.9.7"
  },
  "toc": {
   "base_numbering": 1,
   "nav_menu": {},
   "number_sections": true,
   "sideBar": true,
   "skip_h1_title": true,
   "title_cell": "Table of Contents",
   "title_sidebar": "Contents",
   "toc_cell": false,
   "toc_position": {},
   "toc_section_display": true,
   "toc_window_display": false
  }
 },
 "nbformat": 4,
 "nbformat_minor": 5
}
