{
 "cells": [
  {
   "cell_type": "markdown",
   "metadata": {},
   "source": [
    "#  Принятие решений в бизнесе.\n",
    "\n",
    "**Заказчик**: крупный интернет-магазин. \n",
    "\n",
    "**Цель исследования**:  \n",
    "Используя данные интернет-магазина приоритезировать гипотезы, произвести оценку результатов A/B-тестирования различными методами\n",
    "\n",
    "**Ход исследования** : \n",
    "- приоритизация гипотез, подготовленных вместе с отделом маркетинга для увеличения выручки\n",
    "- анализ полученных результатов в ходе A/B теста.\n",
    "\n",
    "**Входные данные и их описание** :\n",
    "1. 9 гипотез по увеличению выручки интернет-магазина с указанными параметрами Reach, Impact, Confidence, Effort\n",
    "\n",
    "Таблица **/datasets/hypothesis.csv** :\n",
    "\n",
    "- Hypothesis — краткое описание гипотезы;\n",
    "- Reach — охват пользователей по 10-балльной шкале;\n",
    "- Impact — влияние на пользователей по 10-балльной шкале;\n",
    "- Confidence — уверенность в гипотезе по 10-балльной шкале;\n",
    "- Efforts — затраты ресурсов на проверку гипотезы по 10-балльной шкале. Чем больше значение Efforts, тем дороже проверка гипотезы.\n",
    "\n",
    "2. результаты A/B тестирования, представленные в таблицах: \n",
    "\n",
    "**/datasets/orders.csv.**:\n",
    "\n",
    "- transactionId — идентификатор заказа;\n",
    "- visitorId — идентификатор пользователя, совершившего заказ;\n",
    "- date — дата, когда был совершён заказ;\n",
    "- revenue — выручка заказа;\n",
    "- group — группа A/B-теста, в которую попал заказ.\n",
    "\n",
    "**/datasets/visitors.csv.**:\n",
    "\n",
    "- date — дата;\n",
    "- group — группа A/B-теста;\n",
    "- visitors — количество пользователей в указанную дату в указанной группе A/B-теста\n"
   ]
  },
  {
   "cell_type": "code",
   "execution_count": 1,
   "metadata": {},
   "outputs": [],
   "source": [
    "# импорт библиотек, необходимых для работы над проектом\n",
    "import pandas as pd\n",
    "import scipy.stats as stats\n",
    "import datetime as dt\n",
    "import numpy as np\n",
    "import matplotlib.pyplot as plt"
   ]
  },
  {
   "cell_type": "markdown",
   "metadata": {},
   "source": [
    "## Приоритизация гипотез."
   ]
  },
  {
   "cell_type": "code",
   "execution_count": 2,
   "metadata": {
    "scrolled": true
   },
   "outputs": [
    {
     "data": {
      "text/html": [
       "<div>\n",
       "<style scoped>\n",
       "    .dataframe tbody tr th:only-of-type {\n",
       "        vertical-align: middle;\n",
       "    }\n",
       "\n",
       "    .dataframe tbody tr th {\n",
       "        vertical-align: top;\n",
       "    }\n",
       "\n",
       "    .dataframe thead th {\n",
       "        text-align: right;\n",
       "    }\n",
       "</style>\n",
       "<table border=\"1\" class=\"dataframe\">\n",
       "  <thead>\n",
       "    <tr style=\"text-align: right;\">\n",
       "      <th></th>\n",
       "      <th>Hypothesis</th>\n",
       "      <th>Reach</th>\n",
       "      <th>Impact</th>\n",
       "      <th>Confidence</th>\n",
       "      <th>Efforts</th>\n",
       "    </tr>\n",
       "  </thead>\n",
       "  <tbody>\n",
       "    <tr>\n",
       "      <th>0</th>\n",
       "      <td>Добавить два новых канала привлечения трафика, что позволит привлекать на 30% больше пользователей</td>\n",
       "      <td>3</td>\n",
       "      <td>10</td>\n",
       "      <td>8</td>\n",
       "      <td>6</td>\n",
       "    </tr>\n",
       "    <tr>\n",
       "      <th>1</th>\n",
       "      <td>Запустить собственную службу доставки, что сократит срок доставки заказов</td>\n",
       "      <td>2</td>\n",
       "      <td>5</td>\n",
       "      <td>4</td>\n",
       "      <td>10</td>\n",
       "    </tr>\n",
       "    <tr>\n",
       "      <th>2</th>\n",
       "      <td>Добавить блоки рекомендаций товаров на сайт интернет магазина, чтобы повысить конверсию и средний чек заказа</td>\n",
       "      <td>8</td>\n",
       "      <td>3</td>\n",
       "      <td>7</td>\n",
       "      <td>3</td>\n",
       "    </tr>\n",
       "    <tr>\n",
       "      <th>3</th>\n",
       "      <td>Изменить структура категорий, что увеличит конверсию, т.к. пользователи быстрее найдут нужный товар</td>\n",
       "      <td>8</td>\n",
       "      <td>3</td>\n",
       "      <td>3</td>\n",
       "      <td>8</td>\n",
       "    </tr>\n",
       "    <tr>\n",
       "      <th>4</th>\n",
       "      <td>Изменить цвет фона главной страницы, чтобы увеличить вовлеченность пользователей</td>\n",
       "      <td>3</td>\n",
       "      <td>1</td>\n",
       "      <td>1</td>\n",
       "      <td>1</td>\n",
       "    </tr>\n",
       "    <tr>\n",
       "      <th>5</th>\n",
       "      <td>Добавить страницу отзывов клиентов о магазине, что позволит увеличить количество заказов</td>\n",
       "      <td>3</td>\n",
       "      <td>2</td>\n",
       "      <td>2</td>\n",
       "      <td>3</td>\n",
       "    </tr>\n",
       "    <tr>\n",
       "      <th>6</th>\n",
       "      <td>Показать на главной странице баннеры с актуальными акциями и распродажами, чтобы увеличить конверсию</td>\n",
       "      <td>5</td>\n",
       "      <td>3</td>\n",
       "      <td>8</td>\n",
       "      <td>3</td>\n",
       "    </tr>\n",
       "    <tr>\n",
       "      <th>7</th>\n",
       "      <td>Добавить форму подписки на все основные страницы, чтобы собрать базу клиентов для email-рассылок</td>\n",
       "      <td>10</td>\n",
       "      <td>7</td>\n",
       "      <td>8</td>\n",
       "      <td>5</td>\n",
       "    </tr>\n",
       "    <tr>\n",
       "      <th>8</th>\n",
       "      <td>Запустить акцию, дающую скидку на товар в день рождения</td>\n",
       "      <td>1</td>\n",
       "      <td>9</td>\n",
       "      <td>9</td>\n",
       "      <td>5</td>\n",
       "    </tr>\n",
       "  </tbody>\n",
       "</table>\n",
       "</div>"
      ],
      "text/plain": [
       "                                                                                                     Hypothesis  \\\n",
       "0            Добавить два новых канала привлечения трафика, что позволит привлекать на 30% больше пользователей   \n",
       "1                                     Запустить собственную службу доставки, что сократит срок доставки заказов   \n",
       "2  Добавить блоки рекомендаций товаров на сайт интернет магазина, чтобы повысить конверсию и средний чек заказа   \n",
       "3           Изменить структура категорий, что увеличит конверсию, т.к. пользователи быстрее найдут нужный товар   \n",
       "4                              Изменить цвет фона главной страницы, чтобы увеличить вовлеченность пользователей   \n",
       "5                      Добавить страницу отзывов клиентов о магазине, что позволит увеличить количество заказов   \n",
       "6          Показать на главной странице баннеры с актуальными акциями и распродажами, чтобы увеличить конверсию   \n",
       "7              Добавить форму подписки на все основные страницы, чтобы собрать базу клиентов для email-рассылок   \n",
       "8                                                       Запустить акцию, дающую скидку на товар в день рождения   \n",
       "\n",
       "   Reach  Impact  Confidence  Efforts  \n",
       "0      3      10           8        6  \n",
       "1      2       5           4       10  \n",
       "2      8       3           7        3  \n",
       "3      8       3           3        8  \n",
       "4      3       1           1        1  \n",
       "5      3       2           2        3  \n",
       "6      5       3           8        3  \n",
       "7     10       7           8        5  \n",
       "8      1       9           9        5  "
      ]
     },
     "metadata": {},
     "output_type": "display_data"
    }
   ],
   "source": [
    "# чтение файла с гипотезами\n",
    "\n",
    "hypothesis = pd.read_csv('/datasets/hypothesis.csv')\n",
    "pd.options.display.max_colwidth = 130 \n",
    "display(hypothesis)"
   ]
  },
  {
   "cell_type": "code",
   "execution_count": 3,
   "metadata": {},
   "outputs": [],
   "source": [
    "# переименование столбцов в таблице hypothesis\n",
    "# hypothesis = hypothesis.rename(columns = str.lower)\n",
    "hypothesis.columns = hypothesis.columns.str.lower()"
   ]
  },
  {
   "cell_type": "markdown",
   "metadata": {},
   "source": [
    "### ICE "
   ]
  },
  {
   "cell_type": "code",
   "execution_count": 4,
   "metadata": {},
   "outputs": [
    {
     "data": {
      "text/html": [
       "<div>\n",
       "<style scoped>\n",
       "    .dataframe tbody tr th:only-of-type {\n",
       "        vertical-align: middle;\n",
       "    }\n",
       "\n",
       "    .dataframe tbody tr th {\n",
       "        vertical-align: top;\n",
       "    }\n",
       "\n",
       "    .dataframe thead th {\n",
       "        text-align: right;\n",
       "    }\n",
       "</style>\n",
       "<table border=\"1\" class=\"dataframe\">\n",
       "  <thead>\n",
       "    <tr style=\"text-align: right;\">\n",
       "      <th></th>\n",
       "      <th>hypothesis</th>\n",
       "      <th>reach</th>\n",
       "      <th>impact</th>\n",
       "      <th>confidence</th>\n",
       "      <th>efforts</th>\n",
       "      <th>ICE</th>\n",
       "    </tr>\n",
       "  </thead>\n",
       "  <tbody>\n",
       "    <tr>\n",
       "      <th>8</th>\n",
       "      <td>Запустить акцию, дающую скидку на товар в день рождения</td>\n",
       "      <td>1</td>\n",
       "      <td>9</td>\n",
       "      <td>9</td>\n",
       "      <td>5</td>\n",
       "      <td>16.200000</td>\n",
       "    </tr>\n",
       "    <tr>\n",
       "      <th>0</th>\n",
       "      <td>Добавить два новых канала привлечения трафика, что позволит привлекать на 30% больше пользователей</td>\n",
       "      <td>3</td>\n",
       "      <td>10</td>\n",
       "      <td>8</td>\n",
       "      <td>6</td>\n",
       "      <td>13.333333</td>\n",
       "    </tr>\n",
       "    <tr>\n",
       "      <th>7</th>\n",
       "      <td>Добавить форму подписки на все основные страницы, чтобы собрать базу клиентов для email-рассылок</td>\n",
       "      <td>10</td>\n",
       "      <td>7</td>\n",
       "      <td>8</td>\n",
       "      <td>5</td>\n",
       "      <td>11.200000</td>\n",
       "    </tr>\n",
       "    <tr>\n",
       "      <th>6</th>\n",
       "      <td>Показать на главной странице баннеры с актуальными акциями и распродажами, чтобы увеличить конверсию</td>\n",
       "      <td>5</td>\n",
       "      <td>3</td>\n",
       "      <td>8</td>\n",
       "      <td>3</td>\n",
       "      <td>8.000000</td>\n",
       "    </tr>\n",
       "    <tr>\n",
       "      <th>2</th>\n",
       "      <td>Добавить блоки рекомендаций товаров на сайт интернет магазина, чтобы повысить конверсию и средний чек заказа</td>\n",
       "      <td>8</td>\n",
       "      <td>3</td>\n",
       "      <td>7</td>\n",
       "      <td>3</td>\n",
       "      <td>7.000000</td>\n",
       "    </tr>\n",
       "    <tr>\n",
       "      <th>1</th>\n",
       "      <td>Запустить собственную службу доставки, что сократит срок доставки заказов</td>\n",
       "      <td>2</td>\n",
       "      <td>5</td>\n",
       "      <td>4</td>\n",
       "      <td>10</td>\n",
       "      <td>2.000000</td>\n",
       "    </tr>\n",
       "    <tr>\n",
       "      <th>5</th>\n",
       "      <td>Добавить страницу отзывов клиентов о магазине, что позволит увеличить количество заказов</td>\n",
       "      <td>3</td>\n",
       "      <td>2</td>\n",
       "      <td>2</td>\n",
       "      <td>3</td>\n",
       "      <td>1.333333</td>\n",
       "    </tr>\n",
       "    <tr>\n",
       "      <th>3</th>\n",
       "      <td>Изменить структура категорий, что увеличит конверсию, т.к. пользователи быстрее найдут нужный товар</td>\n",
       "      <td>8</td>\n",
       "      <td>3</td>\n",
       "      <td>3</td>\n",
       "      <td>8</td>\n",
       "      <td>1.125000</td>\n",
       "    </tr>\n",
       "    <tr>\n",
       "      <th>4</th>\n",
       "      <td>Изменить цвет фона главной страницы, чтобы увеличить вовлеченность пользователей</td>\n",
       "      <td>3</td>\n",
       "      <td>1</td>\n",
       "      <td>1</td>\n",
       "      <td>1</td>\n",
       "      <td>1.000000</td>\n",
       "    </tr>\n",
       "  </tbody>\n",
       "</table>\n",
       "</div>"
      ],
      "text/plain": [
       "                                                                                                     hypothesis  \\\n",
       "8                                                       Запустить акцию, дающую скидку на товар в день рождения   \n",
       "0            Добавить два новых канала привлечения трафика, что позволит привлекать на 30% больше пользователей   \n",
       "7              Добавить форму подписки на все основные страницы, чтобы собрать базу клиентов для email-рассылок   \n",
       "6          Показать на главной странице баннеры с актуальными акциями и распродажами, чтобы увеличить конверсию   \n",
       "2  Добавить блоки рекомендаций товаров на сайт интернет магазина, чтобы повысить конверсию и средний чек заказа   \n",
       "1                                     Запустить собственную службу доставки, что сократит срок доставки заказов   \n",
       "5                      Добавить страницу отзывов клиентов о магазине, что позволит увеличить количество заказов   \n",
       "3           Изменить структура категорий, что увеличит конверсию, т.к. пользователи быстрее найдут нужный товар   \n",
       "4                              Изменить цвет фона главной страницы, чтобы увеличить вовлеченность пользователей   \n",
       "\n",
       "   reach  impact  confidence  efforts        ICE  \n",
       "8      1       9           9        5  16.200000  \n",
       "0      3      10           8        6  13.333333  \n",
       "7     10       7           8        5  11.200000  \n",
       "6      5       3           8        3   8.000000  \n",
       "2      8       3           7        3   7.000000  \n",
       "1      2       5           4       10   2.000000  \n",
       "5      3       2           2        3   1.333333  \n",
       "3      8       3           3        8   1.125000  \n",
       "4      3       1           1        1   1.000000  "
      ]
     },
     "execution_count": 4,
     "metadata": {},
     "output_type": "execute_result"
    }
   ],
   "source": [
    "# вычисление параметра ICE для каждой из гипотез\n",
    "hypothesis['ICE']= (hypothesis.impact*hypothesis.confidence)/hypothesis.efforts\n",
    "pd.options.display.max_colwidth = 130 \n",
    "hypothesis.sort_values(by = 'ICE',ascending= False)"
   ]
  },
  {
   "cell_type": "markdown",
   "metadata": {},
   "source": [
    "### RICE "
   ]
  },
  {
   "cell_type": "code",
   "execution_count": 5,
   "metadata": {},
   "outputs": [
    {
     "data": {
      "text/html": [
       "<div>\n",
       "<style scoped>\n",
       "    .dataframe tbody tr th:only-of-type {\n",
       "        vertical-align: middle;\n",
       "    }\n",
       "\n",
       "    .dataframe tbody tr th {\n",
       "        vertical-align: top;\n",
       "    }\n",
       "\n",
       "    .dataframe thead th {\n",
       "        text-align: right;\n",
       "    }\n",
       "</style>\n",
       "<table border=\"1\" class=\"dataframe\">\n",
       "  <thead>\n",
       "    <tr style=\"text-align: right;\">\n",
       "      <th></th>\n",
       "      <th>hypothesis</th>\n",
       "      <th>reach</th>\n",
       "      <th>impact</th>\n",
       "      <th>confidence</th>\n",
       "      <th>efforts</th>\n",
       "      <th>ICE</th>\n",
       "      <th>RICE</th>\n",
       "    </tr>\n",
       "  </thead>\n",
       "  <tbody>\n",
       "    <tr>\n",
       "      <th>7</th>\n",
       "      <td>Добавить форму подписки на все основные страницы, чтобы собрать базу клиентов для email-рассылок</td>\n",
       "      <td>10</td>\n",
       "      <td>7</td>\n",
       "      <td>8</td>\n",
       "      <td>5</td>\n",
       "      <td>11.200000</td>\n",
       "      <td>112.0</td>\n",
       "    </tr>\n",
       "    <tr>\n",
       "      <th>2</th>\n",
       "      <td>Добавить блоки рекомендаций товаров на сайт интернет магазина, чтобы повысить конверсию и средний чек заказа</td>\n",
       "      <td>8</td>\n",
       "      <td>3</td>\n",
       "      <td>7</td>\n",
       "      <td>3</td>\n",
       "      <td>7.000000</td>\n",
       "      <td>56.0</td>\n",
       "    </tr>\n",
       "    <tr>\n",
       "      <th>0</th>\n",
       "      <td>Добавить два новых канала привлечения трафика, что позволит привлекать на 30% больше пользователей</td>\n",
       "      <td>3</td>\n",
       "      <td>10</td>\n",
       "      <td>8</td>\n",
       "      <td>6</td>\n",
       "      <td>13.333333</td>\n",
       "      <td>40.0</td>\n",
       "    </tr>\n",
       "    <tr>\n",
       "      <th>6</th>\n",
       "      <td>Показать на главной странице баннеры с актуальными акциями и распродажами, чтобы увеличить конверсию</td>\n",
       "      <td>5</td>\n",
       "      <td>3</td>\n",
       "      <td>8</td>\n",
       "      <td>3</td>\n",
       "      <td>8.000000</td>\n",
       "      <td>40.0</td>\n",
       "    </tr>\n",
       "    <tr>\n",
       "      <th>8</th>\n",
       "      <td>Запустить акцию, дающую скидку на товар в день рождения</td>\n",
       "      <td>1</td>\n",
       "      <td>9</td>\n",
       "      <td>9</td>\n",
       "      <td>5</td>\n",
       "      <td>16.200000</td>\n",
       "      <td>16.2</td>\n",
       "    </tr>\n",
       "    <tr>\n",
       "      <th>3</th>\n",
       "      <td>Изменить структура категорий, что увеличит конверсию, т.к. пользователи быстрее найдут нужный товар</td>\n",
       "      <td>8</td>\n",
       "      <td>3</td>\n",
       "      <td>3</td>\n",
       "      <td>8</td>\n",
       "      <td>1.125000</td>\n",
       "      <td>9.0</td>\n",
       "    </tr>\n",
       "    <tr>\n",
       "      <th>1</th>\n",
       "      <td>Запустить собственную службу доставки, что сократит срок доставки заказов</td>\n",
       "      <td>2</td>\n",
       "      <td>5</td>\n",
       "      <td>4</td>\n",
       "      <td>10</td>\n",
       "      <td>2.000000</td>\n",
       "      <td>4.0</td>\n",
       "    </tr>\n",
       "    <tr>\n",
       "      <th>5</th>\n",
       "      <td>Добавить страницу отзывов клиентов о магазине, что позволит увеличить количество заказов</td>\n",
       "      <td>3</td>\n",
       "      <td>2</td>\n",
       "      <td>2</td>\n",
       "      <td>3</td>\n",
       "      <td>1.333333</td>\n",
       "      <td>4.0</td>\n",
       "    </tr>\n",
       "    <tr>\n",
       "      <th>4</th>\n",
       "      <td>Изменить цвет фона главной страницы, чтобы увеличить вовлеченность пользователей</td>\n",
       "      <td>3</td>\n",
       "      <td>1</td>\n",
       "      <td>1</td>\n",
       "      <td>1</td>\n",
       "      <td>1.000000</td>\n",
       "      <td>3.0</td>\n",
       "    </tr>\n",
       "  </tbody>\n",
       "</table>\n",
       "</div>"
      ],
      "text/plain": [
       "                                                                                                     hypothesis  \\\n",
       "7              Добавить форму подписки на все основные страницы, чтобы собрать базу клиентов для email-рассылок   \n",
       "2  Добавить блоки рекомендаций товаров на сайт интернет магазина, чтобы повысить конверсию и средний чек заказа   \n",
       "0            Добавить два новых канала привлечения трафика, что позволит привлекать на 30% больше пользователей   \n",
       "6          Показать на главной странице баннеры с актуальными акциями и распродажами, чтобы увеличить конверсию   \n",
       "8                                                       Запустить акцию, дающую скидку на товар в день рождения   \n",
       "3           Изменить структура категорий, что увеличит конверсию, т.к. пользователи быстрее найдут нужный товар   \n",
       "1                                     Запустить собственную службу доставки, что сократит срок доставки заказов   \n",
       "5                      Добавить страницу отзывов клиентов о магазине, что позволит увеличить количество заказов   \n",
       "4                              Изменить цвет фона главной страницы, чтобы увеличить вовлеченность пользователей   \n",
       "\n",
       "   reach  impact  confidence  efforts        ICE   RICE  \n",
       "7     10       7           8        5  11.200000  112.0  \n",
       "2      8       3           7        3   7.000000   56.0  \n",
       "0      3      10           8        6  13.333333   40.0  \n",
       "6      5       3           8        3   8.000000   40.0  \n",
       "8      1       9           9        5  16.200000   16.2  \n",
       "3      8       3           3        8   1.125000    9.0  \n",
       "1      2       5           4       10   2.000000    4.0  \n",
       "5      3       2           2        3   1.333333    4.0  \n",
       "4      3       1           1        1   1.000000    3.0  "
      ]
     },
     "execution_count": 5,
     "metadata": {},
     "output_type": "execute_result"
    }
   ],
   "source": [
    "# вычисление параметра RICE для каждой из гипотез\n",
    "hypothesis['RICE']= (hypothesis.reach*hypothesis.impact*hypothesis.confidence)/hypothesis.efforts\n",
    "pd.options.display.max_colwidth = 130 \n",
    "hypothesis.sort_values(by = 'RICE',ascending= False)"
   ]
  },
  {
   "cell_type": "code",
   "execution_count": 6,
   "metadata": {},
   "outputs": [
    {
     "data": {
      "text/html": [
       "<style  type=\"text/css\" >\n",
       "#T_e002b_row0_col1,#T_e002b_row2_col2{\n",
       "            background-color:  #08306b;\n",
       "            color:  #f1f1f1;\n",
       "        }#T_e002b_row0_col2{\n",
       "            background-color:  #dfebf7;\n",
       "            color:  #000000;\n",
       "        }#T_e002b_row1_col1{\n",
       "            background-color:  #1561a9;\n",
       "            color:  #f1f1f1;\n",
       "        }#T_e002b_row1_col2,#T_e002b_row3_col2{\n",
       "            background-color:  #aacfe5;\n",
       "            color:  #000000;\n",
       "        }#T_e002b_row2_col1{\n",
       "            background-color:  #3686c0;\n",
       "            color:  #000000;\n",
       "        }#T_e002b_row3_col1{\n",
       "            background-color:  #7cb7da;\n",
       "            color:  #000000;\n",
       "        }#T_e002b_row4_col1{\n",
       "            background-color:  #95c5df;\n",
       "            color:  #000000;\n",
       "        }#T_e002b_row4_col2{\n",
       "            background-color:  #71b1d7;\n",
       "            color:  #000000;\n",
       "        }#T_e002b_row5_col1{\n",
       "            background-color:  #eaf3fb;\n",
       "            color:  #000000;\n",
       "        }#T_e002b_row5_col2,#T_e002b_row6_col2,#T_e002b_row7_col1{\n",
       "            background-color:  #f5fafe;\n",
       "            color:  #000000;\n",
       "        }#T_e002b_row6_col1{\n",
       "            background-color:  #f3f8fe;\n",
       "            color:  #000000;\n",
       "        }#T_e002b_row7_col2{\n",
       "            background-color:  #ecf4fb;\n",
       "            color:  #000000;\n",
       "        }#T_e002b_row8_col1,#T_e002b_row8_col2{\n",
       "            background-color:  #f7fbff;\n",
       "            color:  #000000;\n",
       "        }</style><table id=\"T_e002b_\" ><thead>    <tr>        <th class=\"blank level0\" ></th>        <th class=\"col_heading level0 col0\" >hypothesis</th>        <th class=\"col_heading level0 col1\" >ICE</th>        <th class=\"col_heading level0 col2\" >RICE</th>    </tr></thead><tbody>\n",
       "                <tr>\n",
       "                        <th id=\"T_e002b_level0_row0\" class=\"row_heading level0 row0\" >8</th>\n",
       "                        <td id=\"T_e002b_row0_col0\" class=\"data row0 col0\" >Запустить акцию, дающую скидку на товар в день рождения</td>\n",
       "                        <td id=\"T_e002b_row0_col1\" class=\"data row0 col1\" >16.200000</td>\n",
       "                        <td id=\"T_e002b_row0_col2\" class=\"data row0 col2\" >16.200000</td>\n",
       "            </tr>\n",
       "            <tr>\n",
       "                        <th id=\"T_e002b_level0_row1\" class=\"row_heading level0 row1\" >0</th>\n",
       "                        <td id=\"T_e002b_row1_col0\" class=\"data row1 col0\" >Добавить два новых канала привлечения трафика, что позволит привлекать на 30% больше пользователей</td>\n",
       "                        <td id=\"T_e002b_row1_col1\" class=\"data row1 col1\" >13.333333</td>\n",
       "                        <td id=\"T_e002b_row1_col2\" class=\"data row1 col2\" >40.000000</td>\n",
       "            </tr>\n",
       "            <tr>\n",
       "                        <th id=\"T_e002b_level0_row2\" class=\"row_heading level0 row2\" >7</th>\n",
       "                        <td id=\"T_e002b_row2_col0\" class=\"data row2 col0\" >Добавить форму подписки на все основные страницы, чтобы собрать базу клиентов для email-рассылок</td>\n",
       "                        <td id=\"T_e002b_row2_col1\" class=\"data row2 col1\" >11.200000</td>\n",
       "                        <td id=\"T_e002b_row2_col2\" class=\"data row2 col2\" >112.000000</td>\n",
       "            </tr>\n",
       "            <tr>\n",
       "                        <th id=\"T_e002b_level0_row3\" class=\"row_heading level0 row3\" >6</th>\n",
       "                        <td id=\"T_e002b_row3_col0\" class=\"data row3 col0\" >Показать на главной странице баннеры с актуальными акциями и распродажами, чтобы увеличить конверсию</td>\n",
       "                        <td id=\"T_e002b_row3_col1\" class=\"data row3 col1\" >8.000000</td>\n",
       "                        <td id=\"T_e002b_row3_col2\" class=\"data row3 col2\" >40.000000</td>\n",
       "            </tr>\n",
       "            <tr>\n",
       "                        <th id=\"T_e002b_level0_row4\" class=\"row_heading level0 row4\" >2</th>\n",
       "                        <td id=\"T_e002b_row4_col0\" class=\"data row4 col0\" >Добавить блоки рекомендаций товаров на сайт интернет магазина, чтобы повысить конверсию и средний чек заказа</td>\n",
       "                        <td id=\"T_e002b_row4_col1\" class=\"data row4 col1\" >7.000000</td>\n",
       "                        <td id=\"T_e002b_row4_col2\" class=\"data row4 col2\" >56.000000</td>\n",
       "            </tr>\n",
       "            <tr>\n",
       "                        <th id=\"T_e002b_level0_row5\" class=\"row_heading level0 row5\" >1</th>\n",
       "                        <td id=\"T_e002b_row5_col0\" class=\"data row5 col0\" >Запустить собственную службу доставки, что сократит срок доставки заказов</td>\n",
       "                        <td id=\"T_e002b_row5_col1\" class=\"data row5 col1\" >2.000000</td>\n",
       "                        <td id=\"T_e002b_row5_col2\" class=\"data row5 col2\" >4.000000</td>\n",
       "            </tr>\n",
       "            <tr>\n",
       "                        <th id=\"T_e002b_level0_row6\" class=\"row_heading level0 row6\" >5</th>\n",
       "                        <td id=\"T_e002b_row6_col0\" class=\"data row6 col0\" >Добавить страницу отзывов клиентов о магазине, что позволит увеличить количество заказов</td>\n",
       "                        <td id=\"T_e002b_row6_col1\" class=\"data row6 col1\" >1.333333</td>\n",
       "                        <td id=\"T_e002b_row6_col2\" class=\"data row6 col2\" >4.000000</td>\n",
       "            </tr>\n",
       "            <tr>\n",
       "                        <th id=\"T_e002b_level0_row7\" class=\"row_heading level0 row7\" >3</th>\n",
       "                        <td id=\"T_e002b_row7_col0\" class=\"data row7 col0\" >Изменить структура категорий, что увеличит конверсию, т.к. пользователи быстрее найдут нужный товар</td>\n",
       "                        <td id=\"T_e002b_row7_col1\" class=\"data row7 col1\" >1.125000</td>\n",
       "                        <td id=\"T_e002b_row7_col2\" class=\"data row7 col2\" >9.000000</td>\n",
       "            </tr>\n",
       "            <tr>\n",
       "                        <th id=\"T_e002b_level0_row8\" class=\"row_heading level0 row8\" >4</th>\n",
       "                        <td id=\"T_e002b_row8_col0\" class=\"data row8 col0\" >Изменить цвет фона главной страницы, чтобы увеличить вовлеченность пользователей</td>\n",
       "                        <td id=\"T_e002b_row8_col1\" class=\"data row8 col1\" >1.000000</td>\n",
       "                        <td id=\"T_e002b_row8_col2\" class=\"data row8 col2\" >3.000000</td>\n",
       "            </tr>\n",
       "    </tbody></table>"
      ],
      "text/plain": [
       "<pandas.io.formats.style.Styler at 0x7f463ee6d2e0>"
      ]
     },
     "execution_count": 6,
     "metadata": {},
     "output_type": "execute_result"
    }
   ],
   "source": [
    "# применение фреймворков 'ICE' и 'RICE'\n",
    "(hypothesis[['hypothesis','ICE','RICE']]\n",
    "                                        .sort_values(by = ['ICE','RICE'],ascending= False)\n",
    "                                        .style.background_gradient(cmap='Blues', axis=0))"
   ]
  },
  {
   "cell_type": "markdown",
   "metadata": {},
   "source": [
    "### Вывод:\n",
    "Как видно из графика выше, наиболее перспективными гипотезами по параметру ICE оказались гипотезы 1, 8 и 9. \n",
    "\n",
    "По RICE же, самой перспективной гипотезой оказалась гипотеза № 8. Так получилось, потому что параметр reach по данной гипотезе равен 10, что означает что изменение затронет всех пользователей. Гипотезы 1, 3 и 7, по RICE, кажутся также достаточно перспективными."
   ]
  },
  {
   "cell_type": "markdown",
   "metadata": {},
   "source": [
    "## Подготовка к анализу A/B-теста"
   ]
  },
  {
   "cell_type": "markdown",
   "metadata": {},
   "source": [
    "### Данные о заказах (orders)."
   ]
  },
  {
   "cell_type": "code",
   "execution_count": 7,
   "metadata": {},
   "outputs": [
    {
     "data": {
      "text/html": [
       "<div>\n",
       "<style scoped>\n",
       "    .dataframe tbody tr th:only-of-type {\n",
       "        vertical-align: middle;\n",
       "    }\n",
       "\n",
       "    .dataframe tbody tr th {\n",
       "        vertical-align: top;\n",
       "    }\n",
       "\n",
       "    .dataframe thead th {\n",
       "        text-align: right;\n",
       "    }\n",
       "</style>\n",
       "<table border=\"1\" class=\"dataframe\">\n",
       "  <thead>\n",
       "    <tr style=\"text-align: right;\">\n",
       "      <th></th>\n",
       "      <th>transactionId</th>\n",
       "      <th>visitorId</th>\n",
       "      <th>date</th>\n",
       "      <th>revenue</th>\n",
       "      <th>group</th>\n",
       "    </tr>\n",
       "  </thead>\n",
       "  <tbody>\n",
       "    <tr>\n",
       "      <th>0</th>\n",
       "      <td>3667963787</td>\n",
       "      <td>3312258926</td>\n",
       "      <td>2019-08-15</td>\n",
       "      <td>1650</td>\n",
       "      <td>B</td>\n",
       "    </tr>\n",
       "    <tr>\n",
       "      <th>1</th>\n",
       "      <td>2804400009</td>\n",
       "      <td>3642806036</td>\n",
       "      <td>2019-08-15</td>\n",
       "      <td>730</td>\n",
       "      <td>B</td>\n",
       "    </tr>\n",
       "    <tr>\n",
       "      <th>2</th>\n",
       "      <td>2961555356</td>\n",
       "      <td>4069496402</td>\n",
       "      <td>2019-08-15</td>\n",
       "      <td>400</td>\n",
       "      <td>A</td>\n",
       "    </tr>\n",
       "    <tr>\n",
       "      <th>3</th>\n",
       "      <td>3797467345</td>\n",
       "      <td>1196621759</td>\n",
       "      <td>2019-08-15</td>\n",
       "      <td>9759</td>\n",
       "      <td>B</td>\n",
       "    </tr>\n",
       "    <tr>\n",
       "      <th>4</th>\n",
       "      <td>2282983706</td>\n",
       "      <td>2322279887</td>\n",
       "      <td>2019-08-15</td>\n",
       "      <td>2308</td>\n",
       "      <td>B</td>\n",
       "    </tr>\n",
       "  </tbody>\n",
       "</table>\n",
       "</div>"
      ],
      "text/plain": [
       "   transactionId   visitorId        date  revenue group\n",
       "0     3667963787  3312258926  2019-08-15     1650     B\n",
       "1     2804400009  3642806036  2019-08-15      730     B\n",
       "2     2961555356  4069496402  2019-08-15      400     A\n",
       "3     3797467345  1196621759  2019-08-15     9759     B\n",
       "4     2282983706  2322279887  2019-08-15     2308     B"
      ]
     },
     "metadata": {},
     "output_type": "display_data"
    }
   ],
   "source": [
    "# чтение файла с данными о заказах и сохранение в переменную orders\n",
    "orders = pd.read_csv('/datasets/orders.csv')\n",
    "display(orders.head())"
   ]
  },
  {
   "cell_type": "code",
   "execution_count": 8,
   "metadata": {},
   "outputs": [
    {
     "name": "stdout",
     "output_type": "stream",
     "text": [
      "<class 'pandas.core.frame.DataFrame'>\n",
      "RangeIndex: 1197 entries, 0 to 1196\n",
      "Data columns (total 5 columns):\n",
      " #   Column         Non-Null Count  Dtype \n",
      "---  ------         --------------  ----- \n",
      " 0   transactionId  1197 non-null   int64 \n",
      " 1   visitorId      1197 non-null   int64 \n",
      " 2   date           1197 non-null   object\n",
      " 3   revenue        1197 non-null   int64 \n",
      " 4   group          1197 non-null   object\n",
      "dtypes: int64(3), object(2)\n",
      "memory usage: 46.9+ KB\n",
      "None\n"
     ]
    }
   ],
   "source": [
    "# общая информация о таблице orders\n",
    "print(orders.info())"
   ]
  },
  {
   "cell_type": "markdown",
   "metadata": {},
   "source": [
    "Изменим тип данных в столбце с датой на datetime."
   ]
  },
  {
   "cell_type": "code",
   "execution_count": 9,
   "metadata": {},
   "outputs": [],
   "source": [
    "# изменения типа данных в столбце с датой\n",
    "orders['date'] = pd.to_datetime(orders['date'], format = '%Y-%m-%d')"
   ]
  },
  {
   "cell_type": "markdown",
   "metadata": {},
   "source": [
    "Посмотрим даты проведения теста."
   ]
  },
  {
   "cell_type": "code",
   "execution_count": 10,
   "metadata": {},
   "outputs": [
    {
     "name": "stdout",
     "output_type": "stream",
     "text": [
      "Минимальная дата привлечения: 2019-08-01 00:00:00 \n",
      "Максимальная дата привлечения 2019-08-31 00:00:00\n"
     ]
    }
   ],
   "source": [
    "# определение max и min даты привлечения\n",
    "print('Минимальная дата привлечения:',orders['date'].min(),\n",
    "      '\\nМаксимальная дата привлечения',orders['date'].max())"
   ]
  },
  {
   "cell_type": "markdown",
   "metadata": {},
   "source": [
    "Создание таблиц с количеством заказов и суммарной выручкой в выбранную дату в группе A и В."
   ]
  },
  {
   "cell_type": "code",
   "execution_count": 11,
   "metadata": {},
   "outputs": [],
   "source": [
    "# таблица с количеством заказов и суммарной выручкой в выбранную дату в группе A\n",
    "orders_A_Daily = (\n",
    "    orders.query('group == \"A\"')[['date','transactionId', 'visitorId', 'revenue']]\n",
    "    .groupby('date', as_index=False)\n",
    "    .agg({'transactionId': 'nunique', 'revenue': 'sum'})\n",
    ")\n",
    "orders_A_Daily.columns = ['date', 'ordersPerDateA', 'revenuePerDateA']"
   ]
  },
  {
   "cell_type": "code",
   "execution_count": 12,
   "metadata": {},
   "outputs": [],
   "source": [
    "# таблица с количеством заказов и суммарной выручкой в выбранную дату в группе В\n",
    "orders_B_Daily = (\n",
    "    orders.query('group == \"B\"')[['date','transactionId', 'visitorId', 'revenue']]\n",
    "    .groupby('date', as_index=False)\n",
    "    .agg({'transactionId': 'nunique', 'revenue': 'sum'})\n",
    ")\n",
    "orders_B_Daily.columns = ['date', 'ordersPerDateB', 'revenuePerDateB']"
   ]
  },
  {
   "cell_type": "markdown",
   "metadata": {},
   "source": [
    "Создание таблиц с ***кумулятивным*** количеством заказов и кумулятивной выручкой по дням в группе А и В."
   ]
  },
  {
   "cell_type": "code",
   "execution_count": 13,
   "metadata": {},
   "outputs": [],
   "source": [
    "# датафрейм с кумулятивным количеством заказов и кумулятивной выручкой по дням в группе А\n",
    "\n",
    "orders_A_Cummulative = orders_A_Daily.apply(\n",
    "    lambda x: orders_A_Daily[orders_A_Daily['date'] <= x['date']].agg(\n",
    "        {'date': 'max', 'ordersPerDateA': 'sum', 'revenuePerDateA': 'sum'}\n",
    "    ),\n",
    "    axis=1,\n",
    ").sort_values(by=['date'])\n",
    "\n",
    "orders_A_Cummulative.columns = [\n",
    "    'date',\n",
    "    'ordersCummulativeA',\n",
    "    'revenueCummulativeA',\n",
    "]"
   ]
  },
  {
   "cell_type": "code",
   "execution_count": 14,
   "metadata": {},
   "outputs": [],
   "source": [
    "# датафрейм с кумулятивным количеством заказов и кумулятивной выручкой по дням в группе B\n",
    "orders_B_Cummulative = orders_B_Daily.apply(\n",
    "    lambda x: orders_B_Daily[orders_B_Daily['date'] <= x['date']].agg(\n",
    "        {'date': 'max', 'ordersPerDateB': 'sum', 'revenuePerDateB': 'sum'}\n",
    "    ),\n",
    "    axis=1,\n",
    ").sort_values(by=['date'])\n",
    "\n",
    "orders_B_Cummulative.columns = [\n",
    "    'date',\n",
    "    'ordersCummulativeB',\n",
    "    'revenueCummulativeB',\n",
    "]"
   ]
  },
  {
   "cell_type": "markdown",
   "metadata": {},
   "source": [
    "### Данные о визитах (visitors)."
   ]
  },
  {
   "cell_type": "code",
   "execution_count": 15,
   "metadata": {},
   "outputs": [
    {
     "data": {
      "text/html": [
       "<div>\n",
       "<style scoped>\n",
       "    .dataframe tbody tr th:only-of-type {\n",
       "        vertical-align: middle;\n",
       "    }\n",
       "\n",
       "    .dataframe tbody tr th {\n",
       "        vertical-align: top;\n",
       "    }\n",
       "\n",
       "    .dataframe thead th {\n",
       "        text-align: right;\n",
       "    }\n",
       "</style>\n",
       "<table border=\"1\" class=\"dataframe\">\n",
       "  <thead>\n",
       "    <tr style=\"text-align: right;\">\n",
       "      <th></th>\n",
       "      <th>date</th>\n",
       "      <th>group</th>\n",
       "      <th>visitors</th>\n",
       "    </tr>\n",
       "  </thead>\n",
       "  <tbody>\n",
       "    <tr>\n",
       "      <th>0</th>\n",
       "      <td>2019-08-01</td>\n",
       "      <td>A</td>\n",
       "      <td>719</td>\n",
       "    </tr>\n",
       "    <tr>\n",
       "      <th>1</th>\n",
       "      <td>2019-08-02</td>\n",
       "      <td>A</td>\n",
       "      <td>619</td>\n",
       "    </tr>\n",
       "    <tr>\n",
       "      <th>2</th>\n",
       "      <td>2019-08-03</td>\n",
       "      <td>A</td>\n",
       "      <td>507</td>\n",
       "    </tr>\n",
       "    <tr>\n",
       "      <th>3</th>\n",
       "      <td>2019-08-04</td>\n",
       "      <td>A</td>\n",
       "      <td>717</td>\n",
       "    </tr>\n",
       "    <tr>\n",
       "      <th>4</th>\n",
       "      <td>2019-08-05</td>\n",
       "      <td>A</td>\n",
       "      <td>756</td>\n",
       "    </tr>\n",
       "  </tbody>\n",
       "</table>\n",
       "</div>"
      ],
      "text/plain": [
       "         date group  visitors\n",
       "0  2019-08-01     A       719\n",
       "1  2019-08-02     A       619\n",
       "2  2019-08-03     A       507\n",
       "3  2019-08-04     A       717\n",
       "4  2019-08-05     A       756"
      ]
     },
     "execution_count": 15,
     "metadata": {},
     "output_type": "execute_result"
    }
   ],
   "source": [
    "# чтение файла с данными о песещениях и сохранение в переменную visitors\n",
    "visitors = pd.read_csv('/datasets/visitors.csv')\n",
    "visitors.head()"
   ]
  },
  {
   "cell_type": "code",
   "execution_count": 16,
   "metadata": {
    "scrolled": false
   },
   "outputs": [
    {
     "name": "stdout",
     "output_type": "stream",
     "text": [
      "<class 'pandas.core.frame.DataFrame'>\n",
      "RangeIndex: 62 entries, 0 to 61\n",
      "Data columns (total 3 columns):\n",
      " #   Column    Non-Null Count  Dtype \n",
      "---  ------    --------------  ----- \n",
      " 0   date      62 non-null     object\n",
      " 1   group     62 non-null     object\n",
      " 2   visitors  62 non-null     int64 \n",
      "dtypes: int64(1), object(2)\n",
      "memory usage: 1.6+ KB\n"
     ]
    },
    {
     "data": {
      "text/plain": [
       "None"
      ]
     },
     "metadata": {},
     "output_type": "display_data"
    }
   ],
   "source": [
    "# общая информация о таблице visitors\n",
    "display(visitors.info())"
   ]
  },
  {
   "cell_type": "code",
   "execution_count": 17,
   "metadata": {},
   "outputs": [],
   "source": [
    "# изменения типа данных в столбце с датой\n",
    "visitors['date'] = pd.to_datetime(visitors['date'],format = '%Y-%m-%d')"
   ]
  },
  {
   "cell_type": "code",
   "execution_count": 18,
   "metadata": {
    "scrolled": true
   },
   "outputs": [
    {
     "name": "stdout",
     "output_type": "stream",
     "text": [
      "Минимальная дата привлечения: 2019-08-01 00:00:00 \n",
      "Максимальная дата привлечения 2019-08-31 00:00:00\n"
     ]
    }
   ],
   "source": [
    "# определение max и min даты привлечения\n",
    "print('Минимальная дата привлечения:',visitors['date'].min(),\n",
    "      '\\nМаксимальная дата привлечения',visitors['date'].max())"
   ]
  },
  {
   "cell_type": "markdown",
   "metadata": {},
   "source": [
    "Даты проведения теста совпадают в обеих представленных таблицах.\n",
    "\n",
    "Определим количество пользователей за каждый день теста в группах А и В."
   ]
  },
  {
   "cell_type": "code",
   "execution_count": 19,
   "metadata": {},
   "outputs": [],
   "source": [
    "# количество пользователей в выбранную дату в группе A;\n",
    "visitorsADaily = visitors.query('group==\"A\"')[['date','visitors']]\n",
    "visitorsADaily.columns = ['date', 'visitorsPerDateA']"
   ]
  },
  {
   "cell_type": "code",
   "execution_count": 20,
   "metadata": {},
   "outputs": [],
   "source": [
    "# количество пользователей в выбранную дату в группе B;\n",
    "visitorsBDaily = visitors.query('group==\"B\"')[['date','visitors']]\n",
    "visitorsBDaily.columns = ['date', 'visitorsPerDateB']"
   ]
  },
  {
   "cell_type": "markdown",
   "metadata": {},
   "source": [
    "Создадим таблицу с кумулятивным количеством пользователей по дням в группе А и В."
   ]
  },
  {
   "cell_type": "code",
   "execution_count": 21,
   "metadata": {},
   "outputs": [],
   "source": [
    "# датафрейм с кумулятивным количеством пользователей по дням в группе А\n",
    "visitors_A_Cummulative = visitors.query('group == \"A\"').apply(\n",
    "    lambda x: visitors[visitors['date'] <= x['date']].agg(\n",
    "        {'date': 'max', 'visitors': 'sum'}\n",
    "    ),\n",
    "    axis=1,\n",
    ")\n",
    "visitors_A_Cummulative.columns = ['date', 'visitorsCummulativeA']"
   ]
  },
  {
   "cell_type": "code",
   "execution_count": 22,
   "metadata": {},
   "outputs": [],
   "source": [
    "# датафрейм с кумулятивным количеством пользователей по дням в группе B\n",
    "visitors_B_Cummulative = visitors.query('group == \"B\"').apply(\n",
    "    lambda x: visitors[visitors['date'] <= x['date']].agg(\n",
    "        {'date': 'max', 'visitors': 'sum'}\n",
    "    ),\n",
    "    axis=1,\n",
    ")\n",
    "visitors_B_Cummulative.columns = ['date', 'visitorsCummulativeB']"
   ]
  },
  {
   "cell_type": "markdown",
   "metadata": {},
   "source": [
    "### Объединение таблиц в одну ( data )."
   ]
  },
  {
   "cell_type": "code",
   "execution_count": 23,
   "metadata": {},
   "outputs": [
    {
     "data": {
      "text/html": [
       "<div>\n",
       "<style scoped>\n",
       "    .dataframe tbody tr th:only-of-type {\n",
       "        vertical-align: middle;\n",
       "    }\n",
       "\n",
       "    .dataframe tbody tr th {\n",
       "        vertical-align: top;\n",
       "    }\n",
       "\n",
       "    .dataframe thead th {\n",
       "        text-align: right;\n",
       "    }\n",
       "</style>\n",
       "<table border=\"1\" class=\"dataframe\">\n",
       "  <thead>\n",
       "    <tr style=\"text-align: right;\">\n",
       "      <th></th>\n",
       "      <th>date</th>\n",
       "      <th>ordersPerDateA</th>\n",
       "      <th>revenuePerDateA</th>\n",
       "      <th>ordersPerDateB</th>\n",
       "      <th>revenuePerDateB</th>\n",
       "      <th>ordersCummulativeA</th>\n",
       "      <th>revenueCummulativeA</th>\n",
       "      <th>ordersCummulativeB</th>\n",
       "      <th>revenueCummulativeB</th>\n",
       "      <th>visitorsPerDateA</th>\n",
       "      <th>visitorsPerDateB</th>\n",
       "      <th>visitorsCummulativeA</th>\n",
       "      <th>visitorsCummulativeB</th>\n",
       "    </tr>\n",
       "  </thead>\n",
       "  <tbody>\n",
       "    <tr>\n",
       "      <th>0</th>\n",
       "      <td>2019-08-01</td>\n",
       "      <td>24</td>\n",
       "      <td>148579</td>\n",
       "      <td>21</td>\n",
       "      <td>101217</td>\n",
       "      <td>24</td>\n",
       "      <td>148579</td>\n",
       "      <td>21</td>\n",
       "      <td>101217</td>\n",
       "      <td>719</td>\n",
       "      <td>713</td>\n",
       "      <td>1432</td>\n",
       "      <td>1432</td>\n",
       "    </tr>\n",
       "    <tr>\n",
       "      <th>1</th>\n",
       "      <td>2019-08-02</td>\n",
       "      <td>20</td>\n",
       "      <td>93822</td>\n",
       "      <td>24</td>\n",
       "      <td>165531</td>\n",
       "      <td>44</td>\n",
       "      <td>242401</td>\n",
       "      <td>45</td>\n",
       "      <td>266748</td>\n",
       "      <td>619</td>\n",
       "      <td>581</td>\n",
       "      <td>2632</td>\n",
       "      <td>2632</td>\n",
       "    </tr>\n",
       "    <tr>\n",
       "      <th>2</th>\n",
       "      <td>2019-08-03</td>\n",
       "      <td>24</td>\n",
       "      <td>112473</td>\n",
       "      <td>16</td>\n",
       "      <td>114248</td>\n",
       "      <td>68</td>\n",
       "      <td>354874</td>\n",
       "      <td>61</td>\n",
       "      <td>380996</td>\n",
       "      <td>507</td>\n",
       "      <td>509</td>\n",
       "      <td>3648</td>\n",
       "      <td>3648</td>\n",
       "    </tr>\n",
       "    <tr>\n",
       "      <th>3</th>\n",
       "      <td>2019-08-04</td>\n",
       "      <td>16</td>\n",
       "      <td>70825</td>\n",
       "      <td>17</td>\n",
       "      <td>108571</td>\n",
       "      <td>84</td>\n",
       "      <td>425699</td>\n",
       "      <td>78</td>\n",
       "      <td>489567</td>\n",
       "      <td>717</td>\n",
       "      <td>770</td>\n",
       "      <td>5135</td>\n",
       "      <td>5135</td>\n",
       "    </tr>\n",
       "    <tr>\n",
       "      <th>4</th>\n",
       "      <td>2019-08-05</td>\n",
       "      <td>25</td>\n",
       "      <td>124218</td>\n",
       "      <td>23</td>\n",
       "      <td>92428</td>\n",
       "      <td>109</td>\n",
       "      <td>549917</td>\n",
       "      <td>101</td>\n",
       "      <td>581995</td>\n",
       "      <td>756</td>\n",
       "      <td>707</td>\n",
       "      <td>6598</td>\n",
       "      <td>6598</td>\n",
       "    </tr>\n",
       "  </tbody>\n",
       "</table>\n",
       "</div>"
      ],
      "text/plain": [
       "        date  ordersPerDateA  revenuePerDateA  ordersPerDateB  \\\n",
       "0 2019-08-01              24           148579              21   \n",
       "1 2019-08-02              20            93822              24   \n",
       "2 2019-08-03              24           112473              16   \n",
       "3 2019-08-04              16            70825              17   \n",
       "4 2019-08-05              25           124218              23   \n",
       "\n",
       "   revenuePerDateB  ordersCummulativeA  revenueCummulativeA  \\\n",
       "0           101217                  24               148579   \n",
       "1           165531                  44               242401   \n",
       "2           114248                  68               354874   \n",
       "3           108571                  84               425699   \n",
       "4            92428                 109               549917   \n",
       "\n",
       "   ordersCummulativeB  revenueCummulativeB  visitorsPerDateA  \\\n",
       "0                  21               101217               719   \n",
       "1                  45               266748               619   \n",
       "2                  61               380996               507   \n",
       "3                  78               489567               717   \n",
       "4                 101               581995               756   \n",
       "\n",
       "   visitorsPerDateB  visitorsCummulativeA  visitorsCummulativeB  \n",
       "0               713                  1432                  1432  \n",
       "1               581                  2632                  2632  \n",
       "2               509                  3648                  3648  \n",
       "3               770                  5135                  5135  \n",
       "4               707                  6598                  6598  "
      ]
     },
     "execution_count": 23,
     "metadata": {},
     "output_type": "execute_result"
    }
   ],
   "source": [
    "# обьединение полученных данных в одну таблицу data\n",
    "data = (\n",
    "    orders_A_Daily.merge(\n",
    "        orders_B_Daily, on='date', how='left'\n",
    "    )\n",
    "    .merge(orders_A_Cummulative, on='date', how='left')\n",
    "    .merge(orders_B_Cummulative, on='date', how='left')\n",
    "    .merge(visitorsADaily, on='date', how='left')\n",
    "    .merge(visitorsBDaily, on='date', how='left')\n",
    "    .merge(visitors_A_Cummulative, on='date', how='left')\n",
    "    .merge(visitors_B_Cummulative, on='date',  how='left')\n",
    ")\n",
    "\n",
    "data.head()"
   ]
  },
  {
   "cell_type": "markdown",
   "metadata": {},
   "source": [
    "Обозначим названия столбцов в таблице data:\n",
    "\n",
    "- date — дата;\n",
    "- ordersPerDateA — количество заказов в выбранную дату в группе A;\n",
    "- revenuePerDateA — суммарная выручка в выбранную дату в группе A;\n",
    "- ordersPerDateB — количество заказов в выбранную дату в группе B;\n",
    "- revenuePerDateB — суммарная выручка в выбранную дату в группе B;\n",
    "- ordersCummulativeA — суммарное число заказов до выбранной даты включительно в группе A;\n",
    "- revenueCummulativeA — суммарная выручка до выбранной даты включительно в группе A;\n",
    "- ordersCummulativeB — суммарное количество заказов до выбранной даты включительно в группе B;\n",
    "- revenueCummulativeB — суммарная выручка до выбранной даты включительно в группе B;\n",
    "- visitorsPerDateA — количество пользователей в выбранную дату в группе A;\n",
    "- visitorsPerDateB — количество пользователей в выбранную дату в группе B;\n",
    "- visitorsCummulativeA — количество пользователей до выбранной даты включительно в группе A;\n",
    "- visitorsCummulativeB — количество пользователей до выбранной даты включительно в группе B.\n"
   ]
  },
  {
   "cell_type": "markdown",
   "metadata": {},
   "source": [
    "## Анализ A/B-теста. "
   ]
  },
  {
   "cell_type": "markdown",
   "metadata": {},
   "source": [
    "### Рассчет статистической значимости различий в группах по 'сырым' данным"
   ]
  },
  {
   "cell_type": "code",
   "execution_count": 24,
   "metadata": {},
   "outputs": [],
   "source": [
    "# таблицы с количеством заказов на каждого пользователя в каждой группе\n",
    "ordersByUsersA = (\n",
    "    orders[orders['group'] == 'A']\n",
    "    .groupby('visitorId', as_index=False)\n",
    "    .agg({'transactionId': pd.Series.nunique})\n",
    ")\n",
    "ordersByUsersA.columns = ['visitorId', 'orders']\n",
    "\n",
    "ordersByUsersB = (\n",
    "    orders[orders['group'] == 'B']\n",
    "    .groupby('visitorId', as_index=False)\n",
    "    .agg({'transactionId': pd.Series.nunique})\n",
    ")\n",
    "ordersByUsersB.columns = ['visitorId', 'orders'] "
   ]
  },
  {
   "cell_type": "code",
   "execution_count": 25,
   "metadata": {},
   "outputs": [],
   "source": [
    "# переменные, в которых пользователям из разных групп будет соответствовать количество заказов, \n",
    "# а тем, кто ничего не заказал, будут соответствовать нули\n",
    "\n",
    "sampleA = (ordersByUsersA['orders'] \n",
    "           .append(pd.Series([0] * (data['visitorsPerDateA'].sum() - ordersByUsersA.shape[0]), \n",
    "                             name = 'orders'))) # нули для пользователей, которые ничего не заказывали\n",
    "\n",
    "sampleB = (ordersByUsersB['orders'] \n",
    "           .append(pd.Series([0] * (data['visitorsPerDateB'].sum() - ordersByUsersB.shape[0]), \n",
    "                             name = 'orders'))) # нули для пользователей, которые ничего не заказывали"
   ]
  },
  {
   "cell_type": "markdown",
   "metadata": {},
   "source": [
    "Сформулируем гипотезы. Нулевая: различий в конверсии между группами нет. Альтернативная: различия в конверсии между группами есть. За alpha - критический уровень статистической значимости примем значение 0.05."
   ]
  },
  {
   "cell_type": "code",
   "execution_count": 26,
   "metadata": {
    "scrolled": false
   },
   "outputs": [
    {
     "name": "stdout",
     "output_type": "stream",
     "text": [
      "MW-test pvalue =  0.017\n",
      "Относительный прирост конверсии группы B = 0.138\n"
     ]
    }
   ],
   "source": [
    "# рассчет статистической значимости различий конверсии в группах\n",
    "print('MW-test', 'pvalue = ', \"{0:.3f}\".format(stats.mannwhitneyu(sampleA, sampleB)[1]))\n",
    "\n",
    "print('Относительный прирост конверсии группы B =',\n",
    "      \"{0:.3f}\".format(sampleB.mean() / sampleA.mean() - 1))"
   ]
  },
  {
   "cell_type": "markdown",
   "metadata": {},
   "source": [
    "Первое число — p-value = 0.017 меньше 0.05. Значит, нулевую гипотезу о том, что статистически значимых различий в конверсии между группами нет,  отвергаем. Относительный выигрыш группы B равен 13.8% .\n",
    "\n",
    "Теперь проверим статистическую значимость различий в среднем чеке между сегментами. Нулевая гипотеза: различий в среднем чеке между группами нет. Альтернативная гипотеза: различия в среднем чеке между группами есть."
   ]
  },
  {
   "cell_type": "code",
   "execution_count": 27,
   "metadata": {},
   "outputs": [
    {
     "name": "stdout",
     "output_type": "stream",
     "text": [
      "MW-test pvalue =  0.729\n",
      "Относительный прирост среднего чека группы B = 0.259\n"
     ]
    }
   ],
   "source": [
    "# рассчет статистической значимости различий в среднем чеке\n",
    "print('MW-test', 'pvalue = ','{0:.3f}'.format(stats.mannwhitneyu(orders[orders['group']=='A']['revenue'],\n",
    "                                          orders[orders['group']=='B']['revenue'])[1]))\n",
    "print('Относительный прирост среднего чека группы B =',\n",
    "      '{0:.3f}'.format(orders[orders['group']=='B']['revenue'].mean()/\n",
    "                       orders[orders['group']=='A']['revenue'].mean()-1))"
   ]
  },
  {
   "cell_type": "markdown",
   "metadata": {},
   "source": [
    "P-value значительно больше 0.05. Значит отвергнуть нулевую гипотезу и сделать вывод о различии в среднем чеке нельзя. Однако, прирост среднего чека группы B относительно среднего чека группы A составил 26% ."
   ]
  },
  {
   "cell_type": "markdown",
   "metadata": {},
   "source": [
    "### Стабильность кумулятивных метрик. "
   ]
  },
  {
   "cell_type": "markdown",
   "metadata": {},
   "source": [
    "#### График кумулятивной выручки по группам. "
   ]
  },
  {
   "cell_type": "code",
   "execution_count": 28,
   "metadata": {},
   "outputs": [
    {
     "data": {
      "image/png": "[encoded data removed]",
      "text/plain": [
       "<Figure size 864x360 with 1 Axes>"
      ]
     },
     "metadata": {
      "needs_background": "light"
     },
     "output_type": "display_data"
    }
   ],
   "source": [
    "plt.figure(figsize = (12,5)) \n",
    "# Строим график выручки группы А\n",
    "plt.plot(data['date'], data['revenueCummulativeA'], label='A')\n",
    "\n",
    "# Строим график выручки группы B\n",
    "plt.plot(data['date'], data['revenueCummulativeB'], label='B')\n",
    "\n",
    "plt.legend()\n",
    "plt.grid()\n",
    "plt.title('График кумулятивной выручки по дням')\n",
    "plt.show()"
   ]
  },
  {
   "cell_type": "markdown",
   "metadata": {},
   "source": [
    "Выручка почти равномерно увеличивается в течение всего теста. Хороший знак.\n",
    "\n",
    "Также, судя по графику, группа А стабильно хуже по накопленным показателям, чем группа В. \n",
    "\n",
    "Видно, что в первой половине теста выручка росла достаточно равномерно в обеих группах. Однако график выручки группы В в определенной точке резко растет. Это может сигнализировать о всплесках числа заказов, либо о появлении очень дорогих заказов в выборке."
   ]
  },
  {
   "cell_type": "markdown",
   "metadata": {},
   "source": [
    "####  График кумулятивного среднего чека по группам. "
   ]
  },
  {
   "cell_type": "code",
   "execution_count": 29,
   "metadata": {},
   "outputs": [
    {
     "data": {
      "image/png": "[encoded data removed]",
      "text/plain": [
       "<Figure size 864x360 with 1 Axes>"
      ]
     },
     "metadata": {
      "needs_background": "light"
     },
     "output_type": "display_data"
    }
   ],
   "source": [
    "# построение графика кумулятивного среднего чека по группам\n",
    "plt.figure(figsize = (12,5)) \n",
    "plt.plot(data['date'], data['revenueCummulativeA']/data['ordersCummulativeA'], label='A')\n",
    "plt.plot(data['date'], data['revenueCummulativeB']/data['ordersCummulativeB'], label='B')\n",
    "\n",
    "plt.legend()\n",
    "plt.grid()\n",
    "plt.title('График среднего чека по группам по дням')\n",
    "plt.show()"
   ]
  },
  {
   "cell_type": "markdown",
   "metadata": {},
   "source": [
    "Обе группы также показывают рост. И, судя по графику, большую часть времени средний чек группы В был выше среднего чека группы А. \n",
    "\n",
    "Однако, также виден резкий всплеск на графике группы В. Возможно, в группу B во второй половине теста попали крупные заказы. \n",
    "\n",
    "График группы А также довольно стремительно рос до середины теста, и далее установился примерно на одном уровне. "
   ]
  },
  {
   "cell_type": "markdown",
   "metadata": {},
   "source": [
    "#### График относительного изменения кумулятивного среднего чека группы B к группе A."
   ]
  },
  {
   "cell_type": "code",
   "execution_count": 30,
   "metadata": {},
   "outputs": [
    {
     "data": {
      "image/png": "[encoded data removed]",
      "text/plain": [
       "<Figure size 864x360 with 1 Axes>"
      ]
     },
     "metadata": {
      "needs_background": "light"
     },
     "output_type": "display_data"
    }
   ],
   "source": [
    "plt.figure(figsize = (12,5)) \n",
    "# cтроим отношение средних чеков\n",
    "(plt.plot(data['date'],\n",
    "          (data['revenueCummulativeB']/data['ordersCummulativeB'])/\n",
    "          (data['revenueCummulativeA']/data['ordersCummulativeA'])-1))\n",
    "\n",
    "plt.grid()\n",
    "plt.axhline(y=0, color='black', linestyle='--')\n",
    "plt.title('График относительного различия для среднего чека')\n",
    "plt.show()"
   ]
  },
  {
   "cell_type": "markdown",
   "metadata": {},
   "source": [
    "В нескольких точках график различия между сегментами резко «скачет». Где-то точно спрятались крупные заказы и выбросы График различия среднего чека говорит о том, что результаты группы B не стабильны, но большую часть времени все же выше среднего чека группы А. Под конец теста разница оказалась выше 20%.\n"
   ]
  },
  {
   "cell_type": "markdown",
   "metadata": {},
   "source": [
    "#### График кумулятивной конверсии по группам."
   ]
  },
  {
   "cell_type": "code",
   "execution_count": 31,
   "metadata": {},
   "outputs": [
    {
     "data": {
      "image/png": "[encoded data removed]",
      "text/plain": [
       "<Figure size 864x360 with 1 Axes>"
      ]
     },
     "metadata": {
      "needs_background": "light"
     },
     "output_type": "display_data"
    }
   ],
   "source": [
    "# строим графики кумулятивную конверсию\n",
    "plt.figure(figsize = (12,5))\n",
    "\n",
    "plt.plot(data['date'], (data['ordersCummulativeA']/data['visitorsCummulativeA']), label='A')\n",
    "plt.plot(data['date'], (data['ordersCummulativeB']/data['visitorsCummulativeB']), label='B')\n",
    "\n",
    "plt.legend()\n",
    "plt.grid()\n",
    "plt.title('График кумулятивной конверсии по группам')\n",
    "plt.show()"
   ]
  },
  {
   "cell_type": "markdown",
   "metadata": {},
   "source": [
    "Изначально,кумулятивная конверсия группы В была ниже, чем в группе А. Однако, затем она вырвалась вперёд и зафиксировалась, а конверсия же группы А просела и также зафиксировалась."
   ]
  },
  {
   "cell_type": "markdown",
   "metadata": {},
   "source": [
    "#### График относительного изменения кумулятивной конверсии группы B к группе A."
   ]
  },
  {
   "cell_type": "code",
   "execution_count": 32,
   "metadata": {},
   "outputs": [
    {
     "data": {
      "image/png": "[encoded data removed]",
      "text/plain": [
       "<Figure size 864x360 with 1 Axes>"
      ]
     },
     "metadata": {
      "needs_background": "light"
     },
     "output_type": "display_data"
    }
   ],
   "source": [
    "# график относительного изменения кумулятивной конверсии \n",
    "\n",
    "plt.figure(figsize = (12,5)) \n",
    "(plt.plot(data['date'],\n",
    "          (data['ordersCummulativeB']/data['visitorsCummulativeB'])/\n",
    "          (data['ordersCummulativeA']/data['visitorsCummulativeA'])-1))\n",
    "\n",
    "\n",
    "plt.title(\"Относительный прирост конверсии группы B относительно группы A\")\n",
    "plt.grid()\n",
    "plt.axhline(y=0, color='red', linestyle='--')\n",
    "plt.axhline(y=0.1, color='grey', linestyle='--')\n",
    "plt.show()"
   ]
  },
  {
   "cell_type": "markdown",
   "metadata": {},
   "source": [
    "В начале теста группа B проигрывала группе A, однако затем вырвалась вперёд и держится стабильно выше.\n",
    "В целом отношение конверсии выглядит стабильным, и предварительно можно сказать что конверсия группы В выше группы А примерно на 10% . Впрочем, сперва стоит проанализировать аномалии, возможно, они изменят картину. \n"
   ]
  },
  {
   "cell_type": "markdown",
   "metadata": {},
   "source": [
    "### Анализ выбросов и всплесков"
   ]
  },
  {
   "cell_type": "markdown",
   "metadata": {},
   "source": [
    "#### График количества заказов по пользователям. "
   ]
  },
  {
   "cell_type": "code",
   "execution_count": 33,
   "metadata": {
    "scrolled": false
   },
   "outputs": [
    {
     "data": {
      "image/png": "[encoded data removed]",
      "text/plain": [
       "<Figure size 864x360 with 1 Axes>"
      ]
     },
     "metadata": {
      "needs_background": "light"
     },
     "output_type": "display_data"
    }
   ],
   "source": [
    "# таблица с количеством закозов на каждого покупателя\n",
    "ordersByUsers = (\n",
    "    orders.groupby('visitorId', as_index=False)\n",
    "    .agg({'transactionId': 'nunique'})\n",
    ")\n",
    "ordersByUsers.columns = ['visitorId', 'orders']\n",
    "\n",
    "\n",
    "# построение графика количества заказов по пользователям\n",
    "plt.figure(figsize = (12,5)) \n",
    "x_values = pd.Series(range(0,len(ordersByUsers)))\n",
    "\n",
    "plt.scatter(x_values, ordersByUsers['orders']) \n",
    "plt.grid()\n",
    "plt.title('График количества заказов на пользователя')\n",
    "plt.show()"
   ]
  },
  {
   "cell_type": "markdown",
   "metadata": {},
   "source": [
    "Большинство покупателей заказывали только один раз. Однако доля пользователей с 2-3 заказами тоже значительна.\n",
    "\n",
    "Есть пользователи, которые совершали 5, 8, 9 и 11 заказов. Значительно больше, чем обычный пользователь за неделю.\n",
    "\n",
    "Посчитаем выборочные перцентили количества заказов на одного пользователя, чтобы понять какое количество заказов считать аномальным. "
   ]
  },
  {
   "cell_type": "code",
   "execution_count": 34,
   "metadata": {},
   "outputs": [
    {
     "name": "stdout",
     "output_type": "stream",
     "text": [
      "[2. 4.]\n"
     ]
    }
   ],
   "source": [
    "print(np.percentile(ordersByUsers['orders'], [95, 99])) "
   ]
  },
  {
   "cell_type": "markdown",
   "metadata": {},
   "source": [
    "Не более 5% пользователей оформляли больше чем 2 заказа. И 1% пользователей заказывали 4 и более раз.\n",
    "Разумно выбрать 2 заказа на одного пользователя за нижнюю границу числа заказов, и отсеять аномальных пользователей по ней."
   ]
  },
  {
   "cell_type": "markdown",
   "metadata": {},
   "source": [
    "#### График стоимостей заказов. "
   ]
  },
  {
   "cell_type": "code",
   "execution_count": 35,
   "metadata": {
    "scrolled": true
   },
   "outputs": [
    {
     "data": {
      "image/png": "[encoded data removed]",
      "text/plain": [
       "<Figure size 864x360 with 1 Axes>"
      ]
     },
     "metadata": {
      "needs_background": "light"
     },
     "output_type": "display_data"
    }
   ],
   "source": [
    "# построение точечного графика стоимостей заказов\n",
    "plt.figure(figsize = (12,5)) \n",
    "x_values = pd.Series(range(0,len(orders['revenue'])))\n",
    "plt.scatter(x_values, orders['revenue'])\n",
    "plt.ylim(0,100000)\n",
    "plt.grid()\n",
    "plt.title('График стоимостей заказов')\n",
    "plt.show()"
   ]
  },
  {
   "cell_type": "markdown",
   "metadata": {},
   "source": [
    "Судя по графику, большая часть заказов стоимостью до 40 тысяч. Как и предполагалось, есть небольшое количество дорогих заказов. Определим более точные границы. "
   ]
  },
  {
   "cell_type": "code",
   "execution_count": 36,
   "metadata": {},
   "outputs": [
    {
     "name": "stdout",
     "output_type": "stream",
     "text": [
      "[28000.  58233.2]\n"
     ]
    }
   ],
   "source": [
    "print(np.percentile(orders['revenue'], [ 95, 99]))"
   ]
  },
  {
   "cell_type": "markdown",
   "metadata": {},
   "source": [
    "Не более 5% заказов дороже 28 000 рублей и не более 1% дороже 58 233 рублей.\n",
    "\n",
    "Примем за аномальных пользователей тех, кто совершил от 3 заказов или совершил заказ дороже 40 000 рублей. Так мы уберём 5% пользователей с наибольшим числом заказов и от 1% до 5% пользователей с дорогими заказами. Сделаем срезы пользователей с числом заказов больше 4 — usersWithManyOrders и пользователей, совершивших заказы дороже 20 000 — usersWithExpensiveOrders. Объединим их в таблице abnormalUsers."
   ]
  },
  {
   "cell_type": "code",
   "execution_count": 37,
   "metadata": {},
   "outputs": [
    {
     "name": "stdout",
     "output_type": "stream",
     "text": [
      "(55,)\n"
     ]
    }
   ],
   "source": [
    "# вычисление количества аномальных пользователей\n",
    "usersWithManyOrders = ordersByUsers.query('orders > 2')['visitorId']\n",
    "usersWithExpensiveOrders = orders[orders['revenue'] > 40000]['visitorId']\n",
    "\n",
    "abnormalUsers = (usersWithManyOrders.append(usersWithExpensiveOrders)\n",
    "    .drop_duplicates())\n",
    "\n",
    "print(abnormalUsers.shape) "
   ]
  },
  {
   "cell_type": "markdown",
   "metadata": {},
   "source": [
    "Всего 55 аномальных пользователей.\n",
    "Узнаем, как их действия повлияли на результаты теста. Посчитаем статистическую значимость различий в конверсии между группами теста по очищенным данным. Сначала подготовим выборки количества заказов по пользователям по группам теста:"
   ]
  },
  {
   "cell_type": "code",
   "execution_count": 38,
   "metadata": {},
   "outputs": [],
   "source": [
    "# выборки количества заказов по пользователям по группам теста\n",
    "sampleAFiltered = (ordersByUsersA[np.logical_not(ordersByUsersA['visitorId'].isin(abnormalUsers))]['orders']\n",
    "        .append(pd.Series([0] * (data['visitorsPerDateA'].sum() - ordersByUsersA.shape[0]), \n",
    "                             name = 'orders')))\n",
    "\n",
    "sampleBFiltered = (ordersByUsersB[np.logical_not(ordersByUsersB['visitorId'].isin(abnormalUsers))]['orders']\n",
    "        .append(pd.Series([0] * (data['visitorsPerDateB'].sum() - ordersByUsersB.shape[0]), \n",
    "                             name = 'orders')))"
   ]
  },
  {
   "cell_type": "markdown",
   "metadata": {},
   "source": [
    "### Рассчет статистической значимости различий в группах по 'очищенным' данным"
   ]
  },
  {
   "cell_type": "code",
   "execution_count": 39,
   "metadata": {
    "scrolled": true
   },
   "outputs": [
    {
     "name": "stdout",
     "output_type": "stream",
     "text": [
      "MW-test pvalue =  0.006\n",
      "T-test pvalue =  0.006\n",
      "Относительное различие в конверсии группы В к группе А= 0.190\n"
     ]
    }
   ],
   "source": [
    "# рассчет статистической значимости различий конверсии в группах по 'очищенным' данным\n",
    "print('MW-test', 'pvalue = ','{0:.3f}'.format(stats.mannwhitneyu(sampleAFiltered, sampleBFiltered)[1]))\n",
    "print('T-test', 'pvalue = ', \"{0:.3f}\".format(stats.ttest_ind(sampleAFiltered, sampleBFiltered)[1]))\n",
    "print('Относительное различие в конверсии группы В к группе А=','{0:.3f}'.format(sampleBFiltered.mean()/sampleAFiltered.mean()-1))"
   ]
  },
  {
   "cell_type": "markdown",
   "metadata": {},
   "source": [
    "Р-value снова оказался меньше 0.05. Значит, нулевую гипотезу о том, что статистически значимых различий в конверсии между группами нет, снова отвергаем. Прирост конверсии группы В, относительно группы А увеличился до 19%."
   ]
  },
  {
   "cell_type": "code",
   "execution_count": 40,
   "metadata": {},
   "outputs": [
    {
     "name": "stdout",
     "output_type": "stream",
     "text": [
      "MW-test pvalue =  0.916\n",
      "Относительное различие в среднем чеке группы В к группе А= 0.058\n"
     ]
    }
   ],
   "source": [
    "# рассчет статистической значимости различий среднего чека в группах по 'очищенным' данным\n",
    "\n",
    "print('MW-test', 'pvalue = ',\n",
    "    '{0:.3f}'.format(\n",
    "        stats.mannwhitneyu(\n",
    "            orders[np.logical_and(orders['group'] == 'A',\n",
    "                    np.logical_not(orders['visitorId'].isin(abnormalUsers)),\n",
    "                )]['revenue'],\n",
    "            orders[np.logical_and(orders['group'] == 'B',\n",
    "                    np.logical_not(orders['visitorId'].isin(abnormalUsers)),\n",
    "                )]['revenue'])[1]))\n",
    "\n",
    "print('Относительное различие в среднем чеке группы В к группе А=',\n",
    "    \"{0:.3f}\".format(\n",
    "        orders[np.logical_and(orders['group'] == 'B',\n",
    "                np.logical_not(orders['visitorId'].isin(abnormalUsers)))]\n",
    "        ['revenue'].mean()\n",
    "        / orders[np.logical_and(orders['group'] == 'A',\n",
    "                np.logical_not(orders['visitorId'].isin(abnormalUsers)))]\n",
    "        ['revenue'].mean() - 1))"
   ]
  },
  {
   "cell_type": "markdown",
   "metadata": {},
   "source": [
    "Статистически значимых различий по среднему чеку не выявлено.\n",
    "P-value увеличился, но и разница между сегментами сократилась с 26% до 6%."
   ]
  },
  {
   "cell_type": "markdown",
   "metadata": {},
   "source": [
    "## Вывод\n",
    "\n",
    "- Есть статистически значимое различие по конверсии между группами как по сырым данным, так и после фильтрации аномалий.\n",
    "- Нет статистически значимых различий по среднему чеку между группами до и после удаления аномалий.\n",
    "- График различия конверсии между группами сообщает, что результаты группы B лучше группы A: имеют тенденцию к росту, либо зафиксировались около среднего значения.\n",
    "- График различия среднего чека колеблется, что позволило найти аномалии.\n",
    "\n",
    "Группа B статистически значимо лучше  группы A по конверсии, также график конверсии говорит о фиксации результата. Однако, в ходе теста не выявилось значимых различий по среднему чеку. График же показывает преимущество группы В."
   ]
  }
 ],
 "metadata": {
  "ExecuteTimeLog": [
   {
    "duration": 354,
    "start_time": "2022-03-29T22:52:47.302Z"
   },
   {
    "duration": 14,
    "start_time": "2022-03-29T22:55:10.705Z"
   },
   {
    "duration": 14,
    "start_time": "2022-03-29T22:55:22.569Z"
   },
   {
    "duration": 8,
    "start_time": "2022-03-29T22:55:32.754Z"
   },
   {
    "duration": 58,
    "start_time": "2022-03-29T22:57:34.681Z"
   },
   {
    "duration": 3,
    "start_time": "2022-03-29T23:00:24.244Z"
   },
   {
    "duration": 7,
    "start_time": "2022-03-29T23:03:45.273Z"
   },
   {
    "duration": 9,
    "start_time": "2022-03-29T23:04:51.441Z"
   },
   {
    "duration": 4,
    "start_time": "2022-03-29T23:06:02.574Z"
   },
   {
    "duration": 11,
    "start_time": "2022-03-29T23:06:48.054Z"
   },
   {
    "duration": 10,
    "start_time": "2022-03-29T23:06:55.586Z"
   },
   {
    "duration": 9,
    "start_time": "2022-03-29T23:08:07.586Z"
   },
   {
    "duration": 15,
    "start_time": "2022-03-29T23:10:23.764Z"
   },
   {
    "duration": 10,
    "start_time": "2022-03-29T23:10:37.869Z"
   },
   {
    "duration": 615,
    "start_time": "2022-03-29T23:11:22.703Z"
   },
   {
    "duration": 21,
    "start_time": "2022-03-29T23:12:31.386Z"
   },
   {
    "duration": 417,
    "start_time": "2022-04-01T12:03:30.326Z"
   },
   {
    "duration": 16,
    "start_time": "2022-04-01T12:03:30.745Z"
   },
   {
    "duration": 16,
    "start_time": "2022-04-01T12:03:30.763Z"
   },
   {
    "duration": 15,
    "start_time": "2022-04-01T12:03:30.781Z"
   },
   {
    "duration": 12,
    "start_time": "2022-04-01T12:03:30.798Z"
   },
   {
    "duration": 16,
    "start_time": "2022-04-01T12:03:30.812Z"
   },
   {
    "duration": 23,
    "start_time": "2022-04-01T12:03:30.830Z"
   },
   {
    "duration": 21,
    "start_time": "2022-04-01T12:03:30.854Z"
   },
   {
    "duration": 502,
    "start_time": "2022-04-01T12:03:30.877Z"
   },
   {
    "duration": 19,
    "start_time": "2022-04-01T12:04:01.083Z"
   },
   {
    "duration": 17,
    "start_time": "2022-04-01T12:04:24.665Z"
   },
   {
    "duration": 21,
    "start_time": "2022-04-01T12:27:24.960Z"
   },
   {
    "duration": 20,
    "start_time": "2022-04-01T12:28:04.342Z"
   },
   {
    "duration": 11,
    "start_time": "2022-04-01T12:28:04.823Z"
   },
   {
    "duration": 19,
    "start_time": "2022-04-01T12:28:13.408Z"
   },
   {
    "duration": 14,
    "start_time": "2022-04-01T12:28:24.289Z"
   },
   {
    "duration": 11,
    "start_time": "2022-04-01T12:28:57.772Z"
   },
   {
    "duration": 5,
    "start_time": "2022-04-01T12:31:35.917Z"
   },
   {
    "duration": 11,
    "start_time": "2022-04-01T12:31:48.422Z"
   },
   {
    "duration": 4,
    "start_time": "2022-04-01T12:32:16.739Z"
   },
   {
    "duration": 12,
    "start_time": "2022-04-01T12:32:42.162Z"
   },
   {
    "duration": 5,
    "start_time": "2022-04-01T12:37:00.193Z"
   },
   {
    "duration": 4,
    "start_time": "2022-04-01T12:37:27.098Z"
   },
   {
    "duration": 6,
    "start_time": "2022-04-01T12:58:17.845Z"
   },
   {
    "duration": 11,
    "start_time": "2022-04-01T12:58:25.998Z"
   },
   {
    "duration": 521,
    "start_time": "2022-04-01T13:08:53.511Z"
   },
   {
    "duration": 124,
    "start_time": "2022-04-01T13:12:37.547Z"
   },
   {
    "duration": 24,
    "start_time": "2022-04-01T13:14:35.183Z"
   },
   {
    "duration": 112,
    "start_time": "2022-04-01T13:15:52.774Z"
   },
   {
    "duration": 60,
    "start_time": "2022-04-01T13:16:00.762Z"
   },
   {
    "duration": 56,
    "start_time": "2022-04-01T13:16:18.939Z"
   },
   {
    "duration": 8,
    "start_time": "2022-04-01T13:16:46.005Z"
   },
   {
    "duration": 53,
    "start_time": "2022-04-01T13:16:56.438Z"
   },
   {
    "duration": 9,
    "start_time": "2022-04-01T13:16:57.157Z"
   },
   {
    "duration": 8,
    "start_time": "2022-04-01T13:16:58.274Z"
   },
   {
    "duration": 55,
    "start_time": "2022-04-01T13:17:13.691Z"
   },
   {
    "duration": 9,
    "start_time": "2022-04-01T13:17:25.676Z"
   },
   {
    "duration": 57,
    "start_time": "2022-04-01T13:18:47.721Z"
   },
   {
    "duration": 54,
    "start_time": "2022-04-01T13:18:54.507Z"
   },
   {
    "duration": 53,
    "start_time": "2022-04-01T13:18:55.079Z"
   },
   {
    "duration": 9,
    "start_time": "2022-04-01T13:19:02.049Z"
   },
   {
    "duration": 17,
    "start_time": "2022-04-01T13:23:07.037Z"
   },
   {
    "duration": 11,
    "start_time": "2022-04-01T13:23:14.888Z"
   },
   {
    "duration": 13,
    "start_time": "2022-04-01T13:24:03.808Z"
   },
   {
    "duration": 10,
    "start_time": "2022-04-01T13:24:08.282Z"
   },
   {
    "duration": 12,
    "start_time": "2022-04-01T13:29:32.801Z"
   },
   {
    "duration": 10,
    "start_time": "2022-04-01T13:29:35.213Z"
   },
   {
    "duration": 54,
    "start_time": "2022-04-01T13:31:30.411Z"
   },
   {
    "duration": 63,
    "start_time": "2022-04-01T13:31:40.625Z"
   },
   {
    "duration": 54,
    "start_time": "2022-04-01T13:32:14.061Z"
   },
   {
    "duration": 12,
    "start_time": "2022-04-01T13:41:56.694Z"
   },
   {
    "duration": 24,
    "start_time": "2022-04-01T13:42:52.458Z"
   },
   {
    "duration": 51,
    "start_time": "2022-04-01T13:43:12.866Z"
   },
   {
    "duration": 19,
    "start_time": "2022-04-01T13:46:26.325Z"
   },
   {
    "duration": 15,
    "start_time": "2022-04-01T13:46:33.482Z"
   },
   {
    "duration": 12,
    "start_time": "2022-04-01T13:47:35.714Z"
   },
   {
    "duration": 869,
    "start_time": "2022-04-01T13:48:54.478Z"
   },
   {
    "duration": 11,
    "start_time": "2022-04-01T13:48:55.350Z"
   },
   {
    "duration": 16,
    "start_time": "2022-04-01T13:48:55.362Z"
   },
   {
    "duration": 4,
    "start_time": "2022-04-01T13:48:55.380Z"
   },
   {
    "duration": 6,
    "start_time": "2022-04-01T13:48:55.401Z"
   },
   {
    "duration": 19,
    "start_time": "2022-04-01T13:48:55.409Z"
   },
   {
    "duration": 7,
    "start_time": "2022-04-01T13:48:55.430Z"
   },
   {
    "duration": 13,
    "start_time": "2022-04-01T13:48:55.439Z"
   },
   {
    "duration": 371,
    "start_time": "2022-04-01T13:48:55.454Z"
   },
   {
    "duration": 20,
    "start_time": "2022-04-01T13:48:55.828Z"
   },
   {
    "duration": 14,
    "start_time": "2022-04-01T13:48:55.850Z"
   },
   {
    "duration": 16,
    "start_time": "2022-04-01T13:48:55.865Z"
   },
   {
    "duration": 22,
    "start_time": "2022-04-01T13:48:55.883Z"
   },
   {
    "duration": 16,
    "start_time": "2022-04-01T13:48:55.907Z"
   },
   {
    "duration": 28,
    "start_time": "2022-04-01T13:48:55.925Z"
   },
   {
    "duration": 69,
    "start_time": "2022-04-01T13:48:55.955Z"
   },
   {
    "duration": 54,
    "start_time": "2022-04-01T13:48:56.026Z"
   },
   {
    "duration": 23,
    "start_time": "2022-04-01T13:48:56.081Z"
   },
   {
    "duration": 12,
    "start_time": "2022-04-01T13:48:56.106Z"
   },
   {
    "duration": 12,
    "start_time": "2022-04-01T13:48:56.120Z"
   },
   {
    "duration": 6,
    "start_time": "2022-04-01T13:48:56.134Z"
   },
   {
    "duration": 7,
    "start_time": "2022-04-01T13:48:56.142Z"
   },
   {
    "duration": 10,
    "start_time": "2022-04-01T13:48:56.150Z"
   },
   {
    "duration": 86,
    "start_time": "2022-04-01T13:48:56.162Z"
   },
   {
    "duration": 81,
    "start_time": "2022-04-01T13:48:56.250Z"
   },
   {
    "duration": 19,
    "start_time": "2022-04-01T13:48:56.333Z"
   },
   {
    "duration": 13,
    "start_time": "2022-04-01T13:48:56.354Z"
   },
   {
    "duration": 34,
    "start_time": "2022-04-01T13:48:56.371Z"
   },
   {
    "duration": 15,
    "start_time": "2022-04-01T13:48:56.407Z"
   },
   {
    "duration": 9,
    "start_time": "2022-04-01T13:49:54.623Z"
   },
   {
    "duration": 54,
    "start_time": "2022-04-01T13:50:20.026Z"
   },
   {
    "duration": 53,
    "start_time": "2022-04-01T13:50:20.729Z"
   },
   {
    "duration": 18,
    "start_time": "2022-04-01T13:50:21.429Z"
   },
   {
    "duration": 11,
    "start_time": "2022-04-01T13:50:22.093Z"
   },
   {
    "duration": 5,
    "start_time": "2022-04-01T13:53:04.188Z"
   },
   {
    "duration": 3,
    "start_time": "2022-04-01T13:54:16.752Z"
   },
   {
    "duration": 5,
    "start_time": "2022-04-01T13:55:26.745Z"
   },
   {
    "duration": 1964,
    "start_time": "2022-04-01T13:55:49.895Z"
   },
   {
    "duration": 5,
    "start_time": "2022-04-01T13:56:19.401Z"
   },
   {
    "duration": 33,
    "start_time": "2022-04-01T13:57:47.097Z"
   },
   {
    "duration": 8,
    "start_time": "2022-04-01T13:58:01.548Z"
   },
   {
    "duration": 10,
    "start_time": "2022-04-01T13:58:09.182Z"
   },
   {
    "duration": 7,
    "start_time": "2022-04-01T13:58:23.696Z"
   },
   {
    "duration": 8,
    "start_time": "2022-04-01T14:02:02.906Z"
   },
   {
    "duration": 7,
    "start_time": "2022-04-01T14:02:03.348Z"
   },
   {
    "duration": 1191,
    "start_time": "2022-04-01T14:04:15.881Z"
   },
   {
    "duration": 12,
    "start_time": "2022-04-01T14:04:17.075Z"
   },
   {
    "duration": 19,
    "start_time": "2022-04-01T14:04:17.089Z"
   },
   {
    "duration": 7,
    "start_time": "2022-04-01T14:04:17.110Z"
   },
   {
    "duration": 8,
    "start_time": "2022-04-01T14:04:17.120Z"
   },
   {
    "duration": 12,
    "start_time": "2022-04-01T14:04:17.130Z"
   },
   {
    "duration": 9,
    "start_time": "2022-04-01T14:04:17.143Z"
   },
   {
    "duration": 21,
    "start_time": "2022-04-01T14:04:17.153Z"
   },
   {
    "duration": 356,
    "start_time": "2022-04-01T14:04:17.175Z"
   },
   {
    "duration": 21,
    "start_time": "2022-04-01T14:04:17.533Z"
   },
   {
    "duration": 14,
    "start_time": "2022-04-01T14:04:17.556Z"
   },
   {
    "duration": 14,
    "start_time": "2022-04-01T14:04:17.572Z"
   },
   {
    "duration": 7,
    "start_time": "2022-04-01T14:04:17.600Z"
   },
   {
    "duration": 12,
    "start_time": "2022-04-01T14:04:17.610Z"
   },
   {
    "duration": 11,
    "start_time": "2022-04-01T14:04:17.624Z"
   },
   {
    "duration": 77,
    "start_time": "2022-04-01T14:04:17.637Z"
   },
   {
    "duration": 59,
    "start_time": "2022-04-01T14:04:17.716Z"
   },
   {
    "duration": 16,
    "start_time": "2022-04-01T14:04:17.777Z"
   },
   {
    "duration": 16,
    "start_time": "2022-04-01T14:04:17.795Z"
   },
   {
    "duration": 9,
    "start_time": "2022-04-01T14:04:17.814Z"
   },
   {
    "duration": 9,
    "start_time": "2022-04-01T14:04:17.825Z"
   },
   {
    "duration": 13,
    "start_time": "2022-04-01T14:04:17.836Z"
   },
   {
    "duration": 8,
    "start_time": "2022-04-01T14:04:17.852Z"
   },
   {
    "duration": 8,
    "start_time": "2022-04-01T14:04:17.862Z"
   },
   {
    "duration": 32,
    "start_time": "2022-04-01T14:04:17.872Z"
   },
   {
    "duration": 59,
    "start_time": "2022-04-01T14:04:17.906Z"
   },
   {
    "duration": 69,
    "start_time": "2022-04-01T14:04:17.967Z"
   },
   {
    "duration": 133,
    "start_time": "2022-04-01T14:04:18.038Z"
   },
   {
    "duration": 0,
    "start_time": "2022-04-01T14:04:18.173Z"
   },
   {
    "duration": 0,
    "start_time": "2022-04-01T14:04:18.175Z"
   },
   {
    "duration": 0,
    "start_time": "2022-04-01T14:04:18.175Z"
   },
   {
    "duration": 960,
    "start_time": "2022-04-01T14:09:58.896Z"
   },
   {
    "duration": 18,
    "start_time": "2022-04-01T14:09:59.860Z"
   },
   {
    "duration": 21,
    "start_time": "2022-04-01T14:09:59.880Z"
   },
   {
    "duration": 3,
    "start_time": "2022-04-01T14:09:59.903Z"
   },
   {
    "duration": 9,
    "start_time": "2022-04-01T14:09:59.909Z"
   },
   {
    "duration": 12,
    "start_time": "2022-04-01T14:09:59.920Z"
   },
   {
    "duration": 7,
    "start_time": "2022-04-01T14:09:59.934Z"
   },
   {
    "duration": 22,
    "start_time": "2022-04-01T14:09:59.944Z"
   },
   {
    "duration": 535,
    "start_time": "2022-04-01T14:09:59.969Z"
   },
   {
    "duration": 24,
    "start_time": "2022-04-01T14:10:00.507Z"
   },
   {
    "duration": 19,
    "start_time": "2022-04-01T14:10:00.533Z"
   },
   {
    "duration": 23,
    "start_time": "2022-04-01T14:10:00.554Z"
   },
   {
    "duration": 21,
    "start_time": "2022-04-01T14:10:00.579Z"
   },
   {
    "duration": 24,
    "start_time": "2022-04-01T14:10:00.603Z"
   },
   {
    "duration": 199,
    "start_time": "2022-04-01T14:10:00.629Z"
   },
   {
    "duration": 65,
    "start_time": "2022-04-01T14:10:00.830Z"
   },
   {
    "duration": 71,
    "start_time": "2022-04-01T14:10:00.897Z"
   },
   {
    "duration": 27,
    "start_time": "2022-04-01T14:10:00.970Z"
   },
   {
    "duration": 17,
    "start_time": "2022-04-01T14:10:00.999Z"
   },
   {
    "duration": 13,
    "start_time": "2022-04-01T14:10:01.018Z"
   },
   {
    "duration": 22,
    "start_time": "2022-04-01T14:10:01.034Z"
   },
   {
    "duration": 20,
    "start_time": "2022-04-01T14:10:01.058Z"
   },
   {
    "duration": 23,
    "start_time": "2022-04-01T14:10:01.080Z"
   },
   {
    "duration": 33,
    "start_time": "2022-04-01T14:10:01.105Z"
   },
   {
    "duration": 14,
    "start_time": "2022-04-01T14:10:01.140Z"
   },
   {
    "duration": 77,
    "start_time": "2022-04-01T14:10:01.156Z"
   },
   {
    "duration": 56,
    "start_time": "2022-04-01T14:10:01.235Z"
   },
   {
    "duration": 130,
    "start_time": "2022-04-01T14:10:01.300Z"
   },
   {
    "duration": 1,
    "start_time": "2022-04-01T14:10:01.432Z"
   },
   {
    "duration": 0,
    "start_time": "2022-04-01T14:10:01.434Z"
   },
   {
    "duration": 0,
    "start_time": "2022-04-01T14:10:01.436Z"
   },
   {
    "duration": 871,
    "start_time": "2022-04-01T22:00:41.988Z"
   },
   {
    "duration": 11,
    "start_time": "2022-04-01T22:00:42.861Z"
   },
   {
    "duration": 15,
    "start_time": "2022-04-01T22:00:42.874Z"
   },
   {
    "duration": 4,
    "start_time": "2022-04-01T22:00:42.900Z"
   },
   {
    "duration": 7,
    "start_time": "2022-04-01T22:00:42.907Z"
   },
   {
    "duration": 17,
    "start_time": "2022-04-01T22:00:42.916Z"
   },
   {
    "duration": 19,
    "start_time": "2022-04-01T22:00:42.934Z"
   },
   {
    "duration": 15,
    "start_time": "2022-04-01T22:00:42.955Z"
   },
   {
    "duration": 569,
    "start_time": "2022-04-01T22:00:42.971Z"
   },
   {
    "duration": 20,
    "start_time": "2022-04-01T22:00:43.541Z"
   },
   {
    "duration": 15,
    "start_time": "2022-04-01T22:00:43.563Z"
   },
   {
    "duration": 24,
    "start_time": "2022-04-01T22:00:43.580Z"
   },
   {
    "duration": 18,
    "start_time": "2022-04-01T22:00:43.606Z"
   },
   {
    "duration": 28,
    "start_time": "2022-04-01T22:00:43.627Z"
   },
   {
    "duration": 25,
    "start_time": "2022-04-01T22:00:43.656Z"
   },
   {
    "duration": 51,
    "start_time": "2022-04-01T22:00:43.683Z"
   },
   {
    "duration": 66,
    "start_time": "2022-04-01T22:00:43.736Z"
   },
   {
    "duration": 44,
    "start_time": "2022-04-01T22:00:43.804Z"
   },
   {
    "duration": 13,
    "start_time": "2022-04-01T22:00:43.850Z"
   },
   {
    "duration": 26,
    "start_time": "2022-04-01T22:00:43.865Z"
   },
   {
    "duration": 15,
    "start_time": "2022-04-01T22:00:43.892Z"
   },
   {
    "duration": 18,
    "start_time": "2022-04-01T22:00:43.909Z"
   },
   {
    "duration": 21,
    "start_time": "2022-04-01T22:00:43.929Z"
   },
   {
    "duration": 16,
    "start_time": "2022-04-01T22:00:43.952Z"
   },
   {
    "duration": 19,
    "start_time": "2022-04-01T22:00:43.970Z"
   },
   {
    "duration": 58,
    "start_time": "2022-04-01T22:00:43.991Z"
   },
   {
    "duration": 64,
    "start_time": "2022-04-01T22:00:44.051Z"
   },
   {
    "duration": 130,
    "start_time": "2022-04-01T22:00:44.117Z"
   },
   {
    "duration": 0,
    "start_time": "2022-04-01T22:00:44.248Z"
   },
   {
    "duration": 0,
    "start_time": "2022-04-01T22:00:44.250Z"
   },
   {
    "duration": 0,
    "start_time": "2022-04-01T22:00:44.251Z"
   },
   {
    "duration": 827,
    "start_time": "2022-04-01T22:01:46.529Z"
   },
   {
    "duration": 12,
    "start_time": "2022-04-01T22:01:47.359Z"
   },
   {
    "duration": 16,
    "start_time": "2022-04-01T22:01:47.373Z"
   },
   {
    "duration": 4,
    "start_time": "2022-04-01T22:01:47.400Z"
   },
   {
    "duration": 8,
    "start_time": "2022-04-01T22:01:47.406Z"
   },
   {
    "duration": 24,
    "start_time": "2022-04-01T22:01:47.416Z"
   },
   {
    "duration": 9,
    "start_time": "2022-04-01T22:01:47.442Z"
   },
   {
    "duration": 17,
    "start_time": "2022-04-01T22:01:47.454Z"
   },
   {
    "duration": 355,
    "start_time": "2022-04-01T22:01:47.473Z"
   },
   {
    "duration": 20,
    "start_time": "2022-04-01T22:01:47.830Z"
   },
   {
    "duration": 14,
    "start_time": "2022-04-01T22:01:47.852Z"
   },
   {
    "duration": 15,
    "start_time": "2022-04-01T22:01:47.868Z"
   },
   {
    "duration": 17,
    "start_time": "2022-04-01T22:01:47.886Z"
   },
   {
    "duration": 13,
    "start_time": "2022-04-01T22:01:47.907Z"
   },
   {
    "duration": 12,
    "start_time": "2022-04-01T22:01:47.921Z"
   },
   {
    "duration": 78,
    "start_time": "2022-04-01T22:01:47.934Z"
   },
   {
    "duration": 58,
    "start_time": "2022-04-01T22:01:48.014Z"
   },
   {
    "duration": 16,
    "start_time": "2022-04-01T22:01:48.074Z"
   },
   {
    "duration": 15,
    "start_time": "2022-04-01T22:01:48.091Z"
   },
   {
    "duration": 5,
    "start_time": "2022-04-01T22:01:48.108Z"
   },
   {
    "duration": 10,
    "start_time": "2022-04-01T22:01:48.115Z"
   },
   {
    "duration": 9,
    "start_time": "2022-04-01T22:01:48.127Z"
   },
   {
    "duration": 13,
    "start_time": "2022-04-01T22:01:48.138Z"
   },
   {
    "duration": 14,
    "start_time": "2022-04-01T22:01:48.153Z"
   },
   {
    "duration": 31,
    "start_time": "2022-04-01T22:01:48.169Z"
   },
   {
    "duration": 54,
    "start_time": "2022-04-01T22:01:48.202Z"
   },
   {
    "duration": 75,
    "start_time": "2022-04-01T22:01:48.258Z"
   },
   {
    "duration": 25,
    "start_time": "2022-04-01T22:01:48.335Z"
   },
   {
    "duration": 11,
    "start_time": "2022-04-01T22:01:48.362Z"
   },
   {
    "duration": 29,
    "start_time": "2022-04-01T22:01:48.375Z"
   },
   {
    "duration": 16,
    "start_time": "2022-04-01T22:01:48.406Z"
   },
   {
    "duration": 10,
    "start_time": "2022-04-01T22:07:08.481Z"
   },
   {
    "duration": 25,
    "start_time": "2022-04-01T22:12:54.681Z"
   },
   {
    "duration": 834,
    "start_time": "2022-04-01T22:24:27.119Z"
   },
   {
    "duration": 12,
    "start_time": "2022-04-01T22:24:27.955Z"
   },
   {
    "duration": 17,
    "start_time": "2022-04-01T22:24:27.969Z"
   },
   {
    "duration": 13,
    "start_time": "2022-04-01T22:24:27.988Z"
   },
   {
    "duration": 7,
    "start_time": "2022-04-01T22:24:28.005Z"
   },
   {
    "duration": 12,
    "start_time": "2022-04-01T22:24:28.014Z"
   },
   {
    "duration": 6,
    "start_time": "2022-04-01T22:24:28.028Z"
   },
   {
    "duration": 16,
    "start_time": "2022-04-01T22:24:28.036Z"
   },
   {
    "duration": 367,
    "start_time": "2022-04-01T22:24:28.054Z"
   },
   {
    "duration": 26,
    "start_time": "2022-04-01T22:24:28.423Z"
   },
   {
    "duration": 12,
    "start_time": "2022-04-01T22:24:28.451Z"
   },
   {
    "duration": 13,
    "start_time": "2022-04-01T22:24:28.466Z"
   },
   {
    "duration": 9,
    "start_time": "2022-04-01T22:24:28.481Z"
   },
   {
    "duration": 13,
    "start_time": "2022-04-01T22:24:28.503Z"
   },
   {
    "duration": 13,
    "start_time": "2022-04-01T22:24:28.518Z"
   },
   {
    "duration": 76,
    "start_time": "2022-04-01T22:24:28.533Z"
   },
   {
    "duration": 52,
    "start_time": "2022-04-01T22:24:28.611Z"
   },
   {
    "duration": 15,
    "start_time": "2022-04-01T22:24:28.665Z"
   },
   {
    "duration": 27,
    "start_time": "2022-04-01T22:24:28.683Z"
   },
   {
    "duration": 5,
    "start_time": "2022-04-01T22:24:28.712Z"
   },
   {
    "duration": 6,
    "start_time": "2022-04-01T22:24:28.719Z"
   },
   {
    "duration": 9,
    "start_time": "2022-04-01T22:24:28.727Z"
   },
   {
    "duration": 11,
    "start_time": "2022-04-01T22:24:28.738Z"
   },
   {
    "duration": 81,
    "start_time": "2022-04-01T22:24:28.751Z"
   },
   {
    "duration": 52,
    "start_time": "2022-04-01T22:24:28.834Z"
   },
   {
    "duration": 42,
    "start_time": "2022-04-01T22:24:28.887Z"
   },
   {
    "duration": 120,
    "start_time": "2022-04-01T22:24:28.931Z"
   },
   {
    "duration": 0,
    "start_time": "2022-04-01T22:24:29.053Z"
   },
   {
    "duration": 0,
    "start_time": "2022-04-01T22:24:29.054Z"
   },
   {
    "duration": 439,
    "start_time": "2022-04-01T22:27:40.773Z"
   },
   {
    "duration": 13,
    "start_time": "2022-04-01T22:28:50.687Z"
   },
   {
    "duration": 12,
    "start_time": "2022-04-01T22:31:02.999Z"
   },
   {
    "duration": 13,
    "start_time": "2022-04-01T22:31:35.794Z"
   },
   {
    "duration": 871,
    "start_time": "2022-04-01T22:31:56.376Z"
   },
   {
    "duration": 11,
    "start_time": "2022-04-01T22:31:57.249Z"
   },
   {
    "duration": 15,
    "start_time": "2022-04-01T22:31:57.262Z"
   },
   {
    "duration": 5,
    "start_time": "2022-04-01T22:31:57.279Z"
   },
   {
    "duration": 21,
    "start_time": "2022-04-01T22:31:57.286Z"
   },
   {
    "duration": 14,
    "start_time": "2022-04-01T22:31:57.308Z"
   },
   {
    "duration": 11,
    "start_time": "2022-04-01T22:31:57.324Z"
   },
   {
    "duration": 15,
    "start_time": "2022-04-01T22:31:57.337Z"
   },
   {
    "duration": 350,
    "start_time": "2022-04-01T22:31:57.354Z"
   },
   {
    "duration": 26,
    "start_time": "2022-04-01T22:31:57.706Z"
   },
   {
    "duration": 12,
    "start_time": "2022-04-01T22:31:57.734Z"
   },
   {
    "duration": 7,
    "start_time": "2022-04-01T22:31:57.747Z"
   },
   {
    "duration": 13,
    "start_time": "2022-04-01T22:31:57.756Z"
   },
   {
    "duration": 14,
    "start_time": "2022-04-01T22:31:57.772Z"
   },
   {
    "duration": 23,
    "start_time": "2022-04-01T22:31:57.788Z"
   },
   {
    "duration": 63,
    "start_time": "2022-04-01T22:31:57.812Z"
   },
   {
    "duration": 63,
    "start_time": "2022-04-01T22:31:57.877Z"
   },
   {
    "duration": 24,
    "start_time": "2022-04-01T22:31:57.942Z"
   },
   {
    "duration": 11,
    "start_time": "2022-04-01T22:31:57.968Z"
   },
   {
    "duration": 8,
    "start_time": "2022-04-01T22:31:57.981Z"
   },
   {
    "duration": 10,
    "start_time": "2022-04-01T22:31:57.991Z"
   },
   {
    "duration": 14,
    "start_time": "2022-04-01T22:31:58.003Z"
   },
   {
    "duration": 9,
    "start_time": "2022-04-01T22:31:58.020Z"
   },
   {
    "duration": 56,
    "start_time": "2022-04-01T22:31:58.031Z"
   },
   {
    "duration": 59,
    "start_time": "2022-04-01T22:31:58.089Z"
   },
   {
    "duration": 31,
    "start_time": "2022-04-01T22:31:58.150Z"
   },
   {
    "duration": 31,
    "start_time": "2022-04-01T22:31:58.183Z"
   },
   {
    "duration": 9,
    "start_time": "2022-04-01T22:31:58.216Z"
   },
   {
    "duration": 16,
    "start_time": "2022-04-01T22:31:58.227Z"
   },
   {
    "duration": 8,
    "start_time": "2022-04-01T22:38:02.220Z"
   },
   {
    "duration": 7,
    "start_time": "2022-04-01T22:40:45.873Z"
   },
   {
    "duration": 6,
    "start_time": "2022-04-01T22:40:53.332Z"
   },
   {
    "duration": 13,
    "start_time": "2022-04-01T22:45:27.172Z"
   },
   {
    "duration": 26,
    "start_time": "2022-04-01T22:46:46.881Z"
   },
   {
    "duration": 116,
    "start_time": "2022-04-01T22:49:10.182Z"
   },
   {
    "duration": 24,
    "start_time": "2022-04-01T22:50:57.931Z"
   },
   {
    "duration": 4,
    "start_time": "2022-04-01T22:57:49.380Z"
   },
   {
    "duration": 5,
    "start_time": "2022-04-01T23:00:45.375Z"
   },
   {
    "duration": 5,
    "start_time": "2022-04-01T23:02:04.124Z"
   },
   {
    "duration": 5,
    "start_time": "2022-04-01T23:03:46.083Z"
   },
   {
    "duration": 11,
    "start_time": "2022-04-01T23:05:27.454Z"
   },
   {
    "duration": 5,
    "start_time": "2022-04-01T23:06:00.253Z"
   },
   {
    "duration": 5,
    "start_time": "2022-04-01T23:06:32.599Z"
   },
   {
    "duration": 5,
    "start_time": "2022-04-01T23:06:52.706Z"
   },
   {
    "duration": 8,
    "start_time": "2022-04-01T23:11:16.570Z"
   },
   {
    "duration": 5,
    "start_time": "2022-04-01T23:13:21.116Z"
   },
   {
    "duration": 5,
    "start_time": "2022-04-01T23:16:15.493Z"
   },
   {
    "duration": 810,
    "start_time": "2022-04-01T23:17:28.143Z"
   },
   {
    "duration": 11,
    "start_time": "2022-04-01T23:17:28.955Z"
   },
   {
    "duration": 15,
    "start_time": "2022-04-01T23:17:28.968Z"
   },
   {
    "duration": 3,
    "start_time": "2022-04-01T23:17:28.985Z"
   },
   {
    "duration": 6,
    "start_time": "2022-04-01T23:17:29.002Z"
   },
   {
    "duration": 12,
    "start_time": "2022-04-01T23:17:29.009Z"
   },
   {
    "duration": 7,
    "start_time": "2022-04-01T23:17:29.022Z"
   },
   {
    "duration": 14,
    "start_time": "2022-04-01T23:17:29.031Z"
   },
   {
    "duration": 358,
    "start_time": "2022-04-01T23:17:29.047Z"
   },
   {
    "duration": 26,
    "start_time": "2022-04-01T23:17:29.406Z"
   },
   {
    "duration": 11,
    "start_time": "2022-04-01T23:17:29.433Z"
   },
   {
    "duration": 10,
    "start_time": "2022-04-01T23:17:29.446Z"
   },
   {
    "duration": 20,
    "start_time": "2022-04-01T23:17:29.458Z"
   },
   {
    "duration": 13,
    "start_time": "2022-04-01T23:17:29.481Z"
   },
   {
    "duration": 12,
    "start_time": "2022-04-01T23:17:29.495Z"
   },
   {
    "duration": 52,
    "start_time": "2022-04-01T23:17:29.509Z"
   },
   {
    "duration": 71,
    "start_time": "2022-04-01T23:17:29.563Z"
   },
   {
    "duration": 15,
    "start_time": "2022-04-01T23:17:29.636Z"
   },
   {
    "duration": 10,
    "start_time": "2022-04-01T23:17:29.653Z"
   },
   {
    "duration": 7,
    "start_time": "2022-04-01T23:17:29.665Z"
   },
   {
    "duration": 27,
    "start_time": "2022-04-01T23:17:29.674Z"
   },
   {
    "duration": 10,
    "start_time": "2022-04-01T23:17:29.703Z"
   },
   {
    "duration": 14,
    "start_time": "2022-04-01T23:17:29.715Z"
   },
   {
    "duration": 55,
    "start_time": "2022-04-01T23:17:29.731Z"
   },
   {
    "duration": 62,
    "start_time": "2022-04-01T23:17:29.787Z"
   },
   {
    "duration": 58,
    "start_time": "2022-04-01T23:17:29.851Z"
   },
   {
    "duration": 11,
    "start_time": "2022-04-01T23:17:29.911Z"
   },
   {
    "duration": 5,
    "start_time": "2022-04-01T23:17:29.924Z"
   },
   {
    "duration": 9,
    "start_time": "2022-04-01T23:17:29.930Z"
   },
   {
    "duration": 9,
    "start_time": "2022-04-01T23:17:29.941Z"
   },
   {
    "duration": 51,
    "start_time": "2022-04-01T23:17:29.951Z"
   },
   {
    "duration": 6,
    "start_time": "2022-04-01T23:17:30.004Z"
   },
   {
    "duration": 23,
    "start_time": "2022-04-01T23:17:30.012Z"
   },
   {
    "duration": 880,
    "start_time": "2022-04-01T23:33:59.388Z"
   },
   {
    "duration": 11,
    "start_time": "2022-04-01T23:34:00.271Z"
   },
   {
    "duration": 24,
    "start_time": "2022-04-01T23:34:00.284Z"
   },
   {
    "duration": 4,
    "start_time": "2022-04-01T23:34:00.310Z"
   },
   {
    "duration": 13,
    "start_time": "2022-04-01T23:34:00.317Z"
   },
   {
    "duration": 13,
    "start_time": "2022-04-01T23:34:00.333Z"
   },
   {
    "duration": 7,
    "start_time": "2022-04-01T23:34:00.348Z"
   },
   {
    "duration": 20,
    "start_time": "2022-04-01T23:34:00.357Z"
   },
   {
    "duration": 367,
    "start_time": "2022-04-01T23:34:00.379Z"
   },
   {
    "duration": 28,
    "start_time": "2022-04-01T23:34:00.748Z"
   },
   {
    "duration": 14,
    "start_time": "2022-04-01T23:34:00.778Z"
   },
   {
    "duration": 34,
    "start_time": "2022-04-01T23:34:00.794Z"
   },
   {
    "duration": 35,
    "start_time": "2022-04-01T23:34:00.830Z"
   },
   {
    "duration": 20,
    "start_time": "2022-04-01T23:34:00.868Z"
   },
   {
    "duration": 23,
    "start_time": "2022-04-01T23:34:00.890Z"
   },
   {
    "duration": 57,
    "start_time": "2022-04-01T23:34:00.915Z"
   },
   {
    "duration": 105,
    "start_time": "2022-04-01T23:34:00.974Z"
   },
   {
    "duration": 27,
    "start_time": "2022-04-01T23:34:01.081Z"
   },
   {
    "duration": 15,
    "start_time": "2022-04-01T23:34:01.109Z"
   },
   {
    "duration": 12,
    "start_time": "2022-04-01T23:34:01.127Z"
   },
   {
    "duration": 19,
    "start_time": "2022-04-01T23:34:01.141Z"
   },
   {
    "duration": 22,
    "start_time": "2022-04-01T23:34:01.162Z"
   },
   {
    "duration": 23,
    "start_time": "2022-04-01T23:34:01.186Z"
   },
   {
    "duration": 72,
    "start_time": "2022-04-01T23:34:01.211Z"
   },
   {
    "duration": 60,
    "start_time": "2022-04-01T23:34:01.285Z"
   },
   {
    "duration": 33,
    "start_time": "2022-04-01T23:34:01.346Z"
   },
   {
    "duration": 27,
    "start_time": "2022-04-01T23:34:01.381Z"
   },
   {
    "duration": 9,
    "start_time": "2022-04-01T23:34:01.410Z"
   },
   {
    "duration": 5,
    "start_time": "2022-04-01T23:34:01.421Z"
   },
   {
    "duration": 30,
    "start_time": "2022-04-01T23:34:01.428Z"
   },
   {
    "duration": 6,
    "start_time": "2022-04-01T23:34:01.460Z"
   },
   {
    "duration": 40,
    "start_time": "2022-04-01T23:34:01.468Z"
   },
   {
    "duration": 5,
    "start_time": "2022-04-01T23:39:28.790Z"
   },
   {
    "duration": 101,
    "start_time": "2022-04-01T23:48:44.646Z"
   },
   {
    "duration": 3,
    "start_time": "2022-04-01T23:49:08.825Z"
   },
   {
    "duration": 244,
    "start_time": "2022-04-01T23:49:13.757Z"
   },
   {
    "duration": 11,
    "start_time": "2022-04-01T23:50:51.165Z"
   },
   {
    "duration": 207,
    "start_time": "2022-04-01T23:51:23.541Z"
   },
   {
    "duration": 196,
    "start_time": "2022-04-01T23:51:30.295Z"
   },
   {
    "duration": 177,
    "start_time": "2022-04-01T23:51:55.360Z"
   },
   {
    "duration": 182,
    "start_time": "2022-04-01T23:52:41.764Z"
   },
   {
    "duration": 157,
    "start_time": "2022-04-01T23:54:08.346Z"
   },
   {
    "duration": 180,
    "start_time": "2022-04-01T23:54:33.930Z"
   },
   {
    "duration": 190,
    "start_time": "2022-04-01T23:55:50.689Z"
   },
   {
    "duration": 186,
    "start_time": "2022-04-01T23:56:15.382Z"
   },
   {
    "duration": 273,
    "start_time": "2022-04-01T23:56:25.844Z"
   },
   {
    "duration": 195,
    "start_time": "2022-04-01T23:56:52.201Z"
   },
   {
    "duration": 185,
    "start_time": "2022-04-01T23:56:58.574Z"
   },
   {
    "duration": 11,
    "start_time": "2022-04-01T23:59:43.906Z"
   },
   {
    "duration": 10,
    "start_time": "2022-04-01T23:59:59.676Z"
   },
   {
    "duration": 167,
    "start_time": "2022-04-02T00:00:11.824Z"
   },
   {
    "duration": 185,
    "start_time": "2022-04-02T00:00:28.501Z"
   },
   {
    "duration": 183,
    "start_time": "2022-04-02T00:01:14.720Z"
   },
   {
    "duration": 1124,
    "start_time": "2022-04-02T00:01:45.460Z"
   },
   {
    "duration": 67,
    "start_time": "2022-04-02T00:01:46.587Z"
   },
   {
    "duration": 13,
    "start_time": "2022-04-02T00:01:46.656Z"
   },
   {
    "duration": 8,
    "start_time": "2022-04-02T00:01:46.670Z"
   },
   {
    "duration": 7,
    "start_time": "2022-04-02T00:01:46.680Z"
   },
   {
    "duration": 11,
    "start_time": "2022-04-02T00:01:46.701Z"
   },
   {
    "duration": 7,
    "start_time": "2022-04-02T00:01:46.714Z"
   },
   {
    "duration": 16,
    "start_time": "2022-04-02T00:01:46.723Z"
   },
   {
    "duration": 72,
    "start_time": "2022-04-02T00:01:46.740Z"
   },
   {
    "duration": 25,
    "start_time": "2022-04-02T00:01:46.814Z"
   },
   {
    "duration": 12,
    "start_time": "2022-04-02T00:01:46.841Z"
   },
   {
    "duration": 9,
    "start_time": "2022-04-02T00:01:46.854Z"
   },
   {
    "duration": 8,
    "start_time": "2022-04-02T00:01:46.865Z"
   },
   {
    "duration": 29,
    "start_time": "2022-04-02T00:01:46.877Z"
   },
   {
    "duration": 22,
    "start_time": "2022-04-02T00:01:46.907Z"
   },
   {
    "duration": 55,
    "start_time": "2022-04-02T00:01:46.931Z"
   },
   {
    "duration": 67,
    "start_time": "2022-04-02T00:01:46.988Z"
   },
   {
    "duration": 41,
    "start_time": "2022-04-02T00:01:47.057Z"
   },
   {
    "duration": 11,
    "start_time": "2022-04-02T00:01:47.100Z"
   },
   {
    "duration": 16,
    "start_time": "2022-04-02T00:01:47.112Z"
   },
   {
    "duration": 12,
    "start_time": "2022-04-02T00:01:47.130Z"
   },
   {
    "duration": 15,
    "start_time": "2022-04-02T00:01:47.144Z"
   },
   {
    "duration": 13,
    "start_time": "2022-04-02T00:01:47.161Z"
   },
   {
    "duration": 54,
    "start_time": "2022-04-02T00:01:47.175Z"
   },
   {
    "duration": 51,
    "start_time": "2022-04-02T00:01:47.231Z"
   },
   {
    "duration": 42,
    "start_time": "2022-04-02T00:01:47.284Z"
   },
   {
    "duration": 21,
    "start_time": "2022-04-02T00:01:47.327Z"
   },
   {
    "duration": 11,
    "start_time": "2022-04-02T00:01:47.350Z"
   },
   {
    "duration": 24,
    "start_time": "2022-04-02T00:01:47.363Z"
   },
   {
    "duration": 31,
    "start_time": "2022-04-02T00:01:47.389Z"
   },
   {
    "duration": 5,
    "start_time": "2022-04-02T00:01:47.421Z"
   },
   {
    "duration": 27,
    "start_time": "2022-04-02T00:01:47.427Z"
   },
   {
    "duration": 30,
    "start_time": "2022-04-02T00:01:47.455Z"
   },
   {
    "duration": 271,
    "start_time": "2022-04-02T00:01:47.487Z"
   },
   {
    "duration": 189,
    "start_time": "2022-04-02T00:01:47.760Z"
   },
   {
    "duration": 1052,
    "start_time": "2022-04-02T00:02:39.129Z"
   },
   {
    "duration": 72,
    "start_time": "2022-04-02T00:02:40.183Z"
   },
   {
    "duration": 13,
    "start_time": "2022-04-02T00:02:40.256Z"
   },
   {
    "duration": 7,
    "start_time": "2022-04-02T00:02:40.271Z"
   },
   {
    "duration": 23,
    "start_time": "2022-04-02T00:02:40.281Z"
   },
   {
    "duration": 11,
    "start_time": "2022-04-02T00:02:40.306Z"
   },
   {
    "duration": 7,
    "start_time": "2022-04-02T00:02:40.319Z"
   },
   {
    "duration": 15,
    "start_time": "2022-04-02T00:02:40.328Z"
   },
   {
    "duration": 80,
    "start_time": "2022-04-02T00:02:40.345Z"
   },
   {
    "duration": 26,
    "start_time": "2022-04-02T00:02:40.427Z"
   },
   {
    "duration": 13,
    "start_time": "2022-04-02T00:02:40.455Z"
   },
   {
    "duration": 11,
    "start_time": "2022-04-02T00:02:40.470Z"
   },
   {
    "duration": 19,
    "start_time": "2022-04-02T00:02:40.483Z"
   },
   {
    "duration": 13,
    "start_time": "2022-04-02T00:02:40.506Z"
   },
   {
    "duration": 18,
    "start_time": "2022-04-02T00:02:40.521Z"
   },
   {
    "duration": 69,
    "start_time": "2022-04-02T00:02:40.541Z"
   },
   {
    "duration": 53,
    "start_time": "2022-04-02T00:02:40.611Z"
   },
   {
    "duration": 20,
    "start_time": "2022-04-02T00:02:40.666Z"
   },
   {
    "duration": 21,
    "start_time": "2022-04-02T00:02:40.688Z"
   },
   {
    "duration": 11,
    "start_time": "2022-04-02T00:02:40.711Z"
   },
   {
    "duration": 9,
    "start_time": "2022-04-02T00:02:40.724Z"
   },
   {
    "duration": 11,
    "start_time": "2022-04-02T00:02:40.734Z"
   },
   {
    "duration": 11,
    "start_time": "2022-04-02T00:02:40.747Z"
   },
   {
    "duration": 69,
    "start_time": "2022-04-02T00:02:40.760Z"
   },
   {
    "duration": 54,
    "start_time": "2022-04-02T00:02:40.831Z"
   },
   {
    "duration": 32,
    "start_time": "2022-04-02T00:02:40.901Z"
   },
   {
    "duration": 12,
    "start_time": "2022-04-02T00:02:40.935Z"
   },
   {
    "duration": 8,
    "start_time": "2022-04-02T00:02:40.948Z"
   },
   {
    "duration": 17,
    "start_time": "2022-04-02T00:02:40.957Z"
   },
   {
    "duration": 45,
    "start_time": "2022-04-02T00:02:40.976Z"
   },
   {
    "duration": 5,
    "start_time": "2022-04-02T00:02:41.022Z"
   },
   {
    "duration": 15,
    "start_time": "2022-04-02T00:02:41.029Z"
   },
   {
    "duration": 15,
    "start_time": "2022-04-02T00:02:41.046Z"
   },
   {
    "duration": 292,
    "start_time": "2022-04-02T00:02:41.063Z"
   },
   {
    "duration": 202,
    "start_time": "2022-04-02T00:02:41.356Z"
   },
   {
    "duration": 1211,
    "start_time": "2022-04-02T11:41:01.265Z"
   },
   {
    "duration": 80,
    "start_time": "2022-04-02T11:41:02.478Z"
   },
   {
    "duration": 12,
    "start_time": "2022-04-02T11:41:02.560Z"
   },
   {
    "duration": 5,
    "start_time": "2022-04-02T11:41:02.575Z"
   },
   {
    "duration": 11,
    "start_time": "2022-04-02T11:41:02.583Z"
   },
   {
    "duration": 17,
    "start_time": "2022-04-02T11:41:02.597Z"
   },
   {
    "duration": 26,
    "start_time": "2022-04-02T11:41:02.615Z"
   },
   {
    "duration": 15,
    "start_time": "2022-04-02T11:41:02.643Z"
   },
   {
    "duration": 75,
    "start_time": "2022-04-02T11:41:02.660Z"
   },
   {
    "duration": 25,
    "start_time": "2022-04-02T11:41:02.736Z"
   },
   {
    "duration": 12,
    "start_time": "2022-04-02T11:41:02.763Z"
   },
   {
    "duration": 8,
    "start_time": "2022-04-02T11:41:02.777Z"
   },
   {
    "duration": 7,
    "start_time": "2022-04-02T11:41:02.787Z"
   },
   {
    "duration": 11,
    "start_time": "2022-04-02T11:41:02.797Z"
   },
   {
    "duration": 30,
    "start_time": "2022-04-02T11:41:02.810Z"
   },
   {
    "duration": 52,
    "start_time": "2022-04-02T11:41:02.842Z"
   },
   {
    "duration": 64,
    "start_time": "2022-04-02T11:41:02.895Z"
   },
   {
    "duration": 19,
    "start_time": "2022-04-02T11:41:02.961Z"
   },
   {
    "duration": 10,
    "start_time": "2022-04-02T11:41:02.982Z"
   },
   {
    "duration": 10,
    "start_time": "2022-04-02T11:41:02.993Z"
   },
   {
    "duration": 10,
    "start_time": "2022-04-02T11:41:03.005Z"
   },
   {
    "duration": 17,
    "start_time": "2022-04-02T11:41:03.016Z"
   },
   {
    "duration": 9,
    "start_time": "2022-04-02T11:41:03.035Z"
   },
   {
    "duration": 54,
    "start_time": "2022-04-02T11:41:03.046Z"
   },
   {
    "duration": 59,
    "start_time": "2022-04-02T11:41:03.102Z"
   },
   {
    "duration": 30,
    "start_time": "2022-04-02T11:41:03.163Z"
   },
   {
    "duration": 11,
    "start_time": "2022-04-02T11:41:03.195Z"
   },
   {
    "duration": 31,
    "start_time": "2022-04-02T11:41:03.208Z"
   },
   {
    "duration": 11,
    "start_time": "2022-04-02T11:41:03.240Z"
   },
   {
    "duration": 28,
    "start_time": "2022-04-02T11:41:03.253Z"
   },
   {
    "duration": 5,
    "start_time": "2022-04-02T11:41:03.284Z"
   },
   {
    "duration": 14,
    "start_time": "2022-04-02T11:41:03.291Z"
   },
   {
    "duration": 27,
    "start_time": "2022-04-02T11:41:03.307Z"
   },
   {
    "duration": 264,
    "start_time": "2022-04-02T11:41:03.335Z"
   },
   {
    "duration": 185,
    "start_time": "2022-04-02T11:41:03.601Z"
   },
   {
    "duration": 86,
    "start_time": "2022-04-02T11:50:43.618Z"
   },
   {
    "duration": 95,
    "start_time": "2022-04-02T11:51:00.078Z"
   },
   {
    "duration": 286,
    "start_time": "2022-04-02T11:51:19.662Z"
   },
   {
    "duration": 285,
    "start_time": "2022-04-02T11:51:36.521Z"
   },
   {
    "duration": 240,
    "start_time": "2022-04-02T11:52:02.367Z"
   },
   {
    "duration": 9,
    "start_time": "2022-04-02T12:08:26.082Z"
   },
   {
    "duration": 1450,
    "start_time": "2022-04-02T12:09:33.454Z"
   },
   {
    "duration": 1715,
    "start_time": "2022-04-02T12:10:06.642Z"
   },
   {
    "duration": 51,
    "start_time": "2022-04-02T12:11:15.706Z"
   },
   {
    "duration": 51,
    "start_time": "2022-04-02T12:11:16.486Z"
   },
   {
    "duration": 1040,
    "start_time": "2022-04-02T12:11:22.934Z"
   },
   {
    "duration": 71,
    "start_time": "2022-04-02T12:11:23.976Z"
   },
   {
    "duration": 11,
    "start_time": "2022-04-02T12:11:24.049Z"
   },
   {
    "duration": 3,
    "start_time": "2022-04-02T12:11:24.062Z"
   },
   {
    "duration": 9,
    "start_time": "2022-04-02T12:11:24.067Z"
   },
   {
    "duration": 10,
    "start_time": "2022-04-02T12:11:24.078Z"
   },
   {
    "duration": 6,
    "start_time": "2022-04-02T12:11:24.090Z"
   },
   {
    "duration": 41,
    "start_time": "2022-04-02T12:11:24.097Z"
   },
   {
    "duration": 50,
    "start_time": "2022-04-02T12:11:24.140Z"
   },
   {
    "duration": 29,
    "start_time": "2022-04-02T12:11:24.192Z"
   },
   {
    "duration": 21,
    "start_time": "2022-04-02T12:11:24.223Z"
   },
   {
    "duration": 16,
    "start_time": "2022-04-02T12:11:24.246Z"
   },
   {
    "duration": 10,
    "start_time": "2022-04-02T12:11:24.265Z"
   },
   {
    "duration": 14,
    "start_time": "2022-04-02T12:11:24.280Z"
   },
   {
    "duration": 13,
    "start_time": "2022-04-02T12:11:24.297Z"
   },
   {
    "duration": 75,
    "start_time": "2022-04-02T12:11:24.332Z"
   },
   {
    "duration": 65,
    "start_time": "2022-04-02T12:11:24.409Z"
   },
   {
    "duration": 17,
    "start_time": "2022-04-02T12:11:24.476Z"
   },
   {
    "duration": 10,
    "start_time": "2022-04-02T12:11:24.494Z"
   },
   {
    "duration": 5,
    "start_time": "2022-04-02T12:11:24.506Z"
   },
   {
    "duration": 21,
    "start_time": "2022-04-02T12:11:24.513Z"
   },
   {
    "duration": 7,
    "start_time": "2022-04-02T12:11:24.536Z"
   },
   {
    "duration": 7,
    "start_time": "2022-04-02T12:11:24.545Z"
   },
   {
    "duration": 49,
    "start_time": "2022-04-02T12:11:24.553Z"
   },
   {
    "duration": 68,
    "start_time": "2022-04-02T12:11:24.603Z"
   },
   {
    "duration": 30,
    "start_time": "2022-04-02T12:11:24.672Z"
   },
   {
    "duration": 36,
    "start_time": "2022-04-02T12:11:24.704Z"
   },
   {
    "duration": 7,
    "start_time": "2022-04-02T12:11:24.742Z"
   },
   {
    "duration": 7,
    "start_time": "2022-04-02T12:11:24.750Z"
   },
   {
    "duration": 25,
    "start_time": "2022-04-02T12:11:24.758Z"
   },
   {
    "duration": 4,
    "start_time": "2022-04-02T12:11:24.785Z"
   },
   {
    "duration": 7,
    "start_time": "2022-04-02T12:11:24.790Z"
   },
   {
    "duration": 42,
    "start_time": "2022-04-02T12:11:24.798Z"
   },
   {
    "duration": 259,
    "start_time": "2022-04-02T12:11:24.841Z"
   },
   {
    "duration": 192,
    "start_time": "2022-04-02T12:11:25.101Z"
   },
   {
    "duration": 274,
    "start_time": "2022-04-02T12:11:25.295Z"
   },
   {
    "duration": 190,
    "start_time": "2022-04-02T12:11:25.571Z"
   },
   {
    "duration": 184,
    "start_time": "2022-04-02T12:12:06.866Z"
   },
   {
    "duration": 277,
    "start_time": "2022-04-02T12:13:42.400Z"
   },
   {
    "duration": 183,
    "start_time": "2022-04-02T12:13:59.063Z"
   },
   {
    "duration": 246,
    "start_time": "2022-04-02T12:15:48.165Z"
   },
   {
    "duration": 267,
    "start_time": "2022-04-02T12:16:28.807Z"
   },
   {
    "duration": 163,
    "start_time": "2022-04-02T12:21:00.629Z"
   },
   {
    "duration": 145,
    "start_time": "2022-04-02T12:21:41.381Z"
   },
   {
    "duration": 277,
    "start_time": "2022-04-02T12:22:04.939Z"
   },
   {
    "duration": 247,
    "start_time": "2022-04-02T12:22:17.993Z"
   },
   {
    "duration": 312,
    "start_time": "2022-04-02T12:23:00.626Z"
   },
   {
    "duration": 288,
    "start_time": "2022-04-02T12:23:13.932Z"
   },
   {
    "duration": 85,
    "start_time": "2022-04-02T12:29:21.455Z"
   },
   {
    "duration": 305,
    "start_time": "2022-04-02T12:32:20.044Z"
   },
   {
    "duration": 258,
    "start_time": "2022-04-02T12:32:41.161Z"
   },
   {
    "duration": 196,
    "start_time": "2022-04-02T12:33:05.610Z"
   },
   {
    "duration": 296,
    "start_time": "2022-04-02T12:33:22.112Z"
   },
   {
    "duration": 180,
    "start_time": "2022-04-02T12:33:31.810Z"
   },
   {
    "duration": 283,
    "start_time": "2022-04-02T12:33:39.908Z"
   },
   {
    "duration": 23,
    "start_time": "2022-04-02T12:49:51.859Z"
   },
   {
    "duration": 24,
    "start_time": "2022-04-02T12:50:09.865Z"
   },
   {
    "duration": 4,
    "start_time": "2022-04-02T12:50:32.172Z"
   },
   {
    "duration": 5,
    "start_time": "2022-04-02T12:50:54.802Z"
   },
   {
    "duration": 24,
    "start_time": "2022-04-02T12:51:04.914Z"
   },
   {
    "duration": 25,
    "start_time": "2022-04-02T12:54:08.114Z"
   },
   {
    "duration": 24,
    "start_time": "2022-04-02T12:54:17.666Z"
   },
   {
    "duration": 5,
    "start_time": "2022-04-02T12:56:22.381Z"
   },
   {
    "duration": 1061,
    "start_time": "2022-04-02T12:57:35.624Z"
   },
   {
    "duration": 73,
    "start_time": "2022-04-02T12:57:36.687Z"
   },
   {
    "duration": 11,
    "start_time": "2022-04-02T12:57:36.762Z"
   },
   {
    "duration": 3,
    "start_time": "2022-04-02T12:57:36.775Z"
   },
   {
    "duration": 8,
    "start_time": "2022-04-02T12:57:36.781Z"
   },
   {
    "duration": 11,
    "start_time": "2022-04-02T12:57:36.790Z"
   },
   {
    "duration": 34,
    "start_time": "2022-04-02T12:57:36.802Z"
   },
   {
    "duration": 13,
    "start_time": "2022-04-02T12:57:36.838Z"
   },
   {
    "duration": 58,
    "start_time": "2022-04-02T12:57:36.853Z"
   },
   {
    "duration": 25,
    "start_time": "2022-04-02T12:57:36.913Z"
   },
   {
    "duration": 12,
    "start_time": "2022-04-02T12:57:36.940Z"
   },
   {
    "duration": 9,
    "start_time": "2022-04-02T12:57:36.954Z"
   },
   {
    "duration": 6,
    "start_time": "2022-04-02T12:57:36.965Z"
   },
   {
    "duration": 11,
    "start_time": "2022-04-02T12:57:36.975Z"
   },
   {
    "duration": 11,
    "start_time": "2022-04-02T12:57:36.988Z"
   },
   {
    "duration": 51,
    "start_time": "2022-04-02T12:57:37.033Z"
   },
   {
    "duration": 65,
    "start_time": "2022-04-02T12:57:37.086Z"
   },
   {
    "duration": 18,
    "start_time": "2022-04-02T12:57:37.153Z"
   },
   {
    "duration": 10,
    "start_time": "2022-04-02T12:57:37.173Z"
   },
   {
    "duration": 5,
    "start_time": "2022-04-02T12:57:37.185Z"
   },
   {
    "duration": 10,
    "start_time": "2022-04-02T12:57:37.191Z"
   },
   {
    "duration": 29,
    "start_time": "2022-04-02T12:57:37.204Z"
   },
   {
    "duration": 12,
    "start_time": "2022-04-02T12:57:37.235Z"
   },
   {
    "duration": 59,
    "start_time": "2022-04-02T12:57:37.249Z"
   },
   {
    "duration": 58,
    "start_time": "2022-04-02T12:57:37.309Z"
   },
   {
    "duration": 30,
    "start_time": "2022-04-02T12:57:37.369Z"
   },
   {
    "duration": 33,
    "start_time": "2022-04-02T12:57:37.401Z"
   },
   {
    "duration": 8,
    "start_time": "2022-04-02T12:57:37.436Z"
   },
   {
    "duration": 9,
    "start_time": "2022-04-02T12:57:37.446Z"
   },
   {
    "duration": 29,
    "start_time": "2022-04-02T12:57:37.457Z"
   },
   {
    "duration": 294,
    "start_time": "2022-04-02T12:57:37.487Z"
   },
   {
    "duration": 195,
    "start_time": "2022-04-02T12:57:37.783Z"
   },
   {
    "duration": 268,
    "start_time": "2022-04-02T12:57:37.980Z"
   },
   {
    "duration": 207,
    "start_time": "2022-04-02T12:57:38.250Z"
   },
   {
    "duration": 279,
    "start_time": "2022-04-02T12:57:38.459Z"
   },
   {
    "duration": 1350,
    "start_time": "2022-04-02T17:23:46.023Z"
   },
   {
    "duration": 74,
    "start_time": "2022-04-02T17:23:47.376Z"
   },
   {
    "duration": 13,
    "start_time": "2022-04-02T17:23:47.452Z"
   },
   {
    "duration": 3,
    "start_time": "2022-04-02T17:23:47.467Z"
   },
   {
    "duration": 10,
    "start_time": "2022-04-02T17:23:47.473Z"
   },
   {
    "duration": 10,
    "start_time": "2022-04-02T17:23:47.501Z"
   },
   {
    "duration": 7,
    "start_time": "2022-04-02T17:23:47.513Z"
   },
   {
    "duration": 15,
    "start_time": "2022-04-02T17:23:47.522Z"
   },
   {
    "duration": 76,
    "start_time": "2022-04-02T17:23:47.539Z"
   },
   {
    "duration": 25,
    "start_time": "2022-04-02T17:23:47.618Z"
   },
   {
    "duration": 12,
    "start_time": "2022-04-02T17:23:47.645Z"
   },
   {
    "duration": 12,
    "start_time": "2022-04-02T17:23:47.658Z"
   },
   {
    "duration": 7,
    "start_time": "2022-04-02T17:23:47.672Z"
   },
   {
    "duration": 24,
    "start_time": "2022-04-02T17:23:47.683Z"
   },
   {
    "duration": 14,
    "start_time": "2022-04-02T17:23:47.709Z"
   },
   {
    "duration": 52,
    "start_time": "2022-04-02T17:23:47.725Z"
   },
   {
    "duration": 67,
    "start_time": "2022-04-02T17:23:47.779Z"
   },
   {
    "duration": 18,
    "start_time": "2022-04-02T17:23:47.848Z"
   },
   {
    "duration": 11,
    "start_time": "2022-04-02T17:23:47.867Z"
   },
   {
    "duration": 21,
    "start_time": "2022-04-02T17:23:47.880Z"
   },
   {
    "duration": 11,
    "start_time": "2022-04-02T17:23:47.903Z"
   },
   {
    "duration": 11,
    "start_time": "2022-04-02T17:23:47.916Z"
   },
   {
    "duration": 14,
    "start_time": "2022-04-02T17:23:47.928Z"
   },
   {
    "duration": 63,
    "start_time": "2022-04-02T17:23:47.944Z"
   },
   {
    "duration": 51,
    "start_time": "2022-04-02T17:23:48.009Z"
   },
   {
    "duration": 56,
    "start_time": "2022-04-02T17:23:48.062Z"
   },
   {
    "duration": 13,
    "start_time": "2022-04-02T17:23:48.120Z"
   },
   {
    "duration": 9,
    "start_time": "2022-04-02T17:23:48.135Z"
   },
   {
    "duration": 8,
    "start_time": "2022-04-02T17:23:48.146Z"
   },
   {
    "duration": 56,
    "start_time": "2022-04-02T17:23:48.156Z"
   },
   {
    "duration": 287,
    "start_time": "2022-04-02T17:23:48.215Z"
   },
   {
    "duration": 202,
    "start_time": "2022-04-02T17:23:48.504Z"
   },
   {
    "duration": 345,
    "start_time": "2022-04-02T17:23:48.708Z"
   },
   {
    "duration": 214,
    "start_time": "2022-04-02T17:23:49.055Z"
   },
   {
    "duration": 317,
    "start_time": "2022-04-02T17:23:49.271Z"
   },
   {
    "duration": 129,
    "start_time": "2022-04-02T17:28:24.467Z"
   },
   {
    "duration": 230,
    "start_time": "2022-04-02T17:28:48.003Z"
   },
   {
    "duration": 206,
    "start_time": "2022-04-02T17:28:57.600Z"
   },
   {
    "duration": 135,
    "start_time": "2022-04-02T17:29:05.837Z"
   },
   {
    "duration": 170,
    "start_time": "2022-04-02T17:29:19.096Z"
   },
   {
    "duration": 137,
    "start_time": "2022-04-02T17:30:22.559Z"
   },
   {
    "duration": 145,
    "start_time": "2022-04-02T17:33:03.331Z"
   },
   {
    "duration": 143,
    "start_time": "2022-04-02T17:33:19.506Z"
   },
   {
    "duration": 531,
    "start_time": "2022-04-02T17:45:09.970Z"
   },
   {
    "duration": 9,
    "start_time": "2022-04-02T17:46:15.299Z"
   },
   {
    "duration": 6,
    "start_time": "2022-04-02T17:46:29.354Z"
   },
   {
    "duration": 9,
    "start_time": "2022-04-02T17:46:43.117Z"
   },
   {
    "duration": 7,
    "start_time": "2022-04-02T17:47:44.599Z"
   },
   {
    "duration": 10,
    "start_time": "2022-04-02T17:47:46.948Z"
   },
   {
    "duration": 119,
    "start_time": "2022-04-02T17:48:41.385Z"
   },
   {
    "duration": 115,
    "start_time": "2022-04-02T17:49:18.318Z"
   },
   {
    "duration": 121,
    "start_time": "2022-04-02T17:49:25.489Z"
   },
   {
    "duration": 127,
    "start_time": "2022-04-02T17:50:01.528Z"
   },
   {
    "duration": 4,
    "start_time": "2022-04-02T18:02:58.946Z"
   },
   {
    "duration": 4,
    "start_time": "2022-04-02T18:07:49.757Z"
   },
   {
    "duration": 11,
    "start_time": "2022-04-02T18:12:19.750Z"
   },
   {
    "duration": 1059,
    "start_time": "2022-04-02T18:26:04.930Z"
   },
   {
    "duration": 70,
    "start_time": "2022-04-02T18:26:05.992Z"
   },
   {
    "duration": 13,
    "start_time": "2022-04-02T18:26:06.064Z"
   },
   {
    "duration": 9,
    "start_time": "2022-04-02T18:26:06.079Z"
   },
   {
    "duration": 6,
    "start_time": "2022-04-02T18:26:06.102Z"
   },
   {
    "duration": 12,
    "start_time": "2022-04-02T18:26:06.110Z"
   },
   {
    "duration": 14,
    "start_time": "2022-04-02T18:26:06.125Z"
   },
   {
    "duration": 22,
    "start_time": "2022-04-02T18:26:06.140Z"
   },
   {
    "duration": 72,
    "start_time": "2022-04-02T18:26:06.164Z"
   },
   {
    "duration": 26,
    "start_time": "2022-04-02T18:26:06.239Z"
   },
   {
    "duration": 14,
    "start_time": "2022-04-02T18:26:06.267Z"
   },
   {
    "duration": 18,
    "start_time": "2022-04-02T18:26:06.283Z"
   },
   {
    "duration": 12,
    "start_time": "2022-04-02T18:26:06.303Z"
   },
   {
    "duration": 26,
    "start_time": "2022-04-02T18:26:06.319Z"
   },
   {
    "duration": 16,
    "start_time": "2022-04-02T18:26:06.347Z"
   },
   {
    "duration": 63,
    "start_time": "2022-04-02T18:26:06.365Z"
   },
   {
    "duration": 56,
    "start_time": "2022-04-02T18:26:06.430Z"
   },
   {
    "duration": 22,
    "start_time": "2022-04-02T18:26:06.488Z"
   },
   {
    "duration": 12,
    "start_time": "2022-04-02T18:26:06.512Z"
   },
   {
    "duration": 8,
    "start_time": "2022-04-02T18:26:06.526Z"
   },
   {
    "duration": 9,
    "start_time": "2022-04-02T18:26:06.535Z"
   },
   {
    "duration": 12,
    "start_time": "2022-04-02T18:26:06.546Z"
   },
   {
    "duration": 12,
    "start_time": "2022-04-02T18:26:06.560Z"
   },
   {
    "duration": 71,
    "start_time": "2022-04-02T18:26:06.574Z"
   },
   {
    "duration": 82,
    "start_time": "2022-04-02T18:26:06.647Z"
   },
   {
    "duration": 32,
    "start_time": "2022-04-02T18:26:06.731Z"
   },
   {
    "duration": 12,
    "start_time": "2022-04-02T18:26:06.765Z"
   },
   {
    "duration": 24,
    "start_time": "2022-04-02T18:26:06.779Z"
   },
   {
    "duration": 11,
    "start_time": "2022-04-02T18:26:06.805Z"
   },
   {
    "duration": 31,
    "start_time": "2022-04-02T18:26:06.817Z"
   },
   {
    "duration": 11,
    "start_time": "2022-04-02T18:26:06.850Z"
   },
   {
    "duration": 300,
    "start_time": "2022-04-02T18:26:06.863Z"
   },
   {
    "duration": 201,
    "start_time": "2022-04-02T18:26:07.165Z"
   },
   {
    "duration": 327,
    "start_time": "2022-04-02T18:26:07.367Z"
   },
   {
    "duration": 217,
    "start_time": "2022-04-02T18:26:07.700Z"
   },
   {
    "duration": 296,
    "start_time": "2022-04-02T18:26:07.919Z"
   },
   {
    "duration": 137,
    "start_time": "2022-04-02T18:26:08.218Z"
   },
   {
    "duration": 6,
    "start_time": "2022-04-02T18:26:08.357Z"
   },
   {
    "duration": 158,
    "start_time": "2022-04-02T18:26:08.365Z"
   },
   {
    "duration": 5,
    "start_time": "2022-04-02T18:26:08.525Z"
   },
   {
    "duration": 1075,
    "start_time": "2022-04-02T18:28:00.205Z"
   },
   {
    "duration": 71,
    "start_time": "2022-04-02T18:28:01.282Z"
   },
   {
    "duration": 12,
    "start_time": "2022-04-02T18:28:01.355Z"
   },
   {
    "duration": 8,
    "start_time": "2022-04-02T18:28:01.369Z"
   },
   {
    "duration": 25,
    "start_time": "2022-04-02T18:28:01.379Z"
   },
   {
    "duration": 11,
    "start_time": "2022-04-02T18:28:01.406Z"
   },
   {
    "duration": 13,
    "start_time": "2022-04-02T18:28:01.419Z"
   },
   {
    "duration": 20,
    "start_time": "2022-04-02T18:28:01.434Z"
   },
   {
    "duration": 69,
    "start_time": "2022-04-02T18:28:01.456Z"
   },
   {
    "duration": 26,
    "start_time": "2022-04-02T18:28:01.528Z"
   },
   {
    "duration": 12,
    "start_time": "2022-04-02T18:28:01.555Z"
   },
   {
    "duration": 18,
    "start_time": "2022-04-02T18:28:01.569Z"
   },
   {
    "duration": 16,
    "start_time": "2022-04-02T18:28:01.589Z"
   },
   {
    "duration": 18,
    "start_time": "2022-04-02T18:28:01.609Z"
   },
   {
    "duration": 26,
    "start_time": "2022-04-02T18:28:01.629Z"
   },
   {
    "duration": 67,
    "start_time": "2022-04-02T18:28:01.657Z"
   },
   {
    "duration": 70,
    "start_time": "2022-04-02T18:28:01.726Z"
   },
   {
    "duration": 21,
    "start_time": "2022-04-02T18:28:01.798Z"
   },
   {
    "duration": 12,
    "start_time": "2022-04-02T18:28:01.821Z"
   },
   {
    "duration": 18,
    "start_time": "2022-04-02T18:28:01.835Z"
   },
   {
    "duration": 29,
    "start_time": "2022-04-02T18:28:01.855Z"
   },
   {
    "duration": 26,
    "start_time": "2022-04-02T18:28:01.885Z"
   },
   {
    "duration": 26,
    "start_time": "2022-04-02T18:28:01.912Z"
   },
   {
    "duration": 80,
    "start_time": "2022-04-02T18:28:01.940Z"
   },
   {
    "duration": 66,
    "start_time": "2022-04-02T18:28:02.021Z"
   },
   {
    "duration": 42,
    "start_time": "2022-04-02T18:28:02.089Z"
   },
   {
    "duration": 13,
    "start_time": "2022-04-02T18:28:02.133Z"
   },
   {
    "duration": 20,
    "start_time": "2022-04-02T18:28:02.148Z"
   },
   {
    "duration": 16,
    "start_time": "2022-04-02T18:28:02.170Z"
   },
   {
    "duration": 32,
    "start_time": "2022-04-02T18:28:02.187Z"
   },
   {
    "duration": 12,
    "start_time": "2022-04-02T18:28:02.221Z"
   },
   {
    "duration": 298,
    "start_time": "2022-04-02T18:28:02.234Z"
   },
   {
    "duration": 210,
    "start_time": "2022-04-02T18:28:02.534Z"
   },
   {
    "duration": 288,
    "start_time": "2022-04-02T18:28:02.746Z"
   },
   {
    "duration": 324,
    "start_time": "2022-04-02T18:28:03.036Z"
   },
   {
    "duration": 339,
    "start_time": "2022-04-02T18:28:03.362Z"
   },
   {
    "duration": 136,
    "start_time": "2022-04-02T18:28:03.703Z"
   },
   {
    "duration": 5,
    "start_time": "2022-04-02T18:28:03.841Z"
   },
   {
    "duration": 155,
    "start_time": "2022-04-02T18:28:03.848Z"
   },
   {
    "duration": 5,
    "start_time": "2022-04-02T18:28:04.005Z"
   },
   {
    "duration": 1177,
    "start_time": "2022-04-04T17:10:11.689Z"
   },
   {
    "duration": 65,
    "start_time": "2022-04-04T17:10:12.868Z"
   },
   {
    "duration": 10,
    "start_time": "2022-04-04T17:10:12.935Z"
   },
   {
    "duration": 2,
    "start_time": "2022-04-04T17:10:12.947Z"
   },
   {
    "duration": 6,
    "start_time": "2022-04-04T17:10:12.951Z"
   },
   {
    "duration": 25,
    "start_time": "2022-04-04T17:10:12.958Z"
   },
   {
    "duration": 10,
    "start_time": "2022-04-04T17:10:12.985Z"
   },
   {
    "duration": 15,
    "start_time": "2022-04-04T17:10:12.996Z"
   },
   {
    "duration": 46,
    "start_time": "2022-04-04T17:10:13.013Z"
   },
   {
    "duration": 53,
    "start_time": "2022-04-04T17:10:13.060Z"
   },
   {
    "duration": 9,
    "start_time": "2022-04-04T17:10:13.114Z"
   },
   {
    "duration": 10,
    "start_time": "2022-04-04T17:10:13.125Z"
   },
   {
    "duration": 6,
    "start_time": "2022-04-04T17:10:13.136Z"
   },
   {
    "duration": 9,
    "start_time": "2022-04-04T17:10:13.145Z"
   },
   {
    "duration": 10,
    "start_time": "2022-04-04T17:10:13.155Z"
   },
   {
    "duration": 50,
    "start_time": "2022-04-04T17:10:13.166Z"
   },
   {
    "duration": 48,
    "start_time": "2022-04-04T17:10:13.217Z"
   },
   {
    "duration": 31,
    "start_time": "2022-04-04T17:10:13.267Z"
   },
   {
    "duration": 9,
    "start_time": "2022-04-04T17:10:13.300Z"
   },
   {
    "duration": 7,
    "start_time": "2022-04-04T17:10:13.310Z"
   },
   {
    "duration": 6,
    "start_time": "2022-04-04T17:10:13.318Z"
   },
   {
    "duration": 8,
    "start_time": "2022-04-04T17:10:13.326Z"
   },
   {
    "duration": 6,
    "start_time": "2022-04-04T17:10:13.336Z"
   },
   {
    "duration": 53,
    "start_time": "2022-04-04T17:10:13.344Z"
   },
   {
    "duration": 48,
    "start_time": "2022-04-04T17:10:13.398Z"
   },
   {
    "duration": 42,
    "start_time": "2022-04-04T17:10:13.447Z"
   },
   {
    "duration": 10,
    "start_time": "2022-04-04T17:10:13.491Z"
   },
   {
    "duration": 7,
    "start_time": "2022-04-04T17:10:13.502Z"
   },
   {
    "duration": 10,
    "start_time": "2022-04-04T17:10:13.510Z"
   },
   {
    "duration": 28,
    "start_time": "2022-04-04T17:10:13.522Z"
   },
   {
    "duration": 9,
    "start_time": "2022-04-04T17:10:13.551Z"
   },
   {
    "duration": 262,
    "start_time": "2022-04-04T17:10:13.561Z"
   },
   {
    "duration": 172,
    "start_time": "2022-04-04T17:10:13.825Z"
   },
   {
    "duration": 344,
    "start_time": "2022-04-04T17:10:13.999Z"
   },
   {
    "duration": 186,
    "start_time": "2022-04-04T17:10:14.345Z"
   },
   {
    "duration": 273,
    "start_time": "2022-04-04T17:10:14.533Z"
   },
   {
    "duration": 122,
    "start_time": "2022-04-04T17:10:14.808Z"
   },
   {
    "duration": 4,
    "start_time": "2022-04-04T17:10:14.931Z"
   },
   {
    "duration": 132,
    "start_time": "2022-04-04T17:10:14.936Z"
   },
   {
    "duration": 3,
    "start_time": "2022-04-04T17:10:15.070Z"
   },
   {
    "duration": 1092,
    "start_time": "2022-04-04T17:10:45.642Z"
   },
   {
    "duration": 63,
    "start_time": "2022-04-04T17:10:46.736Z"
   },
   {
    "duration": 10,
    "start_time": "2022-04-04T17:10:46.801Z"
   },
   {
    "duration": 5,
    "start_time": "2022-04-04T17:10:46.813Z"
   },
   {
    "duration": 17,
    "start_time": "2022-04-04T17:10:46.819Z"
   },
   {
    "duration": 14,
    "start_time": "2022-04-04T17:10:46.837Z"
   },
   {
    "duration": 15,
    "start_time": "2022-04-04T17:10:46.853Z"
   },
   {
    "duration": 22,
    "start_time": "2022-04-04T17:10:46.869Z"
   },
   {
    "duration": 82,
    "start_time": "2022-04-04T17:10:46.893Z"
   },
   {
    "duration": 58,
    "start_time": "2022-04-04T17:10:46.978Z"
   },
   {
    "duration": 12,
    "start_time": "2022-04-04T17:10:47.037Z"
   },
   {
    "duration": 54,
    "start_time": "2022-04-04T17:10:47.051Z"
   },
   {
    "duration": 41,
    "start_time": "2022-04-04T17:10:47.107Z"
   },
   {
    "duration": 30,
    "start_time": "2022-04-04T17:10:47.149Z"
   },
   {
    "duration": 21,
    "start_time": "2022-04-04T17:10:47.181Z"
   },
   {
    "duration": 61,
    "start_time": "2022-04-04T17:10:47.203Z"
   },
   {
    "duration": 76,
    "start_time": "2022-04-04T17:10:47.266Z"
   },
   {
    "duration": 42,
    "start_time": "2022-04-04T17:10:47.344Z"
   },
   {
    "duration": 17,
    "start_time": "2022-04-04T17:10:47.387Z"
   },
   {
    "duration": 15,
    "start_time": "2022-04-04T17:10:47.405Z"
   },
   {
    "duration": 29,
    "start_time": "2022-04-04T17:10:47.422Z"
   },
   {
    "duration": 23,
    "start_time": "2022-04-04T17:10:47.452Z"
   },
   {
    "duration": 14,
    "start_time": "2022-04-04T17:10:47.476Z"
   },
   {
    "duration": 69,
    "start_time": "2022-04-04T17:10:47.492Z"
   },
   {
    "duration": 66,
    "start_time": "2022-04-04T17:10:47.562Z"
   },
   {
    "duration": 38,
    "start_time": "2022-04-04T17:10:47.630Z"
   },
   {
    "duration": 11,
    "start_time": "2022-04-04T17:10:47.670Z"
   },
   {
    "duration": 18,
    "start_time": "2022-04-04T17:10:47.685Z"
   },
   {
    "duration": 20,
    "start_time": "2022-04-04T17:10:47.704Z"
   },
   {
    "duration": 42,
    "start_time": "2022-04-04T17:10:47.725Z"
   },
   {
    "duration": 27,
    "start_time": "2022-04-04T17:10:47.769Z"
   },
   {
    "duration": 368,
    "start_time": "2022-04-04T17:10:47.797Z"
   },
   {
    "duration": 247,
    "start_time": "2022-04-04T17:10:48.167Z"
   },
   {
    "duration": 315,
    "start_time": "2022-04-04T17:10:48.416Z"
   },
   {
    "duration": 264,
    "start_time": "2022-04-04T17:10:48.733Z"
   },
   {
    "duration": 288,
    "start_time": "2022-04-04T17:10:48.998Z"
   },
   {
    "duration": 125,
    "start_time": "2022-04-04T17:10:49.288Z"
   },
   {
    "duration": 4,
    "start_time": "2022-04-04T17:10:49.415Z"
   },
   {
    "duration": 169,
    "start_time": "2022-04-04T17:10:49.421Z"
   },
   {
    "duration": 4,
    "start_time": "2022-04-04T17:10:49.593Z"
   },
   {
    "duration": 97,
    "start_time": "2022-04-04T17:24:11.407Z"
   },
   {
    "duration": 12,
    "start_time": "2022-04-04T17:25:34.767Z"
   },
   {
    "duration": 12,
    "start_time": "2022-04-04T17:25:40.717Z"
   },
   {
    "duration": 12,
    "start_time": "2022-04-04T17:26:25.447Z"
   },
   {
    "duration": 13,
    "start_time": "2022-04-04T17:26:37.688Z"
   },
   {
    "duration": 10,
    "start_time": "2022-04-04T17:27:48.096Z"
   },
   {
    "duration": 6,
    "start_time": "2022-04-04T17:28:11.116Z"
   },
   {
    "duration": 16,
    "start_time": "2022-04-04T17:28:45.787Z"
   },
   {
    "duration": 24,
    "start_time": "2022-04-04T17:29:44.317Z"
   },
   {
    "duration": 8,
    "start_time": "2022-04-04T17:30:11.135Z"
   },
   {
    "duration": 2608,
    "start_time": "2022-04-04T17:30:43.657Z"
   },
   {
    "duration": 8,
    "start_time": "2022-04-04T17:31:01.107Z"
   },
   {
    "duration": 111,
    "start_time": "2022-04-04T17:31:32.807Z"
   },
   {
    "duration": 7,
    "start_time": "2022-04-04T17:31:39.778Z"
   },
   {
    "duration": 5,
    "start_time": "2022-04-04T17:31:50.840Z"
   },
   {
    "duration": 6,
    "start_time": "2022-04-04T17:32:09.207Z"
   },
   {
    "duration": 6,
    "start_time": "2022-04-04T17:32:24.643Z"
   },
   {
    "duration": 5,
    "start_time": "2022-04-04T17:33:04.878Z"
   },
   {
    "duration": 7,
    "start_time": "2022-04-04T17:34:17.915Z"
   },
   {
    "duration": 10,
    "start_time": "2022-04-04T17:34:31.854Z"
   },
   {
    "duration": 154,
    "start_time": "2022-04-04T17:34:40.467Z"
   },
   {
    "duration": 7,
    "start_time": "2022-04-04T17:34:49.093Z"
   },
   {
    "duration": 7,
    "start_time": "2022-04-04T17:35:35.002Z"
   },
   {
    "duration": 10,
    "start_time": "2022-04-04T17:35:45.498Z"
   },
   {
    "duration": 8,
    "start_time": "2022-04-04T17:35:58.440Z"
   },
   {
    "duration": 4,
    "start_time": "2022-04-04T17:36:14.797Z"
   },
   {
    "duration": 7,
    "start_time": "2022-04-04T17:38:37.387Z"
   },
   {
    "duration": 4,
    "start_time": "2022-04-04T17:38:38.637Z"
   },
   {
    "duration": 4,
    "start_time": "2022-04-04T17:40:10.943Z"
   },
   {
    "duration": 5,
    "start_time": "2022-04-04T17:40:41.567Z"
   },
   {
    "duration": 7,
    "start_time": "2022-04-04T17:40:56.987Z"
   },
   {
    "duration": 6,
    "start_time": "2022-04-04T17:41:08.790Z"
   },
   {
    "duration": 144,
    "start_time": "2022-04-04T17:43:19.766Z"
   },
   {
    "duration": 117,
    "start_time": "2022-04-04T17:45:06.596Z"
   },
   {
    "duration": 127,
    "start_time": "2022-04-04T17:45:45.607Z"
   },
   {
    "duration": 135,
    "start_time": "2022-04-04T17:46:19.267Z"
   },
   {
    "duration": 135,
    "start_time": "2022-04-04T17:47:31.727Z"
   },
   {
    "duration": 123,
    "start_time": "2022-04-04T17:47:44.037Z"
   },
   {
    "duration": 128,
    "start_time": "2022-04-04T17:47:50.037Z"
   },
   {
    "duration": 183,
    "start_time": "2022-04-04T17:47:58.137Z"
   },
   {
    "duration": 995,
    "start_time": "2022-04-04T17:48:43.821Z"
   },
   {
    "duration": 78,
    "start_time": "2022-04-04T17:48:44.818Z"
   },
   {
    "duration": 12,
    "start_time": "2022-04-04T17:48:44.898Z"
   },
   {
    "duration": 5,
    "start_time": "2022-04-04T17:48:44.912Z"
   },
   {
    "duration": 8,
    "start_time": "2022-04-04T17:48:44.919Z"
   },
   {
    "duration": 10,
    "start_time": "2022-04-04T17:48:44.928Z"
   },
   {
    "duration": 4,
    "start_time": "2022-04-04T17:48:44.939Z"
   },
   {
    "duration": 11,
    "start_time": "2022-04-04T17:48:44.944Z"
   },
   {
    "duration": 69,
    "start_time": "2022-04-04T17:48:44.956Z"
   },
   {
    "duration": 64,
    "start_time": "2022-04-04T17:48:45.027Z"
   },
   {
    "duration": 10,
    "start_time": "2022-04-04T17:48:45.092Z"
   },
   {
    "duration": 6,
    "start_time": "2022-04-04T17:48:45.103Z"
   },
   {
    "duration": 9,
    "start_time": "2022-04-04T17:48:45.111Z"
   },
   {
    "duration": 10,
    "start_time": "2022-04-04T17:48:45.123Z"
   },
   {
    "duration": 8,
    "start_time": "2022-04-04T17:48:45.134Z"
   },
   {
    "duration": 66,
    "start_time": "2022-04-04T17:48:45.144Z"
   },
   {
    "duration": 52,
    "start_time": "2022-04-04T17:48:45.211Z"
   },
   {
    "duration": 24,
    "start_time": "2022-04-04T17:48:45.265Z"
   },
   {
    "duration": 8,
    "start_time": "2022-04-04T17:48:45.290Z"
   },
   {
    "duration": 5,
    "start_time": "2022-04-04T17:48:45.300Z"
   },
   {
    "duration": 6,
    "start_time": "2022-04-04T17:48:45.307Z"
   },
   {
    "duration": 9,
    "start_time": "2022-04-04T17:48:45.314Z"
   },
   {
    "duration": 9,
    "start_time": "2022-04-04T17:48:45.324Z"
   },
   {
    "duration": 75,
    "start_time": "2022-04-04T17:48:45.334Z"
   },
   {
    "duration": 49,
    "start_time": "2022-04-04T17:48:45.411Z"
   },
   {
    "duration": 41,
    "start_time": "2022-04-04T17:48:45.461Z"
   },
   {
    "duration": 10,
    "start_time": "2022-04-04T17:48:45.503Z"
   },
   {
    "duration": 5,
    "start_time": "2022-04-04T17:48:45.515Z"
   },
   {
    "duration": 6,
    "start_time": "2022-04-04T17:48:45.522Z"
   },
   {
    "duration": 27,
    "start_time": "2022-04-04T17:48:45.529Z"
   },
   {
    "duration": 30,
    "start_time": "2022-04-04T17:48:45.557Z"
   },
   {
    "duration": 249,
    "start_time": "2022-04-04T17:48:45.588Z"
   },
   {
    "duration": 181,
    "start_time": "2022-04-04T17:48:45.838Z"
   },
   {
    "duration": 254,
    "start_time": "2022-04-04T17:48:46.021Z"
   },
   {
    "duration": 198,
    "start_time": "2022-04-04T17:48:46.277Z"
   },
   {
    "duration": 286,
    "start_time": "2022-04-04T17:48:46.481Z"
   },
   {
    "duration": 125,
    "start_time": "2022-04-04T17:48:46.769Z"
   },
   {
    "duration": 4,
    "start_time": "2022-04-04T17:48:46.895Z"
   },
   {
    "duration": 138,
    "start_time": "2022-04-04T17:48:46.900Z"
   },
   {
    "duration": 136,
    "start_time": "2022-04-04T17:48:47.039Z"
   },
   {
    "duration": 4,
    "start_time": "2022-04-04T17:48:47.180Z"
   },
   {
    "duration": 12,
    "start_time": "2022-04-04T17:48:47.185Z"
   },
   {
    "duration": 10,
    "start_time": "2022-04-04T17:48:47.198Z"
   },
   {
    "duration": 5,
    "start_time": "2022-04-04T17:48:47.209Z"
   },
   {
    "duration": 115,
    "start_time": "2022-04-04T17:48:47.215Z"
   },
   {
    "duration": 4,
    "start_time": "2022-04-04T17:51:17.071Z"
   },
   {
    "duration": 168,
    "start_time": "2022-04-04T17:51:51.800Z"
   },
   {
    "duration": 7,
    "start_time": "2022-04-04T17:55:51.683Z"
   },
   {
    "duration": 4,
    "start_time": "2022-04-04T17:55:52.647Z"
   },
   {
    "duration": 6,
    "start_time": "2022-04-04T17:56:15.258Z"
   },
   {
    "duration": 5,
    "start_time": "2022-04-04T17:56:15.848Z"
   },
   {
    "duration": 5,
    "start_time": "2022-04-04T17:57:11.117Z"
   },
   {
    "duration": 5,
    "start_time": "2022-04-04T17:57:55.849Z"
   },
   {
    "duration": 5,
    "start_time": "2022-04-04T17:57:56.556Z"
   },
   {
    "duration": 5,
    "start_time": "2022-04-04T17:58:18.533Z"
   },
   {
    "duration": 4,
    "start_time": "2022-04-04T17:58:20.269Z"
   },
   {
    "duration": 5,
    "start_time": "2022-04-04T17:59:15.298Z"
   },
   {
    "duration": 5,
    "start_time": "2022-04-04T17:59:17.067Z"
   },
   {
    "duration": 5,
    "start_time": "2022-04-04T18:05:40.497Z"
   },
   {
    "duration": 5,
    "start_time": "2022-04-04T18:12:54.935Z"
   },
   {
    "duration": 8,
    "start_time": "2022-04-04T18:13:27.009Z"
   },
   {
    "duration": 2666,
    "start_time": "2022-04-04T18:14:07.617Z"
   },
   {
    "duration": 9,
    "start_time": "2022-04-04T18:14:38.041Z"
   },
   {
    "duration": 21,
    "start_time": "2022-04-04T18:15:31.138Z"
   },
   {
    "duration": 5,
    "start_time": "2022-04-04T18:16:31.286Z"
   },
   {
    "duration": 28,
    "start_time": "2022-04-04T18:23:27.278Z"
   },
   {
    "duration": 37,
    "start_time": "2022-04-04T18:23:44.168Z"
   },
   {
    "duration": 282,
    "start_time": "2022-04-04T18:25:03.907Z"
   },
   {
    "duration": 96,
    "start_time": "2022-04-04T18:29:49.347Z"
   },
   {
    "duration": 94,
    "start_time": "2022-04-04T18:30:07.087Z"
   },
   {
    "duration": 95,
    "start_time": "2022-04-04T18:35:01.072Z"
   },
   {
    "duration": 89,
    "start_time": "2022-04-04T18:35:12.637Z"
   },
   {
    "duration": 118,
    "start_time": "2022-04-04T18:36:45.918Z"
   },
   {
    "duration": 129,
    "start_time": "2022-04-04T18:37:31.328Z"
   },
   {
    "duration": 152,
    "start_time": "2022-04-04T18:37:47.287Z"
   },
   {
    "duration": 146,
    "start_time": "2022-04-04T18:38:05.499Z"
   },
   {
    "duration": 121,
    "start_time": "2022-04-04T18:38:20.937Z"
   },
   {
    "duration": 121,
    "start_time": "2022-04-04T18:38:45.967Z"
   },
   {
    "duration": 1041,
    "start_time": "2022-04-04T18:49:09.491Z"
   },
   {
    "duration": 58,
    "start_time": "2022-04-04T18:49:10.534Z"
   },
   {
    "duration": 10,
    "start_time": "2022-04-04T18:49:10.594Z"
   },
   {
    "duration": 3,
    "start_time": "2022-04-04T18:49:10.606Z"
   },
   {
    "duration": 6,
    "start_time": "2022-04-04T18:49:10.611Z"
   },
   {
    "duration": 8,
    "start_time": "2022-04-04T18:49:10.618Z"
   },
   {
    "duration": 4,
    "start_time": "2022-04-04T18:49:10.628Z"
   },
   {
    "duration": 11,
    "start_time": "2022-04-04T18:49:10.634Z"
   },
   {
    "duration": 69,
    "start_time": "2022-04-04T18:49:10.646Z"
   },
   {
    "duration": 43,
    "start_time": "2022-04-04T18:49:10.718Z"
   },
   {
    "duration": 10,
    "start_time": "2022-04-04T18:49:10.762Z"
   },
   {
    "duration": 7,
    "start_time": "2022-04-04T18:49:10.773Z"
   },
   {
    "duration": 6,
    "start_time": "2022-04-04T18:49:10.782Z"
   },
   {
    "duration": 11,
    "start_time": "2022-04-04T18:49:10.789Z"
   },
   {
    "duration": 10,
    "start_time": "2022-04-04T18:49:10.801Z"
   },
   {
    "duration": 45,
    "start_time": "2022-04-04T18:49:10.812Z"
   },
   {
    "duration": 63,
    "start_time": "2022-04-04T18:49:10.858Z"
   },
   {
    "duration": 22,
    "start_time": "2022-04-04T18:49:10.923Z"
   },
   {
    "duration": 7,
    "start_time": "2022-04-04T18:49:10.947Z"
   },
   {
    "duration": 6,
    "start_time": "2022-04-04T18:49:10.956Z"
   },
   {
    "duration": 5,
    "start_time": "2022-04-04T18:49:10.964Z"
   },
   {
    "duration": 11,
    "start_time": "2022-04-04T18:49:10.971Z"
   },
   {
    "duration": 6,
    "start_time": "2022-04-04T18:49:10.984Z"
   },
   {
    "duration": 50,
    "start_time": "2022-04-04T18:49:10.992Z"
   },
   {
    "duration": 73,
    "start_time": "2022-04-04T18:49:11.043Z"
   },
   {
    "duration": 27,
    "start_time": "2022-04-04T18:49:11.118Z"
   },
   {
    "duration": 10,
    "start_time": "2022-04-04T18:49:11.146Z"
   },
   {
    "duration": 27,
    "start_time": "2022-04-04T18:49:11.159Z"
   },
   {
    "duration": 6,
    "start_time": "2022-04-04T18:49:11.188Z"
   },
   {
    "duration": 9,
    "start_time": "2022-04-04T18:49:11.195Z"
   },
   {
    "duration": 5,
    "start_time": "2022-04-04T18:49:11.205Z"
   },
   {
    "duration": 24,
    "start_time": "2022-04-04T18:49:11.212Z"
   },
   {
    "duration": 10,
    "start_time": "2022-04-04T18:49:11.237Z"
   },
   {
    "duration": 262,
    "start_time": "2022-04-04T18:49:11.248Z"
   },
   {
    "duration": 167,
    "start_time": "2022-04-04T18:49:11.511Z"
   },
   {
    "duration": 269,
    "start_time": "2022-04-04T18:49:11.680Z"
   },
   {
    "duration": 182,
    "start_time": "2022-04-04T18:49:11.951Z"
   },
   {
    "duration": 260,
    "start_time": "2022-04-04T18:49:12.135Z"
   },
   {
    "duration": 112,
    "start_time": "2022-04-04T18:49:12.396Z"
   },
   {
    "duration": 4,
    "start_time": "2022-04-04T18:49:12.509Z"
   },
   {
    "duration": 125,
    "start_time": "2022-04-04T18:49:12.514Z"
   },
   {
    "duration": 4,
    "start_time": "2022-04-04T18:49:12.641Z"
   },
   {
    "duration": 9,
    "start_time": "2022-04-04T18:49:12.646Z"
   },
   {
    "duration": 6,
    "start_time": "2022-04-04T18:49:12.656Z"
   },
   {
    "duration": 21,
    "start_time": "2022-04-04T18:49:12.663Z"
   },
   {
    "duration": 20,
    "start_time": "2022-04-04T18:49:12.685Z"
   },
   {
    "duration": 1264,
    "start_time": "2022-04-04T21:26:20.889Z"
   },
   {
    "duration": 94,
    "start_time": "2022-04-04T21:26:22.155Z"
   },
   {
    "duration": 14,
    "start_time": "2022-04-04T21:26:22.251Z"
   },
   {
    "duration": 4,
    "start_time": "2022-04-04T21:26:22.266Z"
   },
   {
    "duration": 6,
    "start_time": "2022-04-04T21:26:22.282Z"
   },
   {
    "duration": 12,
    "start_time": "2022-04-04T21:26:22.289Z"
   },
   {
    "duration": 13,
    "start_time": "2022-04-04T21:26:22.303Z"
   },
   {
    "duration": 23,
    "start_time": "2022-04-04T21:26:22.317Z"
   },
   {
    "duration": 73,
    "start_time": "2022-04-04T21:26:22.342Z"
   },
   {
    "duration": 47,
    "start_time": "2022-04-04T21:26:22.416Z"
   },
   {
    "duration": 13,
    "start_time": "2022-04-04T21:26:22.465Z"
   },
   {
    "duration": 7,
    "start_time": "2022-04-04T21:26:22.480Z"
   },
   {
    "duration": 6,
    "start_time": "2022-04-04T21:26:22.489Z"
   },
   {
    "duration": 11,
    "start_time": "2022-04-04T21:26:22.498Z"
   },
   {
    "duration": 9,
    "start_time": "2022-04-04T21:26:22.510Z"
   },
   {
    "duration": 63,
    "start_time": "2022-04-04T21:26:22.520Z"
   },
   {
    "duration": 47,
    "start_time": "2022-04-04T21:26:22.584Z"
   },
   {
    "duration": 21,
    "start_time": "2022-04-04T21:26:22.633Z"
   },
   {
    "duration": 9,
    "start_time": "2022-04-04T21:26:22.656Z"
   },
   {
    "duration": 5,
    "start_time": "2022-04-04T21:26:22.666Z"
   },
   {
    "duration": 7,
    "start_time": "2022-04-04T21:26:22.680Z"
   },
   {
    "duration": 9,
    "start_time": "2022-04-04T21:26:22.688Z"
   },
   {
    "duration": 7,
    "start_time": "2022-04-04T21:26:22.698Z"
   },
   {
    "duration": 48,
    "start_time": "2022-04-04T21:26:22.706Z"
   },
   {
    "duration": 58,
    "start_time": "2022-04-04T21:26:22.756Z"
   },
   {
    "duration": 25,
    "start_time": "2022-04-04T21:26:22.815Z"
   },
   {
    "duration": 10,
    "start_time": "2022-04-04T21:26:22.841Z"
   },
   {
    "duration": 9,
    "start_time": "2022-04-04T21:26:22.852Z"
   },
   {
    "duration": 6,
    "start_time": "2022-04-04T21:26:22.881Z"
   },
   {
    "duration": 7,
    "start_time": "2022-04-04T21:26:22.888Z"
   },
   {
    "duration": 7,
    "start_time": "2022-04-04T21:26:22.897Z"
   },
   {
    "duration": 27,
    "start_time": "2022-04-04T21:26:22.905Z"
   },
   {
    "duration": 10,
    "start_time": "2022-04-04T21:26:22.933Z"
   },
   {
    "duration": 260,
    "start_time": "2022-04-04T21:26:22.944Z"
   },
   {
    "duration": 169,
    "start_time": "2022-04-04T21:26:23.206Z"
   },
   {
    "duration": 327,
    "start_time": "2022-04-04T21:26:23.380Z"
   },
   {
    "duration": 190,
    "start_time": "2022-04-04T21:26:23.709Z"
   },
   {
    "duration": 267,
    "start_time": "2022-04-04T21:26:23.901Z"
   },
   {
    "duration": 121,
    "start_time": "2022-04-04T21:26:24.170Z"
   },
   {
    "duration": 4,
    "start_time": "2022-04-04T21:26:24.294Z"
   },
   {
    "duration": 132,
    "start_time": "2022-04-04T21:26:24.302Z"
   },
   {
    "duration": 4,
    "start_time": "2022-04-04T21:26:24.436Z"
   },
   {
    "duration": 6,
    "start_time": "2022-04-04T21:26:24.442Z"
   },
   {
    "duration": 6,
    "start_time": "2022-04-04T21:26:24.450Z"
   },
   {
    "duration": 27,
    "start_time": "2022-04-04T21:26:24.457Z"
   },
   {
    "duration": 22,
    "start_time": "2022-04-04T21:26:24.486Z"
   },
   {
    "duration": 1006,
    "start_time": "2022-04-04T21:26:47.501Z"
   },
   {
    "duration": 54,
    "start_time": "2022-04-04T21:26:48.509Z"
   },
   {
    "duration": 13,
    "start_time": "2022-04-04T21:26:48.564Z"
   },
   {
    "duration": 2,
    "start_time": "2022-04-04T21:26:48.582Z"
   },
   {
    "duration": 13,
    "start_time": "2022-04-04T21:26:48.586Z"
   },
   {
    "duration": 20,
    "start_time": "2022-04-04T21:26:48.600Z"
   },
   {
    "duration": 6,
    "start_time": "2022-04-04T21:26:48.622Z"
   },
   {
    "duration": 11,
    "start_time": "2022-04-04T21:26:48.630Z"
   },
   {
    "duration": 48,
    "start_time": "2022-04-04T21:26:48.642Z"
   },
   {
    "duration": 43,
    "start_time": "2022-04-04T21:26:48.692Z"
   },
   {
    "duration": 9,
    "start_time": "2022-04-04T21:26:48.736Z"
   },
   {
    "duration": 9,
    "start_time": "2022-04-04T21:26:48.746Z"
   },
   {
    "duration": 8,
    "start_time": "2022-04-04T21:26:48.757Z"
   },
   {
    "duration": 11,
    "start_time": "2022-04-04T21:26:48.766Z"
   },
   {
    "duration": 8,
    "start_time": "2022-04-04T21:26:48.779Z"
   },
   {
    "duration": 45,
    "start_time": "2022-04-04T21:26:48.789Z"
   },
   {
    "duration": 58,
    "start_time": "2022-04-04T21:26:48.835Z"
   },
   {
    "duration": 26,
    "start_time": "2022-04-04T21:26:48.894Z"
   },
   {
    "duration": 9,
    "start_time": "2022-04-04T21:26:48.921Z"
   },
   {
    "duration": 5,
    "start_time": "2022-04-04T21:26:48.932Z"
   },
   {
    "duration": 6,
    "start_time": "2022-04-04T21:26:48.938Z"
   },
   {
    "duration": 6,
    "start_time": "2022-04-04T21:26:48.945Z"
   },
   {
    "duration": 6,
    "start_time": "2022-04-04T21:26:48.953Z"
   },
   {
    "duration": 77,
    "start_time": "2022-04-04T21:26:48.961Z"
   },
   {
    "duration": 73,
    "start_time": "2022-04-04T21:26:49.040Z"
   },
   {
    "duration": 36,
    "start_time": "2022-04-04T21:26:49.115Z"
   },
   {
    "duration": 30,
    "start_time": "2022-04-04T21:26:49.153Z"
   },
   {
    "duration": 10,
    "start_time": "2022-04-04T21:26:49.187Z"
   },
   {
    "duration": 8,
    "start_time": "2022-04-04T21:26:49.199Z"
   },
   {
    "duration": 8,
    "start_time": "2022-04-04T21:26:49.209Z"
   },
   {
    "duration": 8,
    "start_time": "2022-04-04T21:26:49.218Z"
   },
   {
    "duration": 29,
    "start_time": "2022-04-04T21:26:49.227Z"
   },
   {
    "duration": 26,
    "start_time": "2022-04-04T21:26:49.257Z"
   },
   {
    "duration": 244,
    "start_time": "2022-04-04T21:26:49.284Z"
   },
   {
    "duration": 169,
    "start_time": "2022-04-04T21:26:49.530Z"
   },
   {
    "duration": 259,
    "start_time": "2022-04-04T21:26:49.700Z"
   },
   {
    "duration": 192,
    "start_time": "2022-04-04T21:26:49.960Z"
   },
   {
    "duration": 293,
    "start_time": "2022-04-04T21:26:50.154Z"
   },
   {
    "duration": 118,
    "start_time": "2022-04-04T21:26:50.449Z"
   },
   {
    "duration": 12,
    "start_time": "2022-04-04T21:26:50.569Z"
   },
   {
    "duration": 123,
    "start_time": "2022-04-04T21:26:50.583Z"
   },
   {
    "duration": 4,
    "start_time": "2022-04-04T21:26:50.708Z"
   },
   {
    "duration": 7,
    "start_time": "2022-04-04T21:26:50.714Z"
   },
   {
    "duration": 6,
    "start_time": "2022-04-04T21:26:50.722Z"
   },
   {
    "duration": 12,
    "start_time": "2022-04-04T21:26:50.730Z"
   },
   {
    "duration": 43,
    "start_time": "2022-04-04T21:26:50.744Z"
   },
   {
    "duration": 22,
    "start_time": "2022-04-04T21:43:54.384Z"
   },
   {
    "duration": 23,
    "start_time": "2022-04-04T21:45:19.409Z"
   },
   {
    "duration": 85,
    "start_time": "2022-04-04T21:51:43.475Z"
   },
   {
    "duration": 8,
    "start_time": "2022-04-04T21:52:07.714Z"
   },
   {
    "duration": 9,
    "start_time": "2022-04-04T21:52:36.205Z"
   },
   {
    "duration": 13,
    "start_time": "2022-04-04T21:54:04.745Z"
   },
   {
    "duration": 13,
    "start_time": "2022-04-04T21:55:36.810Z"
   },
   {
    "duration": 9,
    "start_time": "2022-04-04T21:58:13.865Z"
   },
   {
    "duration": 7,
    "start_time": "2022-04-04T21:58:31.647Z"
   },
   {
    "duration": 9,
    "start_time": "2022-04-04T21:58:43.515Z"
   },
   {
    "duration": 8,
    "start_time": "2022-04-04T21:58:53.655Z"
   },
   {
    "duration": 4,
    "start_time": "2022-04-04T21:59:06.075Z"
   },
   {
    "duration": 21,
    "start_time": "2022-04-04T21:59:54.394Z"
   },
   {
    "duration": 20,
    "start_time": "2022-04-04T22:00:03.415Z"
   },
   {
    "duration": 9,
    "start_time": "2022-04-04T22:01:01.235Z"
   },
   {
    "duration": 11,
    "start_time": "2022-04-04T22:02:50.695Z"
   },
   {
    "duration": 4,
    "start_time": "2022-04-04T22:02:52.325Z"
   },
   {
    "duration": 10,
    "start_time": "2022-04-04T22:02:53.044Z"
   },
   {
    "duration": 4,
    "start_time": "2022-04-04T22:02:57.254Z"
   },
   {
    "duration": 23,
    "start_time": "2022-04-04T22:02:59.284Z"
   },
   {
    "duration": 22,
    "start_time": "2022-04-04T22:03:09.115Z"
   },
   {
    "duration": 22,
    "start_time": "2022-04-04T22:04:28.104Z"
   },
   {
    "duration": 194,
    "start_time": "2022-04-04T22:08:41.837Z"
   },
   {
    "duration": 11,
    "start_time": "2022-04-04T22:09:03.764Z"
   },
   {
    "duration": 23,
    "start_time": "2022-04-04T22:09:08.574Z"
   },
   {
    "duration": 14,
    "start_time": "2022-04-04T22:10:02.504Z"
   },
   {
    "duration": 22,
    "start_time": "2022-04-04T22:10:03.104Z"
   },
   {
    "duration": 12,
    "start_time": "2022-04-04T22:14:06.383Z"
   },
   {
    "duration": 11,
    "start_time": "2022-04-04T22:14:17.405Z"
   },
   {
    "duration": 12,
    "start_time": "2022-04-04T22:14:26.675Z"
   },
   {
    "duration": 1110,
    "start_time": "2022-04-04T22:15:11.911Z"
   },
   {
    "duration": 64,
    "start_time": "2022-04-04T22:15:13.023Z"
   },
   {
    "duration": 11,
    "start_time": "2022-04-04T22:15:13.089Z"
   },
   {
    "duration": 3,
    "start_time": "2022-04-04T22:15:13.101Z"
   },
   {
    "duration": 8,
    "start_time": "2022-04-04T22:15:13.106Z"
   },
   {
    "duration": 8,
    "start_time": "2022-04-04T22:15:13.115Z"
   },
   {
    "duration": 5,
    "start_time": "2022-04-04T22:15:13.124Z"
   },
   {
    "duration": 12,
    "start_time": "2022-04-04T22:15:13.130Z"
   },
   {
    "duration": 74,
    "start_time": "2022-04-04T22:15:13.143Z"
   },
   {
    "duration": 45,
    "start_time": "2022-04-04T22:15:13.219Z"
   },
   {
    "duration": 9,
    "start_time": "2022-04-04T22:15:13.266Z"
   },
   {
    "duration": 9,
    "start_time": "2022-04-04T22:15:13.276Z"
   },
   {
    "duration": 15,
    "start_time": "2022-04-04T22:15:13.286Z"
   },
   {
    "duration": 12,
    "start_time": "2022-04-04T22:15:13.304Z"
   },
   {
    "duration": 9,
    "start_time": "2022-04-04T22:15:13.317Z"
   },
   {
    "duration": 45,
    "start_time": "2022-04-04T22:15:13.327Z"
   },
   {
    "duration": 46,
    "start_time": "2022-04-04T22:15:13.374Z"
   },
   {
    "duration": 20,
    "start_time": "2022-04-04T22:15:13.422Z"
   },
   {
    "duration": 9,
    "start_time": "2022-04-04T22:15:13.443Z"
   },
   {
    "duration": 6,
    "start_time": "2022-04-04T22:15:13.453Z"
   },
   {
    "duration": 6,
    "start_time": "2022-04-04T22:15:13.461Z"
   },
   {
    "duration": 6,
    "start_time": "2022-04-04T22:15:13.481Z"
   },
   {
    "duration": 7,
    "start_time": "2022-04-04T22:15:13.488Z"
   },
   {
    "duration": 48,
    "start_time": "2022-04-04T22:15:13.496Z"
   },
   {
    "duration": 68,
    "start_time": "2022-04-04T22:15:13.545Z"
   },
   {
    "duration": 27,
    "start_time": "2022-04-04T22:15:13.615Z"
   },
   {
    "duration": 11,
    "start_time": "2022-04-04T22:15:13.644Z"
   },
   {
    "duration": 30,
    "start_time": "2022-04-04T22:15:13.656Z"
   },
   {
    "duration": 14,
    "start_time": "2022-04-04T22:15:13.688Z"
   },
   {
    "duration": 23,
    "start_time": "2022-04-04T22:15:13.703Z"
   },
   {
    "duration": 10,
    "start_time": "2022-04-04T22:15:13.728Z"
   },
   {
    "duration": 266,
    "start_time": "2022-04-04T22:15:13.739Z"
   },
   {
    "duration": 170,
    "start_time": "2022-04-04T22:15:14.007Z"
   },
   {
    "duration": 280,
    "start_time": "2022-04-04T22:15:14.181Z"
   },
   {
    "duration": 194,
    "start_time": "2022-04-04T22:15:14.462Z"
   },
   {
    "duration": 290,
    "start_time": "2022-04-04T22:15:14.658Z"
   },
   {
    "duration": 122,
    "start_time": "2022-04-04T22:15:14.950Z"
   },
   {
    "duration": 9,
    "start_time": "2022-04-04T22:15:15.074Z"
   },
   {
    "duration": 124,
    "start_time": "2022-04-04T22:15:15.084Z"
   },
   {
    "duration": 4,
    "start_time": "2022-04-04T22:15:15.210Z"
   },
   {
    "duration": 8,
    "start_time": "2022-04-04T22:15:15.217Z"
   },
   {
    "duration": 6,
    "start_time": "2022-04-04T22:15:15.226Z"
   },
   {
    "duration": 15,
    "start_time": "2022-04-04T22:15:15.233Z"
   },
   {
    "duration": 38,
    "start_time": "2022-04-04T22:15:15.249Z"
   },
   {
    "duration": 13,
    "start_time": "2022-04-04T22:15:15.289Z"
   },
   {
    "duration": 20,
    "start_time": "2022-04-04T22:16:38.864Z"
   },
   {
    "duration": 18,
    "start_time": "2022-04-04T22:16:56.074Z"
   },
   {
    "duration": 22,
    "start_time": "2022-04-04T22:17:03.184Z"
   },
   {
    "duration": 93,
    "start_time": "2022-04-04T22:19:15.986Z"
   },
   {
    "duration": 19,
    "start_time": "2022-04-04T22:19:59.764Z"
   },
   {
    "duration": 4,
    "start_time": "2022-04-04T22:20:00.911Z"
   },
   {
    "duration": 12,
    "start_time": "2022-04-04T22:20:02.663Z"
   },
   {
    "duration": 11,
    "start_time": "2022-04-04T22:22:37.791Z"
   },
   {
    "duration": 10,
    "start_time": "2022-04-04T22:24:23.914Z"
   },
   {
    "duration": 11,
    "start_time": "2022-04-04T22:24:32.742Z"
   },
   {
    "duration": 43,
    "start_time": "2022-04-04T22:24:48.326Z"
   },
   {
    "duration": 10,
    "start_time": "2022-04-04T22:30:35.180Z"
   },
   {
    "duration": 111,
    "start_time": "2022-04-04T22:32:44.473Z"
   },
   {
    "duration": 169,
    "start_time": "2022-04-04T22:40:43.514Z"
   },
   {
    "duration": 4,
    "start_time": "2022-04-04T22:44:43.286Z"
   },
   {
    "duration": 13,
    "start_time": "2022-04-04T22:44:43.932Z"
   },
   {
    "duration": 12,
    "start_time": "2022-04-04T22:49:34.653Z"
   },
   {
    "duration": 1061,
    "start_time": "2022-04-04T23:05:41.653Z"
   },
   {
    "duration": 74,
    "start_time": "2022-04-04T23:05:42.716Z"
   },
   {
    "duration": 3,
    "start_time": "2022-04-04T23:05:42.792Z"
   },
   {
    "duration": 26,
    "start_time": "2022-04-04T23:05:42.796Z"
   },
   {
    "duration": 10,
    "start_time": "2022-04-04T23:05:42.824Z"
   },
   {
    "duration": 50,
    "start_time": "2022-04-04T23:05:42.836Z"
   },
   {
    "duration": 42,
    "start_time": "2022-04-04T23:05:42.888Z"
   },
   {
    "duration": 10,
    "start_time": "2022-04-04T23:05:42.932Z"
   },
   {
    "duration": 9,
    "start_time": "2022-04-04T23:05:42.944Z"
   },
   {
    "duration": 7,
    "start_time": "2022-04-04T23:05:42.954Z"
   },
   {
    "duration": 13,
    "start_time": "2022-04-04T23:05:42.962Z"
   },
   {
    "duration": 9,
    "start_time": "2022-04-04T23:05:42.976Z"
   },
   {
    "duration": 48,
    "start_time": "2022-04-04T23:05:42.987Z"
   },
   {
    "duration": 54,
    "start_time": "2022-04-04T23:05:43.039Z"
   },
   {
    "duration": 26,
    "start_time": "2022-04-04T23:05:43.095Z"
   },
   {
    "duration": 16,
    "start_time": "2022-04-04T23:05:43.123Z"
   },
   {
    "duration": 4,
    "start_time": "2022-04-04T23:05:43.140Z"
   },
   {
    "duration": 6,
    "start_time": "2022-04-04T23:05:43.145Z"
   },
   {
    "duration": 7,
    "start_time": "2022-04-04T23:05:43.153Z"
   },
   {
    "duration": 7,
    "start_time": "2022-04-04T23:05:43.162Z"
   },
   {
    "duration": 48,
    "start_time": "2022-04-04T23:05:43.170Z"
   },
   {
    "duration": 45,
    "start_time": "2022-04-04T23:05:43.220Z"
   },
   {
    "duration": 32,
    "start_time": "2022-04-04T23:05:43.267Z"
   },
   {
    "duration": 240,
    "start_time": "2022-04-04T23:05:43.301Z"
   },
   {
    "duration": 168,
    "start_time": "2022-04-04T23:05:43.543Z"
   },
   {
    "duration": 255,
    "start_time": "2022-04-04T23:05:43.712Z"
   },
   {
    "duration": 190,
    "start_time": "2022-04-04T23:05:43.968Z"
   },
   {
    "duration": 286,
    "start_time": "2022-04-04T23:05:44.160Z"
   },
   {
    "duration": 123,
    "start_time": "2022-04-04T23:05:44.448Z"
   },
   {
    "duration": 4,
    "start_time": "2022-04-04T23:05:44.580Z"
   },
   {
    "duration": 127,
    "start_time": "2022-04-04T23:05:44.585Z"
   },
   {
    "duration": 4,
    "start_time": "2022-04-04T23:05:44.713Z"
   },
   {
    "duration": 13,
    "start_time": "2022-04-04T23:05:44.719Z"
   },
   {
    "duration": 12,
    "start_time": "2022-04-04T23:05:44.734Z"
   },
   {
    "duration": 45,
    "start_time": "2022-04-04T23:05:44.747Z"
   },
   {
    "duration": 10,
    "start_time": "2022-04-04T23:05:44.793Z"
   },
   {
    "duration": 7,
    "start_time": "2022-04-04T23:05:44.804Z"
   },
   {
    "duration": 18,
    "start_time": "2022-04-04T23:05:44.812Z"
   },
   {
    "duration": 20,
    "start_time": "2022-04-04T23:05:44.832Z"
   },
   {
    "duration": 35,
    "start_time": "2022-04-04T23:05:44.853Z"
   },
   {
    "duration": 122,
    "start_time": "2022-04-04T23:06:30.214Z"
   },
   {
    "duration": 9,
    "start_time": "2022-04-04T23:25:23.941Z"
   },
   {
    "duration": 1001,
    "start_time": "2022-04-04T23:25:46.610Z"
   },
   {
    "duration": 87,
    "start_time": "2022-04-04T23:25:47.612Z"
   },
   {
    "duration": 3,
    "start_time": "2022-04-04T23:25:47.700Z"
   },
   {
    "duration": 15,
    "start_time": "2022-04-04T23:25:47.705Z"
   },
   {
    "duration": 14,
    "start_time": "2022-04-04T23:25:47.722Z"
   },
   {
    "duration": 59,
    "start_time": "2022-04-04T23:25:47.738Z"
   },
   {
    "duration": 43,
    "start_time": "2022-04-04T23:25:47.798Z"
   },
   {
    "duration": 10,
    "start_time": "2022-04-04T23:25:47.842Z"
   },
   {
    "duration": 8,
    "start_time": "2022-04-04T23:25:47.854Z"
   },
   {
    "duration": 6,
    "start_time": "2022-04-04T23:25:47.864Z"
   },
   {
    "duration": 11,
    "start_time": "2022-04-04T23:25:47.871Z"
   },
   {
    "duration": 11,
    "start_time": "2022-04-04T23:25:47.883Z"
   },
   {
    "duration": 47,
    "start_time": "2022-04-04T23:25:47.896Z"
   },
   {
    "duration": 51,
    "start_time": "2022-04-04T23:25:47.945Z"
   },
   {
    "duration": 21,
    "start_time": "2022-04-04T23:25:47.998Z"
   },
   {
    "duration": 9,
    "start_time": "2022-04-04T23:25:48.021Z"
   },
   {
    "duration": 4,
    "start_time": "2022-04-04T23:25:48.032Z"
   },
   {
    "duration": 5,
    "start_time": "2022-04-04T23:25:48.038Z"
   },
   {
    "duration": 9,
    "start_time": "2022-04-04T23:25:48.045Z"
   },
   {
    "duration": 8,
    "start_time": "2022-04-04T23:25:48.055Z"
   },
   {
    "duration": 56,
    "start_time": "2022-04-04T23:25:48.064Z"
   },
   {
    "duration": 59,
    "start_time": "2022-04-04T23:25:48.122Z"
   },
   {
    "duration": 26,
    "start_time": "2022-04-04T23:25:48.182Z"
   },
   {
    "duration": 246,
    "start_time": "2022-04-04T23:25:48.209Z"
   },
   {
    "duration": 176,
    "start_time": "2022-04-04T23:25:48.457Z"
   },
   {
    "duration": 260,
    "start_time": "2022-04-04T23:25:48.635Z"
   },
   {
    "duration": 185,
    "start_time": "2022-04-04T23:25:48.896Z"
   },
   {
    "duration": 270,
    "start_time": "2022-04-04T23:25:49.084Z"
   },
   {
    "duration": 121,
    "start_time": "2022-04-04T23:25:49.356Z"
   },
   {
    "duration": 4,
    "start_time": "2022-04-04T23:25:49.480Z"
   },
   {
    "duration": 134,
    "start_time": "2022-04-04T23:25:49.486Z"
   },
   {
    "duration": 4,
    "start_time": "2022-04-04T23:25:49.622Z"
   },
   {
    "duration": 22,
    "start_time": "2022-04-04T23:25:49.627Z"
   },
   {
    "duration": 17,
    "start_time": "2022-04-04T23:25:49.651Z"
   },
   {
    "duration": 27,
    "start_time": "2022-04-04T23:25:49.670Z"
   },
   {
    "duration": 10,
    "start_time": "2022-04-04T23:25:49.699Z"
   },
   {
    "duration": 8,
    "start_time": "2022-04-04T23:25:49.710Z"
   },
   {
    "duration": 15,
    "start_time": "2022-04-04T23:25:49.719Z"
   },
   {
    "duration": 45,
    "start_time": "2022-04-04T23:25:49.736Z"
   },
   {
    "duration": 12,
    "start_time": "2022-04-04T23:25:49.782Z"
   },
   {
    "duration": 156,
    "start_time": "2022-04-04T23:32:31.744Z"
   },
   {
    "duration": 2,
    "start_time": "2022-04-04T23:36:55.302Z"
   },
   {
    "duration": 819,
    "start_time": "2022-04-04T23:40:16.654Z"
   },
   {
    "duration": 1033,
    "start_time": "2022-04-04T23:45:49.292Z"
   },
   {
    "duration": 69,
    "start_time": "2022-04-04T23:45:50.327Z"
   },
   {
    "duration": 3,
    "start_time": "2022-04-04T23:45:50.397Z"
   },
   {
    "duration": 12,
    "start_time": "2022-04-04T23:45:50.401Z"
   },
   {
    "duration": 11,
    "start_time": "2022-04-04T23:45:50.415Z"
   },
   {
    "duration": 58,
    "start_time": "2022-04-04T23:45:50.427Z"
   },
   {
    "duration": 42,
    "start_time": "2022-04-04T23:45:50.487Z"
   },
   {
    "duration": 9,
    "start_time": "2022-04-04T23:45:50.531Z"
   },
   {
    "duration": 9,
    "start_time": "2022-04-04T23:45:50.542Z"
   },
   {
    "duration": 15,
    "start_time": "2022-04-04T23:45:50.552Z"
   },
   {
    "duration": 13,
    "start_time": "2022-04-04T23:45:50.568Z"
   },
   {
    "duration": 12,
    "start_time": "2022-04-04T23:45:50.582Z"
   },
   {
    "duration": 43,
    "start_time": "2022-04-04T23:45:50.596Z"
   },
   {
    "duration": 54,
    "start_time": "2022-04-04T23:45:50.642Z"
   },
   {
    "duration": 22,
    "start_time": "2022-04-04T23:45:50.698Z"
   },
   {
    "duration": 10,
    "start_time": "2022-04-04T23:45:50.721Z"
   },
   {
    "duration": 4,
    "start_time": "2022-04-04T23:45:50.733Z"
   },
   {
    "duration": 6,
    "start_time": "2022-04-04T23:45:50.738Z"
   },
   {
    "duration": 9,
    "start_time": "2022-04-04T23:45:50.746Z"
   },
   {
    "duration": 7,
    "start_time": "2022-04-04T23:45:50.757Z"
   },
   {
    "duration": 57,
    "start_time": "2022-04-04T23:45:50.765Z"
   },
   {
    "duration": 62,
    "start_time": "2022-04-04T23:45:50.824Z"
   },
   {
    "duration": 26,
    "start_time": "2022-04-04T23:45:50.888Z"
   },
   {
    "duration": 250,
    "start_time": "2022-04-04T23:45:50.916Z"
   },
   {
    "duration": 170,
    "start_time": "2022-04-04T23:45:51.168Z"
   },
   {
    "duration": 260,
    "start_time": "2022-04-04T23:45:51.340Z"
   },
   {
    "duration": 187,
    "start_time": "2022-04-04T23:45:51.602Z"
   },
   {
    "duration": 267,
    "start_time": "2022-04-04T23:45:51.791Z"
   },
   {
    "duration": 122,
    "start_time": "2022-04-04T23:45:52.059Z"
   },
   {
    "duration": 4,
    "start_time": "2022-04-04T23:45:52.182Z"
   },
   {
    "duration": 135,
    "start_time": "2022-04-04T23:45:52.188Z"
   },
   {
    "duration": 4,
    "start_time": "2022-04-04T23:45:52.325Z"
   },
   {
    "duration": 11,
    "start_time": "2022-04-04T23:45:52.331Z"
   },
   {
    "duration": 15,
    "start_time": "2022-04-04T23:45:52.343Z"
   },
   {
    "duration": 39,
    "start_time": "2022-04-04T23:45:52.360Z"
   },
   {
    "duration": 11,
    "start_time": "2022-04-04T23:45:52.401Z"
   },
   {
    "duration": 8,
    "start_time": "2022-04-04T23:45:52.414Z"
   },
   {
    "duration": 14,
    "start_time": "2022-04-04T23:45:52.423Z"
   },
   {
    "duration": 45,
    "start_time": "2022-04-04T23:45:52.439Z"
   },
   {
    "duration": 11,
    "start_time": "2022-04-04T23:45:52.486Z"
   },
   {
    "duration": 1169,
    "start_time": "2022-04-05T10:54:44.202Z"
   },
   {
    "duration": 72,
    "start_time": "2022-04-05T10:54:45.374Z"
   },
   {
    "duration": 3,
    "start_time": "2022-04-05T10:54:45.448Z"
   },
   {
    "duration": 14,
    "start_time": "2022-04-05T10:54:45.453Z"
   },
   {
    "duration": 10,
    "start_time": "2022-04-05T10:54:45.469Z"
   },
   {
    "duration": 47,
    "start_time": "2022-04-05T10:54:45.481Z"
   },
   {
    "duration": 34,
    "start_time": "2022-04-05T10:54:45.529Z"
   },
   {
    "duration": 9,
    "start_time": "2022-04-05T10:54:45.564Z"
   },
   {
    "duration": 9,
    "start_time": "2022-04-05T10:54:45.575Z"
   },
   {
    "duration": 6,
    "start_time": "2022-04-05T10:54:45.585Z"
   },
   {
    "duration": 10,
    "start_time": "2022-04-05T10:54:45.592Z"
   },
   {
    "duration": 10,
    "start_time": "2022-04-05T10:54:45.604Z"
   },
   {
    "duration": 55,
    "start_time": "2022-04-05T10:54:45.615Z"
   },
   {
    "duration": 42,
    "start_time": "2022-04-05T10:54:45.673Z"
   },
   {
    "duration": 17,
    "start_time": "2022-04-05T10:54:45.717Z"
   },
   {
    "duration": 10,
    "start_time": "2022-04-05T10:54:45.735Z"
   },
   {
    "duration": 17,
    "start_time": "2022-04-05T10:54:45.746Z"
   },
   {
    "duration": 7,
    "start_time": "2022-04-05T10:54:45.764Z"
   },
   {
    "duration": 6,
    "start_time": "2022-04-05T10:54:45.773Z"
   },
   {
    "duration": 6,
    "start_time": "2022-04-05T10:54:45.781Z"
   },
   {
    "duration": 46,
    "start_time": "2022-04-05T10:54:45.789Z"
   },
   {
    "duration": 65,
    "start_time": "2022-04-05T10:54:45.836Z"
   },
   {
    "duration": 26,
    "start_time": "2022-04-05T10:54:45.903Z"
   },
   {
    "duration": 267,
    "start_time": "2022-04-05T10:54:45.931Z"
   },
   {
    "duration": 180,
    "start_time": "2022-04-05T10:54:46.200Z"
   },
   {
    "duration": 310,
    "start_time": "2022-04-05T10:54:46.383Z"
   },
   {
    "duration": 202,
    "start_time": "2022-04-05T10:54:46.695Z"
   },
   {
    "duration": 269,
    "start_time": "2022-04-05T10:54:46.899Z"
   },
   {
    "duration": 124,
    "start_time": "2022-04-05T10:54:47.169Z"
   },
   {
    "duration": 4,
    "start_time": "2022-04-05T10:54:47.295Z"
   },
   {
    "duration": 132,
    "start_time": "2022-04-05T10:54:47.300Z"
   },
   {
    "duration": 4,
    "start_time": "2022-04-05T10:54:47.433Z"
   },
   {
    "duration": 24,
    "start_time": "2022-04-05T10:54:47.439Z"
   },
   {
    "duration": 13,
    "start_time": "2022-04-05T10:54:47.464Z"
   },
   {
    "duration": 25,
    "start_time": "2022-04-05T10:54:47.478Z"
   },
   {
    "duration": 9,
    "start_time": "2022-04-05T10:54:47.505Z"
   },
   {
    "duration": 11,
    "start_time": "2022-04-05T10:54:47.515Z"
   },
   {
    "duration": 14,
    "start_time": "2022-04-05T10:54:47.527Z"
   },
   {
    "duration": 22,
    "start_time": "2022-04-05T10:54:47.563Z"
   },
   {
    "duration": 13,
    "start_time": "2022-04-05T10:54:47.586Z"
   },
   {
    "duration": 1363,
    "start_time": "2022-04-05T11:50:47.695Z"
   },
   {
    "duration": 83,
    "start_time": "2022-04-05T11:50:49.060Z"
   },
   {
    "duration": 3,
    "start_time": "2022-04-05T11:50:49.145Z"
   },
   {
    "duration": 20,
    "start_time": "2022-04-05T11:50:49.150Z"
   },
   {
    "duration": 12,
    "start_time": "2022-04-05T11:50:49.173Z"
   },
   {
    "duration": 85,
    "start_time": "2022-04-05T11:50:49.187Z"
   },
   {
    "duration": 27,
    "start_time": "2022-04-05T11:50:49.274Z"
   },
   {
    "duration": 13,
    "start_time": "2022-04-05T11:50:49.302Z"
   },
   {
    "duration": 6,
    "start_time": "2022-04-05T11:50:49.317Z"
   },
   {
    "duration": 8,
    "start_time": "2022-04-05T11:50:49.325Z"
   },
   {
    "duration": 35,
    "start_time": "2022-04-05T11:50:49.334Z"
   },
   {
    "duration": 12,
    "start_time": "2022-04-05T11:50:49.371Z"
   },
   {
    "duration": 84,
    "start_time": "2022-04-05T11:50:49.385Z"
   },
   {
    "duration": 75,
    "start_time": "2022-04-05T11:50:49.473Z"
   },
   {
    "duration": 23,
    "start_time": "2022-04-05T11:50:49.550Z"
   },
   {
    "duration": 14,
    "start_time": "2022-04-05T11:50:49.575Z"
   },
   {
    "duration": 5,
    "start_time": "2022-04-05T11:50:49.591Z"
   },
   {
    "duration": 9,
    "start_time": "2022-04-05T11:50:49.598Z"
   },
   {
    "duration": 14,
    "start_time": "2022-04-05T11:50:49.609Z"
   },
   {
    "duration": 10,
    "start_time": "2022-04-05T11:50:49.625Z"
   },
   {
    "duration": 97,
    "start_time": "2022-04-05T11:50:49.637Z"
   },
   {
    "duration": 71,
    "start_time": "2022-04-05T11:50:49.736Z"
   },
   {
    "duration": 28,
    "start_time": "2022-04-05T11:50:49.808Z"
   },
   {
    "duration": 354,
    "start_time": "2022-04-05T11:50:49.838Z"
   },
   {
    "duration": 178,
    "start_time": "2022-04-05T11:50:50.193Z"
   },
   {
    "duration": 281,
    "start_time": "2022-04-05T11:50:50.374Z"
   },
   {
    "duration": 196,
    "start_time": "2022-04-05T11:50:50.657Z"
   },
   {
    "duration": 302,
    "start_time": "2022-04-05T11:50:50.855Z"
   },
   {
    "duration": 131,
    "start_time": "2022-04-05T11:50:51.163Z"
   },
   {
    "duration": 5,
    "start_time": "2022-04-05T11:50:51.295Z"
   },
   {
    "duration": 153,
    "start_time": "2022-04-05T11:50:51.302Z"
   },
   {
    "duration": 10,
    "start_time": "2022-04-05T11:50:51.457Z"
   },
   {
    "duration": 15,
    "start_time": "2022-04-05T11:50:51.468Z"
   },
   {
    "duration": 21,
    "start_time": "2022-04-05T11:50:51.485Z"
   },
   {
    "duration": 31,
    "start_time": "2022-04-05T11:50:51.508Z"
   },
   {
    "duration": 33,
    "start_time": "2022-04-05T11:50:51.541Z"
   },
   {
    "duration": 11,
    "start_time": "2022-04-05T11:50:51.576Z"
   },
   {
    "duration": 19,
    "start_time": "2022-04-05T11:50:51.589Z"
   },
   {
    "duration": 62,
    "start_time": "2022-04-05T11:50:51.610Z"
   },
   {
    "duration": 18,
    "start_time": "2022-04-05T11:50:51.674Z"
   },
   {
    "duration": 1010,
    "start_time": "2022-04-05T12:19:38.590Z"
   },
   {
    "duration": 69,
    "start_time": "2022-04-05T12:19:39.602Z"
   },
   {
    "duration": 3,
    "start_time": "2022-04-05T12:19:39.672Z"
   },
   {
    "duration": 19,
    "start_time": "2022-04-05T12:19:39.677Z"
   },
   {
    "duration": 11,
    "start_time": "2022-04-05T12:19:39.697Z"
   },
   {
    "duration": 55,
    "start_time": "2022-04-05T12:19:39.709Z"
   },
   {
    "duration": 24,
    "start_time": "2022-04-05T12:19:39.765Z"
   },
   {
    "duration": 10,
    "start_time": "2022-04-05T12:19:39.791Z"
   },
   {
    "duration": 7,
    "start_time": "2022-04-05T12:19:39.803Z"
   },
   {
    "duration": 7,
    "start_time": "2022-04-05T12:19:39.813Z"
   },
   {
    "duration": 13,
    "start_time": "2022-04-05T12:19:39.821Z"
   },
   {
    "duration": 11,
    "start_time": "2022-04-05T12:19:39.835Z"
   },
   {
    "duration": 54,
    "start_time": "2022-04-05T12:19:39.847Z"
   },
   {
    "duration": 52,
    "start_time": "2022-04-05T12:19:39.903Z"
   },
   {
    "duration": 13,
    "start_time": "2022-04-05T12:19:39.963Z"
   },
   {
    "duration": 10,
    "start_time": "2022-04-05T12:19:39.978Z"
   },
   {
    "duration": 6,
    "start_time": "2022-04-05T12:19:39.989Z"
   },
   {
    "duration": 8,
    "start_time": "2022-04-05T12:19:39.997Z"
   },
   {
    "duration": 15,
    "start_time": "2022-04-05T12:19:40.007Z"
   },
   {
    "duration": 11,
    "start_time": "2022-04-05T12:19:40.023Z"
   },
   {
    "duration": 60,
    "start_time": "2022-04-05T12:19:40.035Z"
   },
   {
    "duration": 45,
    "start_time": "2022-04-05T12:19:40.096Z"
   },
   {
    "duration": 40,
    "start_time": "2022-04-05T12:19:40.142Z"
   },
   {
    "duration": 253,
    "start_time": "2022-04-05T12:19:40.184Z"
   },
   {
    "duration": 179,
    "start_time": "2022-04-05T12:19:40.439Z"
   },
   {
    "duration": 277,
    "start_time": "2022-04-05T12:19:40.620Z"
   },
   {
    "duration": 195,
    "start_time": "2022-04-05T12:19:40.898Z"
   },
   {
    "duration": 269,
    "start_time": "2022-04-05T12:19:41.096Z"
   },
   {
    "duration": 120,
    "start_time": "2022-04-05T12:19:41.366Z"
   },
   {
    "duration": 4,
    "start_time": "2022-04-05T12:19:41.488Z"
   },
   {
    "duration": 138,
    "start_time": "2022-04-05T12:19:41.494Z"
   },
   {
    "duration": 4,
    "start_time": "2022-04-05T12:19:41.634Z"
   },
   {
    "duration": 23,
    "start_time": "2022-04-05T12:19:41.640Z"
   },
   {
    "duration": 14,
    "start_time": "2022-04-05T12:19:41.664Z"
   },
   {
    "duration": 23,
    "start_time": "2022-04-05T12:19:41.679Z"
   },
   {
    "duration": 10,
    "start_time": "2022-04-05T12:19:41.704Z"
   },
   {
    "duration": 13,
    "start_time": "2022-04-05T12:19:41.716Z"
   },
   {
    "duration": 41,
    "start_time": "2022-04-05T12:19:41.730Z"
   },
   {
    "duration": 24,
    "start_time": "2022-04-05T12:19:41.773Z"
   },
   {
    "duration": 14,
    "start_time": "2022-04-05T12:19:41.798Z"
   },
   {
    "duration": 1338,
    "start_time": "2022-04-05T13:55:10.539Z"
   },
   {
    "duration": 131,
    "start_time": "2022-04-05T13:55:11.879Z"
   },
   {
    "duration": 4,
    "start_time": "2022-04-05T13:55:12.012Z"
   },
   {
    "duration": 20,
    "start_time": "2022-04-05T13:55:12.018Z"
   },
   {
    "duration": 14,
    "start_time": "2022-04-05T13:55:12.040Z"
   },
   {
    "duration": 60,
    "start_time": "2022-04-05T13:55:12.056Z"
   },
   {
    "duration": 104,
    "start_time": "2022-04-05T13:55:12.118Z"
   },
   {
    "duration": 12,
    "start_time": "2022-04-05T13:55:12.224Z"
   },
   {
    "duration": 8,
    "start_time": "2022-04-05T13:55:12.238Z"
   },
   {
    "duration": 7,
    "start_time": "2022-04-05T13:55:12.249Z"
   },
   {
    "duration": 17,
    "start_time": "2022-04-05T13:55:12.258Z"
   },
   {
    "duration": 15,
    "start_time": "2022-04-05T13:55:12.277Z"
   },
   {
    "duration": 72,
    "start_time": "2022-04-05T13:55:12.294Z"
   },
   {
    "duration": 64,
    "start_time": "2022-04-05T13:55:12.368Z"
   },
   {
    "duration": 60,
    "start_time": "2022-04-05T13:55:12.434Z"
   },
   {
    "duration": 12,
    "start_time": "2022-04-05T13:55:12.496Z"
   },
   {
    "duration": 10,
    "start_time": "2022-04-05T13:55:12.510Z"
   },
   {
    "duration": 7,
    "start_time": "2022-04-05T13:55:12.522Z"
   },
   {
    "duration": 9,
    "start_time": "2022-04-05T13:55:12.531Z"
   },
   {
    "duration": 8,
    "start_time": "2022-04-05T13:55:12.542Z"
   },
   {
    "duration": 58,
    "start_time": "2022-04-05T13:55:12.552Z"
   },
   {
    "duration": 67,
    "start_time": "2022-04-05T13:55:12.612Z"
   },
   {
    "duration": 37,
    "start_time": "2022-04-05T13:55:12.681Z"
   },
   {
    "duration": 312,
    "start_time": "2022-04-05T13:55:12.732Z"
   },
   {
    "duration": 234,
    "start_time": "2022-04-05T13:55:13.046Z"
   },
   {
    "duration": 353,
    "start_time": "2022-04-05T13:55:13.281Z"
   },
   {
    "duration": 243,
    "start_time": "2022-04-05T13:55:13.635Z"
   },
   {
    "duration": 295,
    "start_time": "2022-04-05T13:55:13.882Z"
   },
   {
    "duration": 149,
    "start_time": "2022-04-05T13:55:14.179Z"
   },
   {
    "duration": 5,
    "start_time": "2022-04-05T13:55:14.330Z"
   },
   {
    "duration": 167,
    "start_time": "2022-04-05T13:55:14.337Z"
   },
   {
    "duration": 4,
    "start_time": "2022-04-05T13:55:14.506Z"
   },
   {
    "duration": 27,
    "start_time": "2022-04-05T13:55:14.512Z"
   },
   {
    "duration": 15,
    "start_time": "2022-04-05T13:55:14.541Z"
   },
   {
    "duration": 25,
    "start_time": "2022-04-05T13:55:14.558Z"
   },
   {
    "duration": 10,
    "start_time": "2022-04-05T13:55:14.585Z"
   },
   {
    "duration": 35,
    "start_time": "2022-04-05T13:55:14.597Z"
   },
   {
    "duration": 16,
    "start_time": "2022-04-05T13:55:14.634Z"
   },
   {
    "duration": 26,
    "start_time": "2022-04-05T13:55:14.652Z"
   },
   {
    "duration": 13,
    "start_time": "2022-04-05T13:55:14.680Z"
   },
   {
    "duration": 1135,
    "start_time": "2022-04-05T14:16:34.207Z"
   },
   {
    "duration": 81,
    "start_time": "2022-04-05T14:16:35.344Z"
   },
   {
    "duration": 3,
    "start_time": "2022-04-05T14:16:35.427Z"
   },
   {
    "duration": 23,
    "start_time": "2022-04-05T14:16:35.432Z"
   },
   {
    "duration": 13,
    "start_time": "2022-04-05T14:16:35.458Z"
   },
   {
    "duration": 63,
    "start_time": "2022-04-05T14:16:35.473Z"
   },
   {
    "duration": 48,
    "start_time": "2022-04-05T14:16:35.538Z"
   },
   {
    "duration": 12,
    "start_time": "2022-04-05T14:16:35.588Z"
   },
   {
    "duration": 13,
    "start_time": "2022-04-05T14:16:35.602Z"
   },
   {
    "duration": 8,
    "start_time": "2022-04-05T14:16:35.617Z"
   },
   {
    "duration": 14,
    "start_time": "2022-04-05T14:16:35.627Z"
   },
   {
    "duration": 10,
    "start_time": "2022-04-05T14:16:35.643Z"
   },
   {
    "duration": 54,
    "start_time": "2022-04-05T14:16:35.655Z"
   },
   {
    "duration": 64,
    "start_time": "2022-04-05T14:16:35.713Z"
   },
   {
    "duration": 29,
    "start_time": "2022-04-05T14:16:35.779Z"
   },
   {
    "duration": 12,
    "start_time": "2022-04-05T14:16:35.809Z"
   },
   {
    "duration": 8,
    "start_time": "2022-04-05T14:16:35.823Z"
   },
   {
    "duration": 13,
    "start_time": "2022-04-05T14:16:35.833Z"
   },
   {
    "duration": 18,
    "start_time": "2022-04-05T14:16:35.847Z"
   },
   {
    "duration": 18,
    "start_time": "2022-04-05T14:16:35.867Z"
   },
   {
    "duration": 57,
    "start_time": "2022-04-05T14:16:35.887Z"
   },
   {
    "duration": 53,
    "start_time": "2022-04-05T14:16:35.945Z"
   },
   {
    "duration": 45,
    "start_time": "2022-04-05T14:16:35.999Z"
   },
   {
    "duration": 147,
    "start_time": "2022-04-05T14:16:36.046Z"
   },
   {
    "duration": 14,
    "start_time": "2022-04-05T14:16:36.195Z"
   },
   {
    "duration": 37,
    "start_time": "2022-04-05T14:16:36.211Z"
   },
   {
    "duration": 11,
    "start_time": "2022-04-05T14:16:36.250Z"
   },
   {
    "duration": 302,
    "start_time": "2022-04-05T14:16:36.263Z"
   },
   {
    "duration": 213,
    "start_time": "2022-04-05T14:16:36.567Z"
   },
   {
    "duration": 292,
    "start_time": "2022-04-05T14:16:36.782Z"
   },
   {
    "duration": 250,
    "start_time": "2022-04-05T14:16:37.076Z"
   },
   {
    "duration": 325,
    "start_time": "2022-04-05T14:16:37.332Z"
   },
   {
    "duration": 153,
    "start_time": "2022-04-05T14:16:37.658Z"
   },
   {
    "duration": 5,
    "start_time": "2022-04-05T14:16:37.813Z"
   },
   {
    "duration": 169,
    "start_time": "2022-04-05T14:16:37.820Z"
   },
   {
    "duration": 4,
    "start_time": "2022-04-05T14:16:37.991Z"
   },
   {
    "duration": 13,
    "start_time": "2022-04-05T14:16:37.997Z"
   },
   {
    "duration": 32,
    "start_time": "2022-04-05T14:16:38.011Z"
   },
   {
    "duration": 29,
    "start_time": "2022-04-05T14:16:38.045Z"
   },
   {
    "duration": 14,
    "start_time": "2022-04-05T14:16:38.076Z"
   },
   {
    "duration": 119,
    "start_time": "2022-04-05T14:18:55.909Z"
   },
   {
    "duration": 1142,
    "start_time": "2022-04-05T15:44:14.066Z"
   },
   {
    "duration": 83,
    "start_time": "2022-04-05T15:44:15.210Z"
   },
   {
    "duration": 4,
    "start_time": "2022-04-05T15:44:15.294Z"
   },
   {
    "duration": 44,
    "start_time": "2022-04-05T15:44:15.300Z"
   },
   {
    "duration": 26,
    "start_time": "2022-04-05T15:44:15.346Z"
   },
   {
    "duration": 68,
    "start_time": "2022-04-05T15:44:15.374Z"
   },
   {
    "duration": 39,
    "start_time": "2022-04-05T15:44:15.444Z"
   },
   {
    "duration": 12,
    "start_time": "2022-04-05T15:44:15.484Z"
   },
   {
    "duration": 37,
    "start_time": "2022-04-05T15:44:15.498Z"
   },
   {
    "duration": 17,
    "start_time": "2022-04-05T15:44:15.537Z"
   },
   {
    "duration": 32,
    "start_time": "2022-04-05T15:44:15.556Z"
   },
   {
    "duration": 42,
    "start_time": "2022-04-05T15:44:15.590Z"
   },
   {
    "duration": 72,
    "start_time": "2022-04-05T15:44:15.634Z"
   },
   {
    "duration": 74,
    "start_time": "2022-04-05T15:44:15.709Z"
   },
   {
    "duration": 40,
    "start_time": "2022-04-05T15:44:15.784Z"
   },
   {
    "duration": 12,
    "start_time": "2022-04-05T15:44:15.825Z"
   },
   {
    "duration": 18,
    "start_time": "2022-04-05T15:44:15.838Z"
   },
   {
    "duration": 21,
    "start_time": "2022-04-05T15:44:15.858Z"
   },
   {
    "duration": 27,
    "start_time": "2022-04-05T15:44:15.881Z"
   },
   {
    "duration": 29,
    "start_time": "2022-04-05T15:44:15.909Z"
   },
   {
    "duration": 91,
    "start_time": "2022-04-05T15:44:15.940Z"
   },
   {
    "duration": 54,
    "start_time": "2022-04-05T15:44:16.033Z"
   },
   {
    "duration": 48,
    "start_time": "2022-04-05T15:44:16.089Z"
   },
   {
    "duration": 148,
    "start_time": "2022-04-05T15:44:16.139Z"
   },
   {
    "duration": 14,
    "start_time": "2022-04-05T15:44:16.289Z"
   },
   {
    "duration": 39,
    "start_time": "2022-04-05T15:44:16.305Z"
   },
   {
    "duration": 18,
    "start_time": "2022-04-05T15:44:16.346Z"
   },
   {
    "duration": 311,
    "start_time": "2022-04-05T15:44:16.366Z"
   },
   {
    "duration": 221,
    "start_time": "2022-04-05T15:44:16.679Z"
   },
   {
    "duration": 350,
    "start_time": "2022-04-05T15:44:16.902Z"
   },
   {
    "duration": 244,
    "start_time": "2022-04-05T15:44:17.253Z"
   },
   {
    "duration": 350,
    "start_time": "2022-04-05T15:44:17.499Z"
   },
   {
    "duration": 156,
    "start_time": "2022-04-05T15:44:17.851Z"
   },
   {
    "duration": 5,
    "start_time": "2022-04-05T15:44:18.009Z"
   },
   {
    "duration": 171,
    "start_time": "2022-04-05T15:44:18.032Z"
   },
   {
    "duration": 5,
    "start_time": "2022-04-05T15:44:18.205Z"
   },
   {
    "duration": 23,
    "start_time": "2022-04-05T15:44:18.212Z"
   },
   {
    "duration": 21,
    "start_time": "2022-04-05T15:44:18.238Z"
   },
   {
    "duration": 29,
    "start_time": "2022-04-05T15:44:18.261Z"
   },
   {
    "duration": 46,
    "start_time": "2022-04-05T15:44:18.292Z"
   },
   {
    "duration": 3,
    "start_time": "2022-04-05T16:08:17.146Z"
   },
   {
    "duration": 16,
    "start_time": "2022-04-05T16:08:17.151Z"
   },
   {
    "duration": 13,
    "start_time": "2022-04-05T16:08:17.170Z"
   },
   {
    "duration": 59,
    "start_time": "2022-04-05T16:08:17.185Z"
   },
   {
    "duration": 40,
    "start_time": "2022-04-05T16:08:17.246Z"
   },
   {
    "duration": 12,
    "start_time": "2022-04-05T16:08:17.288Z"
   },
   {
    "duration": 6,
    "start_time": "2022-04-05T16:08:17.302Z"
   },
   {
    "duration": 11,
    "start_time": "2022-04-05T16:08:17.310Z"
   },
   {
    "duration": 15,
    "start_time": "2022-04-05T16:08:17.323Z"
   },
   {
    "duration": 11,
    "start_time": "2022-04-05T16:08:17.340Z"
   },
   {
    "duration": 53,
    "start_time": "2022-04-05T16:08:17.353Z"
   },
   {
    "duration": 56,
    "start_time": "2022-04-05T16:08:17.410Z"
   },
   {
    "duration": 25,
    "start_time": "2022-04-05T16:08:17.468Z"
   },
   {
    "duration": 12,
    "start_time": "2022-04-05T16:08:17.495Z"
   },
   {
    "duration": 5,
    "start_time": "2022-04-05T16:08:17.509Z"
   },
   {
    "duration": 6,
    "start_time": "2022-04-05T16:08:17.516Z"
   },
   {
    "duration": 7,
    "start_time": "2022-04-05T16:08:17.524Z"
   },
   {
    "duration": 9,
    "start_time": "2022-04-05T16:08:17.532Z"
   },
   {
    "duration": 59,
    "start_time": "2022-04-05T16:08:17.543Z"
   },
   {
    "duration": 67,
    "start_time": "2022-04-05T16:08:17.604Z"
   },
   {
    "duration": 70,
    "start_time": "2022-04-05T16:08:17.673Z"
   },
   {
    "duration": 238,
    "start_time": "2022-04-05T16:08:17.745Z"
   },
   {
    "duration": 47,
    "start_time": "2022-04-05T16:08:17.985Z"
   },
   {
    "duration": 25,
    "start_time": "2022-04-05T16:08:18.034Z"
   },
   {
    "duration": 11,
    "start_time": "2022-04-05T16:08:18.060Z"
   },
   {
    "duration": 310,
    "start_time": "2022-04-05T16:08:18.073Z"
   },
   {
    "duration": 208,
    "start_time": "2022-04-05T16:08:18.385Z"
   },
   {
    "duration": 340,
    "start_time": "2022-04-05T16:08:18.595Z"
   },
   {
    "duration": 232,
    "start_time": "2022-04-05T16:08:18.937Z"
   },
   {
    "duration": 292,
    "start_time": "2022-04-05T16:08:19.171Z"
   },
   {
    "duration": 146,
    "start_time": "2022-04-05T16:08:19.465Z"
   },
   {
    "duration": 5,
    "start_time": "2022-04-05T16:08:19.613Z"
   },
   {
    "duration": 172,
    "start_time": "2022-04-05T16:08:19.619Z"
   },
   {
    "duration": 5,
    "start_time": "2022-04-05T16:08:19.793Z"
   },
   {
    "duration": 10,
    "start_time": "2022-04-05T16:08:19.800Z"
   },
   {
    "duration": 35,
    "start_time": "2022-04-05T16:08:19.812Z"
   },
   {
    "duration": 27,
    "start_time": "2022-04-05T16:08:19.849Z"
   },
   {
    "duration": 14,
    "start_time": "2022-04-05T16:08:19.877Z"
   },
   {
    "duration": 1043,
    "start_time": "2022-04-05T16:09:07.468Z"
   },
   {
    "duration": 80,
    "start_time": "2022-04-05T16:09:08.513Z"
   },
   {
    "duration": 3,
    "start_time": "2022-04-05T16:09:08.595Z"
   },
   {
    "duration": 15,
    "start_time": "2022-04-05T16:09:08.600Z"
   },
   {
    "duration": 25,
    "start_time": "2022-04-05T16:09:08.618Z"
   },
   {
    "duration": 55,
    "start_time": "2022-04-05T16:09:08.645Z"
   },
   {
    "duration": 40,
    "start_time": "2022-04-05T16:09:08.702Z"
   },
   {
    "duration": 11,
    "start_time": "2022-04-05T16:09:08.744Z"
   },
   {
    "duration": 6,
    "start_time": "2022-04-05T16:09:08.757Z"
   },
   {
    "duration": 6,
    "start_time": "2022-04-05T16:09:08.765Z"
   },
   {
    "duration": 12,
    "start_time": "2022-04-05T16:09:08.774Z"
   },
   {
    "duration": 12,
    "start_time": "2022-04-05T16:09:08.788Z"
   },
   {
    "duration": 77,
    "start_time": "2022-04-05T16:09:08.802Z"
   },
   {
    "duration": 63,
    "start_time": "2022-04-05T16:09:08.883Z"
   },
   {
    "duration": 22,
    "start_time": "2022-04-05T16:09:08.948Z"
   },
   {
    "duration": 13,
    "start_time": "2022-04-05T16:09:08.972Z"
   },
   {
    "duration": 5,
    "start_time": "2022-04-05T16:09:08.987Z"
   },
   {
    "duration": 10,
    "start_time": "2022-04-05T16:09:08.993Z"
   },
   {
    "duration": 27,
    "start_time": "2022-04-05T16:09:09.005Z"
   },
   {
    "duration": 8,
    "start_time": "2022-04-05T16:09:09.034Z"
   },
   {
    "duration": 56,
    "start_time": "2022-04-05T16:09:09.044Z"
   },
   {
    "duration": 63,
    "start_time": "2022-04-05T16:09:09.102Z"
   },
   {
    "duration": 32,
    "start_time": "2022-04-05T16:09:09.167Z"
   },
   {
    "duration": 161,
    "start_time": "2022-04-05T16:09:09.200Z"
   },
   {
    "duration": 16,
    "start_time": "2022-04-05T16:09:09.363Z"
   },
   {
    "duration": 26,
    "start_time": "2022-04-05T16:09:09.381Z"
   },
   {
    "duration": 35,
    "start_time": "2022-04-05T16:09:09.409Z"
   },
   {
    "duration": 300,
    "start_time": "2022-04-05T16:09:09.445Z"
   },
   {
    "duration": 210,
    "start_time": "2022-04-05T16:09:09.747Z"
   },
   {
    "duration": 295,
    "start_time": "2022-04-05T16:09:09.959Z"
   },
   {
    "duration": 232,
    "start_time": "2022-04-05T16:09:10.256Z"
   },
   {
    "duration": 334,
    "start_time": "2022-04-05T16:09:10.490Z"
   },
   {
    "duration": 150,
    "start_time": "2022-04-05T16:09:10.826Z"
   },
   {
    "duration": 5,
    "start_time": "2022-04-05T16:09:10.978Z"
   },
   {
    "duration": 179,
    "start_time": "2022-04-05T16:09:10.985Z"
   },
   {
    "duration": 5,
    "start_time": "2022-04-05T16:09:11.166Z"
   },
   {
    "duration": 12,
    "start_time": "2022-04-05T16:09:11.173Z"
   },
   {
    "duration": 20,
    "start_time": "2022-04-05T16:09:11.187Z"
   },
   {
    "duration": 48,
    "start_time": "2022-04-05T16:09:11.209Z"
   },
   {
    "duration": 14,
    "start_time": "2022-04-05T16:09:11.259Z"
   },
   {
    "duration": 102,
    "start_time": "2022-04-06T09:08:21.661Z"
   },
   {
    "duration": 1139,
    "start_time": "2022-04-06T22:34:52.381Z"
   },
   {
    "duration": 81,
    "start_time": "2022-04-06T22:34:53.523Z"
   },
   {
    "duration": 4,
    "start_time": "2022-04-06T22:34:53.606Z"
   },
   {
    "duration": 22,
    "start_time": "2022-04-06T22:34:53.612Z"
   },
   {
    "duration": 12,
    "start_time": "2022-04-06T22:34:53.636Z"
   },
   {
    "duration": 52,
    "start_time": "2022-04-06T22:34:53.650Z"
   },
   {
    "duration": 37,
    "start_time": "2022-04-06T22:34:53.704Z"
   },
   {
    "duration": 12,
    "start_time": "2022-04-06T22:34:53.743Z"
   },
   {
    "duration": 6,
    "start_time": "2022-04-06T22:34:53.757Z"
   },
   {
    "duration": 5,
    "start_time": "2022-04-06T22:34:53.766Z"
   },
   {
    "duration": 13,
    "start_time": "2022-04-06T22:34:53.772Z"
   },
   {
    "duration": 50,
    "start_time": "2022-04-06T22:34:53.787Z"
   },
   {
    "duration": 51,
    "start_time": "2022-04-06T22:34:53.838Z"
   },
   {
    "duration": 67,
    "start_time": "2022-04-06T22:34:53.891Z"
   },
   {
    "duration": 14,
    "start_time": "2022-04-06T22:34:53.960Z"
   },
   {
    "duration": 10,
    "start_time": "2022-04-06T22:34:53.976Z"
   },
   {
    "duration": 9,
    "start_time": "2022-04-06T22:34:53.988Z"
   },
   {
    "duration": 7,
    "start_time": "2022-04-06T22:34:53.998Z"
   },
   {
    "duration": 27,
    "start_time": "2022-04-06T22:34:54.006Z"
   },
   {
    "duration": 6,
    "start_time": "2022-04-06T22:34:54.035Z"
   },
   {
    "duration": 51,
    "start_time": "2022-04-06T22:34:54.043Z"
   },
   {
    "duration": 66,
    "start_time": "2022-04-06T22:34:54.096Z"
   },
   {
    "duration": 28,
    "start_time": "2022-04-06T22:34:54.164Z"
   },
   {
    "duration": 165,
    "start_time": "2022-04-06T22:34:54.194Z"
   },
   {
    "duration": 14,
    "start_time": "2022-04-06T22:34:54.360Z"
   },
   {
    "duration": 23,
    "start_time": "2022-04-06T22:34:54.375Z"
   },
   {
    "duration": 32,
    "start_time": "2022-04-06T22:34:54.400Z"
   },
   {
    "duration": 256,
    "start_time": "2022-04-06T22:34:54.435Z"
   },
   {
    "duration": 178,
    "start_time": "2022-04-06T22:34:54.692Z"
   },
   {
    "duration": 300,
    "start_time": "2022-04-06T22:34:54.871Z"
   },
   {
    "duration": 203,
    "start_time": "2022-04-06T22:34:55.173Z"
   },
   {
    "duration": 275,
    "start_time": "2022-04-06T22:34:55.379Z"
   },
   {
    "duration": 135,
    "start_time": "2022-04-06T22:34:55.656Z"
   },
   {
    "duration": 5,
    "start_time": "2022-04-06T22:34:55.794Z"
   },
   {
    "duration": 152,
    "start_time": "2022-04-06T22:34:55.801Z"
   },
   {
    "duration": 5,
    "start_time": "2022-04-06T22:34:55.955Z"
   },
   {
    "duration": 9,
    "start_time": "2022-04-06T22:34:55.962Z"
   },
   {
    "duration": 15,
    "start_time": "2022-04-06T22:34:55.973Z"
   },
   {
    "duration": 53,
    "start_time": "2022-04-06T22:34:55.989Z"
   },
   {
    "duration": 14,
    "start_time": "2022-04-06T22:34:56.044Z"
   },
   {
    "duration": 16,
    "start_time": "2022-04-06T22:36:18.782Z"
   },
   {
    "duration": 418,
    "start_time": "2022-04-06T22:41:21.636Z"
   },
   {
    "duration": 3,
    "start_time": "2022-04-06T22:41:48.967Z"
   },
   {
    "duration": 79,
    "start_time": "2022-04-06T22:43:01.297Z"
   },
   {
    "duration": 12,
    "start_time": "2022-04-06T22:43:29.505Z"
   },
   {
    "duration": 12,
    "start_time": "2022-04-06T22:43:42.917Z"
   },
   {
    "duration": 7,
    "start_time": "2022-04-06T22:47:53.536Z"
   },
   {
    "duration": 3,
    "start_time": "2022-04-06T22:48:59.978Z"
   },
   {
    "duration": 1055,
    "start_time": "2022-04-06T23:10:42.617Z"
   },
   {
    "duration": 80,
    "start_time": "2022-04-06T23:10:43.674Z"
   },
   {
    "duration": 2,
    "start_time": "2022-04-06T23:10:43.756Z"
   },
   {
    "duration": 15,
    "start_time": "2022-04-06T23:10:43.760Z"
   },
   {
    "duration": 12,
    "start_time": "2022-04-06T23:10:43.777Z"
   },
   {
    "duration": 71,
    "start_time": "2022-04-06T23:10:43.790Z"
   },
   {
    "duration": 24,
    "start_time": "2022-04-06T23:10:43.863Z"
   },
   {
    "duration": 11,
    "start_time": "2022-04-06T23:10:43.889Z"
   },
   {
    "duration": 12,
    "start_time": "2022-04-06T23:10:43.901Z"
   },
   {
    "duration": 14,
    "start_time": "2022-04-06T23:10:43.915Z"
   },
   {
    "duration": 13,
    "start_time": "2022-04-06T23:10:43.930Z"
   },
   {
    "duration": 10,
    "start_time": "2022-04-06T23:10:43.944Z"
   },
   {
    "duration": 47,
    "start_time": "2022-04-06T23:10:43.956Z"
   },
   {
    "duration": 66,
    "start_time": "2022-04-06T23:10:44.005Z"
   },
   {
    "duration": 18,
    "start_time": "2022-04-06T23:10:44.072Z"
   },
   {
    "duration": 11,
    "start_time": "2022-04-06T23:10:44.091Z"
   },
   {
    "duration": 5,
    "start_time": "2022-04-06T23:10:44.103Z"
   },
   {
    "duration": 24,
    "start_time": "2022-04-06T23:10:44.110Z"
   },
   {
    "duration": 6,
    "start_time": "2022-04-06T23:10:44.135Z"
   },
   {
    "duration": 8,
    "start_time": "2022-04-06T23:10:44.143Z"
   },
   {
    "duration": 48,
    "start_time": "2022-04-06T23:10:44.152Z"
   },
   {
    "duration": 67,
    "start_time": "2022-04-06T23:10:44.202Z"
   },
   {
    "duration": 28,
    "start_time": "2022-04-06T23:10:44.271Z"
   },
   {
    "duration": 146,
    "start_time": "2022-04-06T23:10:44.301Z"
   },
   {
    "duration": 14,
    "start_time": "2022-04-06T23:10:44.449Z"
   },
   {
    "duration": 26,
    "start_time": "2022-04-06T23:10:44.464Z"
   },
   {
    "duration": 10,
    "start_time": "2022-04-06T23:10:44.492Z"
   },
   {
    "duration": 277,
    "start_time": "2022-04-06T23:10:44.505Z"
   },
   {
    "duration": 178,
    "start_time": "2022-04-06T23:10:44.783Z"
   },
   {
    "duration": 270,
    "start_time": "2022-04-06T23:10:44.963Z"
   },
   {
    "duration": 200,
    "start_time": "2022-04-06T23:10:45.234Z"
   },
   {
    "duration": 283,
    "start_time": "2022-04-06T23:10:45.436Z"
   },
   {
    "duration": 133,
    "start_time": "2022-04-06T23:10:45.721Z"
   },
   {
    "duration": 4,
    "start_time": "2022-04-06T23:10:45.856Z"
   },
   {
    "duration": 141,
    "start_time": "2022-04-06T23:10:45.862Z"
   },
   {
    "duration": 4,
    "start_time": "2022-04-06T23:10:46.004Z"
   },
   {
    "duration": 8,
    "start_time": "2022-04-06T23:10:46.010Z"
   },
   {
    "duration": 15,
    "start_time": "2022-04-06T23:10:46.034Z"
   },
   {
    "duration": 24,
    "start_time": "2022-04-06T23:10:46.051Z"
   },
   {
    "duration": 13,
    "start_time": "2022-04-06T23:10:46.077Z"
   },
   {
    "duration": 977,
    "start_time": "2022-04-06T23:11:53.983Z"
   },
   {
    "duration": 75,
    "start_time": "2022-04-06T23:11:54.962Z"
   },
   {
    "duration": 3,
    "start_time": "2022-04-06T23:11:55.041Z"
   },
   {
    "duration": 14,
    "start_time": "2022-04-06T23:11:55.046Z"
   },
   {
    "duration": 11,
    "start_time": "2022-04-06T23:11:55.062Z"
   },
   {
    "duration": 77,
    "start_time": "2022-04-06T23:11:55.075Z"
   },
   {
    "duration": 24,
    "start_time": "2022-04-06T23:11:55.154Z"
   },
   {
    "duration": 10,
    "start_time": "2022-04-06T23:11:55.180Z"
   },
   {
    "duration": 8,
    "start_time": "2022-04-06T23:11:55.193Z"
   },
   {
    "duration": 8,
    "start_time": "2022-04-06T23:11:55.203Z"
   },
   {
    "duration": 20,
    "start_time": "2022-04-06T23:11:55.213Z"
   },
   {
    "duration": 11,
    "start_time": "2022-04-06T23:11:55.234Z"
   },
   {
    "duration": 51,
    "start_time": "2022-04-06T23:11:55.246Z"
   },
   {
    "duration": 63,
    "start_time": "2022-04-06T23:11:55.299Z"
   },
   {
    "duration": 13,
    "start_time": "2022-04-06T23:11:55.364Z"
   },
   {
    "duration": 10,
    "start_time": "2022-04-06T23:11:55.379Z"
   },
   {
    "duration": 7,
    "start_time": "2022-04-06T23:11:55.390Z"
   },
   {
    "duration": 13,
    "start_time": "2022-04-06T23:11:55.399Z"
   },
   {
    "duration": 19,
    "start_time": "2022-04-06T23:11:55.414Z"
   },
   {
    "duration": 6,
    "start_time": "2022-04-06T23:11:55.434Z"
   },
   {
    "duration": 50,
    "start_time": "2022-04-06T23:11:55.441Z"
   },
   {
    "duration": 69,
    "start_time": "2022-04-06T23:11:55.493Z"
   },
   {
    "duration": 30,
    "start_time": "2022-04-06T23:11:55.564Z"
   },
   {
    "duration": 138,
    "start_time": "2022-04-06T23:11:55.596Z"
   },
   {
    "duration": 14,
    "start_time": "2022-04-06T23:11:55.736Z"
   },
   {
    "duration": 25,
    "start_time": "2022-04-06T23:11:55.752Z"
   },
   {
    "duration": 12,
    "start_time": "2022-04-06T23:11:55.780Z"
   },
   {
    "duration": 303,
    "start_time": "2022-04-06T23:11:55.794Z"
   },
   {
    "duration": 237,
    "start_time": "2022-04-06T23:11:56.099Z"
   },
   {
    "duration": 350,
    "start_time": "2022-04-06T23:11:56.338Z"
   },
   {
    "duration": 221,
    "start_time": "2022-04-06T23:11:56.690Z"
   },
   {
    "duration": 329,
    "start_time": "2022-04-06T23:11:56.913Z"
   },
   {
    "duration": 136,
    "start_time": "2022-04-06T23:11:57.244Z"
   },
   {
    "duration": 6,
    "start_time": "2022-04-06T23:11:57.382Z"
   },
   {
    "duration": 167,
    "start_time": "2022-04-06T23:11:57.390Z"
   },
   {
    "duration": 3,
    "start_time": "2022-04-06T23:11:57.559Z"
   },
   {
    "duration": 10,
    "start_time": "2022-04-06T23:11:57.564Z"
   },
   {
    "duration": 19,
    "start_time": "2022-04-06T23:11:57.576Z"
   },
   {
    "duration": 45,
    "start_time": "2022-04-06T23:11:57.597Z"
   },
   {
    "duration": 15,
    "start_time": "2022-04-06T23:11:57.643Z"
   }
  ],
  "kernelspec": {
   "display_name": "Python 3 (ipykernel)",
   "language": "python",
   "name": "python3"
  },
  "language_info": {
   "codemirror_mode": {
    "name": "ipython",
    "version": 3
   },
   "file_extension": ".py",
   "mimetype": "text/x-python",
   "name": "python",
   "nbconvert_exporter": "python",
   "pygments_lexer": "ipython3",
   "version": "3.9.7"
  },
  "toc": {
   "base_numbering": 1,
   "nav_menu": {},
   "number_sections": true,
   "sideBar": true,
   "skip_h1_title": true,
   "title_cell": "Table of Contents",
   "title_sidebar": "Contents",
   "toc_cell": false,
   "toc_position": {
    "height": "calc(100% - 180px)",
    "left": "10px",
    "top": "150px",
    "width": "270.390625px"
   },
   "toc_section_display": true,
   "toc_window_display": true
  }
 },
 "nbformat": 4,
 "nbformat_minor": 2
}
