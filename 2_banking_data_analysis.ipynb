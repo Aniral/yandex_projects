{
 "cells": [
  {
   "cell_type": "markdown",
   "metadata": {},
   "source": [
    "# Исследование надёжности заёмщиков\n",
    "\n",
    "Заказчик — кредитный отдел банка. \n",
    "\n",
    "**Цель исследования** - разобраться, влияет ли семейное положение и количество детей клиента на факт погашения кредита в срок. Входные данные от банка — статистика о платёжеспособности клиентов.\n",
    "\n",
    "Вопросы, на которые необходимо дать ответ по итогу исследования:\n",
    "* \"Есть ли зависимость между наличием детей и возвратом кредита в срок?\";\n",
    "* \"Есть ли зависимость между семейным положением и возвратом кредита в срок?\";\n",
    "* \"Есть ли зависимость между уровнем дохода и возвратом кредита в срок?\";\n",
    "* \"Как разные цели кредита влияют на его возврат в срок?\";\n",
    "\n",
    "Результаты исследования будут учтены при построении модели **кредитного скоринга** — специальной системы, которая оценивает способность потенциального заёмщика вернуть кредит банку.\n",
    "\n",
    "**Ход исследования**\n",
    "\n",
    " 1. Обзор данных.\n",
    " 2. Предобработка данных.\n",
    " 3. Формулировка ответа на поставленный вопрос."
   ]
  },
  {
   "cell_type": "markdown",
   "metadata": {},
   "source": [
    "## Шаг 1. Откройте файл с данными и изучите общую информацию"
   ]
  },
  {
   "cell_type": "code",
   "execution_count": 1,
   "metadata": {
    "scrolled": true
   },
   "outputs": [],
   "source": [
    "# импорт библиотеки pandas\n",
    "import pandas as pd"
   ]
  },
  {
   "cell_type": "code",
   "execution_count": 2,
   "metadata": {
    "scrolled": true
   },
   "outputs": [],
   "source": [
    "# чтение файла с данными и сохранение в переменную data\n",
    "data = pd.read_csv('/datasets/data.csv')"
   ]
  },
  {
   "cell_type": "code",
   "execution_count": 3,
   "metadata": {
    "scrolled": false
   },
   "outputs": [
    {
     "data": {
      "text/html": [
       "<div>\n",
       "<style scoped>\n",
       "    .dataframe tbody tr th:only-of-type {\n",
       "        vertical-align: middle;\n",
       "    }\n",
       "\n",
       "    .dataframe tbody tr th {\n",
       "        vertical-align: top;\n",
       "    }\n",
       "\n",
       "    .dataframe thead th {\n",
       "        text-align: right;\n",
       "    }\n",
       "</style>\n",
       "<table border=\"1\" class=\"dataframe\">\n",
       "  <thead>\n",
       "    <tr style=\"text-align: right;\">\n",
       "      <th></th>\n",
       "      <th>children</th>\n",
       "      <th>days_employed</th>\n",
       "      <th>dob_years</th>\n",
       "      <th>education</th>\n",
       "      <th>education_id</th>\n",
       "      <th>family_status</th>\n",
       "      <th>family_status_id</th>\n",
       "      <th>gender</th>\n",
       "      <th>income_type</th>\n",
       "      <th>debt</th>\n",
       "      <th>total_income</th>\n",
       "      <th>purpose</th>\n",
       "    </tr>\n",
       "  </thead>\n",
       "  <tbody>\n",
       "    <tr>\n",
       "      <td>0</td>\n",
       "      <td>1</td>\n",
       "      <td>-8437.673028</td>\n",
       "      <td>42</td>\n",
       "      <td>высшее</td>\n",
       "      <td>0</td>\n",
       "      <td>женат / замужем</td>\n",
       "      <td>0</td>\n",
       "      <td>F</td>\n",
       "      <td>сотрудник</td>\n",
       "      <td>0</td>\n",
       "      <td>253875.639453</td>\n",
       "      <td>покупка жилья</td>\n",
       "    </tr>\n",
       "    <tr>\n",
       "      <td>1</td>\n",
       "      <td>1</td>\n",
       "      <td>-4024.803754</td>\n",
       "      <td>36</td>\n",
       "      <td>среднее</td>\n",
       "      <td>1</td>\n",
       "      <td>женат / замужем</td>\n",
       "      <td>0</td>\n",
       "      <td>F</td>\n",
       "      <td>сотрудник</td>\n",
       "      <td>0</td>\n",
       "      <td>112080.014102</td>\n",
       "      <td>приобретение автомобиля</td>\n",
       "    </tr>\n",
       "    <tr>\n",
       "      <td>2</td>\n",
       "      <td>0</td>\n",
       "      <td>-5623.422610</td>\n",
       "      <td>33</td>\n",
       "      <td>Среднее</td>\n",
       "      <td>1</td>\n",
       "      <td>женат / замужем</td>\n",
       "      <td>0</td>\n",
       "      <td>M</td>\n",
       "      <td>сотрудник</td>\n",
       "      <td>0</td>\n",
       "      <td>145885.952297</td>\n",
       "      <td>покупка жилья</td>\n",
       "    </tr>\n",
       "    <tr>\n",
       "      <td>3</td>\n",
       "      <td>3</td>\n",
       "      <td>-4124.747207</td>\n",
       "      <td>32</td>\n",
       "      <td>среднее</td>\n",
       "      <td>1</td>\n",
       "      <td>женат / замужем</td>\n",
       "      <td>0</td>\n",
       "      <td>M</td>\n",
       "      <td>сотрудник</td>\n",
       "      <td>0</td>\n",
       "      <td>267628.550329</td>\n",
       "      <td>дополнительное образование</td>\n",
       "    </tr>\n",
       "    <tr>\n",
       "      <td>4</td>\n",
       "      <td>0</td>\n",
       "      <td>340266.072047</td>\n",
       "      <td>53</td>\n",
       "      <td>среднее</td>\n",
       "      <td>1</td>\n",
       "      <td>гражданский брак</td>\n",
       "      <td>1</td>\n",
       "      <td>F</td>\n",
       "      <td>пенсионер</td>\n",
       "      <td>0</td>\n",
       "      <td>158616.077870</td>\n",
       "      <td>сыграть свадьбу</td>\n",
       "    </tr>\n",
       "    <tr>\n",
       "      <td>5</td>\n",
       "      <td>0</td>\n",
       "      <td>-926.185831</td>\n",
       "      <td>27</td>\n",
       "      <td>высшее</td>\n",
       "      <td>0</td>\n",
       "      <td>гражданский брак</td>\n",
       "      <td>1</td>\n",
       "      <td>M</td>\n",
       "      <td>компаньон</td>\n",
       "      <td>0</td>\n",
       "      <td>255763.565419</td>\n",
       "      <td>покупка жилья</td>\n",
       "    </tr>\n",
       "    <tr>\n",
       "      <td>6</td>\n",
       "      <td>0</td>\n",
       "      <td>-2879.202052</td>\n",
       "      <td>43</td>\n",
       "      <td>высшее</td>\n",
       "      <td>0</td>\n",
       "      <td>женат / замужем</td>\n",
       "      <td>0</td>\n",
       "      <td>F</td>\n",
       "      <td>компаньон</td>\n",
       "      <td>0</td>\n",
       "      <td>240525.971920</td>\n",
       "      <td>операции с жильем</td>\n",
       "    </tr>\n",
       "    <tr>\n",
       "      <td>7</td>\n",
       "      <td>0</td>\n",
       "      <td>-152.779569</td>\n",
       "      <td>50</td>\n",
       "      <td>СРЕДНЕЕ</td>\n",
       "      <td>1</td>\n",
       "      <td>женат / замужем</td>\n",
       "      <td>0</td>\n",
       "      <td>M</td>\n",
       "      <td>сотрудник</td>\n",
       "      <td>0</td>\n",
       "      <td>135823.934197</td>\n",
       "      <td>образование</td>\n",
       "    </tr>\n",
       "    <tr>\n",
       "      <td>8</td>\n",
       "      <td>2</td>\n",
       "      <td>-6929.865299</td>\n",
       "      <td>35</td>\n",
       "      <td>ВЫСШЕЕ</td>\n",
       "      <td>0</td>\n",
       "      <td>гражданский брак</td>\n",
       "      <td>1</td>\n",
       "      <td>F</td>\n",
       "      <td>сотрудник</td>\n",
       "      <td>0</td>\n",
       "      <td>95856.832424</td>\n",
       "      <td>на проведение свадьбы</td>\n",
       "    </tr>\n",
       "    <tr>\n",
       "      <td>9</td>\n",
       "      <td>0</td>\n",
       "      <td>-2188.756445</td>\n",
       "      <td>41</td>\n",
       "      <td>среднее</td>\n",
       "      <td>1</td>\n",
       "      <td>женат / замужем</td>\n",
       "      <td>0</td>\n",
       "      <td>M</td>\n",
       "      <td>сотрудник</td>\n",
       "      <td>0</td>\n",
       "      <td>144425.938277</td>\n",
       "      <td>покупка жилья для семьи</td>\n",
       "    </tr>\n",
       "  </tbody>\n",
       "</table>\n",
       "</div>"
      ],
      "text/plain": [
       "   children  days_employed  dob_years education  education_id  \\\n",
       "0         1   -8437.673028         42    высшее             0   \n",
       "1         1   -4024.803754         36   среднее             1   \n",
       "2         0   -5623.422610         33   Среднее             1   \n",
       "3         3   -4124.747207         32   среднее             1   \n",
       "4         0  340266.072047         53   среднее             1   \n",
       "5         0    -926.185831         27    высшее             0   \n",
       "6         0   -2879.202052         43    высшее             0   \n",
       "7         0    -152.779569         50   СРЕДНЕЕ             1   \n",
       "8         2   -6929.865299         35    ВЫСШЕЕ             0   \n",
       "9         0   -2188.756445         41   среднее             1   \n",
       "\n",
       "      family_status  family_status_id gender income_type  debt   total_income  \\\n",
       "0   женат / замужем                 0      F   сотрудник     0  253875.639453   \n",
       "1   женат / замужем                 0      F   сотрудник     0  112080.014102   \n",
       "2   женат / замужем                 0      M   сотрудник     0  145885.952297   \n",
       "3   женат / замужем                 0      M   сотрудник     0  267628.550329   \n",
       "4  гражданский брак                 1      F   пенсионер     0  158616.077870   \n",
       "5  гражданский брак                 1      M   компаньон     0  255763.565419   \n",
       "6   женат / замужем                 0      F   компаньон     0  240525.971920   \n",
       "7   женат / замужем                 0      M   сотрудник     0  135823.934197   \n",
       "8  гражданский брак                 1      F   сотрудник     0   95856.832424   \n",
       "9   женат / замужем                 0      M   сотрудник     0  144425.938277   \n",
       "\n",
       "                      purpose  \n",
       "0               покупка жилья  \n",
       "1     приобретение автомобиля  \n",
       "2               покупка жилья  \n",
       "3  дополнительное образование  \n",
       "4             сыграть свадьбу  \n",
       "5               покупка жилья  \n",
       "6           операции с жильем  \n",
       "7                 образование  \n",
       "8       на проведение свадьбы  \n",
       "9     покупка жилья для семьи  "
      ]
     },
     "execution_count": 3,
     "metadata": {},
     "output_type": "execute_result"
    }
   ],
   "source": [
    "# получение первых 10 строк таблицы data\n",
    "data.head(10)"
   ]
  },
  {
   "cell_type": "code",
   "execution_count": 4,
   "metadata": {
    "scrolled": true
   },
   "outputs": [
    {
     "name": "stdout",
     "output_type": "stream",
     "text": [
      "<class 'pandas.core.frame.DataFrame'>\n",
      "RangeIndex: 21525 entries, 0 to 21524\n",
      "Data columns (total 12 columns):\n",
      "children            21525 non-null int64\n",
      "days_employed       19351 non-null float64\n",
      "dob_years           21525 non-null int64\n",
      "education           21525 non-null object\n",
      "education_id        21525 non-null int64\n",
      "family_status       21525 non-null object\n",
      "family_status_id    21525 non-null int64\n",
      "gender              21525 non-null object\n",
      "income_type         21525 non-null object\n",
      "debt                21525 non-null int64\n",
      "total_income        19351 non-null float64\n",
      "purpose             21525 non-null object\n",
      "dtypes: float64(2), int64(5), object(5)\n",
      "memory usage: 2.0+ MB\n"
     ]
    }
   ],
   "source": [
    "# получение общей информации о данных в таблице data\n",
    "data.info()"
   ]
  },
  {
   "cell_type": "markdown",
   "metadata": {},
   "source": [
    "Общие представления о таблице есть. Теперь сделаем обзор категориальных и числовых переменных, неоходимых для исследования."
   ]
  },
  {
   "cell_type": "code",
   "execution_count": 5,
   "metadata": {
    "scrolled": true
   },
   "outputs": [
    {
     "data": {
      "text/plain": [
       " 0     14149\n",
       " 1      4818\n",
       " 2      2055\n",
       " 3       330\n",
       " 20       76\n",
       "-1        47\n",
       " 4        41\n",
       " 5         9\n",
       "Name: children, dtype: int64"
      ]
     },
     "metadata": {},
     "output_type": "display_data"
    }
   ],
   "source": [
    "# уникальные значения и количество их упоминаний в колонке children\n",
    "display(data['children'].value_counts())"
   ]
  },
  {
   "cell_type": "code",
   "execution_count": 6,
   "metadata": {
    "scrolled": false
   },
   "outputs": [
    {
     "data": {
      "text/plain": [
       "женат / замужем          12380\n",
       "гражданский брак          4177\n",
       "Не женат / не замужем     2813\n",
       "в разводе                 1195\n",
       "вдовец / вдова             960\n",
       "Name: family_status, dtype: int64"
      ]
     },
     "metadata": {},
     "output_type": "display_data"
    }
   ],
   "source": [
    "# уникальные значения и количество их упоминаний в колонке family_status\n",
    "display(data['family_status'].value_counts())"
   ]
  },
  {
   "cell_type": "code",
   "execution_count": 7,
   "metadata": {
    "scrolled": true
   },
   "outputs": [
    {
     "data": {
      "text/plain": [
       "сотрудник          11119\n",
       "компаньон           5085\n",
       "пенсионер           3856\n",
       "госслужащий         1459\n",
       "предприниматель        2\n",
       "безработный            2\n",
       "в декрете              1\n",
       "студент                1\n",
       "Name: income_type, dtype: int64"
      ]
     },
     "metadata": {},
     "output_type": "display_data"
    }
   ],
   "source": [
    "# уникальные значения и количество их упоминаний в колонке income_type\n",
    "display(data['income_type'].value_counts())\n"
   ]
  },
  {
   "cell_type": "code",
   "execution_count": 8,
   "metadata": {
    "scrolled": true
   },
   "outputs": [
    {
     "data": {
      "text/plain": [
       "свадьба                                   797\n",
       "на проведение свадьбы                     777\n",
       "сыграть свадьбу                           774\n",
       "операции с недвижимостью                  676\n",
       "покупка коммерческой недвижимости         664\n",
       "операции с жильем                         653\n",
       "покупка жилья для сдачи                   653\n",
       "операции с коммерческой недвижимостью     651\n",
       "жилье                                     647\n",
       "покупка жилья                             647\n",
       "покупка жилья для семьи                   641\n",
       "строительство собственной недвижимости    635\n",
       "недвижимость                              634\n",
       "операции со своей недвижимостью           630\n",
       "строительство жилой недвижимости          626\n",
       "покупка недвижимости                      624\n",
       "строительство недвижимости                620\n",
       "покупка своего жилья                      620\n",
       "ремонт жилью                              612\n",
       "покупка жилой недвижимости                607\n",
       "на покупку своего автомобиля              505\n",
       "заняться высшим образованием              496\n",
       "автомобиль                                495\n",
       "сделка с подержанным автомобилем          489\n",
       "свой автомобиль                           480\n",
       "на покупку подержанного автомобиля        479\n",
       "автомобили                                478\n",
       "на покупку автомобиля                     472\n",
       "дополнительное образование                462\n",
       "приобретение автомобиля                   462\n",
       "сделка с автомобилем                      455\n",
       "высшее образование                        453\n",
       "образование                               447\n",
       "получение дополнительного образования     447\n",
       "получение образования                     443\n",
       "профильное образование                    436\n",
       "получение высшего образования             426\n",
       "заняться образованием                     412\n",
       "Name: purpose, dtype: int64"
      ]
     },
     "metadata": {},
     "output_type": "display_data"
    }
   ],
   "source": [
    "# уникальные значения и количество их упоминаний в колонке 'purpose'\n",
    "display(data['purpose'].value_counts())"
   ]
  },
  {
   "cell_type": "code",
   "execution_count": 9,
   "metadata": {
    "scrolled": true
   },
   "outputs": [
    {
     "data": {
      "text/plain": [
       "0    19784\n",
       "1     1741\n",
       "Name: debt, dtype: int64"
      ]
     },
     "metadata": {},
     "output_type": "display_data"
    }
   ],
   "source": [
    "# уникальные значения и количество их упоминаний в колонке 'debt'\n",
    "display(data['debt'].value_counts())"
   ]
  },
  {
   "cell_type": "code",
   "execution_count": 10,
   "metadata": {
    "scrolled": true
   },
   "outputs": [
    {
     "data": {
      "text/plain": [
       "count     19351.000000\n",
       "mean      63046.497661\n",
       "std      140827.311974\n",
       "min      -18388.949901\n",
       "25%       -2747.423625\n",
       "50%       -1203.369529\n",
       "75%        -291.095954\n",
       "max      401755.400475\n",
       "Name: days_employed, dtype: float64"
      ]
     },
     "execution_count": 10,
     "metadata": {},
     "output_type": "execute_result"
    }
   ],
   "source": [
    "# обзор числовых значений в колонке 'days_employed'\n",
    "data['days_employed'].describe()"
   ]
  },
  {
   "cell_type": "code",
   "execution_count": 11,
   "metadata": {
    "scrolled": true
   },
   "outputs": [
    {
     "data": {
      "text/plain": [
       "count    1.935100e+04\n",
       "mean     1.674223e+05\n",
       "std      1.029716e+05\n",
       "min      2.066726e+04\n",
       "25%      1.030532e+05\n",
       "50%      1.450179e+05\n",
       "75%      2.034351e+05\n",
       "max      2.265604e+06\n",
       "Name: total_income, dtype: float64"
      ]
     },
     "execution_count": 11,
     "metadata": {},
     "output_type": "execute_result"
    }
   ],
   "source": [
    "# обзор числовых значений в колонке 'total_income'\n",
    "data['total_income'].describe()"
   ]
  },
  {
   "cell_type": "markdown",
   "metadata": {},
   "source": [
    "Итак, в таблице семь столбцов. \n",
    "\n",
    "Согласно документации к данным:\n",
    "* `children` — количество детей в семье;\n",
    "* `days_employed` — общий трудовой стаж в днях\n",
    "* `dob_years` — возраст клиента в годах\n",
    "* `education` — уровень образования клиента\n",
    "* `education_id` — идентификатор уровня образования\n",
    "* `family_status` — семейное положение\n",
    "* `family_status_id` — идентификатор семейного положения\n",
    "* `gender` — пол клиента\n",
    "* `income_type` — тип занятости\n",
    "* `debt` — имел ли задолженность по возврату кредитов\n",
    "* `total_income` — ежемесячный доход\n",
    "* `purpose` — цель получения кредита\n",
    "\n",
    "В названиях колонок нарушения стиля не наблюдается."
   ]
  },
  {
   "cell_type": "markdown",
   "metadata": {},
   "source": [
    "**Вывод**"
   ]
  },
  {
   "cell_type": "markdown",
   "metadata": {},
   "source": [
    "В таблице представлена статистика о платёжеспособности клиентов банка. Каждая строка отражает персональную информацию каждого заемщика - семейное положение, образование, информация о трудовой деятельности и доходах, цель получения кредита.\n",
    "\n",
    "Главная цель проекта - выяснить влияет ли семейное положение и количество детей клиента на факт погашения кредита в срок.\n",
    " \n",
    "Предварительно можно утверждать, что, данных достаточно для выяснения поставленного вопроса.\n",
    "На данном этапе выявлены следующие замечания в таблице:\n",
    "1. Встречаются пропуски в данных в колонках  `total_income` и `days_employed`.\n",
    "2. В колонке 'children' возможны опечатки ( 76 строк со значениями 20 детей, что не похоже на действительность).\n",
    "3. В колонке 'purpose' и 'education' встречаются дубликаты, которые необходимо будет обработать. \n",
    "4. В колонке \"days_employed\"  в данных  встречаться артефакты — значения, которые не отражают действительность.Это можно наблюдать с отрицательным количеством дней трудового стажа. Также, опираясь на максимальное значение, есть предположение, что не все данные в этой колонке обозначены в именно в днях.\n",
    "\n",
    "Чтобы двигаться дальше, нужно  описать возможные причины появления проблем в данных и обработать их."
   ]
  },
  {
   "cell_type": "markdown",
   "metadata": {},
   "source": [
    "## Шаг 2. Предобработка данных"
   ]
  },
  {
   "cell_type": "markdown",
   "metadata": {},
   "source": [
    "### Обработка пропусков"
   ]
  },
  {
   "cell_type": "markdown",
   "metadata": {},
   "source": [
    "Сначала призведем подсчет пропущенных значений в таблице."
   ]
  },
  {
   "cell_type": "code",
   "execution_count": 12,
   "metadata": {
    "scrolled": false
   },
   "outputs": [
    {
     "data": {
      "text/plain": [
       "children               0\n",
       "days_employed       2174\n",
       "dob_years              0\n",
       "education              0\n",
       "education_id           0\n",
       "family_status          0\n",
       "family_status_id       0\n",
       "gender                 0\n",
       "income_type            0\n",
       "debt                   0\n",
       "total_income        2174\n",
       "purpose                0\n",
       "dtype: int64"
      ]
     },
     "execution_count": 12,
     "metadata": {},
     "output_type": "execute_result"
    }
   ],
   "source": [
    "# подсчёт пропусков\n",
    "data.isna().sum()"
   ]
  },
  {
   "cell_type": "markdown",
   "metadata": {},
   "source": [
    "\n",
    "Пропущенные значения выявлены в двух столбцах - 'days_employed' и 'total_income'. В каждой строке 2174 пропущенных значения т.е. около 10 % пропущенных значений. \n",
    "\n",
    "Но прежде чем обрабатывать пропуски в колонке 'days_employed', необходимо исправить некоррекные  данные. \n",
    "Отрицательные значения возьмем по модулю. А для слишком больших значений ( которые предположительно выражены не в днях, а в часах), определим возможный порог по максимальному возрасту клиента."
   ]
  },
  {
   "cell_type": "code",
   "execution_count": 13,
   "metadata": {
    "scrolled": true
   },
   "outputs": [],
   "source": [
    "# берем значения по модулю\n",
    "data['days_employed'] = data['days_employed'].apply(abs)"
   ]
  },
  {
   "cell_type": "code",
   "execution_count": 14,
   "metadata": {
    "scrolled": true
   },
   "outputs": [
    {
     "name": "stdout",
     "output_type": "stream",
     "text": [
      "Максимальное значение возраста клиента 75 ,значит возьмем ориентировочный порог -  21900\n"
     ]
    }
   ],
   "source": [
    "# по максимальному значению возраста берем ориентровочный порог, для перевода значений в часах в дни\n",
    "print(\"Максимальное значение возраста клиента\",data['dob_years'].max(),\",значит возьмем ориентировочный порог - \",(data['dob_years'].max()-15)*365)\n"
   ]
  },
  {
   "cell_type": "code",
   "execution_count": 15,
   "metadata": {
    "scrolled": true
   },
   "outputs": [
    {
     "data": {
      "text/plain": [
       "count    19351.000000\n",
       "mean      4641.641176\n",
       "std       5355.964289\n",
       "min         24.141633\n",
       "25%        927.009265\n",
       "50%       2194.220567\n",
       "75%       5537.882441\n",
       "max      18388.949901\n",
       "Name: days_employed, dtype: float64"
      ]
     },
     "execution_count": 15,
     "metadata": {},
     "output_type": "execute_result"
    }
   ],
   "source": [
    "#осуществляем певевод значений по порогу и выведем результат изменений\n",
    "data.loc[data['days_employed'] > 21900, 'days_employed'] = data.loc[data['days_employed'] >21900, 'days_employed'] / 24\n",
    "data['days_employed'].describe()"
   ]
  },
  {
   "cell_type": "markdown",
   "metadata": {},
   "source": [
    "Замена некорректных значений выполена.\n",
    "Выясним как распределены пропуски по категориям,чтобы понять какими значениями заполять пропуски."
   ]
  },
  {
   "cell_type": "code",
   "execution_count": 16,
   "metadata": {
    "scrolled": false
   },
   "outputs": [
    {
     "data": {
      "text/html": [
       "<div>\n",
       "<style scoped>\n",
       "    .dataframe tbody tr th:only-of-type {\n",
       "        vertical-align: middle;\n",
       "    }\n",
       "\n",
       "    .dataframe tbody tr th {\n",
       "        vertical-align: top;\n",
       "    }\n",
       "\n",
       "    .dataframe thead th {\n",
       "        text-align: right;\n",
       "    }\n",
       "</style>\n",
       "<table border=\"1\" class=\"dataframe\">\n",
       "  <thead>\n",
       "    <tr style=\"text-align: right;\">\n",
       "      <th></th>\n",
       "      <th>missing_days_employed</th>\n",
       "      <th>missing_total_income</th>\n",
       "    </tr>\n",
       "    <tr>\n",
       "      <th>income_type</th>\n",
       "      <th></th>\n",
       "      <th></th>\n",
       "    </tr>\n",
       "  </thead>\n",
       "  <tbody>\n",
       "    <tr>\n",
       "      <td>предприниматель</td>\n",
       "      <td>0.500000</td>\n",
       "      <td>0.500000</td>\n",
       "    </tr>\n",
       "    <tr>\n",
       "      <td>пенсионер</td>\n",
       "      <td>0.107106</td>\n",
       "      <td>0.107106</td>\n",
       "    </tr>\n",
       "    <tr>\n",
       "      <td>госслужащий</td>\n",
       "      <td>0.100754</td>\n",
       "      <td>0.100754</td>\n",
       "    </tr>\n",
       "    <tr>\n",
       "      <td>компаньон</td>\n",
       "      <td>0.099902</td>\n",
       "      <td>0.099902</td>\n",
       "    </tr>\n",
       "    <tr>\n",
       "      <td>сотрудник</td>\n",
       "      <td>0.099379</td>\n",
       "      <td>0.099379</td>\n",
       "    </tr>\n",
       "    <tr>\n",
       "      <td>безработный</td>\n",
       "      <td>0.000000</td>\n",
       "      <td>0.000000</td>\n",
       "    </tr>\n",
       "    <tr>\n",
       "      <td>в декрете</td>\n",
       "      <td>0.000000</td>\n",
       "      <td>0.000000</td>\n",
       "    </tr>\n",
       "    <tr>\n",
       "      <td>студент</td>\n",
       "      <td>0.000000</td>\n",
       "      <td>0.000000</td>\n",
       "    </tr>\n",
       "  </tbody>\n",
       "</table>\n",
       "</div>"
      ],
      "text/plain": [
       "                 missing_days_employed  missing_total_income\n",
       "income_type                                                 \n",
       "предприниматель               0.500000              0.500000\n",
       "пенсионер                     0.107106              0.107106\n",
       "госслужащий                   0.100754              0.100754\n",
       "компаньон                     0.099902              0.099902\n",
       "сотрудник                     0.099379              0.099379\n",
       "безработный                   0.000000              0.000000\n",
       "в декрете                     0.000000              0.000000\n",
       "студент                       0.000000              0.000000"
      ]
     },
     "metadata": {},
     "output_type": "display_data"
    },
    {
     "data": {
      "text/html": [
       "<div>\n",
       "<style scoped>\n",
       "    .dataframe tbody tr th:only-of-type {\n",
       "        vertical-align: middle;\n",
       "    }\n",
       "\n",
       "    .dataframe tbody tr th {\n",
       "        vertical-align: top;\n",
       "    }\n",
       "\n",
       "    .dataframe thead th {\n",
       "        text-align: right;\n",
       "    }\n",
       "</style>\n",
       "<table border=\"1\" class=\"dataframe\">\n",
       "  <thead>\n",
       "    <tr style=\"text-align: right;\">\n",
       "      <th></th>\n",
       "      <th>missing_days_employed</th>\n",
       "      <th>missing_total_income</th>\n",
       "    </tr>\n",
       "    <tr>\n",
       "      <th>family_status</th>\n",
       "      <th></th>\n",
       "      <th></th>\n",
       "    </tr>\n",
       "  </thead>\n",
       "  <tbody>\n",
       "    <tr>\n",
       "      <td>гражданский брак</td>\n",
       "      <td>0.105818</td>\n",
       "      <td>0.105818</td>\n",
       "    </tr>\n",
       "    <tr>\n",
       "      <td>Не женат / не замужем</td>\n",
       "      <td>0.102382</td>\n",
       "      <td>0.102382</td>\n",
       "    </tr>\n",
       "    <tr>\n",
       "      <td>женат / замужем</td>\n",
       "      <td>0.099919</td>\n",
       "      <td>0.099919</td>\n",
       "    </tr>\n",
       "    <tr>\n",
       "      <td>вдовец / вдова</td>\n",
       "      <td>0.098958</td>\n",
       "      <td>0.098958</td>\n",
       "    </tr>\n",
       "    <tr>\n",
       "      <td>в разводе</td>\n",
       "      <td>0.093724</td>\n",
       "      <td>0.093724</td>\n",
       "    </tr>\n",
       "  </tbody>\n",
       "</table>\n",
       "</div>"
      ],
      "text/plain": [
       "                       missing_days_employed  missing_total_income\n",
       "family_status                                                     \n",
       "гражданский брак                    0.105818              0.105818\n",
       "Не женат / не замужем               0.102382              0.102382\n",
       "женат / замужем                     0.099919              0.099919\n",
       "вдовец / вдова                      0.098958              0.098958\n",
       "в разводе                           0.093724              0.093724"
      ]
     },
     "metadata": {},
     "output_type": "display_data"
    }
   ],
   "source": [
    "# логический признак отсутсвия данных- распределение пропусков в доходах и стажах\n",
    "data['missing_days_employed'] = data['days_employed'].isna()\n",
    "data['missing_total_income'] = data['total_income'].isna()\n",
    "display(data.groupby('income_type').agg({'missing_days_employed': \"mean\",'missing_total_income':'mean'}).sort_values(by='missing_days_employed',ascending=False))\n",
    "display(data.groupby('family_status').agg({'missing_days_employed': \"mean\",'missing_total_income':'mean'}).sort_values(by='missing_days_employed',ascending=False))"
   ]
  },
  {
   "cell_type": "markdown",
   "metadata": {},
   "source": [
    "Проанализировав  долю пропусков в каждой категории можно сделать вывод, что пропуски не зависят от семейного положения и явно зависят от типа дохода. Во второй таблице в каждой категории доля составляет 0.09-0.1 (т.е. порядка 10%). То-есть пропуски равномерно распределены по всем категориям семейного положения. В первой же таблице видно, что равномерность нарушается.\n",
    "\n",
    "Также категории с пропусками явно совпадают для обоих столбцов, поэтому принято решение заполнить пропуски в обоих столбцах медианой с группировкой по типам дохода."
   ]
  },
  {
   "cell_type": "code",
   "execution_count": 17,
   "metadata": {
    "scrolled": true
   },
   "outputs": [],
   "source": [
    "# заполнение пропусков в столбце 'days_employed' с группировкой по типам дохода \n",
    "for income in data['income_type'].unique():\n",
    "    median = data.loc[data['income_type']==income,'days_employed'].median()\n",
    "    data.loc[(data['days_employed'].isna()) &( data['income_type'] == income),'days_employed'] = median\n",
    "      "
   ]
  },
  {
   "cell_type": "code",
   "execution_count": 18,
   "metadata": {
    "scrolled": true
   },
   "outputs": [],
   "source": [
    "# заполнение пропусков в столбце 'total_income' с группировкой по типам дохода \n",
    "for income in data['income_type'].unique():\n",
    "    median = data.loc[data['income_type'] == income,'total_income'].median()\n",
    "    data.loc[(data['total_income'].isna()) &( data['income_type'] == income),'total_income'] = median"
   ]
  },
  {
   "cell_type": "markdown",
   "metadata": {},
   "source": [
    "Замена значений выполнена. Проверяем не осталось ли в таблице пропусков."
   ]
  },
  {
   "cell_type": "code",
   "execution_count": 19,
   "metadata": {
    "scrolled": true
   },
   "outputs": [
    {
     "data": {
      "text/plain": [
       "children                 0\n",
       "days_employed            0\n",
       "dob_years                0\n",
       "education                0\n",
       "education_id             0\n",
       "family_status            0\n",
       "family_status_id         0\n",
       "gender                   0\n",
       "income_type              0\n",
       "debt                     0\n",
       "total_income             0\n",
       "purpose                  0\n",
       "missing_days_employed    0\n",
       "missing_total_income     0\n",
       "dtype: int64"
      ]
     },
     "execution_count": 19,
     "metadata": {},
     "output_type": "execute_result"
    }
   ],
   "source": [
    "# подсчет пропусков\n",
    "data.isna().sum()"
   ]
  },
  {
   "cell_type": "markdown",
   "metadata": {},
   "source": [
    "**Вывод**"
   ]
  },
  {
   "cell_type": "markdown",
   "metadata": {},
   "source": [
    "Изначально в таблице были выявлены пропущенные значения в двух столбцах - 'days_employed' и 'total_income'. В каждой строке 2174 пропущенных значения т.е. около 10 % пропущенных значений.\n",
    "\n",
    "В связи с тем, что одним из вопросов исследования является определение зависимости между уровнем дохода и возвратом кредита в срок, данные из столбцов с пропусками нам будут необходимы для дальнейшего анализа.  \n",
    "\n",
    "Заполнение пропусков в столбце 'total_income' и 'days_employed' было осуществлено с группировкой по типам дохода.\n",
    "\n",
    "Так как эти столбцы связаны с трудовой деятельностью, возможная причина появления пропусков связана с видом деятельности ( большинство пропусков было выявлено среди предпринимателей), с определенным социальным статусом (пенсионер,госслужащий), либо с отсутствием подтверждения данных о доходе."
   ]
  },
  {
   "cell_type": "markdown",
   "metadata": {},
   "source": [
    "### Замена типа данных"
   ]
  },
  {
   "cell_type": "markdown",
   "metadata": {},
   "source": [
    "В колонках 'days_employed' данные представлены в числовом типе float64 (вещественное число).\n",
    "\n",
    "Так как значения в столбце 'days_employed' выражены в днях, заменим вещественный тип данных на целочисленный."
   ]
  },
  {
   "cell_type": "code",
   "execution_count": 20,
   "metadata": {
    "scrolled": true
   },
   "outputs": [],
   "source": [
    "# замена типа данных на integer (целое число) в столбце 'days_employed':\n",
    "data['days_employed'] = data['days_employed'].astype('int')"
   ]
  },
  {
   "cell_type": "code",
   "execution_count": 21,
   "metadata": {
    "scrolled": false
   },
   "outputs": [
    {
     "data": {
      "text/plain": [
       "children                   int64\n",
       "days_employed              int64\n",
       "dob_years                  int64\n",
       "education                 object\n",
       "education_id               int64\n",
       "family_status             object\n",
       "family_status_id           int64\n",
       "gender                    object\n",
       "income_type               object\n",
       "debt                       int64\n",
       "total_income             float64\n",
       "purpose                   object\n",
       "missing_days_employed       bool\n",
       "missing_total_income        bool\n",
       "dtype: object"
      ]
     },
     "execution_count": 21,
     "metadata": {},
     "output_type": "execute_result"
    }
   ],
   "source": [
    "#проверка замены типа данных\n",
    "data.dtypes"
   ]
  },
  {
   "cell_type": "markdown",
   "metadata": {},
   "source": [
    "**Вывод**"
   ]
  },
  {
   "cell_type": "markdown",
   "metadata": {},
   "source": [
    "Замена вещественного типа данных на целочисленный в колонках 'days_employed' была призведена методом astype(),который универсален и используется для перевода любых данных в нужный тип значения. "
   ]
  },
  {
   "cell_type": "markdown",
   "metadata": {},
   "source": [
    "### Обработка дубликатов"
   ]
  },
  {
   "cell_type": "code",
   "execution_count": 22,
   "metadata": {
    "scrolled": true
   },
   "outputs": [
    {
     "data": {
      "text/plain": [
       "54"
      ]
     },
     "execution_count": 22,
     "metadata": {},
     "output_type": "execute_result"
    }
   ],
   "source": [
    "#изначальное количество дубликатов в таблице\n",
    "data.duplicated().sum()"
   ]
  },
  {
   "cell_type": "markdown",
   "metadata": {},
   "source": [
    "Изначально в таблице выявлено 54 дубликата. Но при первоначальном обзоре данных было выявлено,что \n",
    "в колонке 'education' буквы отличаются регистром, что может стать причиной пропусков явных дубликатов в таблице.\n",
    "\n",
    "Проверим эту теорию.Переведем значения столбца education в нижний регистр."
   ]
  },
  {
   "cell_type": "code",
   "execution_count": 23,
   "metadata": {
    "scrolled": true
   },
   "outputs": [
    {
     "data": {
      "text/plain": [
       "array(['высшее', 'среднее', 'Среднее', 'СРЕДНЕЕ', 'ВЫСШЕЕ',\n",
       "       'неоконченное высшее', 'начальное', 'Высшее',\n",
       "       'НЕОКОНЧЕННОЕ ВЫСШЕЕ', 'Неоконченное высшее', 'НАЧАЛЬНОЕ',\n",
       "       'Начальное', 'Ученая степень', 'УЧЕНАЯ СТЕПЕНЬ', 'ученая степень'],\n",
       "      dtype=object)"
      ]
     },
     "execution_count": 23,
     "metadata": {},
     "output_type": "execute_result"
    }
   ],
   "source": [
    "# уникальные значения в столбце 'education'\n",
    "data['education'].unique()"
   ]
  },
  {
   "cell_type": "code",
   "execution_count": 24,
   "metadata": {
    "scrolled": true
   },
   "outputs": [],
   "source": [
    "# уникальные значения в столбце 'education' после перевода в нижний регистр\n",
    "data['education']=data['education'].str.lower()"
   ]
  },
  {
   "cell_type": "code",
   "execution_count": 25,
   "metadata": {
    "scrolled": true
   },
   "outputs": [
    {
     "data": {
      "text/plain": [
       "71"
      ]
     },
     "execution_count": 25,
     "metadata": {},
     "output_type": "execute_result"
    }
   ],
   "source": [
    "# количество дубликатов после обработки\n",
    "data.duplicated().sum()"
   ]
  },
  {
   "cell_type": "markdown",
   "metadata": {},
   "source": [
    "Действительно, после перевода значений в нижний регистр в столбце education, дубликатов в общей таблице обнаружено больше. \n",
    "\n",
    "Избавимся от дубликатов методом drop_duplicates и обновим индексы."
   ]
  },
  {
   "cell_type": "code",
   "execution_count": 26,
   "metadata": {
    "scrolled": true
   },
   "outputs": [],
   "source": [
    "#удаление дубликатов и обновление индексов \n",
    "data=data.drop_duplicates().reset_index(drop = True)"
   ]
  },
  {
   "cell_type": "code",
   "execution_count": 27,
   "metadata": {
    "scrolled": true
   },
   "outputs": [
    {
     "data": {
      "text/plain": [
       "0"
      ]
     },
     "execution_count": 27,
     "metadata": {},
     "output_type": "execute_result"
    }
   ],
   "source": [
    "# проверка на наличие дубликатов\n",
    "data.duplicated().sum()"
   ]
  },
  {
   "cell_type": "markdown",
   "metadata": {},
   "source": [
    "**Вывод**"
   ]
  },
  {
   "cell_type": "markdown",
   "metadata": {},
   "source": [
    "В таблице был выявлен 71 дубликат, которые были удалены методом drop_duplicates().\n",
    "\n",
    "Возможные причины возникновения дубликатов — повторные представления, неправильное соединение данных из разных источников, ошибки пользователя при занесении информации."
   ]
  },
  {
   "cell_type": "markdown",
   "metadata": {},
   "source": [
    "### Лемматизация"
   ]
  },
  {
   "cell_type": "markdown",
   "metadata": {},
   "source": [
    "Для дальнейшего анализа в значениях столбца с целями получения кредита необходимо лемматизировать значения- т.е. привести все слова к их словарной форме (лемме). Для этого воспользуемся функцией лемматизации на русском языке — pymystem3."
   ]
  },
  {
   "cell_type": "code",
   "execution_count": 28,
   "metadata": {
    "scrolled": true
   },
   "outputs": [],
   "source": [
    "# импортируем pymystem3 :\n",
    "from pymystem3 import Mystem\n",
    "m = Mystem() "
   ]
  },
  {
   "cell_type": "code",
   "execution_count": 29,
   "metadata": {
    "scrolled": true
   },
   "outputs": [],
   "source": [
    "# получение уникальных значений из столбца purpose и сохранение в переменную \"purpose_str\" \n",
    "purpose_str = data['purpose'].unique()\n",
    "# склеивание списка значений purpose_str в одну строку методом join для дальнейшей лемматизации\n",
    "purpose = \" \".join(purpose_str)"
   ]
  },
  {
   "cell_type": "code",
   "execution_count": 30,
   "metadata": {
    "scrolled": true
   },
   "outputs": [
    {
     "name": "stdout",
     "output_type": "stream",
     "text": [
      "['покупка', ' ', 'жилье', ' ', 'приобретение', ' ', 'автомобиль', ' ', 'дополнительный', ' ', 'образование', ' ', 'сыграть', ' ', 'свадьба', ' ', 'операция', ' ', 'с', ' ', 'жилье', ' ', 'образование', ' ', 'на', ' ', 'проведение', ' ', 'свадьба', ' ', 'покупка', ' ', 'жилье', ' ', 'для', ' ', 'семья', ' ', 'покупка', ' ', 'недвижимость', ' ', 'покупка', ' ', 'коммерческий', ' ', 'недвижимость', ' ', 'покупка', ' ', 'жилой', ' ', 'недвижимость', ' ', 'строительство', ' ', 'собственный', ' ', 'недвижимость', ' ', 'недвижимость', ' ', 'строительство', ' ', 'недвижимость', ' ', 'на', ' ', 'покупка', ' ', 'подержать', ' ', 'автомобиль', ' ', 'на', ' ', 'покупка', ' ', 'свой', ' ', 'автомобиль', ' ', 'операция', ' ', 'с', ' ', 'коммерческий', ' ', 'недвижимость', ' ', 'строительство', ' ', 'жилой', ' ', 'недвижимость', ' ', 'жилье', ' ', 'операция', ' ', 'со', ' ', 'свой', ' ', 'недвижимость', ' ', 'автомобиль', ' ', 'заниматься', ' ', 'образование', ' ', 'сделка', ' ', 'с', ' ', 'подержать', ' ', 'автомобиль', ' ', 'получение', ' ', 'образование', ' ', 'автомобиль', ' ', 'свадьба', ' ', 'получение', ' ', 'дополнительный', ' ', 'образование', ' ', 'покупка', ' ', 'свой', ' ', 'жилье', ' ', 'операция', ' ', 'с', ' ', 'недвижимость', ' ', 'получение', ' ', 'высокий', ' ', 'образование', ' ', 'свой', ' ', 'автомобиль', ' ', 'сделка', ' ', 'с', ' ', 'автомобиль', ' ', 'профильный', ' ', 'образование', ' ', 'высокий', ' ', 'образование', ' ', 'покупка', ' ', 'жилье', ' ', 'для', ' ', 'сдача', ' ', 'на', ' ', 'покупка', ' ', 'автомобиль', ' ', 'ремонт', ' ', 'жилье', ' ', 'заниматься', ' ', 'высокий', ' ', 'образование', '\\n']\n"
     ]
    }
   ],
   "source": [
    "# лемматизация \n",
    "lemmas = m.lemmatize(purpose)\n",
    "print(lemmas)"
   ]
  },
  {
   "cell_type": "code",
   "execution_count": 31,
   "metadata": {
    "scrolled": true
   },
   "outputs": [
    {
     "name": "stdout",
     "output_type": "stream",
     "text": [
      "Counter({' ': 96, 'покупка': 10, 'недвижимость': 10, 'автомобиль': 9, 'образование': 9, 'жилье': 7, 'с': 5, 'операция': 4, 'на': 4, 'свой': 4, 'свадьба': 3, 'строительство': 3, 'получение': 3, 'высокий': 3, 'дополнительный': 2, 'для': 2, 'коммерческий': 2, 'жилой': 2, 'подержать': 2, 'заниматься': 2, 'сделка': 2, 'приобретение': 1, 'сыграть': 1, 'проведение': 1, 'семья': 1, 'собственный': 1, 'со': 1, 'профильный': 1, 'сдача': 1, 'ремонт': 1, '\\n': 1})\n"
     ]
    }
   ],
   "source": [
    "# подсчёт числа упоминаний каждого из слов в тексте\n",
    "from collections import Counter\n",
    "print(Counter(lemmas)) "
   ]
  },
  {
   "cell_type": "markdown",
   "metadata": {},
   "source": [
    "Выделяем из списка самые частые существительные : 'недвижимость' , 'жилье', 'автомобиль', 'образование','свадьба'. Берем их за основу при распределении на категории и создаем функцию для распределения."
   ]
  },
  {
   "cell_type": "code",
   "execution_count": 32,
   "metadata": {
    "scrolled": true
   },
   "outputs": [],
   "source": [
    "# создадим функцию для проверки каждого значения столбца purpose и присвоение соответсвующей категории\n",
    "def categorize(purpose):\n",
    "    purpose_lemmas = m.lemmatize(purpose)\n",
    "    if 'недвижимость' in purpose_lemmas or 'жилье' in purpose_lemmas:\n",
    "        return 'недвижимость'\n",
    "    if 'автомобиль' in purpose_lemmas:\n",
    "        return 'автомобиль'\n",
    "    if 'образование' in purpose_lemmas:\n",
    "        return 'образование'\n",
    "    if 'свадьба' in purpose_lemmas:\n",
    "        return 'свадьба'\n",
    "    return 'прочее'\n",
    "\n"
   ]
  },
  {
   "cell_type": "code",
   "execution_count": 33,
   "metadata": {
    "scrolled": true
   },
   "outputs": [
    {
     "data": {
      "text/html": [
       "<div>\n",
       "<style scoped>\n",
       "    .dataframe tbody tr th:only-of-type {\n",
       "        vertical-align: middle;\n",
       "    }\n",
       "\n",
       "    .dataframe tbody tr th {\n",
       "        vertical-align: top;\n",
       "    }\n",
       "\n",
       "    .dataframe thead th {\n",
       "        text-align: right;\n",
       "    }\n",
       "</style>\n",
       "<table border=\"1\" class=\"dataframe\">\n",
       "  <thead>\n",
       "    <tr style=\"text-align: right;\">\n",
       "      <th></th>\n",
       "      <th>category</th>\n",
       "      <th>purpose</th>\n",
       "    </tr>\n",
       "  </thead>\n",
       "  <tbody>\n",
       "    <tr>\n",
       "      <td>0</td>\n",
       "      <td>недвижимость</td>\n",
       "      <td>покупка жилья</td>\n",
       "    </tr>\n",
       "    <tr>\n",
       "      <td>1</td>\n",
       "      <td>автомобиль</td>\n",
       "      <td>приобретение автомобиля</td>\n",
       "    </tr>\n",
       "    <tr>\n",
       "      <td>2</td>\n",
       "      <td>недвижимость</td>\n",
       "      <td>покупка жилья</td>\n",
       "    </tr>\n",
       "    <tr>\n",
       "      <td>3</td>\n",
       "      <td>образование</td>\n",
       "      <td>дополнительное образование</td>\n",
       "    </tr>\n",
       "    <tr>\n",
       "      <td>4</td>\n",
       "      <td>свадьба</td>\n",
       "      <td>сыграть свадьбу</td>\n",
       "    </tr>\n",
       "    <tr>\n",
       "      <td>5</td>\n",
       "      <td>недвижимость</td>\n",
       "      <td>покупка жилья</td>\n",
       "    </tr>\n",
       "    <tr>\n",
       "      <td>6</td>\n",
       "      <td>недвижимость</td>\n",
       "      <td>операции с жильем</td>\n",
       "    </tr>\n",
       "    <tr>\n",
       "      <td>7</td>\n",
       "      <td>образование</td>\n",
       "      <td>образование</td>\n",
       "    </tr>\n",
       "    <tr>\n",
       "      <td>8</td>\n",
       "      <td>свадьба</td>\n",
       "      <td>на проведение свадьбы</td>\n",
       "    </tr>\n",
       "    <tr>\n",
       "      <td>9</td>\n",
       "      <td>недвижимость</td>\n",
       "      <td>покупка жилья для семьи</td>\n",
       "    </tr>\n",
       "  </tbody>\n",
       "</table>\n",
       "</div>"
      ],
      "text/plain": [
       "       category                     purpose\n",
       "0  недвижимость               покупка жилья\n",
       "1    автомобиль     приобретение автомобиля\n",
       "2  недвижимость               покупка жилья\n",
       "3   образование  дополнительное образование\n",
       "4       свадьба             сыграть свадьбу\n",
       "5  недвижимость               покупка жилья\n",
       "6  недвижимость           операции с жильем\n",
       "7   образование                 образование\n",
       "8       свадьба       на проведение свадьбы\n",
       "9  недвижимость     покупка жилья для семьи"
      ]
     },
     "execution_count": 33,
     "metadata": {},
     "output_type": "execute_result"
    }
   ],
   "source": [
    "#создание нового столбца для обозначения категории с помощью метода apply и ранее созданной функции \n",
    "data['category'] = data['purpose'].apply(categorize)\n",
    "#выведем 10 первых значений на экран для наглядности выполнения функции\n",
    "(data.loc[:,['category','purpose']]).head(10)"
   ]
  },
  {
   "cell_type": "markdown",
   "metadata": {},
   "source": [
    "**Вывод**"
   ]
  },
  {
   "cell_type": "markdown",
   "metadata": {},
   "source": [
    "В связи с тем, что в столбце purpose, были обнаружены значения, записанные в разных формах, но которые по факту имели одинаковый смысл, возникла необходимость прибегнуть к лемматизации. \n",
    "\n",
    "После обработки данных столбца мы добавили новый столбец \"category\" с распределением по самым популярным причинам получения займа -  'недвижимость' , 'жилье', 'автомобиль', 'образование','свадьба', с которым будет легче работать при ответе на вопрос о зависимости причины кридита и невозврата его в срок."
   ]
  },
  {
   "cell_type": "markdown",
   "metadata": {},
   "source": [
    "### Категоризация данных"
   ]
  },
  {
   "cell_type": "markdown",
   "metadata": {},
   "source": [
    "В этом пункте исследуем то, какие уникальные значения есть в категориальных столбцах в датасете."
   ]
  },
  {
   "cell_type": "code",
   "execution_count": 34,
   "metadata": {
    "scrolled": true
   },
   "outputs": [
    {
     "data": {
      "text/plain": [
       " 0     14091\n",
       " 1      4808\n",
       " 2      2052\n",
       " 3       330\n",
       " 20       76\n",
       "-1        47\n",
       " 4        41\n",
       " 5         9\n",
       "Name: children, dtype: int64"
      ]
     },
     "metadata": {},
     "output_type": "display_data"
    }
   ],
   "source": [
    "display(data['children'].value_counts())"
   ]
  },
  {
   "cell_type": "markdown",
   "metadata": {},
   "source": [
    "В столбце 'children' выявлены возможные опечатки. Для дальнейшего анализа проделаем следующие действия: сроки со значением 20  меняем на значение 2 ( тк в этом случает высокая вероятность опечатки); строки со значением -1 меняем на значение - 0 (тк возможно, эта ошибка связана с различным форматом записи)."
   ]
  },
  {
   "cell_type": "code",
   "execution_count": 35,
   "metadata": {
    "scrolled": true
   },
   "outputs": [
    {
     "data": {
      "text/plain": [
       "0    14138\n",
       "1     4808\n",
       "2     2128\n",
       "3      330\n",
       "4       41\n",
       "5        9\n",
       "Name: children, dtype: int64"
      ]
     },
     "metadata": {},
     "output_type": "display_data"
    }
   ],
   "source": [
    "# замена значений и вывод уникальных значений после обработки\n",
    "data['children'] =  data['children'].replace(-1, 0)\n",
    "data['children'] =  data['children'].replace(20, 2)\n",
    "display(data['children'].value_counts())"
   ]
  },
  {
   "cell_type": "markdown",
   "metadata": {},
   "source": [
    "В столбце children некорректных значений не осталось, теперь данные выглядят более правдоподобно.\n",
    "\n",
    "Далее необходимо разбить столбец с ежемесячным доходом 'total_income' на категории (низкий,средний, высокий) для того, чтобы далее использовать эту информацию при определении как зависит возвращаемость кредита для каждой категории."
   ]
  },
  {
   "cell_type": "code",
   "execution_count": 36,
   "metadata": {
    "scrolled": true
   },
   "outputs": [
    {
     "name": "stdout",
     "output_type": "stream",
     "text": [
      "142594.39684740017\n"
     ]
    },
    {
     "data": {
      "text/plain": [
       "count    2.145400e+04\n",
       "mean     1.653201e+05\n",
       "std      9.818730e+04\n",
       "min      2.066726e+04\n",
       "25%      1.076239e+05\n",
       "50%      1.425944e+05\n",
       "75%      1.958209e+05\n",
       "max      2.265604e+06\n",
       "Name: total_income, dtype: float64"
      ]
     },
     "execution_count": 36,
     "metadata": {},
     "output_type": "execute_result"
    }
   ],
   "source": [
    "# посмотрим еще раз на столбец total_income методом describe и определим медиану методом median\n",
    "print(data['total_income'].median())\n",
    "data['total_income'].describe()"
   ]
  },
  {
   "cell_type": "markdown",
   "metadata": {},
   "source": [
    "На выходе получили следующие значения дохода : min - 20 667, max - 2 265 604, среднее - 165 320, медиана - 142 594. На основе этих данных распределим клиентов на категории так:\n",
    "* клиенты с доходом до 80 000 попадают в категорию низкий\n",
    "* клиенты с доходом от 80 000 до 250 000 попадают в категорию средний\n",
    "* клиенты с доходом  от 250 000 попадают в категорию высокий\n",
    "\n",
    "Напищем функцию для категоризации данных столбца с доходами."
   ]
  },
  {
   "cell_type": "code",
   "execution_count": 37,
   "metadata": {
    "scrolled": true
   },
   "outputs": [
    {
     "data": {
      "text/html": [
       "<div>\n",
       "<style scoped>\n",
       "    .dataframe tbody tr th:only-of-type {\n",
       "        vertical-align: middle;\n",
       "    }\n",
       "\n",
       "    .dataframe tbody tr th {\n",
       "        vertical-align: top;\n",
       "    }\n",
       "\n",
       "    .dataframe thead th {\n",
       "        text-align: right;\n",
       "    }\n",
       "</style>\n",
       "<table border=\"1\" class=\"dataframe\">\n",
       "  <thead>\n",
       "    <tr style=\"text-align: right;\">\n",
       "      <th></th>\n",
       "      <th>income_level</th>\n",
       "      <th>total_income</th>\n",
       "    </tr>\n",
       "  </thead>\n",
       "  <tbody>\n",
       "    <tr>\n",
       "      <td>0</td>\n",
       "      <td>высокий доход</td>\n",
       "      <td>253875.639453</td>\n",
       "    </tr>\n",
       "    <tr>\n",
       "      <td>1</td>\n",
       "      <td>средний доход</td>\n",
       "      <td>112080.014102</td>\n",
       "    </tr>\n",
       "    <tr>\n",
       "      <td>2</td>\n",
       "      <td>средний доход</td>\n",
       "      <td>145885.952297</td>\n",
       "    </tr>\n",
       "    <tr>\n",
       "      <td>3</td>\n",
       "      <td>высокий доход</td>\n",
       "      <td>267628.550329</td>\n",
       "    </tr>\n",
       "    <tr>\n",
       "      <td>4</td>\n",
       "      <td>средний доход</td>\n",
       "      <td>158616.077870</td>\n",
       "    </tr>\n",
       "    <tr>\n",
       "      <td>5</td>\n",
       "      <td>высокий доход</td>\n",
       "      <td>255763.565419</td>\n",
       "    </tr>\n",
       "    <tr>\n",
       "      <td>6</td>\n",
       "      <td>средний доход</td>\n",
       "      <td>240525.971920</td>\n",
       "    </tr>\n",
       "    <tr>\n",
       "      <td>7</td>\n",
       "      <td>средний доход</td>\n",
       "      <td>135823.934197</td>\n",
       "    </tr>\n",
       "    <tr>\n",
       "      <td>8</td>\n",
       "      <td>средний доход</td>\n",
       "      <td>95856.832424</td>\n",
       "    </tr>\n",
       "    <tr>\n",
       "      <td>9</td>\n",
       "      <td>средний доход</td>\n",
       "      <td>144425.938277</td>\n",
       "    </tr>\n",
       "  </tbody>\n",
       "</table>\n",
       "</div>"
      ],
      "text/plain": [
       "    income_level   total_income\n",
       "0  высокий доход  253875.639453\n",
       "1  средний доход  112080.014102\n",
       "2  средний доход  145885.952297\n",
       "3  высокий доход  267628.550329\n",
       "4  средний доход  158616.077870\n",
       "5  высокий доход  255763.565419\n",
       "6  средний доход  240525.971920\n",
       "7  средний доход  135823.934197\n",
       "8  средний доход   95856.832424\n",
       "9  средний доход  144425.938277"
      ]
     },
     "execution_count": 37,
     "metadata": {},
     "output_type": "execute_result"
    }
   ],
   "source": [
    "# составление функции income_level для распределения клиентов по категориям дохода \n",
    "def income_level(total_income):\n",
    "    if total_income <= 80000:\n",
    "        return 'низкий доход'\n",
    "    if 80000 < total_income <= 250000:\n",
    "        return 'средний доход'\n",
    "    if total_income > 250000:\n",
    "        return 'высокий доход'\n",
    "# применяем функцию к столбцу total_income и сохраняем значения в колонке income_level\n",
    "data[\"income_level\"] = data['total_income'].apply(income_level)\n",
    "(data.loc[:,['income_level','total_income']]).head(10)"
   ]
  },
  {
   "cell_type": "markdown",
   "metadata": {},
   "source": [
    "**Вывод**"
   ]
  },
  {
   "cell_type": "markdown",
   "metadata": {},
   "source": [
    "В столбце 'children' были выявлены и исправлены возможные опечатки.\n",
    "\n",
    "Для упорщения дальнейшего анализа, каждый клиент распределен по категориям, в зависимости от уровня дохода- средний, низкий, высокий доходы.\n",
    "\n",
    "В остальных столбцах таблицы, категоризация не понадобится, поэтому приступаем к ответу на основные вопросы."
   ]
  },
  {
   "cell_type": "markdown",
   "metadata": {},
   "source": [
    "## Шаг 3. Ответьте на вопросы"
   ]
  },
  {
   "cell_type": "markdown",
   "metadata": {},
   "source": [
    "- Есть ли зависимость между наличием детей и возвратом кредита в срок?"
   ]
  },
  {
   "cell_type": "markdown",
   "metadata": {},
   "source": [
    "Для ответа на данный вопрос необходимо составить таблицу,  сгруппированную по столбцу children и по ней найти какие из категорий реже и чаще всего возращают кредит (% невозврата). "
   ]
  },
  {
   "cell_type": "code",
   "execution_count": 38,
   "metadata": {
    "scrolled": true
   },
   "outputs": [
    {
     "data": {
      "text/html": [
       "<style  type=\"text/css\" >\n",
       "</style><table id=\"T_530f8c1a_6a17_11ec_87e7_02420a397d24\" ><thead>    <tr>        <th class=\"blank level0\" ></th>        <th class=\"col_heading level0 col0\" >% невозврата</th>        <th class=\"col_heading level0 col1\" >кол-во долгов</th>    </tr>    <tr>        <th class=\"index_name level0\" >children</th>        <th class=\"blank\" ></th>        <th class=\"blank\" ></th>    </tr></thead><tbody>\n",
       "                <tr>\n",
       "                        <th id=\"T_530f8c1a_6a17_11ec_87e7_02420a397d24level0_row0\" class=\"row_heading level0 row0\" >4</th>\n",
       "                        <td id=\"T_530f8c1a_6a17_11ec_87e7_02420a397d24row0_col0\" class=\"data row0 col0\" >9.76%</td>\n",
       "                        <td id=\"T_530f8c1a_6a17_11ec_87e7_02420a397d24row0_col1\" class=\"data row0 col1\" >41</td>\n",
       "            </tr>\n",
       "            <tr>\n",
       "                        <th id=\"T_530f8c1a_6a17_11ec_87e7_02420a397d24level0_row1\" class=\"row_heading level0 row1\" >2</th>\n",
       "                        <td id=\"T_530f8c1a_6a17_11ec_87e7_02420a397d24row1_col0\" class=\"data row1 col0\" >9.49%</td>\n",
       "                        <td id=\"T_530f8c1a_6a17_11ec_87e7_02420a397d24row1_col1\" class=\"data row1 col1\" >2128</td>\n",
       "            </tr>\n",
       "            <tr>\n",
       "                        <th id=\"T_530f8c1a_6a17_11ec_87e7_02420a397d24level0_row2\" class=\"row_heading level0 row2\" >1</th>\n",
       "                        <td id=\"T_530f8c1a_6a17_11ec_87e7_02420a397d24row2_col0\" class=\"data row2 col0\" >9.23%</td>\n",
       "                        <td id=\"T_530f8c1a_6a17_11ec_87e7_02420a397d24row2_col1\" class=\"data row2 col1\" >4808</td>\n",
       "            </tr>\n",
       "            <tr>\n",
       "                        <th id=\"T_530f8c1a_6a17_11ec_87e7_02420a397d24level0_row3\" class=\"row_heading level0 row3\" >3</th>\n",
       "                        <td id=\"T_530f8c1a_6a17_11ec_87e7_02420a397d24row3_col0\" class=\"data row3 col0\" >8.18%</td>\n",
       "                        <td id=\"T_530f8c1a_6a17_11ec_87e7_02420a397d24row3_col1\" class=\"data row3 col1\" >330</td>\n",
       "            </tr>\n",
       "            <tr>\n",
       "                        <th id=\"T_530f8c1a_6a17_11ec_87e7_02420a397d24level0_row4\" class=\"row_heading level0 row4\" >0</th>\n",
       "                        <td id=\"T_530f8c1a_6a17_11ec_87e7_02420a397d24row4_col0\" class=\"data row4 col0\" >7.53%</td>\n",
       "                        <td id=\"T_530f8c1a_6a17_11ec_87e7_02420a397d24row4_col1\" class=\"data row4 col1\" >14138</td>\n",
       "            </tr>\n",
       "            <tr>\n",
       "                        <th id=\"T_530f8c1a_6a17_11ec_87e7_02420a397d24level0_row5\" class=\"row_heading level0 row5\" >5</th>\n",
       "                        <td id=\"T_530f8c1a_6a17_11ec_87e7_02420a397d24row5_col0\" class=\"data row5 col0\" >0.00%</td>\n",
       "                        <td id=\"T_530f8c1a_6a17_11ec_87e7_02420a397d24row5_col1\" class=\"data row5 col1\" >9</td>\n",
       "            </tr>\n",
       "    </tbody></table>"
      ],
      "text/plain": [
       "<pandas.io.formats.style.Styler at 0x7f9f51847150>"
      ]
     },
     "execution_count": 38,
     "metadata": {},
     "output_type": "execute_result"
    }
   ],
   "source": [
    "# группировка по количеству детей и вычисление количества долгов и % невозврата для каждой категории.\n",
    "children = data.groupby('children').agg({'debt':['mean','count']})\n",
    "children.columns = ['% невозврата','кол-во долгов']\n",
    "\n",
    "children=children.sort_values(by = '% невозврата',ascending = False)\n",
    "children.style.format({'% невозврата':'{:.2%}'})"
   ]
  },
  {
   "cell_type": "markdown",
   "metadata": {},
   "source": [
    "**Вывод**"
   ]
  },
  {
   "cell_type": "markdown",
   "metadata": {},
   "source": [
    "По таблице children видно, чаще всего не возвращают кредит те, у кого четверо детей (9.76% невозврата) и меньше всего - те у кого детей нет(7.53%). Невозвратов кредита у тех, у кого 5 детей, не зафиксировано."
   ]
  },
  {
   "cell_type": "markdown",
   "metadata": {},
   "source": [
    "- Есть ли зависимость между семейным положением и возвратом кредита в срок?"
   ]
  },
  {
   "cell_type": "markdown",
   "metadata": {},
   "source": [
    "Для ответа на данный вопрос необходимо составить таблицу, сгруппированную по столбцу 'family_status' и по ней найти какие из категорий реже и чаще всего возращают кредит (% невозврата)."
   ]
  },
  {
   "cell_type": "code",
   "execution_count": 39,
   "metadata": {
    "scrolled": true
   },
   "outputs": [
    {
     "data": {
      "text/html": [
       "<style  type=\"text/css\" >\n",
       "</style><table id=\"T_531356a6_6a17_11ec_87e7_02420a397d24\" ><thead>    <tr>        <th class=\"blank level0\" ></th>        <th class=\"col_heading level0 col0\" >% невозврата</th>        <th class=\"col_heading level0 col1\" >кол-во долгов</th>    </tr>    <tr>        <th class=\"index_name level0\" >family_status</th>        <th class=\"blank\" ></th>        <th class=\"blank\" ></th>    </tr></thead><tbody>\n",
       "                <tr>\n",
       "                        <th id=\"T_531356a6_6a17_11ec_87e7_02420a397d24level0_row0\" class=\"row_heading level0 row0\" >Не женат / не замужем</th>\n",
       "                        <td id=\"T_531356a6_6a17_11ec_87e7_02420a397d24row0_col0\" class=\"data row0 col0\" >9.75%</td>\n",
       "                        <td id=\"T_531356a6_6a17_11ec_87e7_02420a397d24row0_col1\" class=\"data row0 col1\" >2810</td>\n",
       "            </tr>\n",
       "            <tr>\n",
       "                        <th id=\"T_531356a6_6a17_11ec_87e7_02420a397d24level0_row1\" class=\"row_heading level0 row1\" >гражданский брак</th>\n",
       "                        <td id=\"T_531356a6_6a17_11ec_87e7_02420a397d24row1_col0\" class=\"data row1 col0\" >9.35%</td>\n",
       "                        <td id=\"T_531356a6_6a17_11ec_87e7_02420a397d24row1_col1\" class=\"data row1 col1\" >4151</td>\n",
       "            </tr>\n",
       "            <tr>\n",
       "                        <th id=\"T_531356a6_6a17_11ec_87e7_02420a397d24level0_row2\" class=\"row_heading level0 row2\" >женат / замужем</th>\n",
       "                        <td id=\"T_531356a6_6a17_11ec_87e7_02420a397d24row2_col0\" class=\"data row2 col0\" >7.55%</td>\n",
       "                        <td id=\"T_531356a6_6a17_11ec_87e7_02420a397d24row2_col1\" class=\"data row2 col1\" >12339</td>\n",
       "            </tr>\n",
       "            <tr>\n",
       "                        <th id=\"T_531356a6_6a17_11ec_87e7_02420a397d24level0_row3\" class=\"row_heading level0 row3\" >в разводе</th>\n",
       "                        <td id=\"T_531356a6_6a17_11ec_87e7_02420a397d24row3_col0\" class=\"data row3 col0\" >7.11%</td>\n",
       "                        <td id=\"T_531356a6_6a17_11ec_87e7_02420a397d24row3_col1\" class=\"data row3 col1\" >1195</td>\n",
       "            </tr>\n",
       "            <tr>\n",
       "                        <th id=\"T_531356a6_6a17_11ec_87e7_02420a397d24level0_row4\" class=\"row_heading level0 row4\" >вдовец / вдова</th>\n",
       "                        <td id=\"T_531356a6_6a17_11ec_87e7_02420a397d24row4_col0\" class=\"data row4 col0\" >6.57%</td>\n",
       "                        <td id=\"T_531356a6_6a17_11ec_87e7_02420a397d24row4_col1\" class=\"data row4 col1\" >959</td>\n",
       "            </tr>\n",
       "    </tbody></table>"
      ],
      "text/plain": [
       "<pandas.io.formats.style.Styler at 0x7f9fa4b4a8d0>"
      ]
     },
     "execution_count": 39,
     "metadata": {},
     "output_type": "execute_result"
    }
   ],
   "source": [
    "# группировка по семейному положению и вычисление количества долгов и % невозврата для каждой категории.\n",
    "status = data.groupby('family_status').agg({'debt':['mean','count']})\n",
    "status.columns = ['% невозврата','кол-во долгов']\n",
    "status = status.sort_values(by='% невозврата',ascending = False)\n",
    "status.style.format({'% невозврата':'{:.2%}'})"
   ]
  },
  {
   "cell_type": "markdown",
   "metadata": {},
   "source": [
    "**Вывод**"
   ]
  },
  {
   "cell_type": "markdown",
   "metadata": {},
   "source": [
    "По таблице status видно,максимальный процент невозврата кредита зафиксирован среди клиентов,не вступивших в брак (9.75% невозврата среди неженатых / незамужних и 9.35% среди тех,кто состоит в гражданском браке ) и меньше всего - среди вдов/вдовцов (6.57%). "
   ]
  },
  {
   "cell_type": "markdown",
   "metadata": {},
   "source": [
    "- Есть ли зависимость между уровнем дохода и возвратом кредита в срок?"
   ]
  },
  {
   "cell_type": "markdown",
   "metadata": {},
   "source": [
    "Для ответа на данный вопрос необходимо составить таблицу, сгруппированную по столбцу 'income_level' и по ней найти какие из категорий реже и чаще всего возращают кредит (% невозврата)."
   ]
  },
  {
   "cell_type": "code",
   "execution_count": 40,
   "metadata": {
    "scrolled": true
   },
   "outputs": [
    {
     "data": {
      "text/html": [
       "<style  type=\"text/css\" >\n",
       "</style><table id=\"T_531723ee_6a17_11ec_87e7_02420a397d24\" ><thead>    <tr>        <th class=\"blank level0\" ></th>        <th class=\"col_heading level0 col0\" >% невозврата</th>        <th class=\"col_heading level0 col1\" >кол-во долгов</th>    </tr>    <tr>        <th class=\"index_name level0\" >income_level</th>        <th class=\"blank\" ></th>        <th class=\"blank\" ></th>    </tr></thead><tbody>\n",
       "                <tr>\n",
       "                        <th id=\"T_531723ee_6a17_11ec_87e7_02420a397d24level0_row0\" class=\"row_heading level0 row0\" >средний доход</th>\n",
       "                        <td id=\"T_531723ee_6a17_11ec_87e7_02420a397d24row0_col0\" class=\"data row0 col0\" >8.39%</td>\n",
       "                        <td id=\"T_531723ee_6a17_11ec_87e7_02420a397d24row0_col1\" class=\"data row0 col1\" >16365</td>\n",
       "            </tr>\n",
       "            <tr>\n",
       "                        <th id=\"T_531723ee_6a17_11ec_87e7_02420a397d24level0_row1\" class=\"row_heading level0 row1\" >низкий доход</th>\n",
       "                        <td id=\"T_531723ee_6a17_11ec_87e7_02420a397d24row1_col0\" class=\"data row1 col0\" >7.64%</td>\n",
       "                        <td id=\"T_531723ee_6a17_11ec_87e7_02420a397d24row1_col1\" class=\"data row1 col1\" >2276</td>\n",
       "            </tr>\n",
       "            <tr>\n",
       "                        <th id=\"T_531723ee_6a17_11ec_87e7_02420a397d24level0_row2\" class=\"row_heading level0 row2\" >высокий доход</th>\n",
       "                        <td id=\"T_531723ee_6a17_11ec_87e7_02420a397d24row2_col0\" class=\"data row2 col0\" >6.90%</td>\n",
       "                        <td id=\"T_531723ee_6a17_11ec_87e7_02420a397d24row2_col1\" class=\"data row2 col1\" >2813</td>\n",
       "            </tr>\n",
       "    </tbody></table>"
      ],
      "text/plain": [
       "<pandas.io.formats.style.Styler at 0x7f9fa45eda90>"
      ]
     },
     "execution_count": 40,
     "metadata": {},
     "output_type": "execute_result"
    }
   ],
   "source": [
    "# группировка по уровню дохода и вычисление количества долгов и % невозврата для каждой категории.\n",
    "income = data.groupby('income_level').agg({'debt':['mean','count']})\n",
    "income.columns = ['% невозврата','кол-во долгов']\n",
    "income = income.sort_values(by = '% невозврата',ascending = False)\n",
    "income.style.format({'% невозврата':'{:.2%}'})"
   ]
  },
  {
   "cell_type": "markdown",
   "metadata": {},
   "source": [
    "**Вывод**"
   ]
  },
  {
   "cell_type": "markdown",
   "metadata": {},
   "source": [
    "По таблице income видно, максимальный процент невозврата кредита зафиксирован среди клиентов,со средним доходом (8.39% невозврата) и меньше всего у тех, у кого высокий доход (6.90%)."
   ]
  },
  {
   "cell_type": "markdown",
   "metadata": {},
   "source": [
    "- Как разные цели кредита влияют на его возврат в срок?"
   ]
  },
  {
   "cell_type": "markdown",
   "metadata": {},
   "source": [
    "Для ответа на данный вопрос необходимо составить таблицу, сгруппированную по столбцу 'category' и по ней найти какие из категорий реже и чаще всего возращают кредит (% невозврата)."
   ]
  },
  {
   "cell_type": "code",
   "execution_count": 41,
   "metadata": {
    "scrolled": true
   },
   "outputs": [
    {
     "data": {
      "text/html": [
       "<style  type=\"text/css\" >\n",
       "</style><table id=\"T_531c1a66_6a17_11ec_87e7_02420a397d24\" ><thead>    <tr>        <th class=\"blank level0\" ></th>        <th class=\"col_heading level0 col0\" >% невозврата</th>        <th class=\"col_heading level0 col1\" >кол-во долгов</th>    </tr>    <tr>        <th class=\"index_name level0\" >category</th>        <th class=\"blank\" ></th>        <th class=\"blank\" ></th>    </tr></thead><tbody>\n",
       "                <tr>\n",
       "                        <th id=\"T_531c1a66_6a17_11ec_87e7_02420a397d24level0_row0\" class=\"row_heading level0 row0\" >автомобиль</th>\n",
       "                        <td id=\"T_531c1a66_6a17_11ec_87e7_02420a397d24row0_col0\" class=\"data row0 col0\" >9.36%</td>\n",
       "                        <td id=\"T_531c1a66_6a17_11ec_87e7_02420a397d24row0_col1\" class=\"data row0 col1\" >4306</td>\n",
       "            </tr>\n",
       "            <tr>\n",
       "                        <th id=\"T_531c1a66_6a17_11ec_87e7_02420a397d24level0_row1\" class=\"row_heading level0 row1\" >образование</th>\n",
       "                        <td id=\"T_531c1a66_6a17_11ec_87e7_02420a397d24row1_col0\" class=\"data row1 col0\" >9.22%</td>\n",
       "                        <td id=\"T_531c1a66_6a17_11ec_87e7_02420a397d24row1_col1\" class=\"data row1 col1\" >4013</td>\n",
       "            </tr>\n",
       "            <tr>\n",
       "                        <th id=\"T_531c1a66_6a17_11ec_87e7_02420a397d24level0_row2\" class=\"row_heading level0 row2\" >свадьба</th>\n",
       "                        <td id=\"T_531c1a66_6a17_11ec_87e7_02420a397d24row2_col0\" class=\"data row2 col0\" >8.00%</td>\n",
       "                        <td id=\"T_531c1a66_6a17_11ec_87e7_02420a397d24row2_col1\" class=\"data row2 col1\" >2324</td>\n",
       "            </tr>\n",
       "            <tr>\n",
       "                        <th id=\"T_531c1a66_6a17_11ec_87e7_02420a397d24level0_row3\" class=\"row_heading level0 row3\" >недвижимость</th>\n",
       "                        <td id=\"T_531c1a66_6a17_11ec_87e7_02420a397d24row3_col0\" class=\"data row3 col0\" >7.23%</td>\n",
       "                        <td id=\"T_531c1a66_6a17_11ec_87e7_02420a397d24row3_col1\" class=\"data row3 col1\" >10811</td>\n",
       "            </tr>\n",
       "    </tbody></table>"
      ],
      "text/plain": [
       "<pandas.io.formats.style.Styler at 0x7f9fa4782750>"
      ]
     },
     "execution_count": 41,
     "metadata": {},
     "output_type": "execute_result"
    }
   ],
   "source": [
    "# группировка по цели кредита и вычисление количества долгов и % невозврата для каждой категории.\n",
    "purpose = data.groupby('category').agg({'debt':['mean','count']})\n",
    "purpose.columns = ['% невозврата','кол-во долгов']\n",
    "purpose = purpose.sort_values(by = '% невозврата',ascending = False)\n",
    "purpose.style.format({'% невозврата':'{:.2%}'})"
   ]
  },
  {
   "cell_type": "markdown",
   "metadata": {},
   "source": [
    "**Вывод**"
   ]
  },
  {
   "cell_type": "markdown",
   "metadata": {},
   "source": [
    "По таблице purpose видно,что максимальный процент невозврата кредита зафиксирован среди клиентов,которые взяли кредит на покупку автомобиля (9.36% невозврата) и на образование (9.22% невозврата) и минимальный у тех, у кого цель- прибретение недвижимости (6.90%)."
   ]
  },
  {
   "cell_type": "markdown",
   "metadata": {},
   "source": [
    "## Шаг 4. Общий вывод"
   ]
  },
  {
   "cell_type": "markdown",
   "metadata": {},
   "source": [
    "Глвной целью исследования было - разобраться, влияет ли семейное положение и количество детей клиента на факт погашения кредита в срок.\n",
    "\n",
    "В ходе исследования было выялено, что максимальный процент невозврата кредита зафиксирован среди клиентов,не вступивших в брак (9.75% невозврата среди неженатых / незамужних и 9.35% среди тех,кто состоит в гражданском браке ) и меньше всего - среди вдов/вдовцов (6.57%). Что касается количества детей -  чаще всего не возвращают кредит те, у кого четверо детей (9.76% невозврата) и меньше всего - те у кого детей нет(7.53%).\n",
    "\n",
    "Разброс в процентах невозрата незначительный(2-3%), поэтому утверждать, что есть явная зависимость между данными факторами и погашением кредита в срок, нельзя."
   ]
  }
 ],
 "metadata": {
  "ExecuteTimeLog": [
   {
    "duration": 729,
    "start_time": "2021-12-24T14:10:09.824Z"
   },
   {
    "duration": 50,
    "start_time": "2021-12-24T14:16:28.250Z"
   },
   {
    "duration": 12,
    "start_time": "2021-12-24T14:18:06.555Z"
   },
   {
    "duration": 12,
    "start_time": "2021-12-24T14:19:10.512Z"
   },
   {
    "duration": 730,
    "start_time": "2021-12-28T00:36:23.751Z"
   },
   {
    "duration": 2321,
    "start_time": "2021-12-28T00:36:24.484Z"
   },
   {
    "duration": 206,
    "start_time": "2021-12-28T00:36:26.604Z"
   },
   {
    "duration": 204,
    "start_time": "2021-12-28T00:36:26.608Z"
   },
   {
    "duration": 201,
    "start_time": "2021-12-28T00:36:26.612Z"
   },
   {
    "duration": 201,
    "start_time": "2021-12-28T00:36:26.614Z"
   },
   {
    "duration": 200,
    "start_time": "2021-12-28T00:36:26.617Z"
   },
   {
    "duration": 198,
    "start_time": "2021-12-28T00:36:26.620Z"
   },
   {
    "duration": 197,
    "start_time": "2021-12-28T00:36:26.623Z"
   },
   {
    "duration": 194,
    "start_time": "2021-12-28T00:36:26.627Z"
   },
   {
    "duration": 194,
    "start_time": "2021-12-28T00:36:26.629Z"
   },
   {
    "duration": 193,
    "start_time": "2021-12-28T00:36:26.632Z"
   },
   {
    "duration": 191,
    "start_time": "2021-12-28T00:36:26.635Z"
   },
   {
    "duration": 190,
    "start_time": "2021-12-28T00:36:26.638Z"
   },
   {
    "duration": 188,
    "start_time": "2021-12-28T00:36:26.641Z"
   },
   {
    "duration": 187,
    "start_time": "2021-12-28T00:36:26.644Z"
   },
   {
    "duration": 186,
    "start_time": "2021-12-28T00:36:26.646Z"
   },
   {
    "duration": 186,
    "start_time": "2021-12-28T00:36:26.648Z"
   },
   {
    "duration": 184,
    "start_time": "2021-12-28T00:36:26.651Z"
   },
   {
    "duration": 183,
    "start_time": "2021-12-28T00:36:26.653Z"
   },
   {
    "duration": 181,
    "start_time": "2021-12-28T00:36:26.656Z"
   },
   {
    "duration": 180,
    "start_time": "2021-12-28T00:36:26.658Z"
   },
   {
    "duration": 177,
    "start_time": "2021-12-28T00:36:26.662Z"
   },
   {
    "duration": 168,
    "start_time": "2021-12-28T00:36:26.673Z"
   },
   {
    "duration": 165,
    "start_time": "2021-12-28T00:36:26.678Z"
   },
   {
    "duration": 164,
    "start_time": "2021-12-28T00:36:26.681Z"
   },
   {
    "duration": 162,
    "start_time": "2021-12-28T00:36:26.684Z"
   },
   {
    "duration": 157,
    "start_time": "2021-12-28T00:36:26.691Z"
   },
   {
    "duration": 153,
    "start_time": "2021-12-28T00:36:26.696Z"
   },
   {
    "duration": 64,
    "start_time": "2021-12-28T00:37:02.243Z"
   },
   {
    "duration": 61,
    "start_time": "2021-12-28T00:37:05.327Z"
   },
   {
    "duration": 3,
    "start_time": "2021-12-28T00:37:07.591Z"
   },
   {
    "duration": 69,
    "start_time": "2021-12-28T00:37:07.597Z"
   },
   {
    "duration": 49,
    "start_time": "2021-12-28T00:37:07.669Z"
   },
   {
    "duration": 15,
    "start_time": "2021-12-28T00:37:07.721Z"
   },
   {
    "duration": 7,
    "start_time": "2021-12-28T00:37:07.739Z"
   },
   {
    "duration": 9,
    "start_time": "2021-12-28T00:37:07.748Z"
   },
   {
    "duration": 10,
    "start_time": "2021-12-28T00:37:07.759Z"
   },
   {
    "duration": 51,
    "start_time": "2021-12-28T00:37:07.771Z"
   },
   {
    "duration": 8,
    "start_time": "2021-12-28T00:37:07.826Z"
   },
   {
    "duration": 11,
    "start_time": "2021-12-28T00:37:07.837Z"
   },
   {
    "duration": 11,
    "start_time": "2021-12-28T00:37:07.851Z"
   },
   {
    "duration": 53,
    "start_time": "2021-12-28T00:37:07.865Z"
   },
   {
    "duration": 9,
    "start_time": "2021-12-28T00:37:07.921Z"
   },
   {
    "duration": 8,
    "start_time": "2021-12-28T00:37:07.933Z"
   },
   {
    "duration": 21,
    "start_time": "2021-12-28T00:37:07.943Z"
   },
   {
    "duration": 70,
    "start_time": "2021-12-28T00:37:07.967Z"
   },
   {
    "duration": 77,
    "start_time": "2021-12-28T00:37:08.040Z"
   },
   {
    "duration": 61,
    "start_time": "2021-12-28T00:37:08.119Z"
   },
   {
    "duration": 15,
    "start_time": "2021-12-28T00:37:08.182Z"
   },
   {
    "duration": 7,
    "start_time": "2021-12-28T00:37:08.218Z"
   },
   {
    "duration": 7,
    "start_time": "2021-12-28T00:37:08.227Z"
   },
   {
    "duration": 23,
    "start_time": "2021-12-28T00:37:08.236Z"
   },
   {
    "duration": 6,
    "start_time": "2021-12-28T00:37:08.261Z"
   },
   {
    "duration": 59,
    "start_time": "2021-12-28T00:37:08.270Z"
   },
   {
    "duration": 25,
    "start_time": "2021-12-28T00:37:08.331Z"
   },
   {
    "duration": 28,
    "start_time": "2021-12-28T00:37:08.358Z"
   },
   {
    "duration": 48,
    "start_time": "2021-12-28T00:37:08.390Z"
   },
   {
    "duration": 1397,
    "start_time": "2021-12-28T00:37:08.440Z"
   },
   {
    "duration": 6,
    "start_time": "2021-12-28T00:37:09.840Z"
   },
   {
    "duration": 4,
    "start_time": "2021-12-28T00:37:31.398Z"
   },
   {
    "duration": 7,
    "start_time": "2021-12-28T00:41:25.688Z"
   },
   {
    "duration": 6,
    "start_time": "2021-12-28T00:43:09.526Z"
   },
   {
    "duration": 6,
    "start_time": "2021-12-28T00:44:50.342Z"
   },
   {
    "duration": 396,
    "start_time": "2021-12-28T00:46:16.523Z"
   },
   {
    "duration": 6,
    "start_time": "2021-12-28T00:46:54.791Z"
   },
   {
    "duration": 314,
    "start_time": "2021-12-28T00:46:58.985Z"
   },
   {
    "duration": 926,
    "start_time": "2021-12-28T00:47:10.220Z"
   },
   {
    "duration": 7,
    "start_time": "2021-12-28T00:57:19.157Z"
   },
   {
    "duration": 8,
    "start_time": "2021-12-28T00:57:21.918Z"
   },
   {
    "duration": 5,
    "start_time": "2021-12-28T01:04:25.890Z"
   },
   {
    "duration": 10,
    "start_time": "2021-12-28T01:20:59.558Z"
   },
   {
    "duration": 6,
    "start_time": "2021-12-28T01:22:20.542Z"
   },
   {
    "duration": 8,
    "start_time": "2021-12-28T01:22:23.163Z"
   },
   {
    "duration": 9,
    "start_time": "2021-12-28T01:23:31.555Z"
   },
   {
    "duration": 4,
    "start_time": "2021-12-28T01:23:32.946Z"
   },
   {
    "duration": 6,
    "start_time": "2021-12-28T01:23:34.274Z"
   },
   {
    "duration": 927,
    "start_time": "2021-12-28T01:23:35.290Z"
   },
   {
    "duration": 4,
    "start_time": "2021-12-28T01:23:37.439Z"
   },
   {
    "duration": 3481,
    "start_time": "2021-12-28T01:25:48.388Z"
   },
   {
    "duration": 3462,
    "start_time": "2021-12-28T01:26:50.258Z"
   },
   {
    "duration": 3470,
    "start_time": "2021-12-28T01:27:04.548Z"
   },
   {
    "duration": 3,
    "start_time": "2021-12-28T01:28:50.813Z"
   },
   {
    "duration": 68,
    "start_time": "2021-12-28T01:28:50.818Z"
   },
   {
    "duration": 37,
    "start_time": "2021-12-28T01:28:50.889Z"
   },
   {
    "duration": 16,
    "start_time": "2021-12-28T01:28:50.928Z"
   },
   {
    "duration": 8,
    "start_time": "2021-12-28T01:28:50.946Z"
   },
   {
    "duration": 12,
    "start_time": "2021-12-28T01:28:50.957Z"
   },
   {
    "duration": 53,
    "start_time": "2021-12-28T01:28:50.971Z"
   },
   {
    "duration": 10,
    "start_time": "2021-12-28T01:28:51.028Z"
   },
   {
    "duration": 7,
    "start_time": "2021-12-28T01:28:51.041Z"
   },
   {
    "duration": 11,
    "start_time": "2021-12-28T01:28:51.051Z"
   },
   {
    "duration": 60,
    "start_time": "2021-12-28T01:28:51.064Z"
   },
   {
    "duration": 12,
    "start_time": "2021-12-28T01:28:51.126Z"
   },
   {
    "duration": 9,
    "start_time": "2021-12-28T01:28:51.140Z"
   },
   {
    "duration": 7,
    "start_time": "2021-12-28T01:28:51.151Z"
   },
   {
    "duration": 16,
    "start_time": "2021-12-28T01:28:51.161Z"
   },
   {
    "duration": 70,
    "start_time": "2021-12-28T01:28:51.179Z"
   },
   {
    "duration": 79,
    "start_time": "2021-12-28T01:28:51.252Z"
   },
   {
    "duration": 59,
    "start_time": "2021-12-28T01:28:51.333Z"
   },
   {
    "duration": 29,
    "start_time": "2021-12-28T01:28:51.394Z"
   },
   {
    "duration": 5,
    "start_time": "2021-12-28T01:28:51.425Z"
   },
   {
    "duration": 8,
    "start_time": "2021-12-28T01:28:51.432Z"
   },
   {
    "duration": 26,
    "start_time": "2021-12-28T01:28:51.442Z"
   },
   {
    "duration": 7,
    "start_time": "2021-12-28T01:28:51.472Z"
   },
   {
    "duration": 16,
    "start_time": "2021-12-28T01:28:51.518Z"
   },
   {
    "duration": 28,
    "start_time": "2021-12-28T01:28:51.536Z"
   },
   {
    "duration": 67,
    "start_time": "2021-12-28T01:28:51.567Z"
   },
   {
    "duration": 24,
    "start_time": "2021-12-28T01:28:51.636Z"
   },
   {
    "duration": 7,
    "start_time": "2021-12-28T01:28:51.662Z"
   },
   {
    "duration": 61,
    "start_time": "2021-12-28T01:28:51.672Z"
   },
   {
    "duration": 5,
    "start_time": "2021-12-28T01:28:51.735Z"
   },
   {
    "duration": 942,
    "start_time": "2021-12-28T01:28:51.742Z"
   },
   {
    "duration": 4,
    "start_time": "2021-12-28T01:28:52.687Z"
   },
   {
    "duration": 3498,
    "start_time": "2021-12-28T01:28:52.693Z"
   },
   {
    "duration": 6,
    "start_time": "2021-12-28T01:32:56.846Z"
   },
   {
    "duration": 12362,
    "start_time": "2021-12-28T01:35:50.918Z"
   },
   {
    "duration": 3799,
    "start_time": "2021-12-28T01:36:50.818Z"
   },
   {
    "duration": 3449,
    "start_time": "2021-12-28T01:37:12.849Z"
   },
   {
    "duration": 3506,
    "start_time": "2021-12-28T01:38:00.096Z"
   },
   {
    "duration": 3930,
    "start_time": "2021-12-28T01:38:30.295Z"
   },
   {
    "duration": 3494,
    "start_time": "2021-12-28T01:38:47.238Z"
   },
   {
    "duration": 3476,
    "start_time": "2021-12-28T01:40:21.007Z"
   },
   {
    "duration": 3,
    "start_time": "2021-12-28T01:41:04.029Z"
   },
   {
    "duration": 63,
    "start_time": "2021-12-28T01:41:04.034Z"
   },
   {
    "duration": 22,
    "start_time": "2021-12-28T01:41:04.099Z"
   },
   {
    "duration": 15,
    "start_time": "2021-12-28T01:41:04.123Z"
   },
   {
    "duration": 7,
    "start_time": "2021-12-28T01:41:04.141Z"
   },
   {
    "duration": 8,
    "start_time": "2021-12-28T01:41:04.150Z"
   },
   {
    "duration": 58,
    "start_time": "2021-12-28T01:41:04.161Z"
   },
   {
    "duration": 10,
    "start_time": "2021-12-28T01:41:04.221Z"
   },
   {
    "duration": 11,
    "start_time": "2021-12-28T01:41:04.235Z"
   },
   {
    "duration": 15,
    "start_time": "2021-12-28T01:41:04.249Z"
   },
   {
    "duration": 13,
    "start_time": "2021-12-28T01:41:04.266Z"
   },
   {
    "duration": 46,
    "start_time": "2021-12-28T01:41:04.281Z"
   },
   {
    "duration": 11,
    "start_time": "2021-12-28T01:41:04.330Z"
   },
   {
    "duration": 10,
    "start_time": "2021-12-28T01:41:04.343Z"
   },
   {
    "duration": 16,
    "start_time": "2021-12-28T01:41:04.355Z"
   },
   {
    "duration": 66,
    "start_time": "2021-12-28T01:41:04.373Z"
   },
   {
    "duration": 57,
    "start_time": "2021-12-28T01:41:04.442Z"
   },
   {
    "duration": 70,
    "start_time": "2021-12-28T01:41:04.502Z"
   },
   {
    "duration": 12,
    "start_time": "2021-12-28T01:41:04.574Z"
   },
   {
    "duration": 31,
    "start_time": "2021-12-28T01:41:04.588Z"
   },
   {
    "duration": 6,
    "start_time": "2021-12-28T01:41:04.621Z"
   },
   {
    "duration": 25,
    "start_time": "2021-12-28T01:41:04.629Z"
   },
   {
    "duration": 6,
    "start_time": "2021-12-28T01:41:04.656Z"
   },
   {
    "duration": 15,
    "start_time": "2021-12-28T01:41:04.664Z"
   },
   {
    "duration": 27,
    "start_time": "2021-12-28T01:41:04.718Z"
   },
   {
    "duration": 80,
    "start_time": "2021-12-28T01:41:04.748Z"
   },
   {
    "duration": 24,
    "start_time": "2021-12-28T01:41:04.832Z"
   },
   {
    "duration": 34,
    "start_time": "2021-12-28T01:41:04.858Z"
   },
   {
    "duration": 27,
    "start_time": "2021-12-28T01:41:04.894Z"
   },
   {
    "duration": 960,
    "start_time": "2021-12-28T01:41:04.923Z"
   },
   {
    "duration": 5,
    "start_time": "2021-12-28T01:41:05.885Z"
   },
   {
    "duration": 24,
    "start_time": "2021-12-28T01:41:05.892Z"
   },
   {
    "duration": 3499,
    "start_time": "2021-12-28T01:41:05.919Z"
   },
   {
    "duration": 5,
    "start_time": "2021-12-28T01:53:37.392Z"
   },
   {
    "duration": 5,
    "start_time": "2021-12-28T01:53:47.285Z"
   },
   {
    "duration": 9,
    "start_time": "2021-12-28T01:53:52.686Z"
   },
   {
    "duration": 5,
    "start_time": "2021-12-28T01:53:53.357Z"
   },
   {
    "duration": 4,
    "start_time": "2021-12-28T01:54:56.292Z"
   },
   {
    "duration": 6,
    "start_time": "2021-12-28T01:55:03.563Z"
   },
   {
    "duration": 4,
    "start_time": "2021-12-28T01:55:55.554Z"
   },
   {
    "duration": 3,
    "start_time": "2021-12-28T02:14:06.011Z"
   },
   {
    "duration": 64,
    "start_time": "2021-12-28T02:14:06.017Z"
   },
   {
    "duration": 44,
    "start_time": "2021-12-28T02:14:06.083Z"
   },
   {
    "duration": 16,
    "start_time": "2021-12-28T02:14:06.130Z"
   },
   {
    "duration": 8,
    "start_time": "2021-12-28T02:14:06.148Z"
   },
   {
    "duration": 10,
    "start_time": "2021-12-28T02:14:06.158Z"
   },
   {
    "duration": 49,
    "start_time": "2021-12-28T02:14:06.170Z"
   },
   {
    "duration": 10,
    "start_time": "2021-12-28T02:14:06.222Z"
   },
   {
    "duration": 7,
    "start_time": "2021-12-28T02:14:06.236Z"
   },
   {
    "duration": 15,
    "start_time": "2021-12-28T02:14:06.245Z"
   },
   {
    "duration": 12,
    "start_time": "2021-12-28T02:14:06.262Z"
   },
   {
    "duration": 12,
    "start_time": "2021-12-28T02:14:06.317Z"
   },
   {
    "duration": 9,
    "start_time": "2021-12-28T02:14:06.332Z"
   },
   {
    "duration": 7,
    "start_time": "2021-12-28T02:14:06.343Z"
   },
   {
    "duration": 19,
    "start_time": "2021-12-28T02:14:06.352Z"
   },
   {
    "duration": 70,
    "start_time": "2021-12-28T02:14:06.373Z"
   },
   {
    "duration": 81,
    "start_time": "2021-12-28T02:14:06.446Z"
   },
   {
    "duration": 61,
    "start_time": "2021-12-28T02:14:06.529Z"
   },
   {
    "duration": 26,
    "start_time": "2021-12-28T02:14:06.592Z"
   },
   {
    "duration": 4,
    "start_time": "2021-12-28T02:14:06.621Z"
   },
   {
    "duration": 8,
    "start_time": "2021-12-28T02:14:06.628Z"
   },
   {
    "duration": 25,
    "start_time": "2021-12-28T02:14:06.638Z"
   },
   {
    "duration": 6,
    "start_time": "2021-12-28T02:14:06.668Z"
   },
   {
    "duration": 54,
    "start_time": "2021-12-28T02:14:06.676Z"
   },
   {
    "duration": 28,
    "start_time": "2021-12-28T02:14:06.732Z"
   },
   {
    "duration": 27,
    "start_time": "2021-12-28T02:14:06.762Z"
   },
   {
    "duration": 46,
    "start_time": "2021-12-28T02:14:06.792Z"
   },
   {
    "duration": 32,
    "start_time": "2021-12-28T02:14:06.840Z"
   },
   {
    "duration": 6,
    "start_time": "2021-12-28T02:14:06.874Z"
   },
   {
    "duration": 968,
    "start_time": "2021-12-28T02:14:06.883Z"
   },
   {
    "duration": 5,
    "start_time": "2021-12-28T02:14:07.854Z"
   },
   {
    "duration": 6,
    "start_time": "2021-12-28T02:14:07.861Z"
   },
   {
    "duration": 3773,
    "start_time": "2021-12-28T02:14:07.869Z"
   },
   {
    "duration": 14,
    "start_time": "2021-12-28T02:14:17.531Z"
   },
   {
    "duration": 309,
    "start_time": "2021-12-28T02:14:46.886Z"
   },
   {
    "duration": 7,
    "start_time": "2021-12-28T02:14:54.103Z"
   },
   {
    "duration": 13,
    "start_time": "2021-12-28T02:15:27.899Z"
   },
   {
    "duration": 14,
    "start_time": "2021-12-28T02:17:08.374Z"
   },
   {
    "duration": 15,
    "start_time": "2021-12-28T02:17:26.932Z"
   },
   {
    "duration": 10,
    "start_time": "2021-12-28T02:17:29.652Z"
   },
   {
    "duration": 7,
    "start_time": "2021-12-28T02:18:22.799Z"
   },
   {
    "duration": 7,
    "start_time": "2021-12-28T02:18:35.231Z"
   },
   {
    "duration": 22,
    "start_time": "2021-12-28T02:19:01.981Z"
   },
   {
    "duration": 10,
    "start_time": "2021-12-28T02:22:47.324Z"
   },
   {
    "duration": 570,
    "start_time": "2021-12-28T19:55:34.080Z"
   },
   {
    "duration": 49,
    "start_time": "2021-12-28T19:55:34.651Z"
   },
   {
    "duration": 19,
    "start_time": "2021-12-28T19:55:34.702Z"
   },
   {
    "duration": 11,
    "start_time": "2021-12-28T19:55:34.722Z"
   },
   {
    "duration": 5,
    "start_time": "2021-12-28T19:55:34.735Z"
   },
   {
    "duration": 7,
    "start_time": "2021-12-28T19:55:34.741Z"
   },
   {
    "duration": 7,
    "start_time": "2021-12-28T19:55:34.750Z"
   },
   {
    "duration": 36,
    "start_time": "2021-12-28T19:55:34.759Z"
   },
   {
    "duration": 7,
    "start_time": "2021-12-28T19:55:34.797Z"
   },
   {
    "duration": 8,
    "start_time": "2021-12-28T19:55:34.806Z"
   },
   {
    "duration": 7,
    "start_time": "2021-12-28T19:55:34.816Z"
   },
   {
    "duration": 9,
    "start_time": "2021-12-28T19:55:34.825Z"
   },
   {
    "duration": 7,
    "start_time": "2021-12-28T19:55:34.836Z"
   },
   {
    "duration": 4,
    "start_time": "2021-12-28T19:55:34.845Z"
   },
   {
    "duration": 14,
    "start_time": "2021-12-28T19:55:34.892Z"
   },
   {
    "duration": 24,
    "start_time": "2021-12-28T19:55:34.908Z"
   },
   {
    "duration": 68,
    "start_time": "2021-12-28T19:55:34.933Z"
   },
   {
    "duration": 39,
    "start_time": "2021-12-28T19:55:35.002Z"
   },
   {
    "duration": 10,
    "start_time": "2021-12-28T19:55:35.043Z"
   },
   {
    "duration": 5,
    "start_time": "2021-12-28T19:55:35.055Z"
   },
   {
    "duration": 7,
    "start_time": "2021-12-28T19:55:35.061Z"
   },
   {
    "duration": 18,
    "start_time": "2021-12-28T19:55:35.091Z"
   },
   {
    "duration": 5,
    "start_time": "2021-12-28T19:55:35.111Z"
   },
   {
    "duration": 13,
    "start_time": "2021-12-28T19:55:35.118Z"
   },
   {
    "duration": 18,
    "start_time": "2021-12-28T19:55:35.132Z"
   },
   {
    "duration": 51,
    "start_time": "2021-12-28T19:55:35.153Z"
   },
   {
    "duration": 16,
    "start_time": "2021-12-28T19:55:35.208Z"
   },
   {
    "duration": 5,
    "start_time": "2021-12-28T19:55:35.226Z"
   },
   {
    "duration": 6,
    "start_time": "2021-12-28T19:55:35.232Z"
   },
   {
    "duration": 665,
    "start_time": "2021-12-28T19:55:35.239Z"
   },
   {
    "duration": 4,
    "start_time": "2021-12-28T19:55:35.906Z"
   },
   {
    "duration": 5,
    "start_time": "2021-12-28T19:55:35.912Z"
   },
   {
    "duration": 3004,
    "start_time": "2021-12-28T19:55:35.919Z"
   },
   {
    "duration": 8,
    "start_time": "2021-12-28T19:55:38.925Z"
   },
   {
    "duration": 6,
    "start_time": "2021-12-28T19:55:38.935Z"
   },
   {
    "duration": 6,
    "start_time": "2021-12-28T20:06:32.091Z"
   },
   {
    "duration": 7,
    "start_time": "2021-12-28T20:08:25.507Z"
   },
   {
    "duration": 193,
    "start_time": "2021-12-28T20:35:18.748Z"
   },
   {
    "duration": 5,
    "start_time": "2021-12-28T20:36:00.786Z"
   },
   {
    "duration": 8,
    "start_time": "2021-12-28T20:36:16.877Z"
   },
   {
    "duration": 7,
    "start_time": "2021-12-28T20:44:28.349Z"
   },
   {
    "duration": 45,
    "start_time": "2021-12-28T20:45:35.962Z"
   },
   {
    "duration": 476,
    "start_time": "2021-12-28T20:45:42.505Z"
   },
   {
    "duration": 9,
    "start_time": "2021-12-28T20:48:10.644Z"
   },
   {
    "duration": 10,
    "start_time": "2021-12-28T20:48:21.782Z"
   },
   {
    "duration": 3,
    "start_time": "2021-12-28T20:48:31.068Z"
   },
   {
    "duration": 57,
    "start_time": "2021-12-28T20:48:31.073Z"
   },
   {
    "duration": 14,
    "start_time": "2021-12-28T20:48:31.133Z"
   },
   {
    "duration": 17,
    "start_time": "2021-12-28T20:48:31.149Z"
   },
   {
    "duration": 26,
    "start_time": "2021-12-28T20:48:31.168Z"
   },
   {
    "duration": 8,
    "start_time": "2021-12-28T20:48:31.196Z"
   },
   {
    "duration": 15,
    "start_time": "2021-12-28T20:48:31.206Z"
   },
   {
    "duration": 21,
    "start_time": "2021-12-28T20:48:31.223Z"
   },
   {
    "duration": 7,
    "start_time": "2021-12-28T20:48:31.247Z"
   },
   {
    "duration": 37,
    "start_time": "2021-12-28T20:48:31.257Z"
   },
   {
    "duration": 10,
    "start_time": "2021-12-28T20:48:31.296Z"
   },
   {
    "duration": 28,
    "start_time": "2021-12-28T20:48:31.307Z"
   },
   {
    "duration": 18,
    "start_time": "2021-12-28T20:48:31.337Z"
   },
   {
    "duration": 22,
    "start_time": "2021-12-28T20:48:31.357Z"
   },
   {
    "duration": 34,
    "start_time": "2021-12-28T20:48:31.380Z"
   },
   {
    "duration": 23,
    "start_time": "2021-12-28T20:48:31.415Z"
   },
   {
    "duration": 41,
    "start_time": "2021-12-28T20:48:31.439Z"
   },
   {
    "duration": 43,
    "start_time": "2021-12-28T20:48:31.482Z"
   },
   {
    "duration": 10,
    "start_time": "2021-12-28T20:48:31.526Z"
   },
   {
    "duration": 39,
    "start_time": "2021-12-28T20:48:31.537Z"
   },
   {
    "duration": 22,
    "start_time": "2021-12-28T20:48:31.578Z"
   },
   {
    "duration": 29,
    "start_time": "2021-12-28T20:48:31.602Z"
   },
   {
    "duration": 5,
    "start_time": "2021-12-28T20:48:31.633Z"
   },
   {
    "duration": 24,
    "start_time": "2021-12-28T20:48:31.640Z"
   },
   {
    "duration": 41,
    "start_time": "2021-12-28T20:48:31.665Z"
   },
   {
    "duration": 20,
    "start_time": "2021-12-28T20:48:31.708Z"
   },
   {
    "duration": 29,
    "start_time": "2021-12-28T20:48:31.730Z"
   },
   {
    "duration": 30,
    "start_time": "2021-12-28T20:48:31.761Z"
   },
   {
    "duration": 8,
    "start_time": "2021-12-28T20:48:31.793Z"
   },
   {
    "duration": 684,
    "start_time": "2021-12-28T20:48:31.802Z"
   },
   {
    "duration": 4,
    "start_time": "2021-12-28T20:48:32.491Z"
   },
   {
    "duration": 17,
    "start_time": "2021-12-28T20:48:32.497Z"
   },
   {
    "duration": 2875,
    "start_time": "2021-12-28T20:48:32.516Z"
   },
   {
    "duration": 44,
    "start_time": "2021-12-28T20:48:35.393Z"
   },
   {
    "duration": 1360,
    "start_time": "2021-12-28T20:48:34.080Z"
   },
   {
    "duration": 1346,
    "start_time": "2021-12-28T20:48:34.095Z"
   },
   {
    "duration": 1342,
    "start_time": "2021-12-28T20:48:34.101Z"
   },
   {
    "duration": 1326,
    "start_time": "2021-12-28T20:48:34.118Z"
   },
   {
    "duration": 10,
    "start_time": "2021-12-28T20:48:58.787Z"
   },
   {
    "duration": 9,
    "start_time": "2021-12-28T20:49:05.357Z"
   },
   {
    "duration": 6,
    "start_time": "2021-12-28T20:49:37.785Z"
   },
   {
    "duration": 2744,
    "start_time": "2021-12-28T20:49:43.417Z"
   },
   {
    "duration": 6,
    "start_time": "2021-12-28T20:49:46.218Z"
   },
   {
    "duration": 3,
    "start_time": "2021-12-28T20:49:49.828Z"
   },
   {
    "duration": 53,
    "start_time": "2021-12-28T20:49:49.832Z"
   },
   {
    "duration": 13,
    "start_time": "2021-12-28T20:49:49.887Z"
   },
   {
    "duration": 11,
    "start_time": "2021-12-28T20:49:49.902Z"
   },
   {
    "duration": 6,
    "start_time": "2021-12-28T20:49:49.914Z"
   },
   {
    "duration": 6,
    "start_time": "2021-12-28T20:49:49.921Z"
   },
   {
    "duration": 7,
    "start_time": "2021-12-28T20:49:49.929Z"
   },
   {
    "duration": 8,
    "start_time": "2021-12-28T20:49:49.938Z"
   },
   {
    "duration": 7,
    "start_time": "2021-12-28T20:49:49.947Z"
   },
   {
    "duration": 44,
    "start_time": "2021-12-28T20:49:49.955Z"
   },
   {
    "duration": 8,
    "start_time": "2021-12-28T20:49:50.001Z"
   },
   {
    "duration": 9,
    "start_time": "2021-12-28T20:49:50.011Z"
   },
   {
    "duration": 8,
    "start_time": "2021-12-28T20:49:50.022Z"
   },
   {
    "duration": 9,
    "start_time": "2021-12-28T20:49:50.032Z"
   },
   {
    "duration": 14,
    "start_time": "2021-12-28T20:49:50.043Z"
   },
   {
    "duration": 24,
    "start_time": "2021-12-28T20:49:50.522Z"
   },
   {
    "duration": 42,
    "start_time": "2021-12-28T20:49:50.548Z"
   },
   {
    "duration": 40,
    "start_time": "2021-12-28T20:49:50.593Z"
   },
   {
    "duration": 11,
    "start_time": "2021-12-28T20:49:50.634Z"
   },
   {
    "duration": 4,
    "start_time": "2021-12-28T20:49:50.646Z"
   },
   {
    "duration": 6,
    "start_time": "2021-12-28T20:49:50.652Z"
   },
   {
    "duration": 42,
    "start_time": "2021-12-28T20:49:50.659Z"
   },
   {
    "duration": 6,
    "start_time": "2021-12-28T20:49:50.702Z"
   },
   {
    "duration": 12,
    "start_time": "2021-12-28T20:49:50.711Z"
   },
   {
    "duration": 21,
    "start_time": "2021-12-28T20:49:50.725Z"
   },
   {
    "duration": 48,
    "start_time": "2021-12-28T20:49:50.748Z"
   },
   {
    "duration": 17,
    "start_time": "2021-12-28T20:49:50.798Z"
   },
   {
    "duration": 24,
    "start_time": "2021-12-28T20:49:50.817Z"
   },
   {
    "duration": 6,
    "start_time": "2021-12-28T20:49:50.842Z"
   },
   {
    "duration": 712,
    "start_time": "2021-12-28T20:49:50.849Z"
   },
   {
    "duration": 4,
    "start_time": "2021-12-28T20:49:51.564Z"
   },
   {
    "duration": 8,
    "start_time": "2021-12-28T20:49:51.570Z"
   },
   {
    "duration": 2785,
    "start_time": "2021-12-28T20:49:51.592Z"
   },
   {
    "duration": 17,
    "start_time": "2021-12-28T20:49:54.378Z"
   },
   {
    "duration": 9,
    "start_time": "2021-12-28T20:49:54.397Z"
   },
   {
    "duration": 22,
    "start_time": "2021-12-28T20:49:54.407Z"
   },
   {
    "duration": 7,
    "start_time": "2021-12-28T20:49:54.431Z"
   },
   {
    "duration": 148,
    "start_time": "2021-12-28T21:07:39.109Z"
   },
   {
    "duration": 5,
    "start_time": "2021-12-28T21:07:46.788Z"
   },
   {
    "duration": 6,
    "start_time": "2021-12-28T21:08:06.943Z"
   },
   {
    "duration": 10,
    "start_time": "2021-12-28T21:08:29.078Z"
   },
   {
    "duration": 9,
    "start_time": "2021-12-28T21:08:34.625Z"
   },
   {
    "duration": 10,
    "start_time": "2021-12-28T21:08:49.958Z"
   },
   {
    "duration": 11,
    "start_time": "2021-12-28T21:10:42.052Z"
   },
   {
    "duration": 9,
    "start_time": "2021-12-28T21:11:05.972Z"
   },
   {
    "duration": 11,
    "start_time": "2021-12-28T21:17:20.898Z"
   },
   {
    "duration": 3,
    "start_time": "2021-12-28T21:28:32.041Z"
   },
   {
    "duration": 3,
    "start_time": "2021-12-28T21:29:48.627Z"
   },
   {
    "duration": 128,
    "start_time": "2021-12-28T21:31:18.893Z"
   },
   {
    "duration": 751,
    "start_time": "2021-12-28T21:31:31.411Z"
   },
   {
    "duration": 671,
    "start_time": "2021-12-28T21:32:59.696Z"
   },
   {
    "duration": 644,
    "start_time": "2021-12-28T21:33:26.499Z"
   },
   {
    "duration": 3,
    "start_time": "2021-12-28T21:33:30.961Z"
   },
   {
    "duration": 58,
    "start_time": "2021-12-28T21:33:30.966Z"
   },
   {
    "duration": 14,
    "start_time": "2021-12-28T21:33:31.026Z"
   },
   {
    "duration": 22,
    "start_time": "2021-12-28T21:33:31.042Z"
   },
   {
    "duration": 11,
    "start_time": "2021-12-28T21:33:31.066Z"
   },
   {
    "duration": 7,
    "start_time": "2021-12-28T21:33:31.092Z"
   },
   {
    "duration": 16,
    "start_time": "2021-12-28T21:33:31.100Z"
   },
   {
    "duration": 12,
    "start_time": "2021-12-28T21:33:31.117Z"
   },
   {
    "duration": 10,
    "start_time": "2021-12-28T21:33:31.131Z"
   },
   {
    "duration": 11,
    "start_time": "2021-12-28T21:33:31.143Z"
   },
   {
    "duration": 16,
    "start_time": "2021-12-28T21:33:31.156Z"
   },
   {
    "duration": 30,
    "start_time": "2021-12-28T21:33:31.173Z"
   },
   {
    "duration": 18,
    "start_time": "2021-12-28T21:33:31.204Z"
   },
   {
    "duration": 8,
    "start_time": "2021-12-28T21:33:31.224Z"
   },
   {
    "duration": 35,
    "start_time": "2021-12-28T21:33:31.234Z"
   },
   {
    "duration": 26,
    "start_time": "2021-12-28T21:33:31.271Z"
   },
   {
    "duration": 43,
    "start_time": "2021-12-28T21:33:31.299Z"
   },
   {
    "duration": 61,
    "start_time": "2021-12-28T21:33:31.344Z"
   },
   {
    "duration": 11,
    "start_time": "2021-12-28T21:33:31.407Z"
   },
   {
    "duration": 4,
    "start_time": "2021-12-28T21:33:31.421Z"
   },
   {
    "duration": 9,
    "start_time": "2021-12-28T21:33:31.427Z"
   },
   {
    "duration": 22,
    "start_time": "2021-12-28T21:33:31.438Z"
   },
   {
    "duration": 30,
    "start_time": "2021-12-28T21:33:31.462Z"
   },
   {
    "duration": 14,
    "start_time": "2021-12-28T21:33:31.494Z"
   },
   {
    "duration": 22,
    "start_time": "2021-12-28T21:33:31.510Z"
   },
   {
    "duration": 21,
    "start_time": "2021-12-28T21:33:31.534Z"
   },
   {
    "duration": 45,
    "start_time": "2021-12-28T21:33:31.559Z"
   },
   {
    "duration": 24,
    "start_time": "2021-12-28T21:33:31.606Z"
   },
   {
    "duration": 5,
    "start_time": "2021-12-28T21:33:31.632Z"
   },
   {
    "duration": 676,
    "start_time": "2021-12-28T21:33:31.639Z"
   },
   {
    "duration": 4,
    "start_time": "2021-12-28T21:33:32.317Z"
   },
   {
    "duration": 9,
    "start_time": "2021-12-28T21:33:32.324Z"
   },
   {
    "duration": 2792,
    "start_time": "2021-12-28T21:33:32.334Z"
   },
   {
    "duration": 5,
    "start_time": "2021-12-28T21:33:35.128Z"
   },
   {
    "duration": 9,
    "start_time": "2021-12-28T21:33:35.135Z"
   },
   {
    "duration": 9,
    "start_time": "2021-12-28T21:33:35.146Z"
   },
   {
    "duration": 736,
    "start_time": "2021-12-28T21:33:35.157Z"
   },
   {
    "duration": 1414,
    "start_time": "2021-12-28T21:33:34.481Z"
   },
   {
    "duration": 1410,
    "start_time": "2021-12-28T21:33:34.486Z"
   },
   {
    "duration": 43,
    "start_time": "2021-12-28T21:34:29.009Z"
   },
   {
    "duration": 10,
    "start_time": "2021-12-28T21:34:34.097Z"
   },
   {
    "duration": 12,
    "start_time": "2021-12-28T21:34:59.040Z"
   },
   {
    "duration": 151,
    "start_time": "2021-12-28T22:21:27.981Z"
   },
   {
    "duration": 133,
    "start_time": "2021-12-28T22:26:02.539Z"
   },
   {
    "duration": 8,
    "start_time": "2021-12-28T22:26:14.309Z"
   },
   {
    "duration": 14,
    "start_time": "2021-12-28T22:26:23.487Z"
   },
   {
    "duration": 14,
    "start_time": "2021-12-28T22:31:59.246Z"
   },
   {
    "duration": 14,
    "start_time": "2021-12-28T22:33:44.233Z"
   },
   {
    "duration": 9,
    "start_time": "2021-12-28T22:35:14.953Z"
   },
   {
    "duration": 16,
    "start_time": "2021-12-28T22:35:23.376Z"
   },
   {
    "duration": 530,
    "start_time": "2021-12-29T00:45:28.130Z"
   },
   {
    "duration": 50,
    "start_time": "2021-12-29T00:45:28.662Z"
   },
   {
    "duration": 18,
    "start_time": "2021-12-29T00:45:28.715Z"
   },
   {
    "duration": 13,
    "start_time": "2021-12-29T00:45:28.735Z"
   },
   {
    "duration": 5,
    "start_time": "2021-12-29T00:45:28.750Z"
   },
   {
    "duration": 7,
    "start_time": "2021-12-29T00:45:28.757Z"
   },
   {
    "duration": 7,
    "start_time": "2021-12-29T00:45:28.792Z"
   },
   {
    "duration": 8,
    "start_time": "2021-12-29T00:45:28.800Z"
   },
   {
    "duration": 6,
    "start_time": "2021-12-29T00:45:28.811Z"
   },
   {
    "duration": 8,
    "start_time": "2021-12-29T00:45:28.819Z"
   },
   {
    "duration": 8,
    "start_time": "2021-12-29T00:45:28.828Z"
   },
   {
    "duration": 8,
    "start_time": "2021-12-29T00:45:28.838Z"
   },
   {
    "duration": 44,
    "start_time": "2021-12-29T00:45:28.848Z"
   },
   {
    "duration": 5,
    "start_time": "2021-12-29T00:45:28.895Z"
   },
   {
    "duration": 17,
    "start_time": "2021-12-29T00:45:28.902Z"
   },
   {
    "duration": 24,
    "start_time": "2021-12-29T00:45:28.921Z"
   },
   {
    "duration": 68,
    "start_time": "2021-12-29T00:45:28.946Z"
   },
   {
    "duration": 40,
    "start_time": "2021-12-29T00:45:29.016Z"
   },
   {
    "duration": 11,
    "start_time": "2021-12-29T00:45:29.058Z"
   },
   {
    "duration": 21,
    "start_time": "2021-12-29T00:45:29.070Z"
   },
   {
    "duration": 9,
    "start_time": "2021-12-29T00:45:29.093Z"
   },
   {
    "duration": 21,
    "start_time": "2021-12-29T00:45:29.103Z"
   },
   {
    "duration": 5,
    "start_time": "2021-12-29T00:45:29.125Z"
   },
   {
    "duration": 12,
    "start_time": "2021-12-29T00:45:29.132Z"
   },
   {
    "duration": 19,
    "start_time": "2021-12-29T00:45:29.146Z"
   },
   {
    "duration": 20,
    "start_time": "2021-12-29T00:45:29.191Z"
   },
   {
    "duration": 15,
    "start_time": "2021-12-29T00:45:29.214Z"
   },
   {
    "duration": 4,
    "start_time": "2021-12-29T00:45:29.231Z"
   },
   {
    "duration": 6,
    "start_time": "2021-12-29T00:45:29.236Z"
   },
   {
    "duration": 705,
    "start_time": "2021-12-29T00:45:29.243Z"
   },
   {
    "duration": 4,
    "start_time": "2021-12-29T00:45:29.950Z"
   },
   {
    "duration": 9,
    "start_time": "2021-12-29T00:45:29.956Z"
   },
   {
    "duration": 3095,
    "start_time": "2021-12-29T00:45:29.966Z"
   },
   {
    "duration": 6,
    "start_time": "2021-12-29T00:45:33.063Z"
   },
   {
    "duration": 29,
    "start_time": "2021-12-29T00:45:33.070Z"
   },
   {
    "duration": 10,
    "start_time": "2021-12-29T00:45:33.101Z"
   },
   {
    "duration": 12,
    "start_time": "2021-12-29T00:45:33.113Z"
   },
   {
    "duration": 16,
    "start_time": "2021-12-29T00:45:33.127Z"
   },
   {
    "duration": 7,
    "start_time": "2021-12-29T00:45:33.145Z"
   },
   {
    "duration": 47,
    "start_time": "2021-12-29T00:45:33.154Z"
   },
   {
    "duration": 15,
    "start_time": "2021-12-29T00:45:33.203Z"
   },
   {
    "duration": 14,
    "start_time": "2021-12-29T00:45:33.219Z"
   },
   {
    "duration": 16,
    "start_time": "2021-12-29T00:45:57.191Z"
   },
   {
    "duration": 16,
    "start_time": "2021-12-29T00:47:32.886Z"
   },
   {
    "duration": 216,
    "start_time": "2021-12-29T00:52:38.245Z"
   },
   {
    "duration": 144,
    "start_time": "2021-12-29T00:52:53.140Z"
   },
   {
    "duration": 146,
    "start_time": "2021-12-29T00:52:57.666Z"
   },
   {
    "duration": 15,
    "start_time": "2021-12-29T00:53:03.691Z"
   },
   {
    "duration": 17,
    "start_time": "2021-12-29T00:59:51.027Z"
   },
   {
    "duration": 229,
    "start_time": "2021-12-29T01:04:01.241Z"
   },
   {
    "duration": 10,
    "start_time": "2021-12-29T01:04:25.586Z"
   },
   {
    "duration": 148,
    "start_time": "2021-12-29T01:05:46.047Z"
   },
   {
    "duration": 15,
    "start_time": "2021-12-29T01:06:03.016Z"
   },
   {
    "duration": 548,
    "start_time": "2021-12-29T01:08:03.155Z"
   },
   {
    "duration": 13,
    "start_time": "2021-12-29T01:08:33.942Z"
   },
   {
    "duration": 16,
    "start_time": "2021-12-29T01:10:03.279Z"
   },
   {
    "duration": 14,
    "start_time": "2021-12-29T01:10:38.999Z"
   },
   {
    "duration": 3,
    "start_time": "2021-12-29T01:10:42.924Z"
   },
   {
    "duration": 54,
    "start_time": "2021-12-29T01:10:42.929Z"
   },
   {
    "duration": 14,
    "start_time": "2021-12-29T01:10:42.985Z"
   },
   {
    "duration": 12,
    "start_time": "2021-12-29T01:10:43.035Z"
   },
   {
    "duration": 4,
    "start_time": "2021-12-29T01:10:43.049Z"
   },
   {
    "duration": 6,
    "start_time": "2021-12-29T01:10:43.055Z"
   },
   {
    "duration": 8,
    "start_time": "2021-12-29T01:10:43.063Z"
   },
   {
    "duration": 11,
    "start_time": "2021-12-29T01:10:43.073Z"
   },
   {
    "duration": 5,
    "start_time": "2021-12-29T01:10:43.092Z"
   },
   {
    "duration": 10,
    "start_time": "2021-12-29T01:10:43.099Z"
   },
   {
    "duration": 10,
    "start_time": "2021-12-29T01:10:43.110Z"
   },
   {
    "duration": 11,
    "start_time": "2021-12-29T01:10:43.123Z"
   },
   {
    "duration": 7,
    "start_time": "2021-12-29T01:10:43.137Z"
   },
   {
    "duration": 4,
    "start_time": "2021-12-29T01:10:43.146Z"
   },
   {
    "duration": 14,
    "start_time": "2021-12-29T01:10:43.193Z"
   },
   {
    "duration": 25,
    "start_time": "2021-12-29T01:10:43.209Z"
   },
   {
    "duration": 72,
    "start_time": "2021-12-29T01:10:43.236Z"
   },
   {
    "duration": 40,
    "start_time": "2021-12-29T01:10:43.309Z"
   },
   {
    "duration": 11,
    "start_time": "2021-12-29T01:10:43.351Z"
   },
   {
    "duration": 29,
    "start_time": "2021-12-29T01:10:43.364Z"
   },
   {
    "duration": 6,
    "start_time": "2021-12-29T01:10:43.395Z"
   },
   {
    "duration": 17,
    "start_time": "2021-12-29T01:10:43.403Z"
   },
   {
    "duration": 6,
    "start_time": "2021-12-29T01:10:43.421Z"
   },
   {
    "duration": 11,
    "start_time": "2021-12-29T01:10:43.429Z"
   },
   {
    "duration": 55,
    "start_time": "2021-12-29T01:10:43.442Z"
   },
   {
    "duration": 19,
    "start_time": "2021-12-29T01:10:43.500Z"
   },
   {
    "duration": 18,
    "start_time": "2021-12-29T01:10:43.521Z"
   },
   {
    "duration": 3,
    "start_time": "2021-12-29T01:10:43.543Z"
   },
   {
    "duration": 6,
    "start_time": "2021-12-29T01:10:43.548Z"
   },
   {
    "duration": 706,
    "start_time": "2021-12-29T01:10:43.556Z"
   },
   {
    "duration": 4,
    "start_time": "2021-12-29T01:10:44.265Z"
   },
   {
    "duration": 20,
    "start_time": "2021-12-29T01:10:44.271Z"
   },
   {
    "duration": 2804,
    "start_time": "2021-12-29T01:10:44.293Z"
   },
   {
    "duration": 6,
    "start_time": "2021-12-29T01:10:47.098Z"
   },
   {
    "duration": 11,
    "start_time": "2021-12-29T01:10:47.105Z"
   },
   {
    "duration": 10,
    "start_time": "2021-12-29T01:10:47.117Z"
   },
   {
    "duration": 11,
    "start_time": "2021-12-29T01:10:47.129Z"
   },
   {
    "duration": 14,
    "start_time": "2021-12-29T01:10:47.141Z"
   },
   {
    "duration": 39,
    "start_time": "2021-12-29T01:10:47.157Z"
   },
   {
    "duration": 18,
    "start_time": "2021-12-29T01:10:47.198Z"
   },
   {
    "duration": 14,
    "start_time": "2021-12-29T01:10:47.217Z"
   },
   {
    "duration": 14,
    "start_time": "2021-12-29T01:10:47.233Z"
   },
   {
    "duration": 46,
    "start_time": "2021-12-29T01:10:47.248Z"
   },
   {
    "duration": 14,
    "start_time": "2021-12-29T01:10:47.296Z"
   },
   {
    "duration": 14,
    "start_time": "2021-12-29T01:12:13.807Z"
   },
   {
    "duration": 14,
    "start_time": "2021-12-29T01:12:23.399Z"
   },
   {
    "duration": 15,
    "start_time": "2021-12-29T01:12:32.553Z"
   },
   {
    "duration": 14,
    "start_time": "2021-12-29T01:12:45.456Z"
   },
   {
    "duration": 522,
    "start_time": "2021-12-29T01:13:16.619Z"
   },
   {
    "duration": 52,
    "start_time": "2021-12-29T01:13:17.142Z"
   },
   {
    "duration": 18,
    "start_time": "2021-12-29T01:13:17.196Z"
   },
   {
    "duration": 12,
    "start_time": "2021-12-29T01:13:17.217Z"
   },
   {
    "duration": 6,
    "start_time": "2021-12-29T01:13:17.231Z"
   },
   {
    "duration": 12,
    "start_time": "2021-12-29T01:13:17.238Z"
   },
   {
    "duration": 13,
    "start_time": "2021-12-29T01:13:17.251Z"
   },
   {
    "duration": 28,
    "start_time": "2021-12-29T01:13:17.267Z"
   },
   {
    "duration": 7,
    "start_time": "2021-12-29T01:13:17.297Z"
   },
   {
    "duration": 14,
    "start_time": "2021-12-29T01:13:17.306Z"
   },
   {
    "duration": 8,
    "start_time": "2021-12-29T01:13:17.322Z"
   },
   {
    "duration": 8,
    "start_time": "2021-12-29T01:13:17.332Z"
   },
   {
    "duration": 8,
    "start_time": "2021-12-29T01:13:17.341Z"
   },
   {
    "duration": 5,
    "start_time": "2021-12-29T01:13:17.350Z"
   },
   {
    "duration": 41,
    "start_time": "2021-12-29T01:13:17.357Z"
   },
   {
    "duration": 21,
    "start_time": "2021-12-29T01:13:17.399Z"
   },
   {
    "duration": 38,
    "start_time": "2021-12-29T01:13:17.421Z"
   },
   {
    "duration": 62,
    "start_time": "2021-12-29T01:13:17.460Z"
   },
   {
    "duration": 9,
    "start_time": "2021-12-29T01:13:17.523Z"
   },
   {
    "duration": 6,
    "start_time": "2021-12-29T01:13:17.533Z"
   },
   {
    "duration": 6,
    "start_time": "2021-12-29T01:13:17.541Z"
   },
   {
    "duration": 19,
    "start_time": "2021-12-29T01:13:17.549Z"
   },
   {
    "duration": 4,
    "start_time": "2021-12-29T01:13:17.591Z"
   },
   {
    "duration": 13,
    "start_time": "2021-12-29T01:13:17.597Z"
   },
   {
    "duration": 18,
    "start_time": "2021-12-29T01:13:17.612Z"
   },
   {
    "duration": 21,
    "start_time": "2021-12-29T01:13:17.632Z"
   },
   {
    "duration": 50,
    "start_time": "2021-12-29T01:13:17.654Z"
   },
   {
    "duration": 5,
    "start_time": "2021-12-29T01:13:17.706Z"
   },
   {
    "duration": 6,
    "start_time": "2021-12-29T01:13:17.713Z"
   },
   {
    "duration": 680,
    "start_time": "2021-12-29T01:13:17.720Z"
   },
   {
    "duration": 4,
    "start_time": "2021-12-29T01:13:18.402Z"
   },
   {
    "duration": 5,
    "start_time": "2021-12-29T01:13:18.408Z"
   },
   {
    "duration": 2746,
    "start_time": "2021-12-29T01:13:18.415Z"
   },
   {
    "duration": 6,
    "start_time": "2021-12-29T01:13:21.162Z"
   },
   {
    "duration": 25,
    "start_time": "2021-12-29T01:13:21.170Z"
   },
   {
    "duration": 10,
    "start_time": "2021-12-29T01:13:21.197Z"
   },
   {
    "duration": 25,
    "start_time": "2021-12-29T01:13:21.208Z"
   },
   {
    "duration": 13,
    "start_time": "2021-12-29T01:13:21.235Z"
   },
   {
    "duration": 7,
    "start_time": "2021-12-29T01:13:21.249Z"
   },
   {
    "duration": 34,
    "start_time": "2021-12-29T01:13:21.258Z"
   },
   {
    "duration": 13,
    "start_time": "2021-12-29T01:13:21.294Z"
   },
   {
    "duration": 12,
    "start_time": "2021-12-29T01:13:21.308Z"
   },
   {
    "duration": 12,
    "start_time": "2021-12-29T01:13:21.321Z"
   },
   {
    "duration": 12,
    "start_time": "2021-12-29T01:13:21.334Z"
   },
   {
    "duration": 13,
    "start_time": "2021-12-29T01:13:48.675Z"
   },
   {
    "duration": 14,
    "start_time": "2021-12-29T01:13:56.218Z"
   },
   {
    "duration": 14,
    "start_time": "2021-12-29T01:14:19.412Z"
   },
   {
    "duration": 2,
    "start_time": "2021-12-29T01:14:27.282Z"
   },
   {
    "duration": 50,
    "start_time": "2021-12-29T01:14:27.317Z"
   },
   {
    "duration": 12,
    "start_time": "2021-12-29T01:14:27.369Z"
   },
   {
    "duration": 11,
    "start_time": "2021-12-29T01:14:27.383Z"
   },
   {
    "duration": 5,
    "start_time": "2021-12-29T01:14:27.396Z"
   },
   {
    "duration": 7,
    "start_time": "2021-12-29T01:14:27.402Z"
   },
   {
    "duration": 8,
    "start_time": "2021-12-29T01:14:27.411Z"
   },
   {
    "duration": 9,
    "start_time": "2021-12-29T01:14:27.420Z"
   },
   {
    "duration": 6,
    "start_time": "2021-12-29T01:14:27.431Z"
   },
   {
    "duration": 9,
    "start_time": "2021-12-29T01:14:27.440Z"
   },
   {
    "duration": 48,
    "start_time": "2021-12-29T01:14:27.451Z"
   },
   {
    "duration": 11,
    "start_time": "2021-12-29T01:14:27.501Z"
   },
   {
    "duration": 7,
    "start_time": "2021-12-29T01:14:27.514Z"
   },
   {
    "duration": 6,
    "start_time": "2021-12-29T01:14:27.523Z"
   },
   {
    "duration": 18,
    "start_time": "2021-12-29T01:14:27.530Z"
   },
   {
    "duration": 63,
    "start_time": "2021-12-29T01:14:27.550Z"
   },
   {
    "duration": 43,
    "start_time": "2021-12-29T01:14:27.615Z"
   },
   {
    "duration": 60,
    "start_time": "2021-12-29T01:14:27.660Z"
   },
   {
    "duration": 11,
    "start_time": "2021-12-29T01:14:27.722Z"
   },
   {
    "duration": 17,
    "start_time": "2021-12-29T01:14:27.735Z"
   },
   {
    "duration": 18,
    "start_time": "2021-12-29T01:14:27.754Z"
   },
   {
    "duration": 24,
    "start_time": "2021-12-29T01:14:27.774Z"
   },
   {
    "duration": 6,
    "start_time": "2021-12-29T01:14:27.800Z"
   },
   {
    "duration": 23,
    "start_time": "2021-12-29T01:14:27.808Z"
   },
   {
    "duration": 27,
    "start_time": "2021-12-29T01:14:27.833Z"
   },
   {
    "duration": 20,
    "start_time": "2021-12-29T01:14:27.862Z"
   },
   {
    "duration": 16,
    "start_time": "2021-12-29T01:14:27.891Z"
   },
   {
    "duration": 25,
    "start_time": "2021-12-29T01:14:27.911Z"
   },
   {
    "duration": 6,
    "start_time": "2021-12-29T01:14:27.938Z"
   },
   {
    "duration": 702,
    "start_time": "2021-12-29T01:14:27.946Z"
   },
   {
    "duration": 4,
    "start_time": "2021-12-29T01:14:28.651Z"
   },
   {
    "duration": 7,
    "start_time": "2021-12-29T01:14:28.657Z"
   },
   {
    "duration": 2874,
    "start_time": "2021-12-29T01:14:28.665Z"
   },
   {
    "duration": 5,
    "start_time": "2021-12-29T01:14:31.541Z"
   },
   {
    "duration": 6,
    "start_time": "2021-12-29T01:14:31.548Z"
   },
   {
    "duration": 11,
    "start_time": "2021-12-29T01:14:31.555Z"
   },
   {
    "duration": 12,
    "start_time": "2021-12-29T01:14:31.592Z"
   },
   {
    "duration": 16,
    "start_time": "2021-12-29T01:14:31.605Z"
   },
   {
    "duration": 7,
    "start_time": "2021-12-29T01:14:31.622Z"
   },
   {
    "duration": 23,
    "start_time": "2021-12-29T01:14:31.630Z"
   },
   {
    "duration": 13,
    "start_time": "2021-12-29T01:14:31.655Z"
   },
   {
    "duration": 12,
    "start_time": "2021-12-29T01:14:31.692Z"
   },
   {
    "duration": 12,
    "start_time": "2021-12-29T01:14:31.705Z"
   },
   {
    "duration": 11,
    "start_time": "2021-12-29T01:14:31.719Z"
   },
   {
    "duration": 16,
    "start_time": "2021-12-29T01:14:45.451Z"
   },
   {
    "duration": 12,
    "start_time": "2021-12-29T01:14:46.139Z"
   },
   {
    "duration": 14,
    "start_time": "2021-12-29T01:14:52.636Z"
   },
   {
    "duration": 13,
    "start_time": "2021-12-29T01:14:58.260Z"
   },
   {
    "duration": 14,
    "start_time": "2021-12-29T01:15:02.061Z"
   },
   {
    "duration": 13,
    "start_time": "2021-12-29T01:15:48.582Z"
   },
   {
    "duration": 2,
    "start_time": "2021-12-29T01:16:10.153Z"
   },
   {
    "duration": 56,
    "start_time": "2021-12-29T01:16:10.157Z"
   },
   {
    "duration": 12,
    "start_time": "2021-12-29T01:16:10.215Z"
   },
   {
    "duration": 13,
    "start_time": "2021-12-29T01:16:10.228Z"
   },
   {
    "duration": 5,
    "start_time": "2021-12-29T01:16:10.243Z"
   },
   {
    "duration": 8,
    "start_time": "2021-12-29T01:16:10.250Z"
   },
   {
    "duration": 39,
    "start_time": "2021-12-29T01:16:10.260Z"
   },
   {
    "duration": 9,
    "start_time": "2021-12-29T01:16:10.301Z"
   },
   {
    "duration": 7,
    "start_time": "2021-12-29T01:16:10.313Z"
   },
   {
    "duration": 8,
    "start_time": "2021-12-29T01:16:10.322Z"
   },
   {
    "duration": 8,
    "start_time": "2021-12-29T01:16:10.332Z"
   },
   {
    "duration": 9,
    "start_time": "2021-12-29T01:16:10.341Z"
   },
   {
    "duration": 43,
    "start_time": "2021-12-29T01:16:10.351Z"
   },
   {
    "duration": 4,
    "start_time": "2021-12-29T01:16:10.396Z"
   },
   {
    "duration": 16,
    "start_time": "2021-12-29T01:16:10.401Z"
   },
   {
    "duration": 21,
    "start_time": "2021-12-29T01:16:10.418Z"
   },
   {
    "duration": 62,
    "start_time": "2021-12-29T01:16:10.440Z"
   },
   {
    "duration": 37,
    "start_time": "2021-12-29T01:16:10.504Z"
   },
   {
    "duration": 9,
    "start_time": "2021-12-29T01:16:10.542Z"
   },
   {
    "duration": 7,
    "start_time": "2021-12-29T01:16:10.553Z"
   },
   {
    "duration": 7,
    "start_time": "2021-12-29T01:16:10.562Z"
   },
   {
    "duration": 30,
    "start_time": "2021-12-29T01:16:10.571Z"
   },
   {
    "duration": 4,
    "start_time": "2021-12-29T01:16:10.603Z"
   },
   {
    "duration": 13,
    "start_time": "2021-12-29T01:16:10.608Z"
   },
   {
    "duration": 26,
    "start_time": "2021-12-29T01:16:10.622Z"
   },
   {
    "duration": 20,
    "start_time": "2021-12-29T01:16:10.649Z"
   },
   {
    "duration": 17,
    "start_time": "2021-12-29T01:16:10.692Z"
   },
   {
    "duration": 27,
    "start_time": "2021-12-29T01:16:10.710Z"
   },
   {
    "duration": 4,
    "start_time": "2021-12-29T01:16:10.738Z"
   },
   {
    "duration": 692,
    "start_time": "2021-12-29T01:16:10.744Z"
   },
   {
    "duration": 4,
    "start_time": "2021-12-29T01:16:11.438Z"
   },
   {
    "duration": 4,
    "start_time": "2021-12-29T01:16:11.444Z"
   },
   {
    "duration": 2826,
    "start_time": "2021-12-29T01:16:11.450Z"
   },
   {
    "duration": 14,
    "start_time": "2021-12-29T01:16:14.278Z"
   },
   {
    "duration": 6,
    "start_time": "2021-12-29T01:16:14.294Z"
   },
   {
    "duration": 10,
    "start_time": "2021-12-29T01:16:14.302Z"
   },
   {
    "duration": 12,
    "start_time": "2021-12-29T01:16:14.313Z"
   },
   {
    "duration": 13,
    "start_time": "2021-12-29T01:16:14.327Z"
   },
   {
    "duration": 6,
    "start_time": "2021-12-29T01:16:14.342Z"
   },
   {
    "duration": 54,
    "start_time": "2021-12-29T01:16:14.349Z"
   },
   {
    "duration": 13,
    "start_time": "2021-12-29T01:16:14.405Z"
   },
   {
    "duration": 12,
    "start_time": "2021-12-29T01:16:14.420Z"
   },
   {
    "duration": 12,
    "start_time": "2021-12-29T01:16:14.433Z"
   },
   {
    "duration": 15,
    "start_time": "2021-12-29T01:16:14.446Z"
   },
   {
    "duration": 14,
    "start_time": "2021-12-29T01:16:54.854Z"
   },
   {
    "duration": 14,
    "start_time": "2021-12-29T01:17:01.486Z"
   },
   {
    "duration": 2,
    "start_time": "2021-12-29T01:17:05.572Z"
   },
   {
    "duration": 55,
    "start_time": "2021-12-29T01:17:05.576Z"
   },
   {
    "duration": 13,
    "start_time": "2021-12-29T01:17:05.633Z"
   },
   {
    "duration": 13,
    "start_time": "2021-12-29T01:17:05.647Z"
   },
   {
    "duration": 30,
    "start_time": "2021-12-29T01:17:05.661Z"
   },
   {
    "duration": 9,
    "start_time": "2021-12-29T01:17:05.693Z"
   },
   {
    "duration": 10,
    "start_time": "2021-12-29T01:17:05.704Z"
   },
   {
    "duration": 8,
    "start_time": "2021-12-29T01:17:05.716Z"
   },
   {
    "duration": 5,
    "start_time": "2021-12-29T01:17:05.728Z"
   },
   {
    "duration": 8,
    "start_time": "2021-12-29T01:17:05.736Z"
   },
   {
    "duration": 50,
    "start_time": "2021-12-29T01:17:05.746Z"
   },
   {
    "duration": 12,
    "start_time": "2021-12-29T01:17:05.798Z"
   },
   {
    "duration": 7,
    "start_time": "2021-12-29T01:17:05.811Z"
   },
   {
    "duration": 8,
    "start_time": "2021-12-29T01:17:05.819Z"
   },
   {
    "duration": 15,
    "start_time": "2021-12-29T01:17:05.828Z"
   },
   {
    "duration": 55,
    "start_time": "2021-12-29T01:17:05.844Z"
   },
   {
    "duration": 37,
    "start_time": "2021-12-29T01:17:05.900Z"
   },
   {
    "duration": 51,
    "start_time": "2021-12-29T01:17:05.939Z"
   },
   {
    "duration": 9,
    "start_time": "2021-12-29T01:17:05.992Z"
   },
   {
    "duration": 3,
    "start_time": "2021-12-29T01:17:06.003Z"
   },
   {
    "duration": 7,
    "start_time": "2021-12-29T01:17:06.007Z"
   },
   {
    "duration": 19,
    "start_time": "2021-12-29T01:17:06.015Z"
   },
   {
    "duration": 4,
    "start_time": "2021-12-29T01:17:06.035Z"
   },
   {
    "duration": 11,
    "start_time": "2021-12-29T01:17:06.041Z"
   },
   {
    "duration": 48,
    "start_time": "2021-12-29T01:17:06.053Z"
   },
   {
    "duration": 19,
    "start_time": "2021-12-29T01:17:06.102Z"
   },
   {
    "duration": 15,
    "start_time": "2021-12-29T01:17:06.124Z"
   },
   {
    "duration": 26,
    "start_time": "2021-12-29T01:17:06.140Z"
   },
   {
    "duration": 24,
    "start_time": "2021-12-29T01:17:06.168Z"
   },
   {
    "duration": 673,
    "start_time": "2021-12-29T01:17:06.194Z"
   },
   {
    "duration": 4,
    "start_time": "2021-12-29T01:17:06.869Z"
   },
   {
    "duration": 20,
    "start_time": "2021-12-29T01:17:06.874Z"
   },
   {
    "duration": 2745,
    "start_time": "2021-12-29T01:17:06.896Z"
   },
   {
    "duration": 5,
    "start_time": "2021-12-29T01:17:09.643Z"
   },
   {
    "duration": 7,
    "start_time": "2021-12-29T01:17:09.650Z"
   },
   {
    "duration": 33,
    "start_time": "2021-12-29T01:17:09.659Z"
   },
   {
    "duration": 13,
    "start_time": "2021-12-29T01:17:09.694Z"
   },
   {
    "duration": 14,
    "start_time": "2021-12-29T01:17:09.709Z"
   },
   {
    "duration": 7,
    "start_time": "2021-12-29T01:17:09.725Z"
   },
   {
    "duration": 17,
    "start_time": "2021-12-29T01:17:09.734Z"
   },
   {
    "duration": 46,
    "start_time": "2021-12-29T01:17:09.753Z"
   },
   {
    "duration": 13,
    "start_time": "2021-12-29T01:17:09.801Z"
   },
   {
    "duration": 12,
    "start_time": "2021-12-29T01:17:09.816Z"
   },
   {
    "duration": 12,
    "start_time": "2021-12-29T01:17:09.830Z"
   },
   {
    "duration": 13,
    "start_time": "2021-12-29T01:17:33.356Z"
   },
   {
    "duration": 14,
    "start_time": "2021-12-29T01:17:36.356Z"
   },
   {
    "duration": 13,
    "start_time": "2021-12-29T01:17:38.572Z"
   },
   {
    "duration": 13,
    "start_time": "2021-12-29T01:17:40.649Z"
   },
   {
    "duration": 47,
    "start_time": "2021-12-29T01:28:17.377Z"
   },
   {
    "duration": 310,
    "start_time": "2021-12-29T01:28:34.484Z"
   },
   {
    "duration": 13,
    "start_time": "2021-12-29T01:30:58.457Z"
   },
   {
    "duration": 2,
    "start_time": "2021-12-29T01:31:03.787Z"
   },
   {
    "duration": 53,
    "start_time": "2021-12-29T01:31:03.791Z"
   },
   {
    "duration": 13,
    "start_time": "2021-12-29T01:31:03.846Z"
   },
   {
    "duration": 32,
    "start_time": "2021-12-29T01:31:03.861Z"
   },
   {
    "duration": 5,
    "start_time": "2021-12-29T01:31:03.895Z"
   },
   {
    "duration": 9,
    "start_time": "2021-12-29T01:31:03.901Z"
   },
   {
    "duration": 8,
    "start_time": "2021-12-29T01:31:03.912Z"
   },
   {
    "duration": 9,
    "start_time": "2021-12-29T01:31:03.923Z"
   },
   {
    "duration": 6,
    "start_time": "2021-12-29T01:31:03.934Z"
   },
   {
    "duration": 7,
    "start_time": "2021-12-29T01:31:03.942Z"
   },
   {
    "duration": 42,
    "start_time": "2021-12-29T01:31:03.951Z"
   },
   {
    "duration": 13,
    "start_time": "2021-12-29T01:31:03.995Z"
   },
   {
    "duration": 7,
    "start_time": "2021-12-29T01:31:04.009Z"
   },
   {
    "duration": 10,
    "start_time": "2021-12-29T01:31:04.017Z"
   },
   {
    "duration": 13,
    "start_time": "2021-12-29T01:31:04.029Z"
   },
   {
    "duration": 52,
    "start_time": "2021-12-29T01:31:04.044Z"
   },
   {
    "duration": 43,
    "start_time": "2021-12-29T01:31:04.098Z"
   },
   {
    "duration": 56,
    "start_time": "2021-12-29T01:31:04.142Z"
   },
   {
    "duration": 9,
    "start_time": "2021-12-29T01:31:04.200Z"
   },
   {
    "duration": 5,
    "start_time": "2021-12-29T01:31:04.210Z"
   },
   {
    "duration": 9,
    "start_time": "2021-12-29T01:31:04.216Z"
   },
   {
    "duration": 20,
    "start_time": "2021-12-29T01:31:04.227Z"
   },
   {
    "duration": 5,
    "start_time": "2021-12-29T01:31:04.250Z"
   },
   {
    "duration": 37,
    "start_time": "2021-12-29T01:31:04.257Z"
   },
   {
    "duration": 21,
    "start_time": "2021-12-29T01:31:04.296Z"
   },
   {
    "duration": 18,
    "start_time": "2021-12-29T01:31:04.319Z"
   },
   {
    "duration": 16,
    "start_time": "2021-12-29T01:31:04.339Z"
   },
   {
    "duration": 50,
    "start_time": "2021-12-29T01:31:04.357Z"
   },
   {
    "duration": 5,
    "start_time": "2021-12-29T01:31:04.409Z"
   },
   {
    "duration": 681,
    "start_time": "2021-12-29T01:31:04.415Z"
   },
   {
    "duration": 4,
    "start_time": "2021-12-29T01:31:05.098Z"
   },
   {
    "duration": 22,
    "start_time": "2021-12-29T01:31:05.104Z"
   },
   {
    "duration": 2846,
    "start_time": "2021-12-29T01:31:05.128Z"
   },
   {
    "duration": 17,
    "start_time": "2021-12-29T01:31:07.976Z"
   },
   {
    "duration": 11,
    "start_time": "2021-12-29T01:31:07.994Z"
   },
   {
    "duration": 10,
    "start_time": "2021-12-29T01:31:08.007Z"
   },
   {
    "duration": 90,
    "start_time": "2021-12-29T01:31:08.018Z"
   },
   {
    "duration": 13,
    "start_time": "2021-12-29T01:31:08.110Z"
   },
   {
    "duration": 6,
    "start_time": "2021-12-29T01:31:08.124Z"
   },
   {
    "duration": 15,
    "start_time": "2021-12-29T01:31:08.132Z"
   },
   {
    "duration": 43,
    "start_time": "2021-12-29T01:31:08.149Z"
   },
   {
    "duration": 12,
    "start_time": "2021-12-29T01:31:08.194Z"
   },
   {
    "duration": 13,
    "start_time": "2021-12-29T01:31:08.207Z"
   },
   {
    "duration": 11,
    "start_time": "2021-12-29T01:31:46.575Z"
   },
   {
    "duration": 12,
    "start_time": "2021-12-29T01:32:16.909Z"
   },
   {
    "duration": 2,
    "start_time": "2021-12-29T01:32:44.095Z"
   },
   {
    "duration": 54,
    "start_time": "2021-12-29T01:32:44.099Z"
   },
   {
    "duration": 12,
    "start_time": "2021-12-29T01:32:44.155Z"
   },
   {
    "duration": 28,
    "start_time": "2021-12-29T01:32:44.169Z"
   },
   {
    "duration": 5,
    "start_time": "2021-12-29T01:32:44.199Z"
   },
   {
    "duration": 11,
    "start_time": "2021-12-29T01:32:44.206Z"
   },
   {
    "duration": 9,
    "start_time": "2021-12-29T01:32:44.218Z"
   },
   {
    "duration": 10,
    "start_time": "2021-12-29T01:32:44.228Z"
   },
   {
    "duration": 5,
    "start_time": "2021-12-29T01:32:44.241Z"
   },
   {
    "duration": 8,
    "start_time": "2021-12-29T01:32:44.248Z"
   },
   {
    "duration": 36,
    "start_time": "2021-12-29T01:32:44.257Z"
   },
   {
    "duration": 8,
    "start_time": "2021-12-29T01:32:44.294Z"
   },
   {
    "duration": 6,
    "start_time": "2021-12-29T01:32:44.304Z"
   },
   {
    "duration": 3,
    "start_time": "2021-12-29T01:32:44.312Z"
   },
   {
    "duration": 13,
    "start_time": "2021-12-29T01:32:44.317Z"
   },
   {
    "duration": 24,
    "start_time": "2021-12-29T01:32:44.331Z"
   },
   {
    "duration": 72,
    "start_time": "2021-12-29T01:32:44.356Z"
   },
   {
    "duration": 37,
    "start_time": "2021-12-29T01:32:44.429Z"
   },
   {
    "duration": 27,
    "start_time": "2021-12-29T01:32:44.468Z"
   },
   {
    "duration": 6,
    "start_time": "2021-12-29T01:32:44.496Z"
   },
   {
    "duration": 6,
    "start_time": "2021-12-29T01:32:44.504Z"
   },
   {
    "duration": 18,
    "start_time": "2021-12-29T01:32:44.511Z"
   },
   {
    "duration": 4,
    "start_time": "2021-12-29T01:32:44.530Z"
   },
   {
    "duration": 11,
    "start_time": "2021-12-29T01:32:44.536Z"
   },
   {
    "duration": 47,
    "start_time": "2021-12-29T01:32:44.549Z"
   },
   {
    "duration": 20,
    "start_time": "2021-12-29T01:32:44.597Z"
   },
   {
    "duration": 15,
    "start_time": "2021-12-29T01:32:44.620Z"
   },
   {
    "duration": 27,
    "start_time": "2021-12-29T01:32:44.637Z"
   },
   {
    "duration": 26,
    "start_time": "2021-12-29T01:32:44.665Z"
   },
   {
    "duration": 692,
    "start_time": "2021-12-29T01:32:44.693Z"
   },
   {
    "duration": 7,
    "start_time": "2021-12-29T01:32:45.387Z"
   },
   {
    "duration": 6,
    "start_time": "2021-12-29T01:32:45.395Z"
   },
   {
    "duration": 2595,
    "start_time": "2021-12-29T01:32:45.403Z"
   },
   {
    "duration": 6,
    "start_time": "2021-12-29T01:32:48.000Z"
   },
   {
    "duration": 10,
    "start_time": "2021-12-29T01:32:48.007Z"
   },
   {
    "duration": 10,
    "start_time": "2021-12-29T01:32:48.018Z"
   },
   {
    "duration": 11,
    "start_time": "2021-12-29T01:32:48.029Z"
   },
   {
    "duration": 14,
    "start_time": "2021-12-29T01:32:48.042Z"
   },
   {
    "duration": 39,
    "start_time": "2021-12-29T01:32:48.058Z"
   },
   {
    "duration": 14,
    "start_time": "2021-12-29T01:32:48.099Z"
   },
   {
    "duration": 13,
    "start_time": "2021-12-29T01:32:48.115Z"
   },
   {
    "duration": 13,
    "start_time": "2021-12-29T01:32:48.130Z"
   },
   {
    "duration": 13,
    "start_time": "2021-12-29T01:32:48.144Z"
   },
   {
    "duration": 12,
    "start_time": "2021-12-29T01:33:11.953Z"
   },
   {
    "duration": 211,
    "start_time": "2021-12-29T01:33:46.529Z"
   },
   {
    "duration": 9,
    "start_time": "2021-12-29T01:33:59.032Z"
   },
   {
    "duration": 12,
    "start_time": "2021-12-29T01:34:05.659Z"
   },
   {
    "duration": 14,
    "start_time": "2021-12-29T01:34:29.704Z"
   },
   {
    "duration": 13,
    "start_time": "2021-12-29T01:34:35.783Z"
   },
   {
    "duration": 13,
    "start_time": "2021-12-29T01:34:46.911Z"
   },
   {
    "duration": 12,
    "start_time": "2021-12-29T01:35:40.867Z"
   },
   {
    "duration": 11,
    "start_time": "2021-12-29T01:35:56.680Z"
   },
   {
    "duration": 13,
    "start_time": "2021-12-29T01:36:07.181Z"
   },
   {
    "duration": 3,
    "start_time": "2021-12-29T01:36:15.045Z"
   },
   {
    "duration": 63,
    "start_time": "2021-12-29T01:36:15.049Z"
   },
   {
    "duration": 12,
    "start_time": "2021-12-29T01:36:15.114Z"
   },
   {
    "duration": 16,
    "start_time": "2021-12-29T01:36:15.128Z"
   },
   {
    "duration": 9,
    "start_time": "2021-12-29T01:36:15.145Z"
   },
   {
    "duration": 7,
    "start_time": "2021-12-29T01:36:15.155Z"
   },
   {
    "duration": 30,
    "start_time": "2021-12-29T01:36:15.163Z"
   },
   {
    "duration": 11,
    "start_time": "2021-12-29T01:36:15.194Z"
   },
   {
    "duration": 12,
    "start_time": "2021-12-29T01:36:15.208Z"
   },
   {
    "duration": 14,
    "start_time": "2021-12-29T01:36:15.222Z"
   },
   {
    "duration": 10,
    "start_time": "2021-12-29T01:36:15.238Z"
   },
   {
    "duration": 19,
    "start_time": "2021-12-29T01:36:15.249Z"
   },
   {
    "duration": 17,
    "start_time": "2021-12-29T01:36:15.269Z"
   },
   {
    "duration": 18,
    "start_time": "2021-12-29T01:36:15.287Z"
   },
   {
    "duration": 24,
    "start_time": "2021-12-29T01:36:15.307Z"
   },
   {
    "duration": 30,
    "start_time": "2021-12-29T01:36:15.333Z"
   },
   {
    "duration": 37,
    "start_time": "2021-12-29T01:36:15.364Z"
   },
   {
    "duration": 38,
    "start_time": "2021-12-29T01:36:15.403Z"
   },
   {
    "duration": 10,
    "start_time": "2021-12-29T01:36:15.442Z"
   },
   {
    "duration": 7,
    "start_time": "2021-12-29T01:36:15.453Z"
   },
   {
    "duration": 12,
    "start_time": "2021-12-29T01:36:15.461Z"
   },
   {
    "duration": 30,
    "start_time": "2021-12-29T01:36:15.475Z"
   },
   {
    "duration": 10,
    "start_time": "2021-12-29T01:36:15.507Z"
   },
   {
    "duration": 19,
    "start_time": "2021-12-29T01:36:15.519Z"
   },
   {
    "duration": 34,
    "start_time": "2021-12-29T01:36:15.539Z"
   },
   {
    "duration": 21,
    "start_time": "2021-12-29T01:36:15.574Z"
   },
   {
    "duration": 20,
    "start_time": "2021-12-29T01:36:15.598Z"
   },
   {
    "duration": 26,
    "start_time": "2021-12-29T01:36:15.620Z"
   },
   {
    "duration": 4,
    "start_time": "2021-12-29T01:36:15.648Z"
   },
   {
    "duration": 675,
    "start_time": "2021-12-29T01:36:15.654Z"
   },
   {
    "duration": 3,
    "start_time": "2021-12-29T01:36:16.331Z"
   },
   {
    "duration": 12,
    "start_time": "2021-12-29T01:36:16.335Z"
   },
   {
    "duration": 2823,
    "start_time": "2021-12-29T01:36:16.349Z"
   },
   {
    "duration": 20,
    "start_time": "2021-12-29T01:36:19.174Z"
   },
   {
    "duration": 13,
    "start_time": "2021-12-29T01:36:19.196Z"
   },
   {
    "duration": 19,
    "start_time": "2021-12-29T01:36:19.210Z"
   },
   {
    "duration": 16,
    "start_time": "2021-12-29T01:36:19.231Z"
   },
   {
    "duration": 13,
    "start_time": "2021-12-29T01:36:19.248Z"
   },
   {
    "duration": 15,
    "start_time": "2021-12-29T01:36:19.262Z"
   },
   {
    "duration": 33,
    "start_time": "2021-12-29T01:36:19.279Z"
   },
   {
    "duration": 15,
    "start_time": "2021-12-29T01:36:19.314Z"
   },
   {
    "duration": 10,
    "start_time": "2021-12-29T01:36:19.331Z"
   },
   {
    "duration": 12,
    "start_time": "2021-12-29T01:36:19.342Z"
   },
   {
    "duration": 12,
    "start_time": "2021-12-29T01:36:44.550Z"
   },
   {
    "duration": 13,
    "start_time": "2021-12-29T01:36:50.381Z"
   },
   {
    "duration": 13,
    "start_time": "2021-12-29T01:36:58.769Z"
   },
   {
    "duration": 2,
    "start_time": "2021-12-29T01:37:04.326Z"
   },
   {
    "duration": 52,
    "start_time": "2021-12-29T01:37:04.330Z"
   },
   {
    "duration": 13,
    "start_time": "2021-12-29T01:37:04.384Z"
   },
   {
    "duration": 14,
    "start_time": "2021-12-29T01:37:04.398Z"
   },
   {
    "duration": 5,
    "start_time": "2021-12-29T01:37:04.413Z"
   },
   {
    "duration": 7,
    "start_time": "2021-12-29T01:37:04.420Z"
   },
   {
    "duration": 8,
    "start_time": "2021-12-29T01:37:04.429Z"
   },
   {
    "duration": 7,
    "start_time": "2021-12-29T01:37:04.440Z"
   },
   {
    "duration": 5,
    "start_time": "2021-12-29T01:37:04.493Z"
   },
   {
    "duration": 11,
    "start_time": "2021-12-29T01:37:04.500Z"
   },
   {
    "duration": 7,
    "start_time": "2021-12-29T01:37:04.513Z"
   },
   {
    "duration": 9,
    "start_time": "2021-12-29T01:37:04.521Z"
   },
   {
    "duration": 7,
    "start_time": "2021-12-29T01:37:04.531Z"
   },
   {
    "duration": 6,
    "start_time": "2021-12-29T01:37:04.539Z"
   },
   {
    "duration": 47,
    "start_time": "2021-12-29T01:37:04.547Z"
   },
   {
    "duration": 23,
    "start_time": "2021-12-29T01:37:04.595Z"
   },
   {
    "duration": 40,
    "start_time": "2021-12-29T01:37:04.620Z"
   },
   {
    "duration": 60,
    "start_time": "2021-12-29T01:37:04.661Z"
   },
   {
    "duration": 9,
    "start_time": "2021-12-29T01:37:04.723Z"
   },
   {
    "duration": 6,
    "start_time": "2021-12-29T01:37:04.733Z"
   },
   {
    "duration": 7,
    "start_time": "2021-12-29T01:37:04.740Z"
   },
   {
    "duration": 17,
    "start_time": "2021-12-29T01:37:04.749Z"
   },
   {
    "duration": 4,
    "start_time": "2021-12-29T01:37:04.793Z"
   },
   {
    "duration": 12,
    "start_time": "2021-12-29T01:37:04.799Z"
   },
   {
    "duration": 17,
    "start_time": "2021-12-29T01:37:04.812Z"
   },
   {
    "duration": 19,
    "start_time": "2021-12-29T01:37:04.830Z"
   },
   {
    "duration": 42,
    "start_time": "2021-12-29T01:37:04.850Z"
   },
   {
    "duration": 26,
    "start_time": "2021-12-29T01:37:04.893Z"
   },
   {
    "duration": 4,
    "start_time": "2021-12-29T01:37:04.921Z"
   },
   {
    "duration": 698,
    "start_time": "2021-12-29T01:37:04.927Z"
   },
   {
    "duration": 3,
    "start_time": "2021-12-29T01:37:05.627Z"
   },
   {
    "duration": 5,
    "start_time": "2021-12-29T01:37:05.632Z"
   },
   {
    "duration": 2706,
    "start_time": "2021-12-29T01:37:05.638Z"
   },
   {
    "duration": 6,
    "start_time": "2021-12-29T01:37:08.346Z"
   },
   {
    "duration": 9,
    "start_time": "2021-12-29T01:37:08.353Z"
   },
   {
    "duration": 30,
    "start_time": "2021-12-29T01:37:08.363Z"
   },
   {
    "duration": 13,
    "start_time": "2021-12-29T01:37:08.395Z"
   },
   {
    "duration": 14,
    "start_time": "2021-12-29T01:37:08.410Z"
   },
   {
    "duration": 6,
    "start_time": "2021-12-29T01:37:08.426Z"
   },
   {
    "duration": 13,
    "start_time": "2021-12-29T01:37:08.434Z"
   },
   {
    "duration": 44,
    "start_time": "2021-12-29T01:37:08.449Z"
   },
   {
    "duration": 12,
    "start_time": "2021-12-29T01:37:08.494Z"
   },
   {
    "duration": 11,
    "start_time": "2021-12-29T01:37:08.508Z"
   },
   {
    "duration": 12,
    "start_time": "2021-12-29T01:37:41.574Z"
   },
   {
    "duration": 12,
    "start_time": "2021-12-29T01:38:13.264Z"
   },
   {
    "duration": 12,
    "start_time": "2021-12-29T01:38:30.697Z"
   },
   {
    "duration": 13,
    "start_time": "2021-12-29T01:38:47.296Z"
   },
   {
    "duration": 3,
    "start_time": "2021-12-29T01:38:52.349Z"
   },
   {
    "duration": 50,
    "start_time": "2021-12-29T01:38:52.355Z"
   },
   {
    "duration": 13,
    "start_time": "2021-12-29T01:38:52.407Z"
   },
   {
    "duration": 13,
    "start_time": "2021-12-29T01:38:52.422Z"
   },
   {
    "duration": 4,
    "start_time": "2021-12-29T01:38:52.437Z"
   },
   {
    "duration": 13,
    "start_time": "2021-12-29T01:38:52.443Z"
   },
   {
    "duration": 44,
    "start_time": "2021-12-29T01:38:52.458Z"
   },
   {
    "duration": 8,
    "start_time": "2021-12-29T01:38:52.504Z"
   },
   {
    "duration": 8,
    "start_time": "2021-12-29T01:38:52.513Z"
   },
   {
    "duration": 8,
    "start_time": "2021-12-29T01:38:52.524Z"
   },
   {
    "duration": 7,
    "start_time": "2021-12-29T01:38:52.534Z"
   },
   {
    "duration": 9,
    "start_time": "2021-12-29T01:38:52.543Z"
   },
   {
    "duration": 7,
    "start_time": "2021-12-29T01:38:52.554Z"
   },
   {
    "duration": 33,
    "start_time": "2021-12-29T01:38:52.562Z"
   },
   {
    "duration": 12,
    "start_time": "2021-12-29T01:38:52.597Z"
   },
   {
    "duration": 22,
    "start_time": "2021-12-29T01:38:52.611Z"
   },
   {
    "duration": 70,
    "start_time": "2021-12-29T01:38:52.634Z"
   },
   {
    "duration": 42,
    "start_time": "2021-12-29T01:38:52.706Z"
   },
   {
    "duration": 10,
    "start_time": "2021-12-29T01:38:52.750Z"
   },
   {
    "duration": 3,
    "start_time": "2021-12-29T01:38:52.762Z"
   },
   {
    "duration": 29,
    "start_time": "2021-12-29T01:38:52.767Z"
   },
   {
    "duration": 17,
    "start_time": "2021-12-29T01:38:52.798Z"
   },
   {
    "duration": 4,
    "start_time": "2021-12-29T01:38:52.817Z"
   },
   {
    "duration": 12,
    "start_time": "2021-12-29T01:38:52.822Z"
   },
   {
    "duration": 20,
    "start_time": "2021-12-29T01:38:52.835Z"
   },
   {
    "duration": 43,
    "start_time": "2021-12-29T01:38:52.857Z"
   },
   {
    "duration": 15,
    "start_time": "2021-12-29T01:38:52.902Z"
   },
   {
    "duration": 25,
    "start_time": "2021-12-29T01:38:52.921Z"
   },
   {
    "duration": 4,
    "start_time": "2021-12-29T01:38:52.948Z"
   },
   {
    "duration": 703,
    "start_time": "2021-12-29T01:38:52.954Z"
   },
   {
    "duration": 3,
    "start_time": "2021-12-29T01:38:53.660Z"
   },
   {
    "duration": 4,
    "start_time": "2021-12-29T01:38:53.665Z"
   },
   {
    "duration": 2785,
    "start_time": "2021-12-29T01:38:53.671Z"
   },
   {
    "duration": 5,
    "start_time": "2021-12-29T01:38:56.458Z"
   },
   {
    "duration": 26,
    "start_time": "2021-12-29T01:38:56.465Z"
   },
   {
    "duration": 10,
    "start_time": "2021-12-29T01:38:56.493Z"
   },
   {
    "duration": 12,
    "start_time": "2021-12-29T01:38:56.504Z"
   },
   {
    "duration": 14,
    "start_time": "2021-12-29T01:38:56.518Z"
   },
   {
    "duration": 7,
    "start_time": "2021-12-29T01:38:56.533Z"
   },
   {
    "duration": 19,
    "start_time": "2021-12-29T01:38:56.541Z"
   },
   {
    "duration": 39,
    "start_time": "2021-12-29T01:38:56.562Z"
   },
   {
    "duration": 17,
    "start_time": "2021-12-29T01:38:56.603Z"
   },
   {
    "duration": 10,
    "start_time": "2021-12-29T01:38:56.622Z"
   },
   {
    "duration": 3,
    "start_time": "2021-12-29T01:45:24.025Z"
   },
   {
    "duration": 51,
    "start_time": "2021-12-29T01:45:24.030Z"
   },
   {
    "duration": 13,
    "start_time": "2021-12-29T01:45:24.084Z"
   },
   {
    "duration": 10,
    "start_time": "2021-12-29T01:45:24.099Z"
   },
   {
    "duration": 6,
    "start_time": "2021-12-29T01:45:24.111Z"
   },
   {
    "duration": 7,
    "start_time": "2021-12-29T01:45:24.118Z"
   },
   {
    "duration": 10,
    "start_time": "2021-12-29T01:45:24.126Z"
   },
   {
    "duration": 7,
    "start_time": "2021-12-29T01:45:24.138Z"
   },
   {
    "duration": 46,
    "start_time": "2021-12-29T01:45:24.147Z"
   },
   {
    "duration": 8,
    "start_time": "2021-12-29T01:45:24.195Z"
   },
   {
    "duration": 7,
    "start_time": "2021-12-29T01:45:24.205Z"
   },
   {
    "duration": 8,
    "start_time": "2021-12-29T01:45:24.214Z"
   },
   {
    "duration": 6,
    "start_time": "2021-12-29T01:45:24.224Z"
   },
   {
    "duration": 5,
    "start_time": "2021-12-29T01:45:24.232Z"
   },
   {
    "duration": 14,
    "start_time": "2021-12-29T01:45:24.239Z"
   },
   {
    "duration": 56,
    "start_time": "2021-12-29T01:45:24.255Z"
   },
   {
    "duration": 38,
    "start_time": "2021-12-29T01:45:24.312Z"
   },
   {
    "duration": 64,
    "start_time": "2021-12-29T01:45:24.351Z"
   },
   {
    "duration": 9,
    "start_time": "2021-12-29T01:45:24.417Z"
   },
   {
    "duration": 4,
    "start_time": "2021-12-29T01:45:24.428Z"
   },
   {
    "duration": 6,
    "start_time": "2021-12-29T01:45:24.433Z"
   },
   {
    "duration": 20,
    "start_time": "2021-12-29T01:45:24.440Z"
   },
   {
    "duration": 4,
    "start_time": "2021-12-29T01:45:24.464Z"
   },
   {
    "duration": 11,
    "start_time": "2021-12-29T01:45:24.493Z"
   },
   {
    "duration": 19,
    "start_time": "2021-12-29T01:45:24.505Z"
   },
   {
    "duration": 18,
    "start_time": "2021-12-29T01:45:24.526Z"
   },
   {
    "duration": 15,
    "start_time": "2021-12-29T01:45:24.546Z"
   },
   {
    "duration": 54,
    "start_time": "2021-12-29T01:45:24.563Z"
   },
   {
    "duration": 4,
    "start_time": "2021-12-29T01:45:24.618Z"
   },
   {
    "duration": 696,
    "start_time": "2021-12-29T01:45:24.624Z"
   },
   {
    "duration": 3,
    "start_time": "2021-12-29T01:45:25.322Z"
   },
   {
    "duration": 5,
    "start_time": "2021-12-29T01:45:25.326Z"
   },
   {
    "duration": 2802,
    "start_time": "2021-12-29T01:45:25.333Z"
   },
   {
    "duration": 5,
    "start_time": "2021-12-29T01:45:28.137Z"
   },
   {
    "duration": 7,
    "start_time": "2021-12-29T01:45:28.144Z"
   },
   {
    "duration": 10,
    "start_time": "2021-12-29T01:45:28.153Z"
   },
   {
    "duration": 38,
    "start_time": "2021-12-29T01:45:28.164Z"
   },
   {
    "duration": 15,
    "start_time": "2021-12-29T01:45:28.203Z"
   },
   {
    "duration": 7,
    "start_time": "2021-12-29T01:45:28.219Z"
   },
   {
    "duration": 11,
    "start_time": "2021-12-29T01:45:28.228Z"
   },
   {
    "duration": 10,
    "start_time": "2021-12-29T01:45:28.241Z"
   },
   {
    "duration": 47,
    "start_time": "2021-12-29T01:45:28.253Z"
   },
   {
    "duration": 10,
    "start_time": "2021-12-29T01:45:28.302Z"
   },
   {
    "duration": 12,
    "start_time": "2021-12-29T02:01:22.273Z"
   },
   {
    "duration": 12,
    "start_time": "2021-12-29T02:01:51.811Z"
   },
   {
    "duration": 3,
    "start_time": "2021-12-29T02:02:31.181Z"
   },
   {
    "duration": 53,
    "start_time": "2021-12-29T02:02:31.186Z"
   },
   {
    "duration": 12,
    "start_time": "2021-12-29T02:02:31.241Z"
   },
   {
    "duration": 20,
    "start_time": "2021-12-29T02:02:31.255Z"
   },
   {
    "duration": 16,
    "start_time": "2021-12-29T02:02:31.276Z"
   },
   {
    "duration": 32,
    "start_time": "2021-12-29T02:02:31.294Z"
   },
   {
    "duration": 23,
    "start_time": "2021-12-29T02:02:31.328Z"
   },
   {
    "duration": 12,
    "start_time": "2021-12-29T02:02:31.352Z"
   },
   {
    "duration": 5,
    "start_time": "2021-12-29T02:02:31.368Z"
   },
   {
    "duration": 12,
    "start_time": "2021-12-29T02:02:31.375Z"
   },
   {
    "duration": 12,
    "start_time": "2021-12-29T02:02:31.388Z"
   },
   {
    "duration": 11,
    "start_time": "2021-12-29T02:02:31.401Z"
   },
   {
    "duration": 8,
    "start_time": "2021-12-29T02:02:31.414Z"
   },
   {
    "duration": 28,
    "start_time": "2021-12-29T02:02:31.424Z"
   },
   {
    "duration": 20,
    "start_time": "2021-12-29T02:02:31.454Z"
   },
   {
    "duration": 25,
    "start_time": "2021-12-29T02:02:31.475Z"
   },
   {
    "duration": 40,
    "start_time": "2021-12-29T02:02:31.502Z"
   },
   {
    "duration": 50,
    "start_time": "2021-12-29T02:02:31.543Z"
   },
   {
    "duration": 9,
    "start_time": "2021-12-29T02:02:31.595Z"
   },
   {
    "duration": 7,
    "start_time": "2021-12-29T02:02:31.605Z"
   },
   {
    "duration": 6,
    "start_time": "2021-12-29T02:02:31.613Z"
   },
   {
    "duration": 17,
    "start_time": "2021-12-29T02:02:31.621Z"
   },
   {
    "duration": 4,
    "start_time": "2021-12-29T02:02:31.640Z"
   },
   {
    "duration": 12,
    "start_time": "2021-12-29T02:02:31.646Z"
   },
   {
    "duration": 48,
    "start_time": "2021-12-29T02:02:31.659Z"
   },
   {
    "duration": 18,
    "start_time": "2021-12-29T02:02:31.708Z"
   },
   {
    "duration": 15,
    "start_time": "2021-12-29T02:02:31.729Z"
   },
   {
    "duration": 49,
    "start_time": "2021-12-29T02:02:31.746Z"
   },
   {
    "duration": 5,
    "start_time": "2021-12-29T02:02:31.797Z"
   },
   {
    "duration": 678,
    "start_time": "2021-12-29T02:02:31.803Z"
   },
   {
    "duration": 10,
    "start_time": "2021-12-29T02:02:32.483Z"
   },
   {
    "duration": 7,
    "start_time": "2021-12-29T02:02:32.495Z"
   },
   {
    "duration": 2621,
    "start_time": "2021-12-29T02:02:32.504Z"
   },
   {
    "duration": 6,
    "start_time": "2021-12-29T02:02:35.126Z"
   },
   {
    "duration": 825,
    "start_time": "2021-12-29T14:04:25.521Z"
   },
   {
    "duration": 70,
    "start_time": "2021-12-29T14:04:26.349Z"
   },
   {
    "duration": 30,
    "start_time": "2021-12-29T14:04:26.423Z"
   },
   {
    "duration": 15,
    "start_time": "2021-12-29T14:04:26.456Z"
   },
   {
    "duration": 9,
    "start_time": "2021-12-29T14:04:26.474Z"
   },
   {
    "duration": 12,
    "start_time": "2021-12-29T14:04:26.519Z"
   },
   {
    "duration": 10,
    "start_time": "2021-12-29T14:04:26.535Z"
   },
   {
    "duration": 11,
    "start_time": "2021-12-29T14:04:26.549Z"
   },
   {
    "duration": 55,
    "start_time": "2021-12-29T14:04:26.564Z"
   },
   {
    "duration": 17,
    "start_time": "2021-12-29T14:04:26.622Z"
   },
   {
    "duration": 12,
    "start_time": "2021-12-29T14:04:26.643Z"
   },
   {
    "duration": 59,
    "start_time": "2021-12-29T14:04:26.657Z"
   },
   {
    "duration": 10,
    "start_time": "2021-12-29T14:04:26.719Z"
   },
   {
    "duration": 10,
    "start_time": "2021-12-29T14:04:26.732Z"
   },
   {
    "duration": 27,
    "start_time": "2021-12-29T14:04:26.745Z"
   },
   {
    "duration": 86,
    "start_time": "2021-12-29T14:04:26.775Z"
   },
   {
    "duration": 112,
    "start_time": "2021-12-29T14:04:26.864Z"
   },
   {
    "duration": 112,
    "start_time": "2021-12-29T14:04:26.979Z"
   },
   {
    "duration": 30,
    "start_time": "2021-12-29T14:04:27.094Z"
   },
   {
    "duration": 8,
    "start_time": "2021-12-29T14:04:27.127Z"
   },
   {
    "duration": 9,
    "start_time": "2021-12-29T14:04:27.138Z"
   },
   {
    "duration": 26,
    "start_time": "2021-12-29T14:04:27.150Z"
   },
   {
    "duration": 8,
    "start_time": "2021-12-29T14:04:27.220Z"
   },
   {
    "duration": 17,
    "start_time": "2021-12-29T14:04:27.231Z"
   },
   {
    "duration": 28,
    "start_time": "2021-12-29T14:04:27.251Z"
   },
   {
    "duration": 29,
    "start_time": "2021-12-29T14:04:27.318Z"
   },
   {
    "duration": 25,
    "start_time": "2021-12-29T14:04:27.349Z"
   },
   {
    "duration": 40,
    "start_time": "2021-12-29T14:04:27.377Z"
   },
   {
    "duration": 6,
    "start_time": "2021-12-29T14:04:27.420Z"
   },
   {
    "duration": 1368,
    "start_time": "2021-12-29T14:04:27.429Z"
   },
   {
    "duration": 6,
    "start_time": "2021-12-29T14:04:28.800Z"
   },
   {
    "duration": 7,
    "start_time": "2021-12-29T14:04:28.819Z"
   },
   {
    "duration": 4423,
    "start_time": "2021-12-29T14:04:28.829Z"
   },
   {
    "duration": 13,
    "start_time": "2021-12-29T14:04:33.256Z"
   },
   {
    "duration": 11,
    "start_time": "2021-12-29T14:04:33.272Z"
   },
   {
    "duration": 15,
    "start_time": "2021-12-29T14:04:33.317Z"
   },
   {
    "duration": 22,
    "start_time": "2021-12-29T14:04:33.334Z"
   },
   {
    "duration": 20,
    "start_time": "2021-12-29T14:04:33.358Z"
   },
   {
    "duration": 12,
    "start_time": "2021-12-29T14:04:33.418Z"
   },
   {
    "duration": 883,
    "start_time": "2021-12-29T14:04:33.433Z"
   },
   {
    "duration": 22,
    "start_time": "2021-12-29T14:04:34.319Z"
   },
   {
    "duration": 23,
    "start_time": "2021-12-29T14:04:34.343Z"
   },
   {
    "duration": 58,
    "start_time": "2021-12-29T14:04:34.369Z"
   },
   {
    "duration": 18,
    "start_time": "2021-12-29T14:40:10.295Z"
   },
   {
    "duration": 4,
    "start_time": "2021-12-29T15:01:07.174Z"
   },
   {
    "duration": 86,
    "start_time": "2021-12-29T15:01:07.181Z"
   },
   {
    "duration": 20,
    "start_time": "2021-12-29T15:01:07.269Z"
   },
   {
    "duration": 50,
    "start_time": "2021-12-29T15:01:07.293Z"
   },
   {
    "duration": 9,
    "start_time": "2021-12-29T15:01:07.346Z"
   },
   {
    "duration": 14,
    "start_time": "2021-12-29T15:01:07.358Z"
   },
   {
    "duration": 20,
    "start_time": "2021-12-29T15:01:07.419Z"
   },
   {
    "duration": 15,
    "start_time": "2021-12-29T15:01:07.443Z"
   },
   {
    "duration": 16,
    "start_time": "2021-12-29T15:01:07.462Z"
   },
   {
    "duration": 41,
    "start_time": "2021-12-29T15:01:07.482Z"
   },
   {
    "duration": 17,
    "start_time": "2021-12-29T15:01:07.526Z"
   },
   {
    "duration": 17,
    "start_time": "2021-12-29T15:01:07.546Z"
   },
   {
    "duration": 14,
    "start_time": "2021-12-29T15:01:07.566Z"
   },
   {
    "duration": 41,
    "start_time": "2021-12-29T15:01:07.583Z"
   },
   {
    "duration": 32,
    "start_time": "2021-12-29T15:01:07.627Z"
   },
   {
    "duration": 34,
    "start_time": "2021-12-29T15:01:07.661Z"
   },
   {
    "duration": 118,
    "start_time": "2021-12-29T15:01:07.698Z"
   },
   {
    "duration": 79,
    "start_time": "2021-12-29T15:01:07.819Z"
   },
   {
    "duration": 29,
    "start_time": "2021-12-29T15:01:07.902Z"
   },
   {
    "duration": 4,
    "start_time": "2021-12-29T15:01:07.934Z"
   },
   {
    "duration": 15,
    "start_time": "2021-12-29T15:01:07.945Z"
   },
   {
    "duration": 28,
    "start_time": "2021-12-29T15:01:07.962Z"
   },
   {
    "duration": 29,
    "start_time": "2021-12-29T15:01:07.993Z"
   },
   {
    "duration": 22,
    "start_time": "2021-12-29T15:01:08.026Z"
   },
   {
    "duration": 116,
    "start_time": "2021-12-29T15:01:08.052Z"
   },
   {
    "duration": 31,
    "start_time": "2021-12-29T15:01:08.171Z"
   },
   {
    "duration": 33,
    "start_time": "2021-12-29T15:01:08.217Z"
   },
   {
    "duration": 29,
    "start_time": "2021-12-29T15:01:08.253Z"
   },
   {
    "duration": 47,
    "start_time": "2021-12-29T15:01:08.285Z"
   },
   {
    "duration": 1002,
    "start_time": "2021-12-29T15:01:08.335Z"
   },
   {
    "duration": 4,
    "start_time": "2021-12-29T15:01:09.340Z"
   },
   {
    "duration": 13,
    "start_time": "2021-12-29T15:01:09.348Z"
   },
   {
    "duration": 4005,
    "start_time": "2021-12-29T15:01:09.365Z"
   },
   {
    "duration": 9,
    "start_time": "2021-12-29T15:01:13.372Z"
   },
   {
    "duration": 35,
    "start_time": "2021-12-29T15:01:13.384Z"
   },
   {
    "duration": 15,
    "start_time": "2021-12-29T15:01:13.421Z"
   },
   {
    "duration": 19,
    "start_time": "2021-12-29T15:01:13.438Z"
   },
   {
    "duration": 23,
    "start_time": "2021-12-29T15:01:13.459Z"
   },
   {
    "duration": 41,
    "start_time": "2021-12-29T15:01:13.484Z"
   },
   {
    "duration": 25,
    "start_time": "2021-12-29T15:01:13.528Z"
   },
   {
    "duration": 17,
    "start_time": "2021-12-29T15:01:13.556Z"
   },
   {
    "duration": 54,
    "start_time": "2021-12-29T15:01:13.576Z"
   },
   {
    "duration": 18,
    "start_time": "2021-12-29T15:01:13.633Z"
   },
   {
    "duration": 4,
    "start_time": "2021-12-29T15:07:21.875Z"
   },
   {
    "duration": 78,
    "start_time": "2021-12-29T15:07:21.882Z"
   },
   {
    "duration": 53,
    "start_time": "2021-12-29T15:07:21.964Z"
   },
   {
    "duration": 17,
    "start_time": "2021-12-29T15:07:22.021Z"
   },
   {
    "duration": 9,
    "start_time": "2021-12-29T15:07:22.041Z"
   },
   {
    "duration": 12,
    "start_time": "2021-12-29T15:07:22.053Z"
   },
   {
    "duration": 55,
    "start_time": "2021-12-29T15:07:22.070Z"
   },
   {
    "duration": 18,
    "start_time": "2021-12-29T15:07:22.128Z"
   },
   {
    "duration": 15,
    "start_time": "2021-12-29T15:07:22.149Z"
   },
   {
    "duration": 23,
    "start_time": "2021-12-29T15:07:22.166Z"
   },
   {
    "duration": 11,
    "start_time": "2021-12-29T15:07:22.217Z"
   },
   {
    "duration": 14,
    "start_time": "2021-12-29T15:07:22.231Z"
   },
   {
    "duration": 13,
    "start_time": "2021-12-29T15:07:22.248Z"
   },
   {
    "duration": 8,
    "start_time": "2021-12-29T15:07:22.264Z"
   },
   {
    "duration": 18,
    "start_time": "2021-12-29T15:07:22.318Z"
   },
   {
    "duration": 34,
    "start_time": "2021-12-29T15:07:22.339Z"
   },
   {
    "duration": 93,
    "start_time": "2021-12-29T15:07:22.376Z"
   },
   {
    "duration": 73,
    "start_time": "2021-12-29T15:07:22.472Z"
   },
   {
    "duration": 13,
    "start_time": "2021-12-29T15:07:22.550Z"
   },
   {
    "duration": 4,
    "start_time": "2021-12-29T15:07:22.567Z"
   },
   {
    "duration": 17,
    "start_time": "2021-12-29T15:07:22.574Z"
   },
   {
    "duration": 43,
    "start_time": "2021-12-29T15:07:22.594Z"
   },
   {
    "duration": 7,
    "start_time": "2021-12-29T15:07:22.640Z"
   },
   {
    "duration": 17,
    "start_time": "2021-12-29T15:07:22.649Z"
   },
   {
    "duration": 63,
    "start_time": "2021-12-29T15:07:22.669Z"
   },
   {
    "duration": 29,
    "start_time": "2021-12-29T15:07:22.735Z"
   },
   {
    "duration": 25,
    "start_time": "2021-12-29T15:07:22.766Z"
   },
   {
    "duration": 29,
    "start_time": "2021-12-29T15:07:22.818Z"
   },
   {
    "duration": 6,
    "start_time": "2021-12-29T15:07:22.850Z"
   },
   {
    "duration": 958,
    "start_time": "2021-12-29T15:07:22.859Z"
   },
   {
    "duration": 5,
    "start_time": "2021-12-29T15:07:23.820Z"
   },
   {
    "duration": 9,
    "start_time": "2021-12-29T15:07:23.828Z"
   },
   {
    "duration": 4044,
    "start_time": "2021-12-29T15:07:23.840Z"
   },
   {
    "duration": 30,
    "start_time": "2021-12-29T15:07:27.887Z"
   },
   {
    "duration": 14,
    "start_time": "2021-12-29T15:07:27.920Z"
   },
   {
    "duration": 17,
    "start_time": "2021-12-29T15:07:27.937Z"
   },
   {
    "duration": 60,
    "start_time": "2021-12-29T15:07:27.957Z"
   },
   {
    "duration": 24,
    "start_time": "2021-12-29T15:07:28.020Z"
   },
   {
    "duration": 11,
    "start_time": "2021-12-29T15:07:28.047Z"
   },
   {
    "duration": 27,
    "start_time": "2021-12-29T15:07:28.061Z"
   },
   {
    "duration": 20,
    "start_time": "2021-12-29T15:07:28.117Z"
   },
   {
    "duration": 18,
    "start_time": "2021-12-29T15:07:28.139Z"
   },
   {
    "duration": 18,
    "start_time": "2021-12-29T15:07:28.160Z"
   },
   {
    "duration": 15,
    "start_time": "2021-12-29T15:52:31.647Z"
   },
   {
    "duration": 15,
    "start_time": "2021-12-29T15:55:32.876Z"
   },
   {
    "duration": 833,
    "start_time": "2021-12-29T15:57:45.298Z"
   },
   {
    "duration": 821,
    "start_time": "2021-12-29T15:57:45.311Z"
   },
   {
    "duration": 813,
    "start_time": "2021-12-29T15:57:45.321Z"
   },
   {
    "duration": 807,
    "start_time": "2021-12-29T15:57:45.328Z"
   },
   {
    "duration": 806,
    "start_time": "2021-12-29T15:57:45.331Z"
   },
   {
    "duration": 802,
    "start_time": "2021-12-29T15:57:45.336Z"
   },
   {
    "duration": 801,
    "start_time": "2021-12-29T15:57:45.339Z"
   },
   {
    "duration": 798,
    "start_time": "2021-12-29T15:57:45.343Z"
   },
   {
    "duration": 797,
    "start_time": "2021-12-29T15:57:45.346Z"
   },
   {
    "duration": 788,
    "start_time": "2021-12-29T15:57:45.356Z"
   },
   {
    "duration": 787,
    "start_time": "2021-12-29T15:57:45.358Z"
   },
   {
    "duration": 786,
    "start_time": "2021-12-29T15:57:45.361Z"
   },
   {
    "duration": 784,
    "start_time": "2021-12-29T15:57:45.364Z"
   },
   {
    "duration": 782,
    "start_time": "2021-12-29T15:57:45.367Z"
   },
   {
    "duration": 780,
    "start_time": "2021-12-29T15:57:45.371Z"
   },
   {
    "duration": 777,
    "start_time": "2021-12-29T15:57:45.375Z"
   },
   {
    "duration": 776,
    "start_time": "2021-12-29T15:57:45.378Z"
   },
   {
    "duration": 774,
    "start_time": "2021-12-29T15:57:45.381Z"
   },
   {
    "duration": 773,
    "start_time": "2021-12-29T15:57:45.384Z"
   },
   {
    "duration": 771,
    "start_time": "2021-12-29T15:57:45.388Z"
   },
   {
    "duration": 768,
    "start_time": "2021-12-29T15:57:45.392Z"
   },
   {
    "duration": 765,
    "start_time": "2021-12-29T15:57:45.397Z"
   },
   {
    "duration": 761,
    "start_time": "2021-12-29T15:57:45.402Z"
   },
   {
    "duration": 757,
    "start_time": "2021-12-29T15:57:45.407Z"
   },
   {
    "duration": 755,
    "start_time": "2021-12-29T15:57:45.410Z"
   },
   {
    "duration": 798,
    "start_time": "2021-12-29T15:57:45.419Z"
   },
   {
    "duration": 795,
    "start_time": "2021-12-29T15:57:45.423Z"
   },
   {
    "duration": 794,
    "start_time": "2021-12-29T15:57:45.426Z"
   },
   {
    "duration": 793,
    "start_time": "2021-12-29T15:57:45.428Z"
   },
   {
    "duration": 792,
    "start_time": "2021-12-29T15:57:45.430Z"
   },
   {
    "duration": 791,
    "start_time": "2021-12-29T15:57:45.433Z"
   },
   {
    "duration": 788,
    "start_time": "2021-12-29T15:57:45.437Z"
   },
   {
    "duration": 786,
    "start_time": "2021-12-29T15:57:45.440Z"
   },
   {
    "duration": 785,
    "start_time": "2021-12-29T15:57:45.443Z"
   },
   {
    "duration": 783,
    "start_time": "2021-12-29T15:57:45.446Z"
   },
   {
    "duration": 781,
    "start_time": "2021-12-29T15:57:45.449Z"
   },
   {
    "duration": 779,
    "start_time": "2021-12-29T15:57:45.452Z"
   },
   {
    "duration": 778,
    "start_time": "2021-12-29T15:57:45.455Z"
   },
   {
    "duration": 776,
    "start_time": "2021-12-29T15:57:45.458Z"
   },
   {
    "duration": 774,
    "start_time": "2021-12-29T15:57:45.461Z"
   },
   {
    "duration": 773,
    "start_time": "2021-12-29T15:57:45.463Z"
   },
   {
    "duration": 771,
    "start_time": "2021-12-29T15:57:45.466Z"
   },
   {
    "duration": 768,
    "start_time": "2021-12-29T15:57:45.470Z"
   },
   {
    "duration": 3,
    "start_time": "2021-12-29T15:59:04.910Z"
   },
   {
    "duration": 63,
    "start_time": "2021-12-29T15:59:04.916Z"
   },
   {
    "duration": 37,
    "start_time": "2021-12-29T15:59:04.982Z"
   },
   {
    "duration": 21,
    "start_time": "2021-12-29T15:59:05.023Z"
   },
   {
    "duration": 9,
    "start_time": "2021-12-29T15:59:05.047Z"
   },
   {
    "duration": 58,
    "start_time": "2021-12-29T15:59:05.059Z"
   },
   {
    "duration": 14,
    "start_time": "2021-12-29T15:59:05.120Z"
   },
   {
    "duration": 13,
    "start_time": "2021-12-29T15:59:05.138Z"
   },
   {
    "duration": 8,
    "start_time": "2021-12-29T15:59:05.154Z"
   },
   {
    "duration": 12,
    "start_time": "2021-12-29T15:59:05.164Z"
   },
   {
    "duration": 16,
    "start_time": "2021-12-29T15:59:05.218Z"
   },
   {
    "duration": 18,
    "start_time": "2021-12-29T15:59:05.236Z"
   },
   {
    "duration": 17,
    "start_time": "2021-12-29T15:59:05.256Z"
   },
   {
    "duration": 42,
    "start_time": "2021-12-29T15:59:05.275Z"
   },
   {
    "duration": 16,
    "start_time": "2021-12-29T15:59:05.319Z"
   },
   {
    "duration": 32,
    "start_time": "2021-12-29T15:59:05.337Z"
   },
   {
    "duration": 96,
    "start_time": "2021-12-29T15:59:05.371Z"
   },
   {
    "duration": 78,
    "start_time": "2021-12-29T15:59:05.469Z"
   },
   {
    "duration": 12,
    "start_time": "2021-12-29T15:59:05.549Z"
   },
   {
    "duration": 5,
    "start_time": "2021-12-29T15:59:05.563Z"
   },
   {
    "duration": 7,
    "start_time": "2021-12-29T15:59:05.570Z"
   },
   {
    "duration": 54,
    "start_time": "2021-12-29T15:59:05.579Z"
   },
   {
    "duration": 6,
    "start_time": "2021-12-29T15:59:05.638Z"
   },
   {
    "duration": 17,
    "start_time": "2021-12-29T15:59:05.646Z"
   },
   {
    "duration": 68,
    "start_time": "2021-12-29T15:59:05.665Z"
   },
   {
    "duration": 28,
    "start_time": "2021-12-29T15:59:05.735Z"
   },
   {
    "duration": 24,
    "start_time": "2021-12-29T15:59:05.765Z"
   },
   {
    "duration": 58,
    "start_time": "2021-12-29T15:59:05.791Z"
   },
   {
    "duration": 6,
    "start_time": "2021-12-29T15:59:05.851Z"
   },
   {
    "duration": 1407,
    "start_time": "2021-12-29T15:59:05.860Z"
   },
   {
    "duration": 4,
    "start_time": "2021-12-29T15:59:07.270Z"
   },
   {
    "duration": 8,
    "start_time": "2021-12-29T15:59:07.277Z"
   },
   {
    "duration": 4048,
    "start_time": "2021-12-29T15:59:07.288Z"
   },
   {
    "duration": 8,
    "start_time": "2021-12-29T15:59:11.339Z"
   },
   {
    "duration": 13,
    "start_time": "2021-12-29T15:59:11.350Z"
   },
   {
    "duration": 14,
    "start_time": "2021-12-29T15:59:11.365Z"
   },
   {
    "duration": 8426,
    "start_time": "2021-12-29T15:59:11.418Z"
   },
   {
    "duration": 1177,
    "start_time": "2021-12-29T15:59:18.669Z"
   },
   {
    "duration": 1163,
    "start_time": "2021-12-29T15:59:18.685Z"
   },
   {
    "duration": 1146,
    "start_time": "2021-12-29T15:59:18.703Z"
   },
   {
    "duration": 1128,
    "start_time": "2021-12-29T15:59:18.722Z"
   },
   {
    "duration": 1100,
    "start_time": "2021-12-29T15:59:18.752Z"
   },
   {
    "duration": 1082,
    "start_time": "2021-12-29T15:59:18.772Z"
   },
   {
    "duration": 28,
    "start_time": "2021-12-29T16:00:28.954Z"
   },
   {
    "duration": 24,
    "start_time": "2021-12-29T16:01:03.750Z"
   },
   {
    "duration": 14,
    "start_time": "2021-12-29T16:01:06.098Z"
   },
   {
    "duration": 9,
    "start_time": "2021-12-29T16:01:10.116Z"
   },
   {
    "duration": 18,
    "start_time": "2021-12-29T16:01:17.023Z"
   },
   {
    "duration": 5,
    "start_time": "2021-12-29T16:01:36.631Z"
   },
   {
    "duration": 12,
    "start_time": "2021-12-29T16:01:36.638Z"
   },
   {
    "duration": 29,
    "start_time": "2021-12-29T16:01:36.653Z"
   },
   {
    "duration": 34,
    "start_time": "2021-12-29T16:01:36.685Z"
   },
   {
    "duration": 19,
    "start_time": "2021-12-29T16:01:36.723Z"
   },
   {
    "duration": 33,
    "start_time": "2021-12-29T16:01:36.744Z"
   },
   {
    "duration": 66,
    "start_time": "2021-12-29T16:01:36.780Z"
   },
   {
    "duration": 29,
    "start_time": "2021-12-29T16:01:36.848Z"
   },
   {
    "duration": 59,
    "start_time": "2021-12-29T16:01:36.881Z"
   },
   {
    "duration": 6,
    "start_time": "2021-12-29T16:01:36.942Z"
   },
   {
    "duration": 953,
    "start_time": "2021-12-29T16:01:36.951Z"
   },
   {
    "duration": 12,
    "start_time": "2021-12-29T16:01:37.906Z"
   },
   {
    "duration": 5,
    "start_time": "2021-12-29T16:01:37.920Z"
   },
   {
    "duration": 3847,
    "start_time": "2021-12-29T16:01:37.927Z"
   },
   {
    "duration": 8,
    "start_time": "2021-12-29T16:01:41.776Z"
   },
   {
    "duration": 35,
    "start_time": "2021-12-29T16:01:41.787Z"
   },
   {
    "duration": 20,
    "start_time": "2021-12-29T16:01:41.825Z"
   },
   {
    "duration": 37,
    "start_time": "2021-12-29T16:01:41.849Z"
   },
   {
    "duration": 43,
    "start_time": "2021-12-29T16:01:41.890Z"
   },
   {
    "duration": 10,
    "start_time": "2021-12-29T16:01:41.936Z"
   },
   {
    "duration": 19,
    "start_time": "2021-12-29T16:01:41.949Z"
   },
   {
    "duration": 58,
    "start_time": "2021-12-29T16:01:41.971Z"
   },
   {
    "duration": 17,
    "start_time": "2021-12-29T16:01:42.031Z"
   },
   {
    "duration": 18,
    "start_time": "2021-12-29T16:01:42.050Z"
   },
   {
    "duration": 4,
    "start_time": "2021-12-29T16:18:42.254Z"
   },
   {
    "duration": 67,
    "start_time": "2021-12-29T16:18:42.260Z"
   },
   {
    "duration": 20,
    "start_time": "2021-12-29T16:18:42.332Z"
   },
   {
    "duration": 17,
    "start_time": "2021-12-29T16:18:42.355Z"
   },
   {
    "duration": 7,
    "start_time": "2021-12-29T16:18:42.375Z"
   },
   {
    "duration": 42,
    "start_time": "2021-12-29T16:18:42.385Z"
   },
   {
    "duration": 13,
    "start_time": "2021-12-29T16:18:42.430Z"
   },
   {
    "duration": 13,
    "start_time": "2021-12-29T16:18:42.445Z"
   },
   {
    "duration": 9,
    "start_time": "2021-12-29T16:18:42.463Z"
   },
   {
    "duration": 60,
    "start_time": "2021-12-29T16:18:42.475Z"
   },
   {
    "duration": 12,
    "start_time": "2021-12-29T16:18:42.539Z"
   },
   {
    "duration": 13,
    "start_time": "2021-12-29T16:18:42.554Z"
   },
   {
    "duration": 53,
    "start_time": "2021-12-29T16:18:42.570Z"
   },
   {
    "duration": 7,
    "start_time": "2021-12-29T16:18:42.627Z"
   },
   {
    "duration": 17,
    "start_time": "2021-12-29T16:18:42.637Z"
   },
   {
    "duration": 63,
    "start_time": "2021-12-29T16:18:42.657Z"
   },
   {
    "duration": 66,
    "start_time": "2021-12-29T16:18:42.729Z"
   },
   {
    "duration": 84,
    "start_time": "2021-12-29T16:18:42.797Z"
   },
   {
    "duration": 40,
    "start_time": "2021-12-29T16:18:42.884Z"
   },
   {
    "duration": 12,
    "start_time": "2021-12-29T16:18:42.927Z"
   },
   {
    "duration": 21,
    "start_time": "2021-12-29T16:18:42.942Z"
   },
   {
    "duration": 57,
    "start_time": "2021-12-29T16:18:42.965Z"
   },
   {
    "duration": 10,
    "start_time": "2021-12-29T16:18:43.029Z"
   },
   {
    "duration": 27,
    "start_time": "2021-12-29T16:18:43.041Z"
   },
   {
    "duration": 63,
    "start_time": "2021-12-29T16:18:43.071Z"
   },
   {
    "duration": 26,
    "start_time": "2021-12-29T16:18:43.137Z"
   },
   {
    "duration": 24,
    "start_time": "2021-12-29T16:18:43.168Z"
   },
   {
    "duration": 57,
    "start_time": "2021-12-29T16:18:43.194Z"
   },
   {
    "duration": 6,
    "start_time": "2021-12-29T16:18:43.253Z"
   },
   {
    "duration": 1028,
    "start_time": "2021-12-29T16:18:43.261Z"
   },
   {
    "duration": 6,
    "start_time": "2021-12-29T16:18:44.293Z"
   },
   {
    "duration": 10,
    "start_time": "2021-12-29T16:18:44.320Z"
   },
   {
    "duration": 4448,
    "start_time": "2021-12-29T16:18:44.333Z"
   },
   {
    "duration": 10,
    "start_time": "2021-12-29T16:18:48.783Z"
   },
   {
    "duration": 34,
    "start_time": "2021-12-29T16:18:48.796Z"
   },
   {
    "duration": 17,
    "start_time": "2021-12-29T16:18:48.833Z"
   },
   {
    "duration": 28,
    "start_time": "2021-12-29T16:18:48.852Z"
   },
   {
    "duration": 58,
    "start_time": "2021-12-29T16:18:48.881Z"
   },
   {
    "duration": 19,
    "start_time": "2021-12-29T16:18:48.942Z"
   },
   {
    "duration": 19,
    "start_time": "2021-12-29T16:18:48.964Z"
   },
   {
    "duration": 111,
    "start_time": "2021-12-29T16:18:48.985Z"
   },
   {
    "duration": 4,
    "start_time": "2021-12-29T16:24:39.899Z"
   },
   {
    "duration": 65,
    "start_time": "2021-12-29T16:24:39.905Z"
   },
   {
    "duration": 20,
    "start_time": "2021-12-29T16:24:39.973Z"
   },
   {
    "duration": 39,
    "start_time": "2021-12-29T16:24:39.997Z"
   },
   {
    "duration": 10,
    "start_time": "2021-12-29T16:24:40.038Z"
   },
   {
    "duration": 13,
    "start_time": "2021-12-29T16:24:40.051Z"
   },
   {
    "duration": 55,
    "start_time": "2021-12-29T16:24:40.066Z"
   },
   {
    "duration": 11,
    "start_time": "2021-12-29T16:24:40.123Z"
   },
   {
    "duration": 9,
    "start_time": "2021-12-29T16:24:40.140Z"
   },
   {
    "duration": 11,
    "start_time": "2021-12-29T16:24:40.152Z"
   },
   {
    "duration": 53,
    "start_time": "2021-12-29T16:24:40.165Z"
   },
   {
    "duration": 13,
    "start_time": "2021-12-29T16:24:40.221Z"
   },
   {
    "duration": 10,
    "start_time": "2021-12-29T16:24:40.237Z"
   },
   {
    "duration": 7,
    "start_time": "2021-12-29T16:24:40.249Z"
   },
   {
    "duration": 60,
    "start_time": "2021-12-29T16:24:40.259Z"
   },
   {
    "duration": 42,
    "start_time": "2021-12-29T16:24:40.321Z"
   },
   {
    "duration": 84,
    "start_time": "2021-12-29T16:24:40.366Z"
   },
   {
    "duration": 65,
    "start_time": "2021-12-29T16:24:40.453Z"
   },
   {
    "duration": 11,
    "start_time": "2021-12-29T16:24:40.520Z"
   },
   {
    "duration": 4,
    "start_time": "2021-12-29T16:24:40.534Z"
   },
   {
    "duration": 8,
    "start_time": "2021-12-29T16:24:40.540Z"
   },
   {
    "duration": 25,
    "start_time": "2021-12-29T16:24:40.550Z"
   },
   {
    "duration": 41,
    "start_time": "2021-12-29T16:24:40.577Z"
   },
   {
    "duration": 18,
    "start_time": "2021-12-29T16:24:40.621Z"
   },
   {
    "duration": 27,
    "start_time": "2021-12-29T16:24:40.642Z"
   },
   {
    "duration": 57,
    "start_time": "2021-12-29T16:24:40.671Z"
   },
   {
    "duration": 25,
    "start_time": "2021-12-29T16:24:40.733Z"
   },
   {
    "duration": 57,
    "start_time": "2021-12-29T16:24:40.761Z"
   },
   {
    "duration": 5,
    "start_time": "2021-12-29T16:24:40.821Z"
   },
   {
    "duration": 965,
    "start_time": "2021-12-29T16:24:40.829Z"
   },
   {
    "duration": 6,
    "start_time": "2021-12-29T16:24:41.797Z"
   },
   {
    "duration": 14,
    "start_time": "2021-12-29T16:24:41.806Z"
   },
   {
    "duration": 3944,
    "start_time": "2021-12-29T16:24:41.823Z"
   },
   {
    "duration": 10,
    "start_time": "2021-12-29T16:24:45.770Z"
   },
   {
    "duration": 38,
    "start_time": "2021-12-29T16:24:45.783Z"
   },
   {
    "duration": 15,
    "start_time": "2021-12-29T16:24:45.824Z"
   },
   {
    "duration": 32,
    "start_time": "2021-12-29T16:24:45.841Z"
   },
   {
    "duration": 52,
    "start_time": "2021-12-29T16:24:45.875Z"
   },
   {
    "duration": 21,
    "start_time": "2021-12-29T16:24:45.930Z"
   },
   {
    "duration": 17,
    "start_time": "2021-12-29T16:24:45.953Z"
   },
   {
    "duration": 54,
    "start_time": "2021-12-29T16:24:45.974Z"
   },
   {
    "duration": 777,
    "start_time": "2021-12-30T16:24:18.564Z"
   },
   {
    "duration": 67,
    "start_time": "2021-12-30T16:24:19.344Z"
   },
   {
    "duration": 29,
    "start_time": "2021-12-30T16:24:19.413Z"
   },
   {
    "duration": 15,
    "start_time": "2021-12-30T16:24:19.460Z"
   },
   {
    "duration": 8,
    "start_time": "2021-12-30T16:24:19.478Z"
   },
   {
    "duration": 9,
    "start_time": "2021-12-30T16:24:19.488Z"
   },
   {
    "duration": 9,
    "start_time": "2021-12-30T16:24:19.500Z"
   },
   {
    "duration": 50,
    "start_time": "2021-12-30T16:24:19.513Z"
   },
   {
    "duration": 8,
    "start_time": "2021-12-30T16:24:19.566Z"
   },
   {
    "duration": 11,
    "start_time": "2021-12-30T16:24:19.577Z"
   },
   {
    "duration": 11,
    "start_time": "2021-12-30T16:24:19.591Z"
   },
   {
    "duration": 55,
    "start_time": "2021-12-30T16:24:19.604Z"
   },
   {
    "duration": 11,
    "start_time": "2021-12-30T16:24:19.661Z"
   },
   {
    "duration": 10,
    "start_time": "2021-12-30T16:24:19.674Z"
   },
   {
    "duration": 18,
    "start_time": "2021-12-30T16:24:19.686Z"
   },
   {
    "duration": 67,
    "start_time": "2021-12-30T16:24:19.706Z"
   },
   {
    "duration": 58,
    "start_time": "2021-12-30T16:24:19.775Z"
   },
   {
    "duration": 72,
    "start_time": "2021-12-30T16:24:19.836Z"
   },
   {
    "duration": 12,
    "start_time": "2021-12-30T16:24:19.911Z"
   },
   {
    "duration": 5,
    "start_time": "2021-12-30T16:24:19.925Z"
   },
   {
    "duration": 31,
    "start_time": "2021-12-30T16:24:19.932Z"
   },
   {
    "duration": 26,
    "start_time": "2021-12-30T16:24:19.966Z"
   },
   {
    "duration": 7,
    "start_time": "2021-12-30T16:24:19.996Z"
   },
   {
    "duration": 16,
    "start_time": "2021-12-30T16:24:20.005Z"
   },
   {
    "duration": 55,
    "start_time": "2021-12-30T16:24:20.023Z"
   },
   {
    "duration": 26,
    "start_time": "2021-12-30T16:24:20.080Z"
   },
   {
    "duration": 51,
    "start_time": "2021-12-30T16:24:20.109Z"
   },
   {
    "duration": 5,
    "start_time": "2021-12-30T16:24:20.163Z"
   },
   {
    "duration": 6,
    "start_time": "2021-12-30T16:24:20.170Z"
   },
   {
    "duration": 954,
    "start_time": "2021-12-30T16:24:20.179Z"
   },
   {
    "duration": 5,
    "start_time": "2021-12-30T16:24:21.136Z"
   },
   {
    "duration": 18,
    "start_time": "2021-12-30T16:24:21.143Z"
   },
   {
    "duration": 4165,
    "start_time": "2021-12-30T16:24:21.164Z"
   },
   {
    "duration": 8,
    "start_time": "2021-12-30T16:24:25.332Z"
   },
   {
    "duration": 28,
    "start_time": "2021-12-30T16:24:25.342Z"
   },
   {
    "duration": 18,
    "start_time": "2021-12-30T16:24:25.372Z"
   },
   {
    "duration": 28,
    "start_time": "2021-12-30T16:24:25.392Z"
   },
   {
    "duration": 1235,
    "start_time": "2021-12-30T16:24:25.422Z"
   },
   {
    "duration": 21,
    "start_time": "2021-12-30T16:24:26.660Z"
   },
   {
    "duration": 16,
    "start_time": "2021-12-30T16:24:26.683Z"
   },
   {
    "duration": 26,
    "start_time": "2021-12-30T16:24:26.701Z"
   },
   {
    "duration": 722,
    "start_time": "2021-12-31T08:54:47.168Z"
   },
   {
    "duration": 65,
    "start_time": "2021-12-31T08:54:47.893Z"
   },
   {
    "duration": 28,
    "start_time": "2021-12-31T08:54:47.961Z"
   },
   {
    "duration": 14,
    "start_time": "2021-12-31T08:54:47.992Z"
   },
   {
    "duration": 8,
    "start_time": "2021-12-31T08:54:48.008Z"
   },
   {
    "duration": 44,
    "start_time": "2021-12-31T08:54:48.018Z"
   },
   {
    "duration": 13,
    "start_time": "2021-12-31T08:54:48.065Z"
   },
   {
    "duration": 9,
    "start_time": "2021-12-31T08:54:48.082Z"
   },
   {
    "duration": 7,
    "start_time": "2021-12-31T08:54:48.095Z"
   },
   {
    "duration": 11,
    "start_time": "2021-12-31T08:54:48.105Z"
   },
   {
    "duration": 12,
    "start_time": "2021-12-31T08:54:48.160Z"
   },
   {
    "duration": 12,
    "start_time": "2021-12-31T08:54:48.174Z"
   },
   {
    "duration": 10,
    "start_time": "2021-12-31T08:54:48.188Z"
   },
   {
    "duration": 8,
    "start_time": "2021-12-31T08:54:48.200Z"
   },
   {
    "duration": 70,
    "start_time": "2021-12-31T08:54:48.210Z"
   },
   {
    "duration": 32,
    "start_time": "2021-12-31T08:54:48.282Z"
   },
   {
    "duration": 82,
    "start_time": "2021-12-31T08:54:48.316Z"
   },
   {
    "duration": 66,
    "start_time": "2021-12-31T08:54:48.400Z"
   },
   {
    "duration": 12,
    "start_time": "2021-12-31T08:54:48.469Z"
   },
   {
    "duration": 9,
    "start_time": "2021-12-31T08:54:48.483Z"
   },
   {
    "duration": 7,
    "start_time": "2021-12-31T08:54:48.494Z"
   },
   {
    "duration": 56,
    "start_time": "2021-12-31T08:54:48.504Z"
   },
   {
    "duration": 6,
    "start_time": "2021-12-31T08:54:48.565Z"
   },
   {
    "duration": 17,
    "start_time": "2021-12-31T08:54:48.575Z"
   },
   {
    "duration": 27,
    "start_time": "2021-12-31T08:54:48.595Z"
   },
   {
    "duration": 57,
    "start_time": "2021-12-31T08:54:48.624Z"
   },
   {
    "duration": 23,
    "start_time": "2021-12-31T08:54:48.684Z"
   },
   {
    "duration": 6,
    "start_time": "2021-12-31T08:54:48.709Z"
   },
   {
    "duration": 6,
    "start_time": "2021-12-31T08:54:48.717Z"
   },
   {
    "duration": 936,
    "start_time": "2021-12-31T08:54:48.760Z"
   },
   {
    "duration": 5,
    "start_time": "2021-12-31T08:54:49.698Z"
   },
   {
    "duration": 5,
    "start_time": "2021-12-31T08:54:49.705Z"
   },
   {
    "duration": 4176,
    "start_time": "2021-12-31T08:54:49.712Z"
   },
   {
    "duration": 8,
    "start_time": "2021-12-31T08:54:53.890Z"
   },
   {
    "duration": 26,
    "start_time": "2021-12-31T08:54:53.901Z"
   },
   {
    "duration": 25,
    "start_time": "2021-12-31T08:54:53.929Z"
   },
   {
    "duration": 36,
    "start_time": "2021-12-31T08:54:53.960Z"
   },
   {
    "duration": 1205,
    "start_time": "2021-12-31T08:54:53.998Z"
   },
   {
    "duration": 19,
    "start_time": "2021-12-31T08:54:55.206Z"
   },
   {
    "duration": 33,
    "start_time": "2021-12-31T08:54:55.227Z"
   },
   {
    "duration": 19,
    "start_time": "2021-12-31T08:54:55.263Z"
   }
  ],
  "kernelspec": {
   "display_name": "Python 3 (ipykernel)",
   "language": "python",
   "name": "python3"
  },
  "language_info": {
   "codemirror_mode": {
    "name": "ipython",
    "version": 3
   },
   "file_extension": ".py",
   "mimetype": "text/x-python",
   "name": "python",
   "nbconvert_exporter": "python",
   "pygments_lexer": "ipython3",
   "version": "3.9.7"
  },
  "toc": {
   "base_numbering": 1,
   "nav_menu": {},
   "number_sections": true,
   "sideBar": true,
   "skip_h1_title": true,
   "title_cell": "Table of Contents",
   "title_sidebar": "Contents",
   "toc_cell": false,
   "toc_position": {},
   "toc_section_display": true,
   "toc_window_display": false
  }
 },
 "nbformat": 4,
 "nbformat_minor": 2
}
